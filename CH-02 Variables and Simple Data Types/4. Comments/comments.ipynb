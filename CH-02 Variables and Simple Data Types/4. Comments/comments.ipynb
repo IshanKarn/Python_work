{
 "cells": [
  {
   "cell_type": "markdown",
   "metadata": {},
   "source": [
    "## Comments"
   ]
  },
  {
   "cell_type": "markdown",
   "metadata": {},
   "source": [
    "<span style='background-color: yellow'>A comment allows you to write notes in English within your programs.</span><br>\n",
    "<span style='background-color: yellow'>They don't get executed by python interpreter.</span><br>\n",
    "\n",
    "As your programs become longer and more complicated, you should add notes within your programs that describe your overall approach to the problem you’re solving.<br>\n",
    "The main reason to write comments is to explain what your code is supposed\n",
    "to do and how you are making it work. When you’re in the middle of working on a project, you understand how all of the pieces fit together. But when\n",
    "you return to a project after some time away, you’ll likely have forgotten some of the details. You can always study your code for a while and figure\n",
    "out how segments were supposed to work, but writing good comments can\n",
    "save you time by summarizing your overall approach in clear English.<br>\n",
    "Writing pseudo codes and clear, concise\n",
    "comments in your code is one of the most beneficial habits you can form as\n",
    "a new programmer.<br>"
   ]
  },
  {
   "cell_type": "markdown",
   "metadata": {},
   "source": [
    "#### Type of Comments\n",
    "> Single line comment (using hash, syntax: # comment)<br>\n",
    "> Multi-line comment (using triple quotes, syntax: ''' comment ''')"
   ]
  },
  {
   "cell_type": "markdown",
   "metadata": {},
   "source": [
    "#### Examples:"
   ]
  },
  {
   "cell_type": "code",
   "execution_count": 1,
   "metadata": {},
   "outputs": [
    {
     "ename": "SyntaxError",
     "evalue": "invalid syntax (<ipython-input-1-579945484b33>, line 3)",
     "output_type": "error",
     "traceback": [
      "\u001b[1;36m  File \u001b[1;32m\"<ipython-input-1-579945484b33>\"\u001b[1;36m, line \u001b[1;32m3\u001b[0m\n\u001b[1;33m    dhjh  okay\u001b[0m\n\u001b[1;37m          ^\u001b[0m\n\u001b[1;31mSyntaxError\u001b[0m\u001b[1;31m:\u001b[0m invalid syntax\n"
     ]
    }
   ],
   "source": [
    "# It is a single line comment in python\n",
    "2 + 2 # it is example of addition .................................................................................................. "
   ]
  },
  {
   "cell_type": "code",
   "execution_count": 3,
   "metadata": {},
   "outputs": [
    {
     "data": {
      "text/plain": [
       "'\\nIt is an example of multiline comment in python.\\nyou should must write clear and concise comments in your code to make it self-explanatary in nature.\\nIt makes your workflow simpler as well.\\nIn jupyter it seems to be executed but no, it is never execute by python interpreter. \\n'"
      ]
     },
     "execution_count": 3,
     "metadata": {},
     "output_type": "execute_result"
    }
   ],
   "source": [
    "\"\"\"\n",
    "It is an example of multiline comment in python.\n",
    "you should must write clear and concise comments in your code to make it self-explanatary in nature.\n",
    "It makes your workflow simpler as well.\n",
    "In jupyter it seems to be executed but no, it is never execute by python interpreter.\n",
    "\"\"\""
   ]
  },
  {
   "cell_type": "markdown",
   "metadata": {},
   "source": [
    "<hr>"
   ]
  },
  {
   "cell_type": "markdown",
   "metadata": {},
   "source": [
    "statements: 1. executable --> 1. sequential 2. conditional 3. iterative\n",
    "                                        1. __________\n",
    "                                        ____________\n",
    "                                        \n",
    "### REPL\n",
    "reading\n",
    "evaluation\n",
    "print\n",
    "looping\n",
    "\n",
    "\n",
    "                        \n",
    "                2. not executable 1. comments\n",
    "                \n",
    "                \n",
    "                "
   ]
  }
 ],
 "metadata": {
  "kernelspec": {
   "display_name": "Python 3",
   "language": "python",
   "name": "python3"
  },
  "language_info": {
   "codemirror_mode": {
    "name": "ipython",
    "version": 3
   },
   "file_extension": ".py",
   "mimetype": "text/x-python",
   "name": "python",
   "nbconvert_exporter": "python",
   "pygments_lexer": "ipython3",
   "version": "3.8.3"
  }
 },
 "nbformat": 4,
 "nbformat_minor": 4
}
