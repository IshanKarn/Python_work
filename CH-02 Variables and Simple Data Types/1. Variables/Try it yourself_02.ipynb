{
 "cells": [
  {
   "cell_type": "markdown",
   "metadata": {},
   "source": [
    "## Try it yourself"
   ]
  },
  {
   "cell_type": "markdown",
   "metadata": {},
   "source": [
    "<pre>\n",
    "Write a separate program to accomplish each of these exercises. Save each program with a filename \n",
    "that follows standard Python conventions, using lowercase letters and underscores, such as \n",
    "simple_message.py and simple_messages.py.\n",
    "<strong>2-1. Simple Message:</strong> Assign a message to a variable, and then print that\n",
    "message.\n",
    "</pre>"
   ]
  },
  {
   "cell_type": "code",
   "execution_count": 1,
   "metadata": {},
   "outputs": [
    {
     "name": "stdout",
     "output_type": "stream",
     "text": [
      "Python is used in AI and DS.\n"
     ]
    }
   ],
   "source": [
    "message = \"Python is used in AI and DS.\"\n",
    "print(message)"
   ]
  },
  {
   "cell_type": "markdown",
   "metadata": {},
   "source": [
    "<pre>\n",
    "<strong>2-2. Simple Messages:</strong> Assign a message to a variable, and print that message.\n",
    "Then change the value of the variable to a new message, and print the new message.\n",
    "</pre>"
   ]
  },
  {
   "cell_type": "code",
   "execution_count": 2,
   "metadata": {},
   "outputs": [
    {
     "name": "stdout",
     "output_type": "stream",
     "text": [
      "Tkinter is a GUI library of python.\n"
     ]
    }
   ],
   "source": [
    "msg = \"Tkinter is a GUI library of python.\" # save as simple_message.py\n",
    "print(msg)"
   ]
  },
  {
   "cell_type": "code",
   "execution_count": 4,
   "metadata": {},
   "outputs": [
    {
     "name": "stdout",
     "output_type": "stream",
     "text": [
      "Keras is a ML library of python.\n"
     ]
    }
   ],
   "source": [
    "msg = \"Keras is a ML library of python.\"   # save as simple_messages.py\n",
    "print(msg)"
   ]
  }
 ],
 "metadata": {
  "kernelspec": {
   "display_name": "Python 3",
   "language": "python",
   "name": "python3"
  },
  "language_info": {
   "codemirror_mode": {
    "name": "ipython",
    "version": 3
   },
   "file_extension": ".py",
   "mimetype": "text/x-python",
   "name": "python",
   "nbconvert_exporter": "python",
   "pygments_lexer": "ipython3",
   "version": "3.8.3"
  }
 },
 "nbformat": 4,
 "nbformat_minor": 4
}
