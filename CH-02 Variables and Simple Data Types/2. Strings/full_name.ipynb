{
 "cells": [
  {
   "cell_type": "markdown",
   "metadata": {},
   "source": [
    "### Using Variables in Strings"
   ]
  },
  {
   "cell_type": "code",
   "execution_count": 2,
   "metadata": {},
   "outputs": [],
   "source": [
    "first_name = 'ada'\n",
    "last_name = 'lovelace'"
   ]
  },
  {
   "cell_type": "code",
   "execution_count": 3,
   "metadata": {},
   "outputs": [],
   "source": [
    "full_name = f'{first_name} {last_name}' # e.g. of f-strings (formatted strings)"
   ]
  },
  {
   "cell_type": "code",
   "execution_count": null,
   "metadata": {},
   "outputs": [],
   "source": [
    "# formatted string\n",
    "\n"
   ]
  },
  {
   "cell_type": "code",
   "execution_count": 4,
   "metadata": {},
   "outputs": [
    {
     "name": "stdout",
     "output_type": "stream",
     "text": [
      "ada lovelace\n"
     ]
    }
   ],
   "source": [
    "print(full_name)"
   ]
  },
  {
   "cell_type": "markdown",
   "metadata": {},
   "source": [
    "To insert a variable’s value into a string, place the letter f immediately\n",
    "before the opening quotation mark. Put braces around the name or names\n",
    "of any variable you want to use inside the string. Python will replace each\n",
    "variable with its value when the string is displayed.\n",
    "These strings are called f-strings. The f is for format, because Python\n",
    "formats the string by replacing the name of any variable in braces with its\n",
    "value."
   ]
  },
  {
   "cell_type": "code",
   "execution_count": 5,
   "metadata": {},
   "outputs": [
    {
     "name": "stdout",
     "output_type": "stream",
     "text": [
      "Hello Ada Lovelace, the first computer programmer.\n"
     ]
    }
   ],
   "source": [
    "print(f\"Hello {first_name.title()} {last_name.title()}, the first computer programmer.\")"
   ]
  },
  {
   "cell_type": "code",
   "execution_count": 11,
   "metadata": {},
   "outputs": [
    {
     "name": "stdout",
     "output_type": "stream",
     "text": [
      "This is a Introductory-Intermediate level pair-programming (self declared type) course to learn Python programming language and some of its applications. No pre-requisites needed. Only need coding & self exploration of related topics during and after course period.\n"
     ]
    }
   ],
   "source": [
    "# e.g. of string formatting using format method (used in earlier versions of python)\n",
    "\n",
    "programming_lang = 'Python'\n",
    "level = 'Introductory-Intermediate'\n",
    "pre_requisite = 'No'\n",
    "need = 'coding & self exploration of related topics'\n",
    "post = \"This is a {} level pair-programming (self declared type) course to learn {} programming language and some of its \\\n",
    "applications. {} pre-requisites needed. Only need {} during and after course period.\".format(level, programming_lang, pre_requisite, need)\n",
    "\n",
    "print(post)"
   ]
  },
  {
   "cell_type": "markdown",
   "metadata": {},
   "source": [
    "### Adding Whitespace to Strings with Tabs or Newlines\n"
   ]
  },
  {
   "cell_type": "markdown",
   "metadata": {},
   "source": [
    "<span style='background-color: yellow'>In programming, whitespace refers to any nonprinting character</span>, such as\n",
    "spaces, tabs, and end-of-line symbols.<br> We can use whitespace to organize\n",
    "our output so it’s easier for users to read."
   ]
  },
  {
   "cell_type": "code",
   "execution_count": 12,
   "metadata": {},
   "outputs": [
    {
     "name": "stdout",
     "output_type": "stream",
     "text": [
      "Python\n",
      "\tPython\n"
     ]
    }
   ],
   "source": [
    "print('Python')\n",
    "print('\\tPython') # printing with tab character --> '\\t'"
   ]
  },
  {
   "cell_type": "code",
   "execution_count": 13,
   "metadata": {},
   "outputs": [
    {
     "name": "stdout",
     "output_type": "stream",
     "text": [
      "Languages:\n",
      "Python\n",
      "C\n",
      "C++\n",
      "Java\n",
      "JavaScript\n"
     ]
    }
   ],
   "source": [
    "print(\"Languages:\\nPython\\nC\\nC++\\nJava\\nJavaScript\") # '\\n' <-- newline character print string after it in a new line"
   ]
  },
  {
   "cell_type": "code",
   "execution_count": 14,
   "metadata": {},
   "outputs": [
    {
     "name": "stdout",
     "output_type": "stream",
     "text": [
      "Langauges: \n",
      "\tPython\n",
      "\tC\n",
      "\tC++\n",
      "\tJava\n",
      "\tJavaScript\n"
     ]
    }
   ],
   "source": [
    "print(\"Langauges: \\n\\tPython\\n\\tC\\n\\tC++\\n\\tJava\\n\\tJavaScript\") # different whitespace characters can be combined"
   ]
  },
  {
   "cell_type": "code",
   "execution_count": 15,
   "metadata": {},
   "outputs": [
    {
     "name": "stdout",
     "output_type": "stream",
     "text": [
      "The founder is a nice movie.\n"
     ]
    }
   ],
   "source": [
    "print('The founder is a nice movie.') # plot for introducing line continuation character --> '\\' \n",
    "                                      # see below"
   ]
  },
  {
   "cell_type": "code",
   "execution_count": 19,
   "metadata": {},
   "outputs": [
    {
     "name": "stdout",
     "output_type": "stream",
     "text": [
      "The founder is a nice movie. Its story is based on ...           (suppose line goes on and on and we want to continue writting but in newline instead of moving in same line, going out of display range -i.e.- we want to avoid scrolling to see full string. In that case we can use line continuation character '\\'. It has other different uses as well.)\n"
     ]
    }
   ],
   "source": [
    "print(\"The founder is a nice movie. Its story is based on ...           (suppose line goes on and on and we want to continue writting but in newline instead of moving in same line, going out of display range -i.e.- we want to avoid scrolling to see full string. In that case we can use line continuation character '\\\\'. It has other different uses as well.)\")"
   ]
  },
  {
   "cell_type": "code",
   "execution_count": 33,
   "metadata": {},
   "outputs": [
    {
     "name": "stdout",
     "output_type": "stream",
     "text": [
      "The founder is a nice movie. Its story is based on ...           (suppose line goes on and on and we want to continue writting but in newline instead of moving in same line, going out of display range -i.e.- we want to avoid scrolling to see full string. In that case we can use line continuation character '\\'. It has other different uses as well.)\n"
     ]
    }
   ],
   "source": [
    "# use of line continuation character '\\'\n",
    "# NOTE: there should be no space after \\\n",
    "\n",
    "print(\"The founder is a nice movie. Its story is based on ...           (suppose line goes on and on and we want to continue \\\n",
    "writting but in newline instead of moving in same line, going out of display range -i.e.- we want to avoid scrolling to see \\\n",
    "full string. In that case we can use line continuation character '\\\\'. It has other different uses as well.)\")"
   ]
  },
  {
   "cell_type": "code",
   "execution_count": 39,
   "metadata": {},
   "outputs": [
    {
     "name": "stdout",
     "output_type": "stream",
     "text": [
      "John's bat\n"
     ]
    }
   ],
   "source": [
    "print(\"John's bat\") # introducing \\' and \\\" characters\n",
    "                    # used to print some symbols in their non-programmatic form"
   ]
  },
  {
   "cell_type": "code",
   "execution_count": 40,
   "metadata": {},
   "outputs": [
    {
     "ename": "SyntaxError",
     "evalue": "invalid syntax (<ipython-input-40-1112af061869>, line 1)",
     "output_type": "error",
     "traceback": [
      "\u001b[1;36m  File \u001b[1;32m\"<ipython-input-40-1112af061869>\"\u001b[1;36m, line \u001b[1;32m1\u001b[0m\n\u001b[1;33m    print('John's bat')\u001b[0m\n\u001b[1;37m                ^\u001b[0m\n\u001b[1;31mSyntaxError\u001b[0m\u001b[1;31m:\u001b[0m invalid syntax\n"
     ]
    }
   ],
   "source": [
    "print('John's bat') # corrected below"
   ]
  },
  {
   "cell_type": "code",
   "execution_count": 41,
   "metadata": {},
   "outputs": [
    {
     "name": "stdout",
     "output_type": "stream",
     "text": [
      "John's bat\n"
     ]
    }
   ],
   "source": [
    "print('John\\'s bat')"
   ]
  },
  {
   "cell_type": "code",
   "execution_count": 42,
   "metadata": {},
   "outputs": [
    {
     "ename": "SyntaxError",
     "evalue": "invalid syntax (<ipython-input-42-f79098c9be69>, line 1)",
     "output_type": "error",
     "traceback": [
      "\u001b[1;36m  File \u001b[1;32m\"<ipython-input-42-f79098c9be69>\"\u001b[1;36m, line \u001b[1;32m1\u001b[0m\n\u001b[1;33m    print(\"I am jason \"the hero\"\")\u001b[0m\n\u001b[1;37m                       ^\u001b[0m\n\u001b[1;31mSyntaxError\u001b[0m\u001b[1;31m:\u001b[0m invalid syntax\n"
     ]
    }
   ],
   "source": [
    "print(\"I am jason \"the hero\"\") # correction below"
   ]
  },
  {
   "cell_type": "code",
   "execution_count": 43,
   "metadata": {},
   "outputs": [
    {
     "name": "stdout",
     "output_type": "stream",
     "text": [
      "I am jason \"the hero\"\n"
     ]
    }
   ],
   "source": [
    "print(\"I am jason \\\"the hero\\\"\")"
   ]
  },
  {
   "cell_type": "code",
   "execution_count": 44,
   "metadata": {},
   "outputs": [
    {
     "name": "stdout",
     "output_type": "stream",
     "text": [
      "I am jason \"the hero\"\n"
     ]
    }
   ],
   "source": [
    "print('I am jason \"the hero\"')"
   ]
  },
  {
   "cell_type": "code",
   "execution_count": null,
   "metadata": {},
   "outputs": [],
   "source": [
    "# there are a number of such special character or escape sequences in python\n",
    "# provide a resource link"
   ]
  },
  {
   "cell_type": "code",
   "execution_count": null,
   "metadata": {},
   "outputs": [],
   "source": []
  },
  {
   "cell_type": "markdown",
   "metadata": {},
   "source": [
    "### Stripping Whitespace"
   ]
  },
  {
   "cell_type": "markdown",
   "metadata": {},
   "source": [
    "To programmers 'python' and 'python ' look pretty much the same. But to a program, they are two<br> \n",
    "different strings. Python detects the extra space in 'python ' and considers it significant unless<br> \n",
    "you tell it otherwise.<br>\n",
    "It’s important to think about whitespace, because often you’ll want to compare two strings to determine<br> \n",
    "whether they are the same. For example, one important instance might involve checking people’s usernames<br> \n",
    "when they log in to a website.\n",
    "<p>Python can look for extra whitespace on the right and left sides of a\n",
    "string.</p>"
   ]
  },
  {
   "cell_type": "code",
   "execution_count": 46,
   "metadata": {},
   "outputs": [
    {
     "name": "stdout",
     "output_type": "stream",
     "text": [
      "   python  \n"
     ]
    }
   ],
   "source": [
    "favorite_language = '   python   '\n",
    "print(favorite_language)"
   ]
  },
  {
   "cell_type": "code",
   "execution_count": 47,
   "metadata": {},
   "outputs": [
    {
     "name": "stdout",
     "output_type": "stream",
     "text": [
      "python  \n"
     ]
    }
   ],
   "source": [
    "favorite_language = '   python   '\n",
    "print(favorite_language.lstrip()) # stripping whitespace from left side of string"
   ]
  },
  {
   "cell_type": "code",
   "execution_count": 49,
   "metadata": {},
   "outputs": [
    {
     "name": "stdout",
     "output_type": "stream",
     "text": [
      "   python\n"
     ]
    }
   ],
   "source": [
    "favorite_language = '   python   '\n",
    "print(favorite_language.rstrip()) # stripping whitespace from right side of string"
   ]
  },
  {
   "cell_type": "code",
   "execution_count": 50,
   "metadata": {},
   "outputs": [
    {
     "name": "stdout",
     "output_type": "stream",
     "text": [
      "python\n"
     ]
    }
   ],
   "source": [
    "favorite_language = '   python   \n",
    "print(favorite_language.strip()) # stripping whitespace from both side of string"
   ]
  },
  {
   "cell_type": "code",
   "execution_count": null,
   "metadata": {},
   "outputs": [],
   "source": [
    "# String methods (add in detail later)"
   ]
  }
 ],
 "metadata": {
  "kernelspec": {
   "display_name": "Python 3",
   "language": "python",
   "name": "python3"
  },
  "language_info": {
   "codemirror_mode": {
    "name": "ipython",
    "version": 3
   },
   "file_extension": ".py",
   "mimetype": "text/x-python",
   "name": "python",
   "nbconvert_exporter": "python",
   "pygments_lexer": "ipython3",
   "version": "3.8.3"
  }
 },
 "nbformat": 4,
 "nbformat_minor": 4
}
