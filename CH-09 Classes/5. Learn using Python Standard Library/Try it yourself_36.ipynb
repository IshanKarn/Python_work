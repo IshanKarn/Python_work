{
 "cells": [
  {
   "cell_type": "markdown",
   "metadata": {},
   "source": [
    "## Try It Yourself"
   ]
  },
  {
   "cell_type": "markdown",
   "metadata": {},
   "source": [
    "<pre>\n",
    "<strong>9-13. Dice:</strong> Make a class Die with one attribute called sides, which has a default\n",
    "value of 6. Write a method called roll_die() that prints a random number\n",
    "between 1 and the number of sides the die has. Make a 6-sided die and roll it\n",
    "10 times.\n",
    "Make a 10-sided die and a 20-sided die. Roll each die 10 times.\n",
    "</pre>\n"
   ]
  },
  {
   "cell_type": "code",
   "execution_count": 3,
   "metadata": {},
   "outputs": [],
   "source": [
    "# dice.py\n",
    "\n",
    "\"\"\"Import random module.\"\"\"\n",
    "from random import randint\n",
    "\n",
    "class Die:\n",
    "    \"\"\"A die class.\"\"\"\n",
    "    def __init__(self, sides = 6):\n",
    "        \"\"\"Initializes the attributes for die.\"\"\"\n",
    "        self.sides = sides\n",
    "        \n",
    "    def roll_die(self):\n",
    "        \"\"\"Prints a random number between 1 and the number of sides the die has.\"\"\"\n",
    "        print(randint(1, self.sides))"
   ]
  },
  {
   "cell_type": "code",
   "execution_count": 4,
   "metadata": {},
   "outputs": [
    {
     "name": "stdout",
     "output_type": "stream",
     "text": [
      "4\n",
      "1\n",
      "3\n",
      "2\n",
      "4\n",
      "1\n",
      "2\n",
      "1\n",
      "3\n",
      "1\n"
     ]
    }
   ],
   "source": [
    "die_1 = Die()\n",
    "\n",
    "for i in range(10):\n",
    "    die_1.roll_die()"
   ]
  },
  {
   "cell_type": "code",
   "execution_count": 6,
   "metadata": {},
   "outputs": [
    {
     "name": "stdout",
     "output_type": "stream",
     "text": [
      "7\n",
      "8\n",
      "8\n",
      "5\n",
      "8\n",
      "3\n",
      "1\n",
      "4\n",
      "7\n",
      "7\n"
     ]
    }
   ],
   "source": [
    "die_2 = Die(10)\n",
    "\n",
    "for i in range(10):\n",
    "    die_2.roll_die()"
   ]
  },
  {
   "cell_type": "code",
   "execution_count": 7,
   "metadata": {},
   "outputs": [
    {
     "name": "stdout",
     "output_type": "stream",
     "text": [
      "11\n",
      "2\n",
      "5\n",
      "5\n",
      "10\n",
      "13\n",
      "8\n",
      "7\n",
      "11\n",
      "1\n"
     ]
    }
   ],
   "source": [
    "die_3 = Die(20)\n",
    "\n",
    "for i in range(10):\n",
    "    die_3.roll_die()"
   ]
  },
  {
   "cell_type": "markdown",
   "metadata": {},
   "source": [
    "<pre>\n",
    "<strong>9-14. Lottery:</strong> Make a list or tuple containing a series of 10 numbers and\n",
    "five letters. Randomly select four numbers or letters from the list and print a\n",
    "message saying that any ticket matching these four numbers or letters wins a\n",
    "prize.\n",
    "</pre>\n"
   ]
  },
  {
   "cell_type": "code",
   "execution_count": 26,
   "metadata": {},
   "outputs": [
    {
     "name": "stdout",
     "output_type": "stream",
     "text": [
      "Any ticket matching below four numbers or letters wins a prize.\n",
      "d\n",
      "8\n",
      "1\n",
      "e\n"
     ]
    }
   ],
   "source": [
    "# lottery.py\n",
    "\n",
    "from random import choice\n",
    "\n",
    "numbers = [num for num in range(10)]\n",
    "letters = ['a', 'b', 'c', 'd', 'e']\n",
    "tickets = numbers + letters\n",
    "\n",
    "print(\"Any ticket matching below four numbers or letters wins a prize.\")\n",
    "for i in range(4):\n",
    "    selected = choice(tickets)\n",
    "    print(selected)\n",
    "    tickets.remove(selected)"
   ]
  },
  {
   "cell_type": "markdown",
   "metadata": {},
   "source": [
    "<pre>\n",
    "<strong>9-15. Lottery Analysis:</strong> You can use a loop to see how hard it might be to win\n",
    "the kind of lottery you just modeled. Make a list or tuple called my_ticket.\n",
    "Write a loop that keeps pulling numbers until your ticket wins. Print a message\n",
    "reporting how many times the loop had to run to give you a winning ticket.\n",
    "</pre>\n"
   ]
  },
  {
   "cell_type": "code",
   "execution_count": 17,
   "metadata": {},
   "outputs": [
    {
     "name": "stdout",
     "output_type": "stream",
     "text": [
      "It takes 38 times to win.\n"
     ]
    }
   ],
   "source": [
    "# lottery_analysis.py\n",
    "\n",
    "from random import choice\n",
    "\n",
    "numbers = [num for num in range(10)]\n",
    "letters = ['a', 'b', 'c', 'd', 'e']\n",
    "tickets = numbers + letters\n",
    "\n",
    "\n",
    "my_ticket = [4]\n",
    "\n",
    "times = 0\n",
    "status = True\n",
    "while status:\n",
    "    for i in range(4):\n",
    "        selected = choice(tickets)\n",
    "        if selected in my_ticket:\n",
    "            times += 1\n",
    "            status = False\n",
    "            break\n",
    "        else:\n",
    "            times += 1\n",
    "            \n",
    "print(f\"It takes {times} times to win.\")"
   ]
  },
  {
   "cell_type": "markdown",
   "metadata": {},
   "source": [
    "<pre>\n",
    "<strong>9-16. Python Module of the Week:</strong> One excellent resource for exploring the\n",
    "Python standard library is a site called Python Module of the Week. Go to\n",
    "https://pymotw.com/ and look at the table of contents. Find a module that\n",
    "looks interesting to you and read about it, perhaps starting with the random\n",
    "module.\n",
    "</pre>"
   ]
  },
  {
   "cell_type": "code",
   "execution_count": null,
   "metadata": {},
   "outputs": [],
   "source": [
    "# python_module_of_the_week.py\n",
    "\n",
    "# in progress/done!!!"
   ]
  },
  {
   "cell_type": "markdown",
   "metadata": {},
   "source": [
    "<hr>"
   ]
  }
 ],
 "metadata": {
  "kernelspec": {
   "display_name": "Python 3",
   "language": "python",
   "name": "python3"
  },
  "language_info": {
   "codemirror_mode": {
    "name": "ipython",
    "version": 3
   },
   "file_extension": ".py",
   "mimetype": "text/x-python",
   "name": "python",
   "nbconvert_exporter": "python",
   "pygments_lexer": "ipython3",
   "version": "3.8.3"
  }
 },
 "nbformat": 4,
 "nbformat_minor": 4
}
