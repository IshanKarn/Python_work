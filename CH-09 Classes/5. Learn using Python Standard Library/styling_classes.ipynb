{
 "cells": [
  {
   "cell_type": "markdown",
   "metadata": {},
   "source": [
    "<pre>\n",
    "A few styling issues related to classes are worth clarifying, especially as your\n",
    "programs become more complicated.\n",
    "</pre>"
   ]
  },
  {
   "cell_type": "markdown",
   "metadata": {},
   "source": [
    "<pre>\n",
    "<strong>Guide lines</strong>\n",
    "</pre>\n",
    "<pre>\n",
    "Class names should be written in CamelCase. To do this, capitalize the\n",
    "first letter of each word in the name, and don’t use underscores.\n",
    "</pre>\n"
   ]
  },
  {
   "cell_type": "code",
   "execution_count": null,
   "metadata": {},
   "outputs": [],
   "source": [
    "# class ClassName:"
   ]
  },
  {
   "cell_type": "markdown",
   "metadata": {},
   "source": [
    "<pre>\n",
    "Instance and module names should be written in lowercase with underscores \n",
    "between words.\n",
    "</pre>\n"
   ]
  },
  {
   "cell_type": "code",
   "execution_count": null,
   "metadata": {},
   "outputs": [],
   "source": [
    "# instance_name = ClassName()\n",
    "# module_name"
   ]
  },
  {
   "cell_type": "markdown",
   "metadata": {},
   "source": [
    "<pre>\n",
    "Every class should have a docstring immediately following the class definition. \n",
    "The docstring should be a brief description of what the class does,\n",
    "</pre>\n"
   ]
  },
  {
   "cell_type": "code",
   "execution_count": null,
   "metadata": {},
   "outputs": [],
   "source": [
    "# class ClassName:\n",
    "#     \"\"\"Docstring\"\"\""
   ]
  },
  {
   "cell_type": "markdown",
   "metadata": {},
   "source": [
    "<pre>\n",
    "you should follow the same formatting conventions you used for writing\n",
    "docstrings in functions. \n",
    "</pre>"
   ]
  },
  {
   "cell_type": "code",
   "execution_count": null,
   "metadata": {},
   "outputs": [],
   "source": [
    "# def function_name:\n",
    "#     \"\"\"Docstring\"\"\""
   ]
  },
  {
   "cell_type": "markdown",
   "metadata": {},
   "source": [
    "<pre>\n",
    "Each module should also have a docstring describing what the classes in \n",
    "a module can be used for.\n",
    "</pre>\n"
   ]
  },
  {
   "cell_type": "code",
   "execution_count": null,
   "metadata": {},
   "outputs": [],
   "source": [
    "# module.py\n",
    "# \"\"\"This is a sample module written to show styling guidelines for classes.\"\"\""
   ]
  },
  {
   "cell_type": "markdown",
   "metadata": {},
   "source": [
    "<pre>\n",
    "You can use blank lines to organize code, but don’t use them excessively. \n",
    "Within a class you can use one blank line between methods, and\n",
    "within a module you can use two blank lines to separate classes.\n",
    "</pre>\n"
   ]
  },
  {
   "cell_type": "code",
   "execution_count": null,
   "metadata": {},
   "outputs": [],
   "source": [
    "# class FirstClassName:\n",
    "#     \"\"\"A sample class to show methods styling guidelines.\"\"\"\n",
    "#     def __init__(self):\n",
    "#         \"\"\"Docstring\"\"\"\n",
    "#         ---snippet---\n",
    "        \n",
    "#     def first_method(self):\n",
    "#         \"\"\"Docstring\"\"\"\n",
    "#         ---snippet---\n",
    "        \n",
    "#     def second_method(self):\n",
    "#         \"\"\"Docstring\"\"\"\n",
    "#         ---snippet---\n",
    "        \n",
    "        \n",
    "# class SecondClassName:\n",
    "#     \"\"\"Docstring\"\"\"\n",
    "#     ---snippets---\n",
    "    \n",
    "    \n",
    "# class ThirdClassName:\n",
    "#     \"\"\"Docstring\"\"\"\n",
    "#     ---snippets---"
   ]
  },
  {
   "cell_type": "markdown",
   "metadata": {},
   "source": [
    "<pre>\n",
    "If you need to import a module from the standard library and a module\n",
    "that you wrote, place the import statement for the standard library module\n",
    "first. Then add a blank line and the import statement for the module you\n",
    "wrote. In programs with multiple import statements, this convention makes\n",
    "it easier to see where the different modules used in the program come from.\n",
    "</pre>"
   ]
  },
  {
   "cell_type": "code",
   "execution_count": null,
   "metadata": {},
   "outputs": [],
   "source": [
    "# import STL\n",
    "\n",
    "# import my_module1\n",
    "# import my_module2"
   ]
  },
  {
   "cell_type": "markdown",
   "metadata": {},
   "source": [
    "<hr>"
   ]
  }
 ],
 "metadata": {
  "kernelspec": {
   "display_name": "Python 3",
   "language": "python",
   "name": "python3"
  },
  "language_info": {
   "codemirror_mode": {
    "name": "ipython",
    "version": 3
   },
   "file_extension": ".py",
   "mimetype": "text/x-python",
   "name": "python",
   "nbconvert_exporter": "python",
   "pygments_lexer": "ipython3",
   "version": "3.8.3"
  }
 },
 "nbformat": 4,
 "nbformat_minor": 4
}
