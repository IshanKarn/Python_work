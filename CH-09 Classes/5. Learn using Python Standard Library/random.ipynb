{
 "cells": [
  {
   "cell_type": "markdown",
   "metadata": {},
   "source": [
    "### The Python Standard Library\n"
   ]
  },
  {
   "cell_type": "markdown",
   "metadata": {},
   "source": [
    "<pre>\n",
    "<span style='background-color: rgb(255,255,150)'>The Python standard library is a set of modules included with every Python\n",
    "installation.</span> Now that we have a basic understanding of how functions and\n",
    "classes work, we can start to use modules like these that other programmers \n",
    "have written. \n",
    "We can use any function or class in the standard library by including a \n",
    "simple import statement at the top of our file.\n",
    "</pre>"
   ]
  },
  {
   "cell_type": "code",
   "execution_count": null,
   "metadata": {},
   "outputs": [],
   "source": [
    "# Exmaple\n",
    "# importing random module"
   ]
  },
  {
   "cell_type": "markdown",
   "metadata": {},
   "source": [
    "<pre>\n",
    "One interesting function from the random module is <span style='background-color: rgb(255,255,150)'>randint()</span>. This\n",
    "<span style='background-color: rgb(255,255,150)'>function takes two integer arguments and returns a randomly selected \n",
    "integer between (and including) those numbers.</span>\n",
    "</pre>"
   ]
  },
  {
   "cell_type": "code",
   "execution_count": 1,
   "metadata": {},
   "outputs": [
    {
     "name": "stdout",
     "output_type": "stream",
     "text": [
      "1\n"
     ]
    }
   ],
   "source": [
    "#  generate a random number between 1 and 6 using Python's random module\n",
    "\n",
    "from random import randint\n",
    "\n",
    "print(randint(1, 6))"
   ]
  },
  {
   "cell_type": "code",
   "execution_count": 5,
   "metadata": {},
   "outputs": [
    {
     "name": "stdout",
     "output_type": "stream",
     "text": [
      "74 49 96 24 89 100 66 37 38 41 84 "
     ]
    }
   ],
   "source": [
    "# See a more observable exmaple\n",
    "# generate 10 random numbers between 1 and 100\n",
    "\n",
    "for i in range(11):\n",
    "    print(randint(1, 100), end = ' ')"
   ]
  },
  {
   "cell_type": "markdown",
   "metadata": {},
   "source": [
    "<pre>\n",
    "Another useful function is <span style='background-color: rgb(255,255,150)'>choice()</span>. This <span style='background-color: rgb(255,255,150)'>function takes in a list or tuple\n",
    "and returns a randomly chosen element.</span>\n",
    "</pre>"
   ]
  },
  {
   "cell_type": "code",
   "execution_count": 6,
   "metadata": {},
   "outputs": [
    {
     "name": "stdout",
     "output_type": "stream",
     "text": [
      "martina\n"
     ]
    }
   ],
   "source": [
    "from random import choice\n",
    "\n",
    "players = ['charles', 'martina', 'michael', 'florence', 'eli']\n",
    "\n",
    "first_up = choice(players)\n",
    "print(first_up)"
   ]
  },
  {
   "cell_type": "markdown",
   "metadata": {},
   "source": [
    "<pre>\n",
    "<a href  ='https://docs.python.org/3/library/'>Python STL @Python Docs</a>\n",
    "<a href = 'https://towardsdatascience.com/the-python-standard-library-modules-you-should-know-as-a-data-scientist-47e1117ca6c8'>Read more @Towards Data Science</a>\n",
    "</pre>"
   ]
  },
  {
   "cell_type": "markdown",
   "metadata": {},
   "source": [
    "<hr>"
   ]
  }
 ],
 "metadata": {
  "kernelspec": {
   "display_name": "Python 3",
   "language": "python",
   "name": "python3"
  },
  "language_info": {
   "codemirror_mode": {
    "name": "ipython",
    "version": 3
   },
   "file_extension": ".py",
   "mimetype": "text/x-python",
   "name": "python",
   "nbconvert_exporter": "python",
   "pygments_lexer": "ipython3",
   "version": "3.8.3"
  }
 },
 "nbformat": 4,
 "nbformat_minor": 4
}
