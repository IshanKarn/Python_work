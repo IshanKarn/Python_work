{
 "cells": [
  {
   "cell_type": "markdown",
   "metadata": {},
   "source": [
    "## Try It Yourself"
   ]
  },
  {
   "cell_type": "markdown",
   "metadata": {},
   "source": [
    "<pre>\n",
    "<strong>9-1. Restaurant:</strong> Make a class called Restaurant. The __init__() method for\n",
    "Restaurant should store two attributes: a restaurant_name and a cuisine_type.\n",
    "Make a method called describe_restaurant() that prints these two pieces of\n",
    "information, and a method called open_restaurant() that prints a message \n",
    "indicating that the restaurant is open. Make an instance called restaurant \n",
    "from your class. Print the two attributes individually, and then call both methods.\n",
    "</pre>\n"
   ]
  },
  {
   "cell_type": "code",
   "execution_count": 15,
   "metadata": {},
   "outputs": [],
   "source": [
    "# restaurant.py\n",
    "\n",
    "class Restaurant:\n",
    "    \"\"\"Model of a Restaurant\"\"\"\n",
    "    def __init__(self, restaurant_name, cuisine_type):\n",
    "        \"\"\"Initializing attributes for restaurants.\"\"\"\n",
    "        self.restaurant_name = restaurant_name\n",
    "        self.cuisine_type = cuisine_type\n",
    "    \n",
    "    def describe_restaurant(self):\n",
    "        \"\"\"Describing restaurant name and cuisine type.\"\"\"\n",
    "        print(self.restaurant_name)\n",
    "        print(self.cuisine_type)\n",
    "        \n",
    "    def open_restaurant(self):\n",
    "        \"\"\"Show the status of restaurant -i.e.- open/close.\"\"\"\n",
    "        print(f\"The restaurant {self.restaurant_name} is open.\")"
   ]
  },
  {
   "cell_type": "code",
   "execution_count": 16,
   "metadata": {},
   "outputs": [
    {
     "name": "stdout",
     "output_type": "stream",
     "text": [
      "Kwality\n",
      "italian\n"
     ]
    }
   ],
   "source": [
    "restaurant = Restaurant('Kwality', 'italian')\n",
    "\n",
    "print(restaurant.restaurant_name)\n",
    "print(restaurant.cuisine_type)"
   ]
  },
  {
   "cell_type": "code",
   "execution_count": 22,
   "metadata": {},
   "outputs": [
    {
     "name": "stdout",
     "output_type": "stream",
     "text": [
      "Kwality\n",
      "italian\n",
      "The restaurant Kwality is open.\n"
     ]
    }
   ],
   "source": [
    "restaurant.describe_restaurant()\n",
    "restaurant.open_restaurant()"
   ]
  },
  {
   "cell_type": "code",
   "execution_count": 18,
   "metadata": {},
   "outputs": [
    {
     "name": "stdout",
     "output_type": "stream",
     "text": [
      "Kwality\n",
      "italian\n"
     ]
    }
   ],
   "source": [
    "Restaurant.describe_restaurant(restaurant)     # Alternate way of calling a class method for an object"
   ]
  },
  {
   "cell_type": "markdown",
   "metadata": {},
   "source": [
    "<pre>\n",
    "<strong>9-2. Three Restaurants:</strong> Start with your class from Exercise 9-1. Create three\n",
    "different instances from the class, and call describe_restaurant() for each\n",
    "instance.\n",
    "</pre>\n"
   ]
  },
  {
   "cell_type": "code",
   "execution_count": 23,
   "metadata": {},
   "outputs": [
    {
     "name": "stdout",
     "output_type": "stream",
     "text": [
      "kebabsville\n",
      "('indian', 'barbecue')\n",
      "None\n",
      "the square\n",
      "['indian', 'asian']\n",
      "None\n",
      "shreemaya celebrity\n",
      "['italian', 'chinese']\n",
      "None\n"
     ]
    }
   ],
   "source": [
    "r1 = Restaurant('kebabsville', ['indian', 'barbecue'])\n",
    "r2 = Restaurant('the square', ['indian', 'asian'])\n",
    "r3 = Restaurant('shreemaya celebrity', ['italian', 'chinese'])\n",
    "\n",
    "print(r1.describe_restaurant())\n",
    "print(r2.describe_restaurant()) \n",
    "print(r3.describe_restaurant())           # why None gets printed at last???"
   ]
  },
  {
   "cell_type": "markdown",
   "metadata": {},
   "source": [
    "<pre>\n",
    "<strong>9-3. Users:</strong> Make a class called User. Create two attributes called first_name\n",
    "and last_name, and then create several other attributes that are typically stored\n",
    "in a user profile. Make a method called describe_user() that prints a summary\n",
    "of the user’s information. Make another method called greet_user() that prints\n",
    "a personalized greeting to the user.\n",
    "Create several instances representing different users, and call both methods\n",
    "for each user.\n",
    "</pre>"
   ]
  },
  {
   "cell_type": "code",
   "execution_count": 36,
   "metadata": {},
   "outputs": [],
   "source": [
    "# users.py\n",
    "\n",
    "class User:\n",
    "    \"\"\"Model of a user.\"\"\"\n",
    "    def __init__(self, first_name, last_name):\n",
    "        \"\"\"Initializing attributes of user.\"\"\"\n",
    "        self.first_name = first_name\n",
    "        self.last_name = last_name\n",
    "        self.location = 'india'\n",
    "        self.gender = 'male'\n",
    "        self.age = 18\n",
    "    \n",
    "    \n",
    "    def describe_user(self):\n",
    "        \"\"\"Print a summary of user's introduction.\"\"\"\n",
    "        print(f\"User: {self.first_name.title()} {self.last_name.title()}\\n\\tLocation: {self.location.title()}\\\n",
    "        \\n\\tGender: {self.gender.title()}\\n\\tAge: {self.age} years\")\n",
    "    \n",
    "    def greet_user(self):\n",
    "        \"\"\"Greet the user.\"\"\"\n",
    "        print(f\"\\nHi {self.first_name.title()} {self.last_name.title()}. Welcome with us.\")"
   ]
  },
  {
   "cell_type": "code",
   "execution_count": 37,
   "metadata": {},
   "outputs": [
    {
     "name": "stdout",
     "output_type": "stream",
     "text": [
      "\n",
      "Hi Ishan Karn. Welcome with us.\n",
      "User: Ishan Karn\n",
      "\tLocation: India        \n",
      "\tGender: Male\n",
      "\tAge: 18 years\n"
     ]
    }
   ],
   "source": [
    "user_1 = User('ishan', 'karn')\n",
    "\n",
    "user_1.greet_user()\n",
    "user_1.describe_user()"
   ]
  },
  {
   "cell_type": "code",
   "execution_count": 39,
   "metadata": {},
   "outputs": [
    {
     "name": "stdout",
     "output_type": "stream",
     "text": [
      "\n",
      "Hi John Criset. Welcome with us.\n",
      "User: John Criset\n",
      "\tLocation: America        \n",
      "\tGender: Male\n",
      "\tAge: 18 years\n"
     ]
    }
   ],
   "source": [
    "user_2 = User('john', 'criset')\n",
    "\n",
    "user_2.location = 'america'\n",
    "user_2.greet_user()\n",
    "user_2.describe_user()"
   ]
  },
  {
   "cell_type": "markdown",
   "metadata": {},
   "source": [
    "<hr>"
   ]
  }
 ],
 "metadata": {
  "kernelspec": {
   "display_name": "Python 3",
   "language": "python",
   "name": "python3"
  },
  "language_info": {
   "codemirror_mode": {
    "name": "ipython",
    "version": 3
   },
   "file_extension": ".py",
   "mimetype": "text/x-python",
   "name": "python",
   "nbconvert_exporter": "python",
   "pygments_lexer": "ipython3",
   "version": "3.8.3"
  }
 },
 "nbformat": 4,
 "nbformat_minor": 4
}
