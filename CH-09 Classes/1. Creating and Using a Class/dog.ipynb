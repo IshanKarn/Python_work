{
 "cells": [
  {
   "cell_type": "markdown",
   "metadata": {},
   "source": [
    "<pre>Classes combine functions and data into one neat package that can be used in flexible and efficient ways.\n",
    "In object-oriented programming we write classes that represent real-world things and situations, and we create objects based on these classes. When we write a class, we define the general behavior that a whole category of objects can have.\n",
    "When we create individual objects from the class, each object is automatically equipped with the general behavior; \n",
    "we can then give each object whatever unique traits we desire.\n",
    "<span style = 'background-color: yellow'>Making an object from a class is called instantiation</span>, and we work with instances of a class.\n",
    "</pre>"
   ]
  },
  {
   "cell_type": "markdown",
   "metadata": {},
   "source": [
    "### Creating and Using a Class\n"
   ]
  },
  {
   "cell_type": "code",
   "execution_count": null,
   "metadata": {},
   "outputs": [],
   "source": [
    "# dogs.py\n",
    "\n",
    "# Write a simple class, Dog, that represents a dog—not one dog in particular, but any dog.\n",
    "# What do we know about most pet dogs? Well, they all have a name and age.\n",
    "# We also know that most dogs sit and roll over. Those two pieces of information (name and \n",
    "# age) and those two behaviors (sit and roll over) will go in our Dog class because they’re \n",
    "# common to most dogs."
   ]
  },
  {
   "cell_type": "markdown",
   "metadata": {},
   "source": [
    "### Creating the Dog Class\n"
   ]
  },
  {
   "cell_type": "code",
   "execution_count": 1,
   "metadata": {},
   "outputs": [],
   "source": [
    "# Each instance created from the Dog class will store a name and an age, and\n",
    "# we’ll give each dog the ability to sit() and roll_over()\n",
    "\n",
    "class Dog:\n",
    "    \"\"\"A simple attempt to model a dog.\"\"\"\n",
    "    \n",
    "    def __init__(self, name, age):\n",
    "        \"\"\"Initialize name and age attributes.\"\"\"\n",
    "        self.name = name\n",
    "        self.age = age\n",
    "\n",
    "    def sit(self):\n",
    "        \"\"\"Simulate a dog sitting in response to a command.\"\"\"\n",
    "        print(f\"{self.name} is now sitting.\")\n",
    "    def roll_over(self):\n",
    "        \"\"\"Simulate rolling over in response to a command.\"\"\"\n",
    "        print(f\"{self.name} rolled over!\")"
   ]
  },
  {
   "cell_type": "markdown",
   "metadata": {},
   "source": [
    "<pre>By convention, capitalized names refer to classes in Python.</pre>"
   ]
  },
  {
   "cell_type": "markdown",
   "metadata": {},
   "source": [
    "<pre><h4>The __init__() Method</h4>\n",
    "<span style = 'background-color: yellow'>A function that’s part of a class is a method (or behavior).</span>\n",
    "The __init__() method at w is a special method that Python runs automatically whenever we create a new instance \n",
    "based on the Dog class. This method has two leading underscores and two trailing underscores, a convention that \n",
    "helps prevent Python’s default method names from conflicting with your method names. Make sure to use two \n",
    "underscores on each side of __init__().\n",
    "<span style = 'background-color: #F0F8FF'>We define the __init__() method to have three parameters: self, name, and age. The self parameter is required \n",
    "in the method definition, and it must come first before the other parameters. It must be included in the definition \n",
    "because when Python calls this method later (to create an instance of Dog), the method call will automatically pass \n",
    "the self argument. Every method call associated with an instance automatically passes self, which is a reference to \n",
    "the instance itself; it gives the individual instance access to the attributes and methods in the class.</span>\n",
    "The two variables defined at x each have the prefix self. <span style = 'background-color: #FFF8DC'>Any variable prefixed with self is available to every \n",
    "method in the class, and we’ll also be able to access these variables through any instance created from the class.\n",
    "Variables that are accessible through instances like this are called attributes.</span>\n",
    "<span style = 'background-color: #8FBC8F'>Each object has its own namespace.</span>\n",
    "</pre>"
   ]
  },
  {
   "cell_type": "markdown",
   "metadata": {},
   "source": [
    "### Making an Instance from a Class\n"
   ]
  },
  {
   "cell_type": "markdown",
   "metadata": {},
   "source": [
    "<pre>\n",
    "<span style = 'background-color: yellow'>SYNTAX: instance_name = class_name()</span>\n",
    "Instance object's name starts with lowercase letter, by convention.\n",
    "Same attributes of different instances can have different values and can be accessed through\n",
    "their respective namespaces.\n",
    "Each instance has its own set of attributes and behaviotrs.\n",
    "Each instance object has its own namespace, to access any attribute we have to use . operator.\n",
    "Whenever the class object is called the instance is always passed as the first argument.\n",
    "Dunder init method (__init__()) do initialization and do assignment to instance attributes.\n",
    "It is used to initialize the variables.\n",
    "<span style = 'background-color: #8FBC8F'>Self (in a class definition) always refers to the particular instance.\n",
    "We pass self to fetch the value from instances. Roughly said, self gives each instance uniqueness.</span>\n",
    "Instance is passed automatically as the first argument to __init__() whenever we create an\n",
    "instance.\n",
    "If we don't include self as the first parameter in any method definition in our classes\n",
    "then those method will only be available through the class namespace. They don't have access\n",
    "to any instance attributes.\n",
    "As self reference to instance object, instance can be passed as an argument while calling class.\n",
    "                                            ----------\n",
    "Some references:\n",
    "<a href='https://youtu.be/ic6wdPxcHc0'>Reference 1</a>\n",
    "<a href='https://youtu.be/WIP3-woodlU'>Reference 2</a>\n",
    "<a href='https://youtu.be/AsafkCAJpJ0'>Reference 3</a>\n",
    "</pre>"
   ]
  },
  {
   "cell_type": "code",
   "execution_count": 2,
   "metadata": {},
   "outputs": [
    {
     "name": "stdout",
     "output_type": "stream",
     "text": [
      "My dog's name is Willie.\n",
      "My dog is 6 years old.\n"
     ]
    }
   ],
   "source": [
    "my_dog = Dog('Willie', 6)\n",
    "\n",
    "# When Python reads line 1, it calls the __init__() method\n",
    "# in Dog with the arguments 'Willie' and 6. The __init__() method creates an\n",
    "# instance representing this particular dog and sets the name and age attributes\n",
    "# using the values we provided. Python then returns an instance representing\n",
    "# this dog."
   ]
  },
  {
   "cell_type": "markdown",
   "metadata": {},
   "source": [
    "#### Accessing Attributes\n",
    "<pre>\n",
    "How Python finds an attribute’s value. \n",
    "<span style = 'background-color: yellow'>SYNTAX: instance.attribute</span>\n",
    "</pre>"
   ]
  },
  {
   "cell_type": "code",
   "execution_count": null,
   "metadata": {},
   "outputs": [],
   "source": [
    "print(f\"My dog's name is {my_dog.name}.\")\n",
    "print(f\"My dog is {my_dog.age} years old.\")"
   ]
  },
  {
   "cell_type": "markdown",
   "metadata": {},
   "source": [
    "#### Calling Methods\n",
    "<pre>\n",
    "After creating instance we can use dot notation to call any method defined in the class.\n",
    "<span style = 'background-color: yellow'>SYNTAX: instance.method()</span>"
   ]
  },
  {
   "cell_type": "code",
   "execution_count": 10,
   "metadata": {},
   "outputs": [
    {
     "name": "stdout",
     "output_type": "stream",
     "text": [
      "Willie is now sitting.\n",
      "Willie rolled over!\n"
     ]
    }
   ],
   "source": [
    "my_dog.sit()\n",
    "my_dog.roll_over()"
   ]
  },
  {
   "cell_type": "markdown",
   "metadata": {},
   "source": [
    "#### Creating Multiple Instances\n",
    "<pre>We can create as many instances from a class as we need.</pre> "
   ]
  },
  {
   "cell_type": "code",
   "execution_count": 11,
   "metadata": {},
   "outputs": [
    {
     "name": "stdout",
     "output_type": "stream",
     "text": [
      "My dog's name is Willie.\n",
      "My dog is 6 years old.\n",
      "Willie is now sitting.\n",
      "\n",
      "Your dog's name is Lucy.\n",
      "Your dog is 3 years old.\n",
      "Lucy is now sitting.\n"
     ]
    }
   ],
   "source": [
    "my_dog = Dog('Willie', 6)\n",
    "your_dog = Dog('Lucy', 3)\n",
    "\n",
    "print(f\"My dog's name is {my_dog.name}.\")\n",
    "print(f\"My dog is {my_dog.age} years old.\")\n",
    "my_dog.sit()\n",
    "\n",
    "print(f\"\\nYour dog's name is {your_dog.name}.\")\n",
    "print(f\"Your dog is {your_dog.age} years old.\")\n",
    "your_dog.sit()\n",
    "\n",
    "# Each dog is a separate instance with its own set of attributes, capable of the\n",
    "# same set of actions."
   ]
  },
  {
   "cell_type": "markdown",
   "metadata": {},
   "source": [
    "<hr>"
   ]
  }
 ],
 "metadata": {
  "kernelspec": {
   "display_name": "Python 3",
   "language": "python",
   "name": "python3"
  },
  "language_info": {
   "codemirror_mode": {
    "name": "ipython",
    "version": 3
   },
   "file_extension": ".py",
   "mimetype": "text/x-python",
   "name": "python",
   "nbconvert_exporter": "python",
   "pygments_lexer": "ipython3",
   "version": "3.8.3"
  }
 },
 "nbformat": 4,
 "nbformat_minor": 4
}
