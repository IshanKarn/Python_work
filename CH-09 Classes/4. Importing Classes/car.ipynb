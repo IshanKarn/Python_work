{
 "cells": [
  {
   "cell_type": "markdown",
   "metadata": {},
   "source": [
    "<pre>\n",
    "As we add more functionality to our classes, our files can get long, even\n",
    "when we use inheritance properly. In keeping with the overall philosophy\n",
    "of Python, we’ll want to keep our files as uncluttered as possible. To help,\n",
    "Python lets us store classes in modules and then import the classes we\n",
    "need into your main program.\n",
    "</pre>"
   ]
  },
  {
   "cell_type": "markdown",
   "metadata": {},
   "source": [
    "### Importing a Single Class\n"
   ]
  },
  {
   "cell_type": "code",
   "execution_count": null,
   "metadata": {},
   "outputs": [],
   "source": [
    "# Create a module containing just the Car class\n",
    "# Any program that uses this module will need a more specific filename, such as my_car.py"
   ]
  },
  {
   "cell_type": "code",
   "execution_count": null,
   "metadata": {},
   "outputs": [],
   "source": [
    "\"\"\"A class that can be used to represent a car.\"\"\"\n",
    "\n",
    "class Car:\n",
    "    \"\"\"A simple attempt to represent a car.\"\"\"\n",
    "    \n",
    "    def __init__(self, make, model, year):\n",
    "        \"\"\"Initialize attributes to describe a car.\"\"\"\n",
    "        self.make = make\n",
    "        self.model = model\n",
    "        self.year = year\n",
    "        self.odometer_reading = 0\n",
    "        \n",
    "    def get_descriptive_name(self):\n",
    "        \"\"\"Return a neatly formatted descriptive name.\"\"\"\n",
    "        long_name = f\"{self.year} {self.make} {self.model}\"\n",
    "        return long_name.title()\n",
    "    \n",
    "    def read_odometer(self):\n",
    "        \"\"\"Print a statement showing the car's mileage.\"\"\"\n",
    "        print(f\"This car has {self.odometer_reading} miles on it.\\n\")\n",
    "        \n",
    "    def update_odometer(self, mileage):\n",
    "        \"\"\"\n",
    "        Set the odometer reading to the given value.\n",
    "        Reject the change if it attempts to roll the odometer back.\n",
    "        \"\"\"\n",
    "        if mileage >= self.odometer_reading:\n",
    "            self.odometer_reading = mileage\n",
    "        else:\n",
    "            print(\"You cann't roll back an odometer.\")\n",
    "            \n",
    "    def increment_odometer(self, miles):\n",
    "        \"\"\"Add the given amount to the odometer reading.\"\"\"\n",
    "        if miles > 0:\n",
    "            self.odometer_reading += miles\n",
    "        else:\n",
    "            print(\"You cann't roll back an odometer.\")\n",
    "        \n",
    "my_used_car = Car('subaru', 'outback', 2015)\n",
    "print(my_used_car.get_descriptive_name())\n",
    "\n",
    "my_used_car.update_odometer(23_500)\n",
    "my_used_car.read_odometer()\n",
    "\n",
    "my_used_car.increment_odometer(100)\n",
    "my_used_car.read_odometer()\n",
    "\n",
    "# At line 1 we include a module-level docstring that briefly describes the\n",
    "# contents of this module. WE should write a docstring for each module we\n",
    "# create.\n",
    "# Now we make a separate file called my_car.py. This file will import the\n",
    "# Car class and then create an instance from that class"
   ]
  }
 ],
 "metadata": {
  "kernelspec": {
   "display_name": "Python 3",
   "language": "python",
   "name": "python3"
  },
  "language_info": {
   "codemirror_mode": {
    "name": "ipython",
    "version": 3
   },
   "file_extension": ".py",
   "mimetype": "text/x-python",
   "name": "python",
   "nbconvert_exporter": "python",
   "pygments_lexer": "ipython3",
   "version": "3.8.3"
  }
 },
 "nbformat": 4,
 "nbformat_minor": 4
}
