{
 "cells": [
  {
   "cell_type": "markdown",
   "metadata": {},
   "source": [
    "## Try It Yourself"
   ]
  },
  {
   "cell_type": "markdown",
   "metadata": {},
   "source": [
    "<pre>\n",
    "<strong>9-10. Imported Restaurant:</strong> Using your latest Restaurant class, store it in a \n",
    "module. Make a separate file that imports Restaurant. Make a Restaurant instance, \n",
    "and call  one of Restaurant’s  methods to show that the import statement is \n",
    "working properly.\n",
    "</pre>\n"
   ]
  },
  {
   "cell_type": "code",
   "execution_count": 1,
   "metadata": {},
   "outputs": [
    {
     "name": "stdout",
     "output_type": "stream",
     "text": [
      "The restaurant Swadesh is open.\n"
     ]
    }
   ],
   "source": [
    "# imported_restaurant.py\n",
    "\n",
    "from restaurant import Restaurant\n",
    "\n",
    "r = Restaurant('Swadesh', 'Indian')\n",
    "r.open_restaurant()"
   ]
  },
  {
   "cell_type": "markdown",
   "metadata": {},
   "source": [
    "<pre>\n",
    "<strong>9-11. Imported Admin:</strong> Start with your work from Exercise 9-8 . \n",
    "Store the classes User, Privileges, and Admin in one module. Create \n",
    "a separate file, make an Admin instance, and call show_privileges() to show that \n",
    "everything is working correctly.\n",
    "</pre>\n"
   ]
  },
  {
   "cell_type": "code",
   "execution_count": 1,
   "metadata": {},
   "outputs": [
    {
     "name": "stdout",
     "output_type": "stream",
     "text": [
      "Following are privileges of Admin:\n",
      "\tCan Add Post\n",
      "\tCan Delete Post\n",
      "\tCan Ban User\n",
      "\tCan Access Root Directory\n",
      "\tCan Configure Network\n"
     ]
    }
   ],
   "source": [
    "# imported_admin.py\n",
    "\n",
    "from user import Admin\n",
    "\n",
    "admin = Admin(\"james\", \"bond\")\n",
    "admin.privileges.show_privileges()"
   ]
  },
  {
   "cell_type": "markdown",
   "metadata": {},
   "source": [
    "<pre>\n",
    "<strong>9-12. Multiple Modules:</strong> Store the User class in one module, and store the\n",
    "Privileges and Admin classes in a separate module. In a separate file, create\n",
    "an Admin instance and call show_privileges() to show that everything is still\n",
    "working correctly.\n",
    "</pre>"
   ]
  },
  {
   "cell_type": "code",
   "execution_count": 13,
   "metadata": {},
   "outputs": [
    {
     "name": "stdout",
     "output_type": "stream",
     "text": [
      "Following are privileges of Admin:\n",
      "\tCan Add Post\n",
      "\tCan Delete Post\n",
      "\tCan Ban User\n",
      "\tCan Access Root Directory\n",
      "\tCan Configure Network\n"
     ]
    }
   ],
   "source": [
    "# multiple_modules.py\n",
    "\n",
    "import onlyuser as user\n",
    "import admin_privileges as admin\n",
    "\n",
    "admin = admin.Admin(\"john\", \"cena\")\n",
    "admin.privileges.show_privileges()"
   ]
  },
  {
   "cell_type": "markdown",
   "metadata": {},
   "source": [
    "<hr>"
   ]
  }
 ],
 "metadata": {
  "kernelspec": {
   "display_name": "Python 3",
   "language": "python",
   "name": "python3"
  },
  "language_info": {
   "codemirror_mode": {
    "name": "ipython",
    "version": 3
   },
   "file_extension": ".py",
   "mimetype": "text/x-python",
   "name": "python",
   "nbconvert_exporter": "python",
   "pygments_lexer": "ipython3",
   "version": "3.8.3"
  }
 },
 "nbformat": 4,
 "nbformat_minor": 4
}
