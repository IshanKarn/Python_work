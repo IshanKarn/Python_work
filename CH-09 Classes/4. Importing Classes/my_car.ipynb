{
 "cells": [
  {
   "cell_type": "markdown",
   "metadata": {},
   "source": [
    "<pre>\n",
    "This file will import the Car class and then create an instance from that class.\n",
    "The import statement at line 1 tells Python to open the car module and\n",
    "import the class Car. Now we can use the Car class as if it were defined in\n",
    "this file.\n",
    "\n",
    "<span style = 'background-color: yellow'>SYNTAX: from module_name import class_name</span>\n",
    "</pre>"
   ]
  },
  {
   "cell_type": "code",
   "execution_count": 2,
   "metadata": {},
   "outputs": [
    {
     "name": "stdout",
     "output_type": "stream",
     "text": [
      "2015 Subaru Outback\n",
      "This car has 23500 miles on it.\n",
      "\n",
      "This car has 23600 miles on it.\n",
      "\n",
      "2019 Audi A4\n",
      "This car has 23 miles on it.\n",
      "\n"
     ]
    }
   ],
   "source": [
    "from car import Car\n",
    "\n",
    "my_new_car = Car('audi', 'a4', 2019)\n",
    "print(my_new_car.get_descriptive_name())\n",
    "my_new_car.odometer_reading = 23\n",
    "my_new_car.read_odometer()"
   ]
  },
  {
   "cell_type": "markdown",
   "metadata": {},
   "source": [
    "#### Motive:\n",
    "<pre>\n",
    "Get all the same functionality.\n",
    "Keep your main program file clean and easy to read. \n",
    "Store most of the logic in separate files. \n",
    "Focus on the higher-level logic of your main program.\n",
    "</pre>"
   ]
  },
  {
   "cell_type": "markdown",
   "metadata": {},
   "source": [
    "### Storing Multiple Classes in a Module\n"
   ]
  },
  {
   "cell_type": "markdown",
   "metadata": {},
   "source": [
    "<pre>\n",
    "We can store as many classes as we need in a single module, although\n",
    "each class in a module should be related somehow.\n",
    "</pre>"
   ]
  },
  {
   "cell_type": "code",
   "execution_count": 5,
   "metadata": {},
   "outputs": [],
   "source": [
    "# The classes Battery and ElectricCar both help represent cars, \n",
    "# so add them to the module cars.py.\n",
    "\n",
    "# created a new module: cars.py"
   ]
  },
  {
   "cell_type": "code",
   "execution_count": 11,
   "metadata": {},
   "outputs": [
    {
     "name": "stdout",
     "output_type": "stream",
     "text": [
      "2014 Tesla S\n"
     ]
    }
   ],
   "source": [
    "# my_Electric_car.py\n",
    "\n",
    "from cars import ElectricCar\n",
    "\n",
    "my_t = ElectricCar('tesla', 's', 2014)\n",
    "print(my_t.get_descriptive_name())"
   ]
  },
  {
   "cell_type": "code",
   "execution_count": 9,
   "metadata": {},
   "outputs": [
    {
     "name": "stdout",
     "output_type": "stream",
     "text": [
      "2019 Tesla Model S\n",
      "This car has a 75-kWh battery.\n",
      "This car can go about 260 miles on a full charge.\n"
     ]
    }
   ],
   "source": [
    "from cars import ElectricCar\n",
    "\n",
    "my_tesla = ElectricCar('tesla', 'model s', 2019)\n",
    "print(my_tesla.get_descriptive_name())\n",
    "my_tesla.battery.describe_battery()\n",
    "my_tesla.battery.get_range()"
   ]
  },
  {
   "cell_type": "markdown",
   "metadata": {},
   "source": [
    "### Importing Multiple Classes from a Module\n"
   ]
  },
  {
   "cell_type": "markdown",
   "metadata": {},
   "source": [
    "<pre>\n",
    "We can import as many classes as you need into a program file. \n",
    "<span style = 'background-color: yellow'>SYNTAX: from module_name import class_name1, class_name2</span>\n",
    "</pre>"
   ]
  },
  {
   "cell_type": "code",
   "execution_count": 13,
   "metadata": {},
   "outputs": [
    {
     "name": "stdout",
     "output_type": "stream",
     "text": [
      "2019 Volkswagen Beetle\n",
      "2019 Tesla Roadster\n"
     ]
    }
   ],
   "source": [
    "# If we want to make a regular car and an electric car in the same file, \n",
    "# we need to import both classes, Car and ElectricCar.\n",
    "\n",
    "from cars import Car, ElectricCar\n",
    "\n",
    "my_beetle = Car('volkswagen', 'beetle', 2019)\n",
    "print(my_beetle.get_descriptive_name())\n",
    "\n",
    "my_tesla = ElectricCar('tesla', 'roadster', 2019)\n",
    "print(my_tesla.get_descriptive_name())"
   ]
  },
  {
   "cell_type": "markdown",
   "metadata": {},
   "source": [
    "### Importing an Entire Module\n",
    "<pre>\n",
    "We can also import an entire module and then access the classes we need\n",
    "using dot notation. This approach is simple and results in code that is easy\n",
    "to read. Because every call that creates an instance of a class includes the\n",
    "module name, we won’t have naming conflicts with any names used in the\n",
    "current file.\n",
    "\n",
    "<span style = 'background-color: yellow'>SYNTAX (to import module): import module_name</span>\n",
    "<span style = 'background-color: yellow'>SYNTAX (to access the classes): instance_name = module_name.class_name()</span>\n",
    "</pre>"
   ]
  },
  {
   "cell_type": "code",
   "execution_count": 18,
   "metadata": {},
   "outputs": [],
   "source": [
    "# import the entire cars module and then create a regular car and an electric car\n",
    "\n",
    "import cars\n",
    "\n",
    "my_vento = cars.Car(\"volkswagen\", \"vento\", 2018)\n",
    "my_tesla1 = cars.ElectricCar(\"tesla\", 'roadster', 2019)"
   ]
  },
  {
   "cell_type": "code",
   "execution_count": 19,
   "metadata": {},
   "outputs": [
    {
     "name": "stdout",
     "output_type": "stream",
     "text": [
      "2018 Volkswagen Vento\n",
      "2019 Tesla Roadster\n"
     ]
    }
   ],
   "source": [
    "print(my_vento.get_descriptive_name())\n",
    "print(my_tesla1.get_descriptive_name())"
   ]
  },
  {
   "cell_type": "markdown",
   "metadata": {},
   "source": [
    "### Importing All Classes from a Module\n",
    "<pre>\n",
    "We can import every class from a module.\n",
    "<span style = 'background-color: yellow'>SYNTAX: from module_name import *</span>\n",
    "NOTE: This method is not recommended for two reasons. First, it’s helpful to be\n",
    "able to read the import statements at the top of a file and get a clear sense of\n",
    "which classes a program uses. With this approach it’s unclear which classes\n",
    "we’re using from the module. This approach can also lead to confusion\n",
    "with names in the file. If you accidentally import a class with the same name\n",
    "as something else in our program file, we can create errors that are hard\n",
    "to diagnose.\n",
    "</pre>"
   ]
  },
  {
   "cell_type": "code",
   "execution_count": 21,
   "metadata": {},
   "outputs": [
    {
     "name": "stdout",
     "output_type": "stream",
     "text": [
      "2018 Volkswagen Vento\n"
     ]
    }
   ],
   "source": [
    "from cars import *\n",
    "\n",
    "my_v = cars.Car(\"volkswagen\", \"vento\", 2018)\n",
    "print(my_v.get_descriptive_name())"
   ]
  },
  {
   "cell_type": "markdown",
   "metadata": {},
   "source": [
    "### Importing a Module into a Module\n",
    "<pre>\n",
    "When you store your classes in several modules, you may find that a class in one \n",
    "module depends on a class in another module. When  this happens, you can import \n",
    "the required class into the first module.\n",
    "</pre>"
   ]
  },
  {
   "cell_type": "code",
   "execution_count": 3,
   "metadata": {},
   "outputs": [
    {
     "name": "stdout",
     "output_type": "stream",
     "text": [
      "2019 Volkswagen Beetle\n",
      "2019 Tesla Roadster\n"
     ]
    }
   ],
   "source": [
    "# my_cars.py\n",
    "# We can import from each module separately and create whatever kind of car we need\n",
    "\n",
    "from car import Car\n",
    "from electric_car import ElectricCar\n",
    "\n",
    "my_beetle = Car('volkswagen', 'beetle', 2019)\n",
    "print(my_beetle.get_descriptive_name())\n",
    "my_tesla = ElectricCar('tesla', 'roadster', 2019)\n",
    "print(my_tesla.get_descriptive_name())"
   ]
  },
  {
   "cell_type": "code",
   "execution_count": 4,
   "metadata": {},
   "outputs": [
    {
     "name": "stdout",
     "output_type": "stream",
     "text": [
      "2019 Volkswagen Beetle\n",
      "2019 Tesla Roadster\n"
     ]
    }
   ],
   "source": [
    "# my_cars.py\n",
    "# Importing modules into a module\n",
    "# NOTE: Here car and electric_car are modules being imported in a seperate module my_cars\n",
    "\n",
    "import car\n",
    "import electric_car\n",
    "\n",
    "my_beetle = car.Car('volkswagen', 'beetle', 2019)\n",
    "print(my_beetle.get_descriptive_name())\n",
    "my_tesla = electric_car.ElectricCar('tesla', 'roadster', 2019)\n",
    "print(my_tesla.get_descriptive_name())"
   ]
  },
  {
   "cell_type": "markdown",
   "metadata": {},
   "source": [
    "### Using Aliases\n"
   ]
  },
  {
   "cell_type": "code",
   "execution_count": 9,
   "metadata": {},
   "outputs": [
    {
     "name": "stdout",
     "output_type": "stream",
     "text": [
      "2019 Tesla Roadster\n",
      "This car can go about 260 miles on a full charge.\n"
     ]
    }
   ],
   "source": [
    "# Aliases made code more simple, readable, clean and improve easeness of writting\n",
    "\n",
    "from electric_car import ElectricCar as EC\n",
    "\n",
    "my_tesla = EC('tesla', 'roadster', 2019)\n",
    "\n",
    "print(my_tesla.get_descriptive_name())\n",
    "my_tesla.battery.get_range()"
   ]
  },
  {
   "cell_type": "markdown",
   "metadata": {},
   "source": [
    "### Finding Your Own Workflow\n"
   ]
  },
  {
   "cell_type": "markdown",
   "metadata": {},
   "source": [
    "<pre>\n",
    "When you’re starting out, keep your code structure simple. Try\n",
    "doing everything in one file and moving your classes to separate modules\n",
    "once everything is working. If you like how modules and files interact, try\n",
    "storing your classes in modules when you start a project. Find an approach\n",
    "that lets you write code that works, and go from there.\n",
    "</pre>"
   ]
  },
  {
   "cell_type": "markdown",
   "metadata": {},
   "source": [
    "<hr>"
   ]
  }
 ],
 "metadata": {
  "kernelspec": {
   "display_name": "Python 3",
   "language": "python",
   "name": "python3"
  },
  "language_info": {
   "codemirror_mode": {
    "name": "ipython",
    "version": 3
   },
   "file_extension": ".py",
   "mimetype": "text/x-python",
   "name": "python",
   "nbconvert_exporter": "python",
   "pygments_lexer": "ipython3",
   "version": "3.8.3"
  }
 },
 "nbformat": 4,
 "nbformat_minor": 4
}
