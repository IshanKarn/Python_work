{
 "cells": [
  {
   "cell_type": "markdown",
   "metadata": {},
   "source": [
    "### Inheritance\n",
    "<pre>\n",
    "We don’t always have to start from scratch when writing a class. If the class\n",
    "we’re writing is a specialized version of another class we wrote, we can\n",
    "use inheritance. \n",
    "<span style = 'background-color:rgb(250,220,200)'>When one class inherits from another, it takes on the attributes and methods \n",
    "of the first class. The original class is called the parent class, and the \n",
    "new class is the child class.</span> <span style = 'background-color:rgb(250,240,200)'>The child class can inherit any or all of the \n",
    "attributes and methods of its parent class, but it’s also free to define \n",
    "new attributes and methods of its own.</span>\n",
    "</pre>"
   ]
  },
  {
   "cell_type": "markdown",
   "metadata": {},
   "source": [
    "#### The __init__() Method for a Child Class\n",
    "<pre>\n",
    "When we’re writing a new class based on an existing class, we’ll often\n",
    "want to call the __init__() method from the parent class. This will initialize\n",
    "any attributes that were defined in the parent __init__() method and make\n",
    "them available in the child class.\n",
    "<h4>Steps:</h4>\n",
    "<span style = 'background-color:rgb(250,220,200)'>When we create a child class, the parent class must be part of the current file \n",
    "and must appear before the child class in the file.\n",
    "</span><span style = 'background-color:rgb(250,240,200)'>The name of the parent class must be included in parentheses in the definition of a child class.</span>\n",
    "<span style = 'background-color: yellow'>SYNTAX: class ChildClass(ParentClass):</span>\n",
    "The __init__() method takes in the information required to make a Car instance.\n",
    "<span style = 'background-color: yellow'>SYNTAX: def __init__(self, class_attributes):</span> \n",
    "<span style = 'background-color:rgb(250,240,200)'>The super() function is a special function that allows us to call a method from the parent class.</span> \n",
    "<span style = 'background-color: yellow'>SYNTAX: super().__init__(class_attributes)</span>\n",
    "It tells Python to call the __init__() method from Car, which gives an ElectricCar instance all \n",
    "the attributes defined in that method. \n",
    "<span style = 'background-color:rgb(250,220,200)'>The name super comes from a convention of calling the parent class a superclass and the child class a subclass.</span>\n",
    "</pre>"
   ]
  },
  {
   "cell_type": "code",
   "execution_count": 2,
   "metadata": {},
   "outputs": [],
   "source": [
    "class Car:\n",
    "    \"\"\"A simple attempt to represent a car.\"\"\"\n",
    "    def __init__(self, make, model, year):\n",
    "        self.make = make\n",
    "        self.model = model\n",
    "        self.year = year\n",
    "        self.odometer_reading = 0\n",
    "        self.gas_volume = 2\n",
    "\n",
    "    def get_descriptive_name(self):\n",
    "        long_name = f\"{self.year} {self.make} {self.model}\"\n",
    "        return long_name.title()\n",
    "\n",
    "    def read_odometer(self):\n",
    "        print(f\"This car has {self.odometer_reading} miles on it.\")\n",
    "\n",
    "    def update_odometer(self, mileage):\n",
    "        if mileage >= self.odometer_reading:\n",
    "            self.odometer_reading = mileage\n",
    "        else:\n",
    "            print(\"You can't roll back an odometer!\")\n",
    "\n",
    "    def increment_odometer(self, miles):\n",
    "        self.odometer_reading += miles\n",
    "        \n",
    "    def fill_gas_tank(self, volume):\n",
    "        if volume < 0:\n",
    "            print(\"You cann't decrese gas volume by yourself.\")\n",
    "        else:\n",
    "            self.gas_volume += volume"
   ]
  },
  {
   "cell_type": "code",
   "execution_count": 3,
   "metadata": {},
   "outputs": [
    {
     "name": "stdout",
     "output_type": "stream",
     "text": [
      "2019 Tesla Model S\n"
     ]
    }
   ],
   "source": [
    "# Make a simple version of the ElectricCar class, which does everything the Car class does.\n",
    "# electric_car.py\n",
    "\n",
    "class ElectricCar(Car):\n",
    "    \"\"\"Represent aspects of a car, specific to electric vehicles.\"\"\"\n",
    "\n",
    "    def __init__(self, make, model, year):\n",
    "        \"\"\"Initialize attributes of the parent class.\"\"\"\n",
    "        super().__init__(make, model, year)\n",
    "\n",
    "my_tesla = ElectricCar('tesla', 'model s', 2019)\n",
    "print(my_tesla.get_descriptive_name())\n",
    "\n",
    "# Can we access odometer_reading's value from parent class?"
   ]
  },
  {
   "cell_type": "markdown",
   "metadata": {},
   "source": [
    "#### Defining Attributes and Methods for the Child Class\n",
    "<pre>\n",
    "We can add any new attributes and methods necessary to differentiate the child class\n",
    "from the parent class.\n",
    "</pre>"
   ]
  },
  {
   "cell_type": "code",
   "execution_count": 4,
   "metadata": {},
   "outputs": [
    {
     "name": "stdout",
     "output_type": "stream",
     "text": [
      "2019 Tesla Model S\n",
      "This car has a 75-kWh battery.\n"
     ]
    }
   ],
   "source": [
    "# Define attributes and methods specific to electric cars.\n",
    "# Add an attribute that’s specific to electric cars (a battery, for\n",
    "# example) and a method to report on this attribute.\n",
    "\n",
    "class ElectricCar(Car):\n",
    "    \"\"\"Represent aspects of a car, specific to electric vehicles.\"\"\"\n",
    "    def __init__(self, make, model, year):\n",
    "        \"\"\"\n",
    "        Initialize attributes of the parent class.\n",
    "        Then initialize attributes specific to an electric car.\n",
    "        \"\"\"\n",
    "        super().__init__(make, model, year)\n",
    "        self.battery_size = 75\n",
    "\n",
    "    def describe_battery(self):\n",
    "        \"\"\"Print a statement describing the battery size.\"\"\"\n",
    "        print(f\"This car has a {self.battery_size}-kWh battery.\")\n",
    "\n",
    "my_tesla = ElectricCar('tesla', 'model s', 2019)\n",
    "print(my_tesla.get_descriptive_name())\n",
    "my_tesla.describe_battery()\n",
    "\n",
    "# This attribute will be associated with all instances created from the\n",
    "# ElectricCar class but won’t be associated with any instances of Car.\n",
    "# An attribute or method that could belong to any car, rather than one that’s specific to \n",
    "# an electric car, should be added to the Car class instead of the ElectricCar class."
   ]
  },
  {
   "cell_type": "markdown",
   "metadata": {},
   "source": [
    "#### Overriding Methods from the Parent Class\n",
    "<pre>\n",
    "We can override any method from the parent class that doesn’t fit what\n",
    "we’re trying to model with the child class. To do this, we define a method\n",
    "in the child class with the same name as the method you want to override in\n",
    "the parent class. Python will disregard the parent class method and only\n",
    "pay attention to the method we define in the child class.\n",
    "<span style = 'background-color: rgb(255,255,180)'>NOTE: When we use inheritance, we can make our child classes retain what we \n",
    "need and override anything we don’t need from the parent class.</span>\n",
    "</pre>"
   ]
  },
  {
   "cell_type": "code",
   "execution_count": 5,
   "metadata": {},
   "outputs": [
    {
     "name": "stdout",
     "output_type": "stream",
     "text": [
      "2019 Tesla Model S\n",
      "This car has a 75-kWh battery.\n",
      "This car doesn't need a gas tank!\n"
     ]
    }
   ],
   "source": [
    "# The class Car had a method called fill_gas_tank(). This method is\n",
    "# meaningless for an all-electric vehicle, so you might want to override this\n",
    "# method.\n",
    "\n",
    "class ElectricCar(Car):\n",
    "    \"\"\"Represent aspects of a car, specific to electric vehicles.\"\"\"\n",
    "    def __init__(self, make, model, year):\n",
    "        \"\"\"\n",
    "        Initialize attributes of the parent class.\n",
    "        Then initialize attributes specific to an electric car.\n",
    "        \"\"\"\n",
    "        super().__init__(make, model, year)\n",
    "        self.battery_size = 75\n",
    "\n",
    "    def describe_battery(self):\n",
    "        \"\"\"Print a statement describing the battery size.\"\"\"\n",
    "        print(f\"This car has a {self.battery_size}-kWh battery.\")\n",
    "        \n",
    "    def fill_gas_tank(self):\n",
    "        \"\"\"Electric cars don't have gas tanks.\"\"\"\n",
    "        print(\"This car doesn't need a gas tank!\")\n",
    "\n",
    "my_tesla = ElectricCar('tesla', 'model s', 2019)\n",
    "print(my_tesla.get_descriptive_name())\n",
    "my_tesla.describe_battery()\n",
    "my_tesla.fill_gas_tank()"
   ]
  },
  {
   "cell_type": "markdown",
   "metadata": {},
   "source": [
    "#### Instances as Attributes\n",
    "<pre>\n",
    "<span style = 'background-color: yellow'>SYNTAX: self.attribute = class()</span>\n",
    "<span style = 'background-color: rgb(255,255,230)'>Above mentioned, syntax to create instance as attribute.\n",
    "Below mentioned, syntax to use support class methods as behavior of instance.</span>\n",
    "<span style = 'background-color: yellow'>SYNTAX: object.support_class_object.attribute()</span>\n",
    "When modeling something from the real world in code, we may find that\n",
    "we’re adding more and more detail to a class. We’ll find that we have a\n",
    "growing list of attributes and methods and that our files are becoming\n",
    "lengthy. In these situations, we might recognize that part of one class can\n",
    "be written as a separate class. \n",
    "We can break our large class into smaller classes that work together. (This \n",
    "is the core idea of 'instances as attributes'.)\n",
    "</pre>"
   ]
  },
  {
   "cell_type": "code",
   "execution_count": 6,
   "metadata": {},
   "outputs": [],
   "source": [
    "# For example, if we continue adding detail to the ElectricCar class, we\n",
    "# might notice that we’re adding many attributes and methods specific to \n",
    "# the car’s battery. When we see this happening, we can stop and move those\n",
    "# attributes and methods to a separate class called Battery. Then we can use \n",
    "# a Battery instance as an attribute in the ElectricCar class."
   ]
  },
  {
   "cell_type": "code",
   "execution_count": 7,
   "metadata": {},
   "outputs": [],
   "source": [
    "# Parent class; Car (contain generalized attributes)\n",
    "\n",
    "class Car:\n",
    "    \"\"\"A simple attempt to represent a car.\"\"\"\n",
    "    def __init__(self, make, model, year):\n",
    "        self.make = make\n",
    "        self.model = model\n",
    "        self.year = year\n",
    "        self.odometer_reading = 0\n",
    "        self.gas_volume = 2\n",
    "\n",
    "    def get_descriptive_name(self):\n",
    "        long_name = f\"{self.year} {self.make} {self.model}\"\n",
    "        return long_name.title()\n",
    "\n",
    "    def read_odometer(self):\n",
    "        print(f\"This car has {self.odometer_reading} miles on it.\")\n",
    "\n",
    "    def update_odometer(self, mileage):\n",
    "        if mileage >= self.odometer_reading:\n",
    "            self.odometer_reading = mileage\n",
    "        else:\n",
    "            print(\"You can't roll back an odometer!\")\n",
    "\n",
    "    def increment_odometer(self, miles):\n",
    "        self.odometer_reading += miles\n",
    "        \n",
    "    def fill_gas_tank(self, volume):\n",
    "        if volume < 0:\n",
    "            print(\"You cann't decrese gas volume by yourself.\")\n",
    "        else:\n",
    "            self.gas_volume += volume"
   ]
  },
  {
   "cell_type": "code",
   "execution_count": 8,
   "metadata": {},
   "outputs": [],
   "source": [
    "# In the ElectricCar class, we now add an attribute called self.battery.\n",
    "# This line tells Python to create a new instance of Battery (with a default size\n",
    "# of 75, because we’re not specifying a value) and assign that instance to the\n",
    "# attribute self.battery. This will happen every time the __init__() method\n",
    "# is called; any ElectricCar instance will now have a Battery instance created\n",
    "# automatically."
   ]
  },
  {
   "cell_type": "code",
   "execution_count": 9,
   "metadata": {},
   "outputs": [
    {
     "name": "stdout",
     "output_type": "stream",
     "text": [
      "2019 Tesla Model S\n",
      "This car has a 75-kWh battery.\n",
      "This car has a 100-kWh battery.\n"
     ]
    }
   ],
   "source": [
    "# support class; Battery (for child class attribute)\n",
    "\n",
    "class Battery:\n",
    "    \"\"\"A simple attempt to model a battery for an electric car.\"\"\"\n",
    "\n",
    "    def __init__(self, battery_size=75):\n",
    "        \"\"\"Initialize the battery's attributes.\"\"\"\n",
    "        self.battery_size = battery_size\n",
    "\n",
    "    def describe_battery(self):\n",
    "        \"\"\"Print a statement describing the battery size.\"\"\"\n",
    "        print(f\"This car has a {self.battery_size}-kWh battery.\")\n",
    "\n",
    "\n",
    "# child class; ElectricCar (of parent class)\n",
    "class ElectricCar(Car):\n",
    "    \"\"\"Represent aspects of a car, specific to electric vehicles.\"\"\"\n",
    "    def __init__(self, make, model, year):\n",
    "        \"\"\"\n",
    "        Initialize attributes of the parent class.\n",
    "        Then initialize attributes specific to an electric car.\n",
    "        \"\"\"\n",
    "        super().__init__(make, model, year)\n",
    "        self.battery = Battery()                                    # instance as attribute\n",
    "\n",
    "my_tesla = ElectricCar('tesla', 'model s', 2019)\n",
    "\n",
    "print(my_tesla.get_descriptive_name())\n",
    "my_tesla.battery.describe_battery()                                 # print default value of battery_size\n",
    "\n",
    "my_tesla.battery = Battery(100)                                     # can be updated\n",
    "my_tesla.battery.describe_battery()"
   ]
  },
  {
   "cell_type": "code",
   "execution_count": 10,
   "metadata": {},
   "outputs": [
    {
     "name": "stdout",
     "output_type": "stream",
     "text": [
      "This car has a 100-kWh battery.\n"
     ]
    }
   ],
   "source": [
    "# EXTRA\n",
    "# A question !!!\n",
    "\n",
    "my_tesla.bat = Battery(60)           # no error: why??? (even if nothing like bat exist in my_tesla object.)\n",
    "my_tesla.battery.describe_battery()   # print the last value of battery object, understoord!!!"
   ]
  },
  {
   "cell_type": "code",
   "execution_count": 11,
   "metadata": {},
   "outputs": [
    {
     "name": "stdout",
     "output_type": "stream",
     "text": [
      "This car has a 60-kWh battery.\n"
     ]
    }
   ],
   "source": [
    "# EXTRA\n",
    "my_tesla.bat.describe_battery()\n",
    "\n",
    "# answer of above question \"no error: why???\":\n",
    "# my_tesla.bat create a new instance as attribute (simply, a new varibale 'bat' gets created.), so, no error!!!"
   ]
  },
  {
   "cell_type": "markdown",
   "metadata": {},
   "source": [
    "<pre>This looks like a lot of extra work, but now we can describe the battery\n",
    "in as much detail as we want without cluttering the ElectricCar class.</pre>"
   ]
  },
  {
   "cell_type": "code",
   "execution_count": 12,
   "metadata": {},
   "outputs": [
    {
     "name": "stdout",
     "output_type": "stream",
     "text": [
      "2019 Tesla Model S\n",
      "This car has a 75-kWh battery.\n",
      "This car has a 100-kWh battery.\n",
      "This car can go about 315 miles on a full charge.\n"
     ]
    }
   ],
   "source": [
    "# Add another method to Battery that reports the range of the car based on the battery size\n",
    "\n",
    "# support class; Battery (for child class attribute)\n",
    "\n",
    "class Battery:\n",
    "    \"\"\"A simple attempt to model a battery for an electric car.\"\"\"\n",
    "\n",
    "    def __init__(self, battery_size=75):\n",
    "        \"\"\"Initialize the battery's attributes.\"\"\"\n",
    "        self.battery_size = battery_size\n",
    "\n",
    "    def describe_battery(self):\n",
    "        \"\"\"Print a statement describing the battery size.\"\"\"\n",
    "        print(f\"This car has a {self.battery_size}-kWh battery.\")\n",
    "    \n",
    "    def get_range(self):\n",
    "        \"\"\"Print a statement about the range this battery provides.\"\"\"\n",
    "        if self.battery_size == 75:\n",
    "            range = 260\n",
    "        elif self.battery_size == 100:\n",
    "            range = 315\n",
    "        print(f\"This car can go about {range} miles on a full charge.\")\n",
    "\n",
    "\n",
    "# child class; ElectricCar (of parent class)\n",
    "\n",
    "class ElectricCar(Car):\n",
    "    \"\"\"Represent aspects of a car, specific to electric vehicles.\"\"\"\n",
    "    def __init__(self, make, model, year):\n",
    "        \"\"\"\n",
    "        Initialize attributes of the parent class.\n",
    "        Then initialize attributes specific to an electric car.\n",
    "        \"\"\"\n",
    "        super().__init__(make, model, year)\n",
    "        self.battery = Battery()                                    # instance as attribute\n",
    "\n",
    "my_tesla = ElectricCar('tesla', 'model s', 2019)\n",
    "\n",
    "print(my_tesla.get_descriptive_name())\n",
    "my_tesla.battery.describe_battery()                                 # print default value of battery_size\n",
    "\n",
    "my_tesla.battery = Battery(100)                                     # can be updated\n",
    "my_tesla.battery.describe_battery()\n",
    "\n",
    "my_tesla.battery.get_range()"
   ]
  },
  {
   "cell_type": "markdown",
   "metadata": {},
   "source": [
    "#### Modeling Real-World Objects\n"
   ]
  },
  {
   "cell_type": "code",
   "execution_count": 13,
   "metadata": {},
   "outputs": [],
   "source": [
    "# When you wrestle with questions like above, you’re thinking at a higher\n",
    "# logical level rather than a syntax-focused level. You’re thinking not about\n",
    "# Python, but about how to represent the real world in code. When you reach\n",
    "# this point, you’ll realize there are often no right or wrong approaches to\n",
    "# modeling real-world situations. Some approaches are more efficient than\n",
    "# others, but it takes practice to find the most efficient representations. If\n",
    "# your code is working as you want it to, you’re doing well! Don’t be discouraged \n",
    "# if you find you’re ripping apart your classes and rewriting them several\n",
    "# times using different approaches. In the quest to write accurate, efficient\n",
    "# code, everyone goes through this process."
   ]
  },
  {
   "cell_type": "markdown",
   "metadata": {},
   "source": [
    "Learn more: <a href='https://docs.python.org/3/tutorial/classes.html'>Read Python Docs - Classes</a>"
   ]
  },
  {
   "cell_type": "markdown",
   "metadata": {},
   "source": [
    "<hr>"
   ]
  }
 ],
 "metadata": {
  "kernelspec": {
   "display_name": "Python 3",
   "language": "python",
   "name": "python3"
  },
  "language_info": {
   "codemirror_mode": {
    "name": "ipython",
    "version": 3
   },
   "file_extension": ".py",
   "mimetype": "text/x-python",
   "name": "python",
   "nbconvert_exporter": "python",
   "pygments_lexer": "ipython3",
   "version": "3.8.3"
  }
 },
 "nbformat": 4,
 "nbformat_minor": 4
}
