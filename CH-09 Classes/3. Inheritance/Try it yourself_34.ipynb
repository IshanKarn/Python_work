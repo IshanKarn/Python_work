{
 "cells": [
  {
   "cell_type": "markdown",
   "metadata": {},
   "source": [
    "## Try It Yourself"
   ]
  },
  {
   "cell_type": "markdown",
   "metadata": {},
   "source": [
    "<pre>\n",
    "<strong>9-6. Ice Cream Stand:</strong> An ice cream stand is a specific kind of restaurant. Write\n",
    "a class called IceCreamStand that inherits from the Restaurant class you wrote\n",
    "in Exercise 9-1 or Exercise 9-4. Either version of the class will work; just pick \n",
    "the one you like better. Add an attribute called flavors that stores a list of ice \n",
    "cream flavors. Write a method  that displays these flavors. Create an instance of \n",
    "IceCreamStand, and call this method.\n",
    "</pre>"
   ]
  },
  {
   "cell_type": "code",
   "execution_count": 1,
   "metadata": {},
   "outputs": [],
   "source": [
    "# ice_cream_stand.py\n",
    "\n",
    "class Restaurant:\n",
    "    \"\"\"Simple model of a Restaurant\"\"\"\n",
    "    def __init__(self, restaurant_name, cuisine_type):\n",
    "        \"\"\"Initializing attributes for restaurants.\"\"\"\n",
    "        self.restaurant_name = restaurant_name\n",
    "        self.cuisine_type = cuisine_type\n",
    "        self.number_served = 0\n",
    "        self.flavors = ['vanilla', 'chocolate', 'cookies N cream', 'mint chocolate chip', 'buttered pecon', 'strawberry']\n",
    "\n",
    "    def describe_restaurant(self):\n",
    "        \"\"\"Describing restaurant name and cuisine type.\"\"\"\n",
    "        print(self.restaurant_name)\n",
    "        print(self.cuisine_type)\n",
    "        \n",
    "    def open_restaurant(self):\n",
    "        \"\"\"Show the status of restaurant -i.e.- open/close.\"\"\"\n",
    "        print(f\"The restaurant {self.restaurant_name} is open.\")\n",
    "        \n",
    "    def set_number_served(self, number):\n",
    "        \"\"\"Set the number of customers that have been served.\"\"\"\n",
    "        if number > self.number_served:\n",
    "            self.number_served = number\n",
    "        else:\n",
    "            print(\"Number of customers cann't be rolled back.\")\n",
    "        \n",
    "    def increment_number_served(self, increment):\n",
    "        \"\"\"Increment the number of customers who’ve been served.\"\"\"\n",
    "        if increment > 0:\n",
    "            self.number_served += increment\n",
    "        else:\n",
    "            print(\"Number of customers cann't be decreased.\")\n",
    "            \n",
    "    def displayIceCreamFlavors(self):\n",
    "        \"\"\"Display flavors of ice cream.\"\"\"\n",
    "        print(\"Following flavors are available:\")\n",
    "        for flavor in self.flavors:\n",
    "            print(f'\\t{flavor}')"
   ]
  },
  {
   "cell_type": "code",
   "execution_count": 34,
   "metadata": {},
   "outputs": [],
   "source": [
    "class IceCreamStand(Restaurant):\n",
    "    \"\"\"A simple model of an ice cream stand.\"\"\"\n",
    "    \n",
    "    def __init__(self, restaurant_name, cuisine_type):\n",
    "        \"\"\"\n",
    "        Initializes attributes of parent class.\n",
    "        Then, initialize attributes specific to IceCreamStand class.\n",
    "        \"\"\"\n",
    "        super().__init__(restaurant_name, cuisine_type)"
   ]
  },
  {
   "cell_type": "code",
   "execution_count": 38,
   "metadata": {},
   "outputs": [
    {
     "name": "stdout",
     "output_type": "stream",
     "text": [
      "Following flavors are available:\n",
      "\tvanilla\n",
      "\tchocolate\n",
      "\tcookies N cream\n",
      "\tmint chocolate chip\n",
      "\tbuttered pecon\n",
      "\tstrawberry\n",
      "None\n"
     ]
    }
   ],
   "source": [
    "ice_cream_stand = IceCreamStand(\"Ronaldo's Ice Creams\", \"ice creams\")\n",
    "print(ice_cream_stand.displayIceCreamFlavors())  # add explanation for none in below output."
   ]
  },
  {
   "cell_type": "markdown",
   "metadata": {},
   "source": [
    "<pre>\n",
    "<strong>9-7. Admin:</strong> An administrator is a special kind of user. Write a class called\n",
    "Admin that inherits from the User class you wrote in Exercise 9-3\n",
    "or Exercise 9-5. Add an attribute, privileges, that stores a list\n",
    "of strings like \"can add post\", \"can delete post\", \"can ban user\", and so on.\n",
    "Write a method called show_privileges() that lists the administrator’s set of\n",
    "privileges. Create an instance of Admin, and call your method.\n",
    "</pre>\n"
   ]
  },
  {
   "cell_type": "code",
   "execution_count": 5,
   "metadata": {},
   "outputs": [],
   "source": [
    "class User:\n",
    "    \"\"\"Model of a user.\"\"\"\n",
    "    def __init__(self, first_name, last_name):\n",
    "        \"\"\"Initializing attributes of user.\"\"\"\n",
    "        self.first_name = first_name\n",
    "        self.last_name = last_name\n",
    "        self.location = 'india'\n",
    "        self.gender = 'male'\n",
    "        self.age = 18\n",
    "        self.login_attempts = 0\n",
    "    \n",
    "    def describe_user(self):\n",
    "        \"\"\"Print a summary of user's introduction.\"\"\"\n",
    "        print(f\"User: {self.first_name.title()} {self.last_name.title()}\\n\\tLocation: {self.location.title()}\\\n",
    "        \\n\\tGender: {self.gender.title()}\\n\\tAge: {self.age} years\")\n",
    "    \n",
    "    def greet_user(self):\n",
    "        \"\"\"Greet the user.\"\"\"\n",
    "        print(f\"\\nHi {self.first_name.title()} {self.last_name.title()}. Welcome with us.\")\n",
    "        \n",
    "    def increment_login_attempts(self):\n",
    "        \"\"\"Increment the value of login_attempts by 1.\"\"\"\n",
    "        self.login_attempts += 1\n",
    "        \n",
    "    def reset_login_attempts(self):\n",
    "        \"\"\"Reset the value of login_attempts to 0.\"\"\"\n",
    "        self.login_attempts = 0"
   ]
  },
  {
   "cell_type": "code",
   "execution_count": 7,
   "metadata": {},
   "outputs": [
    {
     "name": "stdout",
     "output_type": "stream",
     "text": [
      "Following are privileges of Admin:\n",
      "\tcan add post\n",
      "\tcan delete post\n",
      "\tcan ban user\n",
      "\tcan access root directory\n",
      "\tcan configure network\n"
     ]
    }
   ],
   "source": [
    "# admin.py\n",
    "\n",
    "class Admin(User):\n",
    "    \"\"\"A simple attempt to model a Admin.\"\"\"\n",
    "    def __init__(self, first_name, last_name):\n",
    "        \"\"\"\n",
    "        Initialize attributes of the parent class.\n",
    "        Then, initialize attributes specific to the Admin class.\n",
    "        \"\"\"\n",
    "        super().__init__(first_name, last_name)\n",
    "        self.privileges = [\"can add post\", \"can delete post\", \"can ban user\", \"can access root directory\", \"can configure network\"]\n",
    "        \n",
    "    def show_privileges(self):\n",
    "        \"\"\"Show privileges of Admin.\"\"\"\n",
    "        print(\"Following are privileges of Admin:\")\n",
    "        for privilege in self.privileges:\n",
    "            print(f'\\t{privilege}')\n",
    "            \n",
    "admin = Admin(\"james\", \"bond\")\n",
    "admin.show_privileges()"
   ]
  },
  {
   "cell_type": "markdown",
   "metadata": {},
   "source": [
    "<pre>\n",
    "<strong>9-8. Privileges:</strong> Write a separate Privileges class. The class should have one\n",
    "attribute, privileges, that stores a list of strings as described in Exercise 9-7.\n",
    "Move the show_privileges() method to this class. Make a Privileges instance\n",
    "as an attribute in the Admin class. Create a new instance of Admin and use your\n",
    "method to show its privileges.\n",
    "</pre>"
   ]
  },
  {
   "cell_type": "code",
   "execution_count": 9,
   "metadata": {},
   "outputs": [
    {
     "name": "stdout",
     "output_type": "stream",
     "text": [
      "Following are privileges of Admin:\n",
      "\tcan add post\n",
      "\tcan delete post\n",
      "\tcan ban user\n",
      "\tcan access root directory\n",
      "\tcan configure network\n"
     ]
    }
   ],
   "source": [
    "class Privileges:\n",
    "    \"\"\"A simple model of Privileges.\"\"\"\n",
    "    def __init__(self):\n",
    "        \"\"\"Initilize the attributes.\"\"\"\n",
    "        self.privileges = [\"can add post\", \"can delete post\", \"can ban user\", \"can access root directory\", \"can configure network\"]\n",
    "        \n",
    "    def show_privileges(self):\n",
    "        \"\"\"Show privileges of Admin.\"\"\"\n",
    "        print(\"Following are privileges of Admin:\")\n",
    "        for privilege in self.privileges:\n",
    "            print(f'\\t{privilege}')\n",
    "            \n",
    "class Admin(User):\n",
    "    \"\"\"A simple attempt to model a Admin.\"\"\"\n",
    "    def __init__(self, first_name, last_name):\n",
    "        \"\"\"\n",
    "        Initialize attributes of the parent class.\n",
    "        Then, initialize attributes specific to the Admin class.\n",
    "        \"\"\"\n",
    "        super().__init__(first_name, last_name)\n",
    "        self.privileges = Privileges()\n",
    "            \n",
    "admin = Admin(\"james\", \"bond\")\n",
    "admin.privileges.show_privileges()"
   ]
  },
  {
   "cell_type": "markdown",
   "metadata": {},
   "source": [
    "<pre>\n",
    "<strong>9-9. Battery Upgrade:</strong> Use the final version of electric_car.py from this section.\n",
    "Add a method to the Battery class called upgrade_battery(). This method\n",
    "should check the battery size and set the capacity to 100 if it isn’t already.\n",
    "Make an electric car with a default battery size, call get_range() once, and\n",
    "then call get_range() a second time after upgrading the battery. You should\n",
    "see an increase in the car’s range.\n",
    "</pre>"
   ]
  },
  {
   "cell_type": "code",
   "execution_count": 11,
   "metadata": {},
   "outputs": [],
   "source": [
    "# Parent class; Car (contain generalized attributes)\n",
    "\n",
    "class Car:\n",
    "    \"\"\"A simple attempt to represent a car.\"\"\"\n",
    "    def __init__(self, make, model, year):\n",
    "        self.make = make\n",
    "        self.model = model\n",
    "        self.year = year\n",
    "        self.odometer_reading = 0\n",
    "        self.gas_volume = 2\n",
    "\n",
    "    def get_descriptive_name(self):\n",
    "        long_name = f\"{self.year} {self.make} {self.model}\"\n",
    "        return long_name.title()\n",
    "\n",
    "    def read_odometer(self):\n",
    "        print(f\"This car has {self.odometer_reading} miles on it.\")\n",
    "\n",
    "    def update_odometer(self, mileage):\n",
    "        if mileage >= self.odometer_reading:\n",
    "            self.odometer_reading = mileage\n",
    "        else:\n",
    "            print(\"You can't roll back an odometer!\")\n",
    "\n",
    "    def increment_odometer(self, miles):\n",
    "        self.odometer_reading += miles\n",
    "        \n",
    "    def fill_gas_tank(self, volume):\n",
    "        if volume < 0:\n",
    "            print(\"You cann't decrese gas volume by yourself.\")\n",
    "        else:\n",
    "            self.gas_volume += volume"
   ]
  },
  {
   "cell_type": "code",
   "execution_count": 15,
   "metadata": {},
   "outputs": [
    {
     "name": "stdout",
     "output_type": "stream",
     "text": [
      "This car can go about 260 miles on a full charge.\n",
      "This car can go about 315 miles on a full charge.\n"
     ]
    }
   ],
   "source": [
    "# Add another method to Battery that reports the range of the car based on the battery size\n",
    "\n",
    "# support class; Battery (for child class attribute)\n",
    "\n",
    "class Battery:\n",
    "    \"\"\"A simple attempt to model a battery for an electric car.\"\"\"\n",
    "\n",
    "    def __init__(self, battery_size = 75):\n",
    "        \"\"\"Initialize the battery's attributes.\"\"\"\n",
    "        self.battery_size = battery_size\n",
    "\n",
    "    def describe_battery(self):\n",
    "        \"\"\"Print a statement describing the battery size.\"\"\"\n",
    "        print(f\"This car has a {self.battery_size}-kWh battery.\")\n",
    "    \n",
    "    def get_range(self):\n",
    "        \"\"\"Print a statement about the range this battery provides.\"\"\"\n",
    "        if self.battery_size == 75:\n",
    "            range = 260\n",
    "        elif self.battery_size == 100:\n",
    "            range = 315\n",
    "        print(f\"This car can go about {range} miles on a full charge.\")\n",
    "        \n",
    "    def upgrade_battery(self):\n",
    "        \"\"\"Check the battery size and set the capacity to 100 if it isn’t already.\"\"\"\n",
    "        if self.battery_size < 100:\n",
    "            self.battery_size = 100\n",
    "\n",
    "# child class; ElectricCar (of parent class)\n",
    "\n",
    "class ElectricCar(Car):\n",
    "    \"\"\"Represent aspects of a car, specific to electric vehicles.\"\"\"\n",
    "    def __init__(self, make, model, year):\n",
    "        \"\"\"\n",
    "        Initialize attributes of the parent class.\n",
    "        Then initialize attributes specific to an electric car.\n",
    "        \"\"\"\n",
    "        super().__init__(make, model, year)\n",
    "        self.battery = Battery()                                    # instance as attribute\n",
    "\n",
    "my_tesla = ElectricCar('tesla', 'model s', 2019)\n",
    "\n",
    "# print(my_tesla.get_descriptive_name())\n",
    "# my_tesla.battery.describe_battery()                                 # print default value of battery_size\n",
    "\n",
    "# my_tesla.battery = Battery(100)                                     # can be updated\n",
    "# my_tesla.battery.describe_battery()\n",
    "\n",
    "my_tesla.battery.get_range()\n",
    "\n",
    "my_tesla.battery.upgrade_battery()\n",
    "my_tesla.battery.get_range()"
   ]
  },
  {
   "cell_type": "markdown",
   "metadata": {},
   "source": [
    "<hr>"
   ]
  }
 ],
 "metadata": {
  "kernelspec": {
   "display_name": "Python 3",
   "language": "python",
   "name": "python3"
  },
  "language_info": {
   "codemirror_mode": {
    "name": "ipython",
    "version": 3
   },
   "file_extension": ".py",
   "mimetype": "text/x-python",
   "name": "python",
   "nbconvert_exporter": "python",
   "pygments_lexer": "ipython3",
   "version": "3.8.3"
  }
 },
 "nbformat": 4,
 "nbformat_minor": 4
}
