{
 "cells": [
  {
   "cell_type": "markdown",
   "metadata": {},
   "source": [
    "## Try It Yourself"
   ]
  },
  {
   "cell_type": "markdown",
   "metadata": {},
   "source": [
    "<pre>\n",
    "<strong>9-4. Number Served:</strong> Start with your program from Exercise 9-1 (page 162).\n",
    "Add an attribute called number_served with a default value of 0. Create an\n",
    "instance called restaurant from this class. Print the number of customers the\n",
    "restaurant has served, and then change this value and print it again.\n",
    "Add a method called set_number_served() that lets you set the number\n",
    "of customers that have been served. Call this method with a new number and\n",
    "print the value again.\n",
    "Add a method called increment_number_served() that lets you increment\n",
    "the number of customers who’ve been served. Call this method with any number \n",
    "you like that could represent how many customers were served in, say, a\n",
    "day of business.\n",
    "</pre>"
   ]
  },
  {
   "cell_type": "code",
   "execution_count": 12,
   "metadata": {},
   "outputs": [],
   "source": [
    "# number_served.py\n",
    "\n",
    "class Restaurant:\n",
    "    \"\"\"Simple model of a Restaurant\"\"\"\n",
    "    def __init__(self, restaurant_name, cuisine_type):\n",
    "        \"\"\"Initializing attributes for restaurants.\"\"\"\n",
    "        self.restaurant_name = restaurant_name\n",
    "        self.cuisine_type = cuisine_type\n",
    "        self.number_served = 0\n",
    "\n",
    "    def describe_restaurant(self):\n",
    "        \"\"\"Describing restaurant name and cuisine type.\"\"\"\n",
    "        print(self.restaurant_name)\n",
    "        print(self.cuisine_type)\n",
    "        \n",
    "    def open_restaurant(self):\n",
    "        \"\"\"Show the status of restaurant -i.e.- open/close.\"\"\"\n",
    "        print(f\"The restaurant {self.restaurant_name} is open.\")\n",
    "        \n",
    "    def set_number_served(self, number):\n",
    "        \"\"\"Set the number of customers that have been served.\"\"\"\n",
    "        if number > self.number_served:\n",
    "            self.number_served = number\n",
    "        else:\n",
    "            print(\"Number of customers cann't be rolled back.\")\n",
    "        \n",
    "    def increment_number_served(self, increment):\n",
    "        \"\"\"Increment the number of customers who’ve been served.\"\"\"\n",
    "        if increment > 0:\n",
    "            self.number_served += increment\n",
    "        else:\n",
    "            print(\"Number of customers cann't be decreased.\")"
   ]
  },
  {
   "cell_type": "code",
   "execution_count": 14,
   "metadata": {},
   "outputs": [
    {
     "name": "stdout",
     "output_type": "stream",
     "text": [
      "0\n",
      "1500\n",
      "1556\n",
      "1566\n"
     ]
    }
   ],
   "source": [
    "restaurant = Restaurant('Kwality', 'indian, chinese')\n",
    "print(restaurant.number_served)\n",
    "#####\n",
    "\n",
    "restaurant.number_served = 1500\n",
    "print(restaurant.number_served)\n",
    "#####\n",
    "\n",
    "restaurant.set_number_served(1556)\n",
    "print(restaurant.number_served)\n",
    "#####\n",
    "\n",
    "restaurant.increment_number_served(10)\n",
    "print(restaurant.number_served)"
   ]
  },
  {
   "cell_type": "markdown",
   "metadata": {},
   "source": [
    "<pre>\n",
    "<strong>9-5. Login Attempts:</strong> Add an attribute called login_attempts to your User\n",
    "class from Exercise 9-3 (page 162). Write a method called increment_login\n",
    "_attempts() that increments the value of login_attempts by 1. Write another\n",
    "method called reset_login_attempts() that resets the value of login_attempts\n",
    "to 0.\n",
    "Make an instance of the User class and call increment_login_attempts()\n",
    "several times. Print the value of login_attempts to make sure it was incremented\n",
    "properly, and then call reset_login_attempts(). Print login_attempts again to\n",
    "make sure it was reset to 0.\n",
    "</pre>"
   ]
  },
  {
   "cell_type": "code",
   "execution_count": 19,
   "metadata": {},
   "outputs": [],
   "source": [
    "# login_attempts.py\n",
    "\n",
    "class User:\n",
    "    \"\"\"Model of a user.\"\"\"\n",
    "    def __init__(self, first_name, last_name):\n",
    "        \"\"\"Initializing attributes of user.\"\"\"\n",
    "        self.first_name = first_name\n",
    "        self.last_name = last_name\n",
    "        self.location = 'india'\n",
    "        self.gender = 'male'\n",
    "        self.age = 18\n",
    "        self.login_attempts = 0\n",
    "    \n",
    "    def describe_user(self):\n",
    "        \"\"\"Print a summary of user's introduction.\"\"\"\n",
    "        print(f\"User: {self.first_name.title()} {self.last_name.title()}\\n\\tLocation: {self.location.title()}\\\n",
    "        \\n\\tGender: {self.gender.title()}\\n\\tAge: {self.age} years\")\n",
    "    \n",
    "    def greet_user(self):\n",
    "        \"\"\"Greet the user.\"\"\"\n",
    "        print(f\"\\nHi {self.first_name.title()} {self.last_name.title()}. Welcome with us.\")\n",
    "        \n",
    "    def increment_login_attempts(self):\n",
    "        \"\"\"Increment the value of login_attempts by 1.\"\"\"\n",
    "        self.login_attempts += 1\n",
    "        \n",
    "    def reset_login_attempts(self):\n",
    "        \"\"\"Reset the value of login_attempts to 0.\"\"\"\n",
    "        self.login_attempts = 0"
   ]
  },
  {
   "cell_type": "code",
   "execution_count": 20,
   "metadata": {},
   "outputs": [
    {
     "name": "stdout",
     "output_type": "stream",
     "text": [
      "\n",
      "Hi Ishan Karn. Welcome with us.\n",
      "User: Ishan Karn\n",
      "\tLocation: India        \n",
      "\tGender: Male\n",
      "\tAge: 18 years\n",
      "0\n"
     ]
    }
   ],
   "source": [
    "user_1 = User('ishan', 'karn')\n",
    "\n",
    "user_1.greet_user()\n",
    "user_1.describe_user()\n",
    "print(user_1.login_attempts)"
   ]
  },
  {
   "cell_type": "code",
   "execution_count": 26,
   "metadata": {},
   "outputs": [
    {
     "name": "stdout",
     "output_type": "stream",
     "text": [
      "6\n"
     ]
    }
   ],
   "source": [
    "user_1.increment_login_attempts()\n",
    "print(user_1.login_attempts)"
   ]
  },
  {
   "cell_type": "code",
   "execution_count": 30,
   "metadata": {},
   "outputs": [
    {
     "name": "stdout",
     "output_type": "stream",
     "text": [
      "0\n"
     ]
    }
   ],
   "source": [
    "user_1.reset_login_attempts()\n",
    "print(user_1.login_attempts)"
   ]
  },
  {
   "cell_type": "markdown",
   "metadata": {},
   "source": [
    "<hr>"
   ]
  }
 ],
 "metadata": {
  "kernelspec": {
   "display_name": "Python 3",
   "language": "python",
   "name": "python3"
  },
  "language_info": {
   "codemirror_mode": {
    "name": "ipython",
    "version": 3
   },
   "file_extension": ".py",
   "mimetype": "text/x-python",
   "name": "python",
   "nbconvert_exporter": "python",
   "pygments_lexer": "ipython3",
   "version": "3.8.3"
  }
 },
 "nbformat": 4,
 "nbformat_minor": 4
}
