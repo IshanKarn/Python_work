{
 "cells": [
  {
   "cell_type": "markdown",
   "metadata": {},
   "source": [
    "## Try It Yourself"
   ]
  },
  {
   "cell_type": "markdown",
   "metadata": {},
   "source": [
    "<pre>\n",
    "<strong>6-1. Person:</strong> Use a dictionary to store information about a person you know.\n",
    "Store their first name, last name, age, and the city in which they live. You\n",
    "should have keys such as first_name, last_name, age, and city. Print each\n",
    "piece of information stored in your dictionary.\n",
    "</pre>\n"
   ]
  },
  {
   "cell_type": "code",
   "execution_count": 1,
   "metadata": {},
   "outputs": [
    {
     "name": "stdout",
     "output_type": "stream",
     "text": [
      "Elon\n",
      "Musk\n",
      "49\n",
      "Los Angeles\n"
     ]
    }
   ],
   "source": [
    "# person.py\n",
    "\n",
    "person = {\n",
    "    'first_name': 'Elon',\n",
    "    'last_name': 'Musk',\n",
    "    'age': 49,\n",
    "    'city': 'Los Angeles'\n",
    "}\n",
    "\n",
    "print(person['first_name'])\n",
    "print(person['last_name'])\n",
    "print(person['age'])\n",
    "print(person['city'])"
   ]
  },
  {
   "cell_type": "markdown",
   "metadata": {},
   "source": [
    "<pre>\n",
    "<strong>6-2. Favorite Numbers:</strong> Use a dictionary to store people’s favorite numbers.\n",
    "Think of five names, and use them as keys in your dictionary. Think of a favorite\n",
    "number for each person, and store each as a value in your dictionary. Print\n",
    "each person’s name and their favorite number. For even more fun, poll a few\n",
    "friends and get some actual data for your program.\n",
    "</pre>\n"
   ]
  },
  {
   "cell_type": "code",
   "execution_count": 2,
   "metadata": {},
   "outputs": [
    {
     "name": "stdout",
     "output_type": "stream",
     "text": [
      "4\n",
      "8\n",
      "14\n",
      "2\n",
      "6\n"
     ]
    }
   ],
   "source": [
    "# favorite_numbers.py\n",
    "\n",
    "favorite_numbers = {\n",
    "    'ishan': 4,                                                                \n",
    "    'steve': 8,\n",
    "    'william': 14,\n",
    "    'alok': 2,\n",
    "    'simon': 6\n",
    "}                                                                              # how to store data from html forms \n",
    "                                                                               # in a python dictionary?\n",
    "print(favorite_numbers['ishan'])                      \n",
    "print(favorite_numbers['steve'])                      \n",
    "print(favorite_numbers['william'])                      \n",
    "print(favorite_numbers['alok'])                      \n",
    "print(favorite_numbers['simon'])                      "
   ]
  },
  {
   "cell_type": "markdown",
   "metadata": {},
   "source": [
    "<pre>\n",
    "<strong>6-3. Glossary:</strong> A Python dictionary can be used to model an actual dictionary.\n",
    "However, to avoid confusion, let’s call it a glossary.\n",
    "•\t Think of five programming words you’ve learned about in the previous\n",
    "      chapters. Use these words as the keys in your glossary, and store their\n",
    "      meanings as values.\n",
    "•\t Print each word and its meaning as neatly formatted output. You might\n",
    "      print the word followed by a colon and then its meaning, or print the word\n",
    "      on one line and then print its meaning indented on a second line. Use the\n",
    "      newline character (\\n) to insert a blank line between each word-meaning\n",
    "      pair in your output.\n",
    "</pre>\n"
   ]
  },
  {
   "cell_type": "code",
   "execution_count": 3,
   "metadata": {},
   "outputs": [
    {
     "name": "stdout",
     "output_type": "stream",
     "text": [
      "List: Collection of mutable, heterogenous,  datatypes\n",
      "\n",
      "Tuple: Collection of immutable,  heteregenous, datatypes\n",
      "\n",
      "Variable: Provides reference to space in memory for storing a value\n",
      "\n",
      "Datatype: Different types of data supported in python\n",
      "\n",
      "String: Immutable sequence of characters\n"
     ]
    }
   ],
   "source": [
    "# glossary.py\n",
    "\n",
    "glossary = {\n",
    "    'list': 'collection of mutable, heterogenous,  datatypes',\n",
    "    'tuple': 'collection of immutable,  heteregenous, datatypes',\n",
    "    'variable': 'provides reference to space in memory for storing a value',\n",
    "    'datatype': 'different types of data supported in Python',\n",
    "    'string': 'immutable sequence of characters'\n",
    "}\n",
    "\n",
    "word1 = glossary['list'].capitalize()\n",
    "word2 = glossary['tuple'].capitalize()\n",
    "word3 = glossary['variable'].capitalize()\n",
    "word4 = glossary['datatype'].capitalize()\n",
    "word5 = glossary['string'].capitalize()\n",
    "\n",
    "print(f'List: {word1}\\n')\n",
    "print(f'Tuple: {word2}\\n')\n",
    "print(f'Variable: {word3}\\n')\n",
    "print(f'Datatype: {word4}\\n')\n",
    "print(f'String: {word5}')"
   ]
  },
  {
   "cell_type": "markdown",
   "metadata": {},
   "source": [
    "<hr>"
   ]
  }
 ],
 "metadata": {
  "kernelspec": {
   "display_name": "Python 3",
   "language": "python",
   "name": "python3"
  },
  "language_info": {
   "codemirror_mode": {
    "name": "ipython",
    "version": 3
   },
   "file_extension": ".py",
   "mimetype": "text/x-python",
   "name": "python",
   "nbconvert_exporter": "python",
   "pygments_lexer": "ipython3",
   "version": "3.8.3"
  }
 },
 "nbformat": 4,
 "nbformat_minor": 4
}
