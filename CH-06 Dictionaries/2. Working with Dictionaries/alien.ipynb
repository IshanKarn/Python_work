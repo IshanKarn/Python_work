{
 "cells": [
  {
   "cell_type": "markdown",
   "metadata": {},
   "source": [
    "## ... Dictionary"
   ]
  },
  {
   "cell_type": "markdown",
   "metadata": {},
   "source": [
    "<pre>\n",
    "<span style='background-color:yellow'>A dictionary is a collection which is unordered, mutable (changeable) and does not allow duplicates.\n",
    "We can define a dictionary by enclosing a comma-separated list of key-value pairs in curly braces ({}). \n",
    "A colon (:) separates each key from its associated value.\n",
    "The keys are unique (within one dictionary).\n",
    "SYNTAX:\n",
    "dict = {key1 : value1, key2 : value2}\n",
    "</span>\n",
    "Unlike sequences, which are indexed by a range of numbers, dictionaries are indexed by keys, which can \n",
    "be any immutable type; strings and numbers can always be keys. Tuples can be used as keys if they \n",
    "contain only strings, numbers, or tuples; if a tuple contains any mutable object either directly or \n",
    "indirectly, it cannot be used as a key. We can’t use lists as keys, since lists can be modified in \n",
    "place using index assignments, slice assignments, or methods like append() and extend().\n",
    "</pre>"
   ]
  },
  {
   "cell_type": "markdown",
   "metadata": {},
   "source": [
    "### Accessing Values in a Dictionary\n"
   ]
  },
  {
   "cell_type": "markdown",
   "metadata": {},
   "source": [
    "<pre>\n",
    "To get the value associated with a key, give the name of the dictionary and then place the key inside \n",
    "a set of square brackets.\n",
    "<span style='background-color:yellow'>SYNTAX:\n",
    "dict[key1]\n",
    "</span>\n",
    "</pre>"
   ]
  },
  {
   "cell_type": "code",
   "execution_count": 1,
   "metadata": {},
   "outputs": [
    {
     "name": "stdout",
     "output_type": "stream",
     "text": [
      "green\n"
     ]
    }
   ],
   "source": [
    "# example\n",
    "# create a dictionary name alien_0 and add  its key (property)\n",
    "alien_0 = {'color': 'green'}\n",
    "print(alien_0['color'])"
   ]
  },
  {
   "cell_type": "code",
   "execution_count": 2,
   "metadata": {},
   "outputs": [
    {
     "name": "stdout",
     "output_type": "stream",
     "text": [
      "You just earned 5 points!\n"
     ]
    }
   ],
   "source": [
    "alien_0 = {'color': 'green', 'points': 5}\n",
    "\n",
    "new_points = alien_0['points']\n",
    "print(f\"You just earned {new_points} points!\")"
   ]
  },
  {
   "cell_type": "markdown",
   "metadata": {},
   "source": [
    "### Adding New Key-Value Pairs\n",
    "<pre>\n",
    "Dictionaries are dynamic structures, and we can add new key-value pairs to a dictionary at any \n",
    "time. To add a new key-value pair, we would give the name of the dictionary followed\n",
    "by the new key in square brackets along with the new value.\n",
    "<span style='background-color:yellow'>SYNTAX:\n",
    "dict[key3] = value3\n",
    "</span>\n",
    "</pre>"
   ]
  },
  {
   "cell_type": "code",
   "execution_count": null,
   "metadata": {},
   "outputs": [],
   "source": [
    "# Add two new pieces of information to the alien_0 dictionary: the alien’s x- and y-coordinates, \n",
    "# which will help us display the alien in a particular position on the screen."
   ]
  },
  {
   "cell_type": "code",
   "execution_count": 4,
   "metadata": {},
   "outputs": [
    {
     "name": "stdout",
     "output_type": "stream",
     "text": [
      "{'color': 'green', 'points': 5}\n",
      "{'color': 'green', 'points': 5, 'x_position': 0, 'y_position': 25}\n"
     ]
    }
   ],
   "source": [
    "print(alien_0)\n",
    "\n",
    "alien_0 ['x_position'] = 0\n",
    "alien_0 ['y_position'] = 25\n",
    "\n",
    "print(alien_0)"
   ]
  },
  {
   "cell_type": "markdown",
   "metadata": {},
   "source": [
    "### Starting with an Empty Dictionary\n"
   ]
  },
  {
   "cell_type": "markdown",
   "metadata": {},
   "source": [
    "<pre>\n",
    "To start filling an empty dictionary, define a dictionary with an empty set of braces \n",
    "and then add each key-value pair on its own line.\n",
    "<span style='background-color:yellow'>SYNTAX:\n",
    "dict = {}\n",
    "</span><hr>\n",
    "Some Use cases:\n",
    "We’ll use empty dictionaries when storing user-supplied data in a dictionary or when \n",
    "you write code that generates a large number of key-value pairs automatically.\n",
    "</pre>"
   ]
  },
  {
   "cell_type": "code",
   "execution_count": 5,
   "metadata": {},
   "outputs": [
    {
     "name": "stdout",
     "output_type": "stream",
     "text": [
      "{'color': 'green', 'points': 5}\n"
     ]
    }
   ],
   "source": [
    "# example\n",
    "alien_0 = {}\n",
    "\n",
    "alien_0 ['color'] = 'green'\n",
    "alien_0 ['points'] = 5\n",
    "\n",
    "print(alien_0)"
   ]
  },
  {
   "cell_type": "markdown",
   "metadata": {},
   "source": [
    "### Modifying Values in a Dictionary \n",
    "<pre>\n",
    "To modify a value in a dictionary, give the name of the dictionary with the key in square \n",
    "brackets and then the new value you want associated with that key.\n",
    "<span style='background-color:yellow'>SYNTAX:\n",
    "dict[key1] = 'new_value1'\n",
    "</span>\n",
    "NOTE: Keys can not be changed.\n",
    "</pre>"
   ]
  },
  {
   "cell_type": "code",
   "execution_count": null,
   "metadata": {},
   "outputs": [],
   "source": [
    "# example\n",
    "# consider an alien that changes from green to yellow as a game progresses\n",
    "\n",
    "alien_0 = {'color': 'green'}\n",
    "print(f'The alien is {alien_0 [color]}')\n",
    "\n",
    "alien_0 [color] = 'yellow'    # changing value of existing key (here, color)\n",
    "print(f'The alien is now {alien_0 [color]}')"
   ]
  },
  {
   "cell_type": "code",
   "execution_count": 6,
   "metadata": {},
   "outputs": [
    {
     "name": "stdout",
     "output_type": "stream",
     "text": [
      "Original position: 0\n",
      "New position: 2\n"
     ]
    }
   ],
   "source": [
    "# Track the position of an alien that can move at different speeds. We’ll store a value representing \n",
    "# the alien’s current speed and then use it to determine how far to the right the alien should move.\n",
    "\n",
    "alien_0 = {'x_position': 0, 'y_position': 25, 'speed': 'medium'}\n",
    "print(f\"Original position: {alien_0['x_position']}\")\n",
    "\n",
    "# Move the alien to the right.\n",
    "# Determine how far to move the alien based on its current speed.\n",
    "if alien_0['speed'] == 'slow':\n",
    "    x_increment = 1\n",
    "elif alien_0['speed'] == 'medium':\n",
    "    x_increment = 2\n",
    "else:\n",
    "    # This must be a fast alien.\n",
    "    x_increment = 3\n",
    "    \n",
    "# The new position is the old position plus the increment.\n",
    "alien_0['x_position'] = alien_0['x_position'] + x_increment\n",
    "print(f\"New position: {alien_0['x_position']}\")\n",
    "\n",
    "# NOTE:\n",
    "# By changing one value in the alien’s dictionary, we can change the overall behavior of the alien. \n",
    "# For example, to turn this medium-speed alien into a fast alien, we would add the line:\n",
    "# alien_0 ['speed'] = 'fast'\n"
   ]
  },
  {
   "cell_type": "markdown",
   "metadata": {},
   "source": [
    "### Removing Key-Value Pairs\n",
    "<pre>\n",
    "When you no longer need a piece of information that’s stored in a dictionary, you can use the del \n",
    "statement to completely remove a key-value pair.\n",
    "<span style='background-color:yellow'>SYNTAX:\n",
    "del dict [key1]\n",
    "</span>\n",
    "<span style='background-color:red'>NOTE</span>: The deleted key-value pair is removed permanently.\n",
    "</pre>"
   ]
  },
  {
   "cell_type": "code",
   "execution_count": 7,
   "metadata": {},
   "outputs": [
    {
     "name": "stdout",
     "output_type": "stream",
     "text": [
      "{'color': 'green', 'points': 5}\n",
      "{'color': 'green'}\n"
     ]
    }
   ],
   "source": [
    "# example\n",
    "alien_0 = {'color': 'green', 'points': 5}\n",
    "print(alien_0)\n",
    "\n",
    "del alien_0['points']   # delete 2nd key-value pair from the dictionary\n",
    "print(alien_0)"
   ]
  },
  {
   "cell_type": "markdown",
   "metadata": {},
   "source": [
    "### A Dictionary of Similar Objects\n",
    "<pre>\n",
    "The previous example involved storing different kinds of information about\n",
    "one object, an alien in a game. We can also use a dictionary to store one\n",
    "kind of information about many objects. For example, say we want to poll a\n",
    "number of people and ask them what their favorite programming language\n",
    "is. A dictionary is useful for storing the results of a simple poll like this.\n",
    "</pre>"
   ]
  },
  {
   "cell_type": "code",
   "execution_count": 10,
   "metadata": {},
   "outputs": [],
   "source": [
    "favorite_languages = {\n",
    " 'jen': 'python',\n",
    " 'sarah': 'c',\n",
    " 'edward': 'ruby',\n",
    " 'phil': 'python',\n",
    "}"
   ]
  },
  {
   "cell_type": "code",
   "execution_count": 16,
   "metadata": {},
   "outputs": [
    {
     "name": "stdout",
     "output_type": "stream",
     "text": [
      "Sarah's favorite language is C\n"
     ]
    }
   ],
   "source": [
    "lang = favorite_languages['sarah'].title()\n",
    "print(f\"Sarah's favorite language is {lang}\")"
   ]
  },
  {
   "cell_type": "markdown",
   "metadata": {},
   "source": [
    "### Using get() to Access Values\n",
    "<pre>\n",
    "Using keys in square brackets to retrieve the value from a dictionary might cause one potential \n",
    "problem: if the key we ask for doesn’t exist, we’ll get an error.\n",
    "</pre>"
   ]
  },
  {
   "cell_type": "code",
   "execution_count": 18,
   "metadata": {},
   "outputs": [
    {
     "ename": "KeyError",
     "evalue": "'points'",
     "output_type": "error",
     "traceback": [
      "\u001b[1;31m---------------------------------------------------------------------------\u001b[0m",
      "\u001b[1;31mKeyError\u001b[0m                                  Traceback (most recent call last)",
      "\u001b[1;32m<ipython-input-18-ad3cc815bd1b>\u001b[0m in \u001b[0;36m<module>\u001b[1;34m\u001b[0m\n\u001b[0;32m      2\u001b[0m \u001b[1;33m\u001b[0m\u001b[0m\n\u001b[0;32m      3\u001b[0m \u001b[0malien_0\u001b[0m \u001b[1;33m=\u001b[0m \u001b[1;33m{\u001b[0m\u001b[1;34m'color'\u001b[0m\u001b[1;33m:\u001b[0m \u001b[1;34m'green'\u001b[0m\u001b[1;33m,\u001b[0m \u001b[1;34m'speed'\u001b[0m\u001b[1;33m:\u001b[0m \u001b[1;34m'slow'\u001b[0m\u001b[1;33m}\u001b[0m\u001b[1;33m\u001b[0m\u001b[1;33m\u001b[0m\u001b[0m\n\u001b[1;32m----> 4\u001b[1;33m \u001b[0mprint\u001b[0m\u001b[1;33m(\u001b[0m\u001b[0malien_0\u001b[0m\u001b[1;33m[\u001b[0m\u001b[1;34m'points'\u001b[0m\u001b[1;33m]\u001b[0m\u001b[1;33m)\u001b[0m   \u001b[1;31m# 'points' property is not present in the dictionary\u001b[0m\u001b[1;33m\u001b[0m\u001b[1;33m\u001b[0m\u001b[0m\n\u001b[0m",
      "\u001b[1;31mKeyError\u001b[0m: 'points'"
     ]
    }
   ],
   "source": [
    "# example\n",
    "\n",
    "alien_0 = {'color': 'green', 'speed': 'slow'}\n",
    "print(alien_0['points'])   # 'points' property is not present in the dictionary\n",
    "# NOTE: Introduce yourself with a new error: 'KeyError'"
   ]
  },
  {
   "cell_type": "markdown",
   "metadata": {},
   "source": [
    "<pre>\n",
    "For dictionaries, specifically, we can use the get() method to set a default value that will \n",
    "be returned if the requested key doesn’t exist. The get() method requires a key as a first argument. \n",
    "As <span style='background-color:lightgreen'>a second optional argument</span>, we can pass the value to be returned if the key doesn’t exist.\n",
    "\n",
    "<span style='background-color:yellow'>SYNTAX:\n",
    "requested_value = dict.get(key, default value to be returned)\n",
    "</span>\n",
    "</pre>"
   ]
  },
  {
   "cell_type": "code",
   "execution_count": 23,
   "metadata": {},
   "outputs": [
    {
     "name": "stdout",
     "output_type": "stream",
     "text": [
      "Requested key doesn't exist.\n"
     ]
    }
   ],
   "source": [
    "# alternative way to access a value without getting error is using get() method\n",
    "\n",
    "alien_0 = {'color': 'green', 'speed': 'slow'}\n",
    "\n",
    "points = alien_0.get('points', \"Requested key doesn't exist.\")\n",
    "print(points)"
   ]
  },
  {
   "cell_type": "code",
   "execution_count": 24,
   "metadata": {},
   "outputs": [
    {
     "name": "stdout",
     "output_type": "stream",
     "text": [
      "None\n"
     ]
    }
   ],
   "source": [
    "# alternative way to access a value without getting error is using get() method\n",
    "\n",
    "alien_0 = {'color': 'green', 'speed': 'slow'}\n",
    "\n",
    "points = alien_0.get('points')  # default value of 2nd argument of get() method is None\n",
    "print(points)"
   ]
  },
  {
   "cell_type": "markdown",
   "metadata": {},
   "source": [
    "<hr>"
   ]
  }
 ],
 "metadata": {
  "kernelspec": {
   "display_name": "Python 3",
   "language": "python",
   "name": "python3"
  },
  "language_info": {
   "codemirror_mode": {
    "name": "ipython",
    "version": 3
   },
   "file_extension": ".py",
   "mimetype": "text/x-python",
   "name": "python",
   "nbconvert_exporter": "python",
   "pygments_lexer": "ipython3",
   "version": "3.8.3"
  }
 },
 "nbformat": 4,
 "nbformat_minor": 4
}
