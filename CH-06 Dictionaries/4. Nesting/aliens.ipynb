{
 "cells": [
  {
   "cell_type": "markdown",
   "metadata": {},
   "source": [
    "## Nesting\n",
    "<pre>\n",
    "Storing multiple dictionaries in a list, or a list ofitems as a value in a dictionary is called nesting. \n",
    "We can nest dictionaries inside a list,  a list of items inside a dictionary, or even a dictionary inside \n",
    "another dictionary.\n",
    "</pre>"
   ]
  },
  {
   "cell_type": "markdown",
   "metadata": {},
   "source": [
    "### A List of Dictionaries\n"
   ]
  },
  {
   "cell_type": "markdown",
   "metadata": {},
   "source": [
    "<pre>\n",
    "The alien_0 dictionary contains a variety of information about one alien,\n",
    "but it has no room to store information about a second alien, much less a\n",
    "screen full of aliens. How can we manage a fleet of aliens? One way is to\n",
    "make a list of aliens in which each alien is a dictionary of information about\n",
    "that alien. Small example below:\n",
    "</pre>"
   ]
  },
  {
   "cell_type": "code",
   "execution_count": 1,
   "metadata": {},
   "outputs": [
    {
     "name": "stdout",
     "output_type": "stream",
     "text": [
      "{'color': 'green', 'points': 5}\n",
      "{'color': 'yellow', 'points': 10}\n",
      "{'color': 'red', 'points': 15}\n"
     ]
    }
   ],
   "source": [
    "alien_0 = {'color': 'green', 'points': 5}\n",
    "alien_1 = {'color': 'yellow', 'points': 10}\n",
    "alien_2 = {'color': 'red', 'points': 15}\n",
    "\n",
    "aliens = [alien_0, alien_1, alien_2]\n",
    "for alien in aliens:\n",
    "    print(alien)"
   ]
  },
  {
   "cell_type": "markdown",
   "metadata": {},
   "source": [
    "<pre>\n",
    "A more realistic example, use range() to create a fleet of 30 aliens.\n",
    "These aliens all have the same characteristics, but Python considers each one a separate object, \n",
    "which allows us to modify each alien individually.\n",
    "</pre>"
   ]
  },
  {
   "cell_type": "code",
   "execution_count": 2,
   "metadata": {},
   "outputs": [
    {
     "name": "stdout",
     "output_type": "stream",
     "text": [
      "{'color': 'green', 'points': 5, 'speed': 'slow'}\n",
      "{'color': 'green', 'points': 5, 'speed': 'slow'}\n",
      "{'color': 'green', 'points': 5, 'speed': 'slow'}\n",
      "{'color': 'green', 'points': 5, 'speed': 'slow'}\n",
      "{'color': 'green', 'points': 5, 'speed': 'slow'}\n",
      "...\n",
      "Total number of aliens: 30\n"
     ]
    }
   ],
   "source": [
    "# Make an empty list for storing aliens.\n",
    "aliens = []\n",
    "\n",
    "# Make 30 green aliens.\n",
    "for alien_number in range(30):\n",
    "    new_alien = {'color': 'green', 'points': 5, 'speed': 'slow'}\n",
    "    aliens.append(new_alien)\n",
    "\n",
    "# Show the first 5 aliens.\n",
    "for alien in aliens[:5]:\n",
    "    print(alien)\n",
    "print(\"...\")\n",
    "\n",
    "# Show how many aliens have been created.\n",
    "print(f\"Total number of aliens: {len(aliens)}\")"
   ]
  },
  {
   "cell_type": "code",
   "execution_count": null,
   "metadata": {},
   "outputs": [],
   "source": [
    "# modifying according to requirements\n",
    "# like changing color, speed and point per alien after some period or level in game\n",
    "# conditions are ignored for now\n",
    "\n",
    "for alien in aliens[0:3]:\n",
    "    if alien['color'] == 'green':\n",
    "        alien['color'] = 'yellow'\n",
    "        alien['speed'] = 'medium'\n",
    "        alien['points'] = 10\n",
    "    elif alien['color'] == 'yellow':\n",
    "        alien['color'] = 'red'\n",
    "        alien['speed'] = 'fast'\n",
    "        alien['points'] = 15"
   ]
  },
  {
   "cell_type": "markdown",
   "metadata": {},
   "source": [
    "<pre>\n",
    "It’s common to store a number of dictionaries in a list when each dictionary contains many kinds of information \n",
    "about one object. For example, we might create a dictionary for each user on a website, as we did in user.py, \n",
    "and store the individual dictionaries in a list called users. All of the dictionaries in the list should have \n",
    "an identical structure so we can loop through the list and work with each dictionary object in the same way.\n",
    "</pre>"
   ]
  },
  {
   "cell_type": "markdown",
   "metadata": {},
   "source": [
    "### A List in a Dictionary\n"
   ]
  },
  {
   "cell_type": "markdown",
   "metadata": {},
   "source": [
    "<pre>\n",
    "We can nest a list inside a dictionary any time we want more than one value to be associated with \n",
    "a single key in the dictionary.\n",
    "\n",
    "A use case:\n",
    "Rather than putting a dictionary inside a list, it’s sometimes useful to put a list inside a dictionary. \n",
    "For example, consider how we might describe a pizza that someone is ordering. If we were to use only a \n",
    "list, all we could really store is a list of the pizza’s toppings. With a dictionary, a list of toppings \n",
    "can be just one aspect of the pizza we’re describing.\n",
    "</pre>"
   ]
  },
  {
   "cell_type": "code",
   "execution_count": 2,
   "metadata": {},
   "outputs": [
    {
     "name": "stdout",
     "output_type": "stream",
     "text": [
      "You ordered a thick-crust pizza with the following toppings:\n",
      "\tmushrooms\n",
      "\textra cheese\n"
     ]
    }
   ],
   "source": [
    "# example 1 #pizza.py\n",
    " \n",
    "# Store information about a pizza being ordered.\n",
    "pizza = {\n",
    "    'crust': 'thick',\n",
    "    'toppings': ['mushrooms', 'extra cheese'],\n",
    "}\n",
    "# Summarize the order.\n",
    "print(f\"You ordered a {pizza['crust']}-crust pizza\"      # NOTE: See, how it gets printed, analyse and learn.\n",
    "      \" with the following toppings:\")\n",
    "for topping in pizza['toppings']:\n",
    "    print(\"\\t\" + topping)"
   ]
  },
  {
   "cell_type": "markdown",
   "metadata": {},
   "source": [
    "<pre>\n",
    "Another:\n",
    "In the earlier example of favorite programming languages, if we were to store each person’s responses \n",
    "in a list, people could choose more than one favorite language. When we loop through the dictionary, \n",
    "the value associated with each person would be a list of languages rather than a single language.\n",
    "</pre>"
   ]
  },
  {
   "cell_type": "code",
   "execution_count": 3,
   "metadata": {},
   "outputs": [
    {
     "name": "stdout",
     "output_type": "stream",
     "text": [
      "\n",
      "Jen's favorite languages are:\n",
      "\tPython\n",
      "\tRuby\n",
      "\n",
      "Sarah's favorite languages are:\n",
      "\tC\n",
      "\n",
      "Edward's favorite languages are:\n",
      "\tRuby\n",
      "\tGo\n",
      "\n",
      "Phil's favorite languages are:\n",
      "\tPython\n",
      "\tHaskell\n"
     ]
    }
   ],
   "source": [
    "# example 2 #favorite_languages.py\n",
    "\n",
    "favorite_languages = {\n",
    "     'jen': ['python', 'ruby'],\n",
    "     'sarah': ['c'],\n",
    "     'edward': ['ruby', 'go'],\n",
    "     'phil': ['python', 'haskell'],\n",
    "}\n",
    "\n",
    "for name, languages in favorite_languages.items():\n",
    "    print(f\"\\n{name.title()}'s favorite languages are:\")\n",
    "    for language in languages:\n",
    "        print(f\"\\t{language.title()}\")"
   ]
  },
  {
   "cell_type": "code",
   "execution_count": 8,
   "metadata": {},
   "outputs": [
    {
     "name": "stdout",
     "output_type": "stream",
     "text": [
      "\n",
      "Jen's favorite languages are:\n",
      "\tPython\n",
      "\tRuby\n",
      "\n",
      "Sarah's favorite language is C\n",
      "\n",
      "Edward's favorite languages are:\n",
      "\tRuby\n",
      "\tGo\n",
      "\n",
      "Phil's favorite languages are:\n",
      "\tPython\n",
      "\tHaskell\n"
     ]
    }
   ],
   "source": [
    "# To refine this program even further, we could include an if statement at the beginning of the \n",
    "# dictionary’s for loop to see whether each person has more than one favorite language by examining \n",
    "# the value of len(languages). If a person has more than one favorite, the output would stay the same. \n",
    "# If the person has only one favorite language, we could change the wording to reflect that. For \n",
    "# example, we could say Sarah's favorite language is C.\n",
    "\n",
    "#example 3\n",
    "\n",
    "favorite_languages = {\n",
    "     'jen': ['python', 'ruby'],\n",
    "     'sarah': ['c'],\n",
    "     'edward': ['ruby', 'go'],\n",
    "     'phil': ['python', 'haskell'],\n",
    "}\n",
    "\n",
    "for name, languages in favorite_languages.items():\n",
    "    if len(languages)==1:\n",
    "        print(f\"\\n{name.title()}'s favorite language is {languages[0].title()}\") # replace language by languages and ask for explanation of the output\n",
    "    else:\n",
    "        print(f\"\\n{name.title()}'s favorite languages are:\")\n",
    "        for language in languages:\n",
    "            print(f\"\\t{language.title()}\")"
   ]
  },
  {
   "cell_type": "markdown",
   "metadata": {},
   "source": [
    "### A Dictionary in a Dictionary"
   ]
  },
  {
   "cell_type": "code",
   "execution_count": null,
   "metadata": {},
   "outputs": [],
   "source": [
    "# We can nest a dictionary inside another dictionary, but your code can get complicated quickly when we do.\n",
    "\n",
    "# A use case:\n",
    "# If we have several users for a website, each with a unique username, we can use the usernames as the \n",
    "# keys in a dictionary. We can then store information about each user by using a dictionary as the value \n",
    "# associated with their username. In the following listing, we store three pieces of information about \n",
    "# each user: their first name, last name, and location. We’ll access this information by looping through \n",
    "# the usernames and the dictionary of information associated with each username.\n",
    "\n",
    "# Notice that the structure of each user’s dictionary is identical. Although\n",
    "# not required by Python, this structure makes nested dictionaries easier to\n",
    "# work with. If each user’s dictionary had different keys, the code inside the\n",
    "# for loop would be more complicated."
   ]
  },
  {
   "cell_type": "code",
   "execution_count": 27,
   "metadata": {},
   "outputs": [
    {
     "name": "stdout",
     "output_type": "stream",
     "text": [
      "\n",
      "Username: rrajan\n",
      "\tName: Raghuram Rajan\n",
      "\tLocation: India\n",
      "\n",
      "Username: tcruise\n",
      "\tName: Tom Cruise\n",
      "\tLocation: Usa\n"
     ]
    }
   ],
   "source": [
    "# example # many_users.py\n",
    "\n",
    "users = {\n",
    "    'rrajan': {\n",
    "        \"first\": \"raghuram\",\n",
    "        \"middle\": \"ji\",\n",
    "        \"last\": \"rajan\",\n",
    "        \"country\": \"india\"\n",
    "    },\n",
    "    'tcruise': {\n",
    "        \"first\": \"tom\",\n",
    "        \"middle\": '',\n",
    "        \"last\": \"cruise\",\n",
    "        \"country\": \"usa\"\n",
    "    }\n",
    "}\n",
    "\n",
    "for username, user_info in users.items():\n",
    "    print(f\"\\nUsername: {username}\")\n",
    "    print(f\"\\tName: {user_info['first'].title()} {user_info['last'].title()}\")\n",
    "    print(f\"\\tLocation: {user_info['country'].title()}\")"
   ]
  },
  {
   "cell_type": "markdown",
   "metadata": {},
   "source": [
    "<hr>"
   ]
  }
 ],
 "metadata": {
  "kernelspec": {
   "display_name": "Python 3",
   "language": "python",
   "name": "python3"
  },
  "language_info": {
   "codemirror_mode": {
    "name": "ipython",
    "version": 3
   },
   "file_extension": ".py",
   "mimetype": "text/x-python",
   "name": "python",
   "nbconvert_exporter": "python",
   "pygments_lexer": "ipython3",
   "version": "3.8.3"
  }
 },
 "nbformat": 4,
 "nbformat_minor": 4
}
