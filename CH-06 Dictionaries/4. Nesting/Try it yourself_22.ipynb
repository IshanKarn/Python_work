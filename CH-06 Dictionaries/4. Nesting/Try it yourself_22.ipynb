{
 "cells": [
  {
   "cell_type": "markdown",
   "metadata": {},
   "source": [
    "## Try It Yourself\n",
    "<pre>\n",
    "<strong>6-7. People:</strong>\n",
    "Make three new dictionaries representing different people, and store all three\n",
    "dictionaries in a list called people. Loop through your list of people. As you\n",
    "loop through the list, print everything you know about each person.\n",
    "</pre>\n"
   ]
  },
  {
   "cell_type": "code",
   "execution_count": 16,
   "metadata": {},
   "outputs": [
    {
     "name": "stdout",
     "output_type": "stream",
     "text": [
      "Samyak Prakash is a fighter pilot in IAF.\n",
      "He is a 22 years old male.\n",
      "Codename: striker\n",
      "\n",
      "Aarav Anand is a fighter pilot in IAF.\n",
      "He is a 24 years old male.\n",
      "Codename: maverick\n",
      "\n",
      "Ishika Chanchlani is a fighter pilot in IAF.\n",
      "He is a 21 years old female.\n",
      "Codename: blackangle\n",
      "\n"
     ]
    }
   ],
   "source": [
    "# people.py\n",
    "\n",
    "people1 = {\n",
    "    'name': 'samyak prakash',\n",
    "    'codename': 'striker',\n",
    "    'age': 22,\n",
    "    'gender': 'male'\n",
    "}\n",
    "people2 = {\n",
    "    'name': 'aarav anand',\n",
    "    'codename': 'maverick',\n",
    "    'age': 24,\n",
    "    'gender': 'male'\n",
    "}\n",
    "people3 = {\n",
    "    'name': 'ishika chanchlani',\n",
    "    'codename': 'blackangle',\n",
    "    'age': 21,\n",
    "    'gender': 'female',\n",
    "}\n",
    "\n",
    "people = [people1, people2, people3]\n",
    "\n",
    "for fighter in people:\n",
    "    name = fighter['name'].title()\n",
    "    age = fighter['age']\n",
    "    gender = fighter['gender']\n",
    "    codename = fighter['codename']\n",
    "    print(f\"{name} is a fighter pilot in IAF.\\nHe is a {age} years old {gender}.\\nCodename: {codename}\\n\")"
   ]
  },
  {
   "cell_type": "code",
   "execution_count": 12,
   "metadata": {},
   "outputs": [
    {
     "name": "stdout",
     "output_type": "stream",
     "text": [
      "Name :  Samyak Prakash\n",
      "Codename :  Striker\n",
      "Age :  22\n",
      "Gender :  Male\n",
      "\n",
      "Name :  Aarav Anand\n",
      "Codename :  Maverick\n",
      "Age :  24\n",
      "Gender :  Male\n",
      "\n",
      "Name :  Ishika Chanchlani\n",
      "Codename :  Blackangle\n",
      "Age :  21\n",
      "Gender :  Female\n",
      "\n"
     ]
    }
   ],
   "source": [
    "# Method 2\n",
    "\n",
    "for person in people:\n",
    "    for key, value in person.items():\n",
    "        print(key.title(),': ', str(value).title())\n",
    "    print()"
   ]
  },
  {
   "cell_type": "markdown",
   "metadata": {},
   "source": [
    "<pre>\n",
    "<strong>6-8. Pets:</strong> Make several dictionaries, where each dictionary represents \n",
    "a different pet. In each dictionary, include the kind of animal and the owner’s name.\n",
    "Store these dictionaries in a list called pets. Next, loop through your list and as\n",
    "you do, print everything you know about each pet.\n",
    "</pre>\n"
   ]
  },
  {
   "cell_type": "code",
   "execution_count": null,
   "metadata": {},
   "outputs": [],
   "source": [
    "# pets.py\n",
    "# solution: same as above with different data"
   ]
  },
  {
   "cell_type": "markdown",
   "metadata": {},
   "source": [
    "<pre>\n",
    "<strong>6-9. Favorite Places:</strong> Make a dictionary called favorite_places. \n",
    "Think of three names to use as keys in the dictionary, and store one to three \n",
    "favorite places for each person. To make this exercise a bit more interesting, \n",
    "ask some friends to name a few of their favorite places. Loop through the dictionary, \n",
    "and print each person’s name and their favorite places.\n",
    "</pre>\n"
   ]
  },
  {
   "cell_type": "code",
   "execution_count": 26,
   "metadata": {},
   "outputs": [
    {
     "name": "stdout",
     "output_type": "stream",
     "text": [
      "\n",
      "Ram\n",
      "\tAyodhya\n",
      "\tMithila\n",
      "\tVishnulok\n",
      "\n",
      "Sita\n",
      "\tMithila\n",
      "\tAyodhya\n",
      "\tChitrakut\n",
      "\tVishnulok\n",
      "\n",
      "Ravan\n",
      "\tLanka\n",
      "\tSvarg\n",
      "\tKailash\n"
     ]
    }
   ],
   "source": [
    "# favorite_places.py\n",
    "\n",
    "favorite_places = {\n",
    "    'ram': ['ayodhya', 'mithila', 'vishnulok'],\n",
    "    'sita': ['mithila', 'ayodhya', 'chitrakut', 'vishnulok'],\n",
    "    'ravan': ['lanka', 'svarg', 'kailash']\n",
    "}\n",
    "\n",
    "for name in favorite_places:\n",
    "    print(f'\\n{name.title()}')\n",
    "    for places in favorite_places[name]:\n",
    "        print(f'\\t{places.title()}')"
   ]
  },
  {
   "cell_type": "markdown",
   "metadata": {},
   "source": [
    "<pre>\n",
    "<strong>6-10. Favorite Numbers:</strong> Modify your program from Exercise 6-2\n",
    "so each person can have more than one favorite number. Then print each person’s \n",
    "name along with their favorite numbers.\n",
    "</pre>\n"
   ]
  },
  {
   "cell_type": "code",
   "execution_count": 29,
   "metadata": {},
   "outputs": [
    {
     "name": "stdout",
     "output_type": "stream",
     "text": [
      "\n",
      "Ram\n",
      "\t4, \t8, \n",
      "Sita\n",
      "\t4, \t8, \t12, \t16, \t32, \t64, \t128, \n",
      "Ravan\n",
      "\t1, "
     ]
    }
   ],
   "source": [
    "# favorite_numbers.py\n",
    "\n",
    "favorite_numbers = {\n",
    "    'ram': [4, 8],\n",
    "    'sita': [4, 8, 12, 16, 32, 64, 128],\n",
    "    'ravan': [1]\n",
    "}\n",
    "\n",
    "for name in favorite_places:\n",
    "    print(f'\\n{name.title()}')\n",
    "    for number in favorite_numbers[name]:\n",
    "        print(f'\\t{number}', end=', ')"
   ]
  },
  {
   "cell_type": "markdown",
   "metadata": {},
   "source": [
    "<pre>\n",
    "<strong>6-11. Cities:</strong> Make a dictionary called cities. Use the names of three cities as\n",
    "keys in your dictionary. Create a dictionary of information about each city and\n",
    "include the country that the city is in, its approximate population, and one fact\n",
    "about that city. The keys for each city’s dictionary should be something like\n",
    "country, population, and fact. Print the name of each city and all of the \n",
    "information you have stored about it.\n",
    "</pre>\n"
   ]
  },
  {
   "cell_type": "code",
   "execution_count": 30,
   "metadata": {},
   "outputs": [
    {
     "name": "stdout",
     "output_type": "stream",
     "text": [
      "\n",
      "Delhi\n",
      "\tCountry: India\n",
      "\tPopulation: 1.9 crores\n",
      "\tFact: The larget wholesale spice market of asia\n",
      "\n",
      "Stockholm\n",
      "\tCountry: Swedan\n",
      "\tPopulation: 9.7 lakhs\n",
      "\tFact: World's smallest big city\n",
      "\n",
      "Rome\n",
      "\tCountry: Swedan\n",
      "\tPopulation: 9.7 lakhs\n",
      "\tFact: Capital city of italy\n"
     ]
    }
   ],
   "source": [
    "# cities.py\n",
    "\n",
    "cities = {\n",
    "    'delhi': {'country': 'india', 'population': '1.9 crores', 'fact': 'the larget wholesale spice market of Asia'},\n",
    "    'stockholm': {'country': 'swedan', 'population': '9.7 lakhs', 'fact': \"World's Smallest Big City\"},\n",
    "    'rome': {'country': 'swedan', 'population': '9.7 lakhs', 'fact': 'capital city of Italy'}\n",
    "}\n",
    "\n",
    "for city in cities:\n",
    "    print(f'\\n{city.title()}')\n",
    "    for key, value in cities[city].items():\n",
    "        print(f'\\t{key.title()}: {value.capitalize()}')"
   ]
  },
  {
   "cell_type": "markdown",
   "metadata": {},
   "source": [
    "<pre>\n",
    "<strong>6-12. Extensions:</strong> We’re now working with examples that are complex enough\n",
    "that they can be extended in any number of ways. Use one of the example programs from \n",
    "this chapter, and extend it by adding new keys and values, changing the context of the \n",
    "program or improving the formatting of the output. \n",
    "</pre>"
   ]
  },
  {
   "cell_type": "code",
   "execution_count": 31,
   "metadata": {},
   "outputs": [],
   "source": [
    "# select a program and do some modifications or add some extra logic"
   ]
  },
  {
   "cell_type": "markdown",
   "metadata": {},
   "source": [
    "<hr>"
   ]
  }
 ],
 "metadata": {
  "kernelspec": {
   "display_name": "Python 3",
   "language": "python",
   "name": "python3"
  },
  "language_info": {
   "codemirror_mode": {
    "name": "ipython",
    "version": 3
   },
   "file_extension": ".py",
   "mimetype": "text/x-python",
   "name": "python",
   "nbconvert_exporter": "python",
   "pygments_lexer": "ipython3",
   "version": "3.8.3"
  }
 },
 "nbformat": 4,
 "nbformat_minor": 4
}
