{
 "cells": [
  {
   "cell_type": "markdown",
   "metadata": {},
   "source": [
    "## Try It Yourself"
   ]
  },
  {
   "cell_type": "markdown",
   "metadata": {},
   "source": [
    "<pre>\n",
    "<strong>6-4. Glossary 2:</strong> Now that you know how to loop through a dictionary, clean\n",
    "up the code from Exercise 6-3 (page 99) by replacing your series of print()\n",
    "calls with a loop that runs through the dictionary’s keys and values. When\n",
    "you’re sure that your loop works, add five more Python terms to your glossary.\n",
    "When you run your program again, these new words and meanings should\n",
    "automatically be included in the output.\n",
    "</pre>\n"
   ]
  },
  {
   "cell_type": "code",
   "execution_count": 1,
   "metadata": {},
   "outputs": [],
   "source": [
    "# glossary_2.py\n",
    "\n",
    "glossary = {\n",
    "    'list': 'collection of mutable, heterogenous,  datatypes.',\n",
    "    'tuple': 'collection of immutable,  heteregenous, datatypes.',\n",
    "    'variable': 'provides reference to space in memory for storing a value.',\n",
    "    'datatype': 'different types of data supported in Python.',\n",
    "    'string': 'immutable sequence of characters.',\n",
    "    'mutable': 'objects which can be changed.',\n",
    "    'immutable': 'objects which cannot be changed.',\n",
    "    'set': 'unordered, mutable collection of unique immutable elements.',\n",
    "    'dictionary': 'unordered, mutable collection which store data values in unique key:value pairs.',\n",
    "    'garbage collection': 'The process by which Python periodically frees and reclaims blocks of memory\\\n",
    "\\nthat no longer are in use is called Garbage Collection.'\n",
    "\n",
    "}"
   ]
  },
  {
   "cell_type": "code",
   "execution_count": 2,
   "metadata": {},
   "outputs": [
    {
     "name": "stdout",
     "output_type": "stream",
     "text": [
      "List: Collection of mutable, heterogenous,  datatypes.\n",
      "\n",
      "Tuple: Collection of immutable,  heteregenous, datatypes.\n",
      "\n",
      "Variable: Provides reference to space in memory for storing a value.\n",
      "\n",
      "Datatype: Different types of data supported in python.\n",
      "\n",
      "String: Immutable sequence of characters.\n",
      "\n",
      "Mutable: Objects which can be changed.\n",
      "\n",
      "Immutable: Objects which cannot be changed.\n",
      "\n",
      "Set: Unordered, mutable collection of unique immutable elements.\n",
      "\n",
      "Dictionary: Unordered, mutable collection which store data values in unique key:value pairs.\n",
      "\n",
      "Garbage Collection: The process by which python periodically frees and reclaims blocks of memory\n",
      "that no longer are in use is called garbage collection.\n",
      "\n"
     ]
    }
   ],
   "source": [
    "for key, value in glossary.items():\n",
    "    word = key.title()\n",
    "    meaning = value.capitalize()\n",
    "    print(f'{word}: {meaning}\\n')"
   ]
  },
  {
   "cell_type": "markdown",
   "metadata": {},
   "source": [
    "<pre>\n",
    "<strong>6-5. Rivers:</strong> Make a dictionary containing three major rivers and the country\n",
    "each river runs through. One key-value pair might be 'nile': 'egypt'.\n",
    "•\t Use a loop to print a sentence about each river, such as The Nile runs\n",
    "      through Egypt.\n",
    "•\t Use a loop to print the name of each river included in the dictionary.\n",
    "•\t Use a loop to print the name of each country included in the dictionary.\n",
    "</pre>\n"
   ]
  },
  {
   "cell_type": "code",
   "execution_count": 3,
   "metadata": {},
   "outputs": [],
   "source": [
    "# rivers.py\n",
    "\n",
    "rivers = {\n",
    "    'nile': 'egypt',\n",
    "    'ganga': 'india',\n",
    "    'brahmaputra': 'india',\n",
    "}"
   ]
  },
  {
   "cell_type": "code",
   "execution_count": 4,
   "metadata": {},
   "outputs": [
    {
     "name": "stdout",
     "output_type": "stream",
     "text": [
      "The Nile river runs through Egypt.\n",
      "The Ganga river runs through India.\n",
      "The Brahmaputra river runs through India.\n"
     ]
    }
   ],
   "source": [
    "for key, value in rivers.items():\n",
    "    river = key.title()\n",
    "    country = value.capitalize()\n",
    "    print(f'The {river} river runs through {country}.')"
   ]
  },
  {
   "cell_type": "code",
   "execution_count": 5,
   "metadata": {},
   "outputs": [
    {
     "name": "stdout",
     "output_type": "stream",
     "text": [
      "nile\n",
      "ganga\n",
      "brahmaputra\n",
      "\n",
      "#############\n",
      "\n",
      "nile\n",
      "ganga\n",
      "brahmaputra\n"
     ]
    }
   ],
   "source": [
    "for river in rivers.keys():\n",
    "    print(river)\n",
    "    \n",
    "print(\"\\n#############\\n\")\n",
    "\n",
    "for river in rivers:\n",
    "    print(river)"
   ]
  },
  {
   "cell_type": "code",
   "execution_count": 6,
   "metadata": {},
   "outputs": [
    {
     "name": "stdout",
     "output_type": "stream",
     "text": [
      "egypt\n",
      "india\n",
      "india\n",
      "\n",
      "#############\n",
      "\n",
      "india\n",
      "egypt\n"
     ]
    }
   ],
   "source": [
    "for river in rivers.values():\n",
    "    print(river)\n",
    "    \n",
    "print(\"\\n#############\\n\")\n",
    "\n",
    "for country in set(rivers.values()):\n",
    "    print(country)"
   ]
  },
  {
   "cell_type": "markdown",
   "metadata": {},
   "source": [
    "<pre>\n",
    "<strong>6-6. Polling:</strong> Use the code in favorite_languages.py.\n",
    "•\t Make a list of people who should take the favorite languages poll. Include\n",
    "      some names that are already in the dictionary and some that are not.\n",
    "•\t Loop through the list of people who should take the poll. If they have\n",
    "      already taken the poll, print a message thanking them for responding.\n",
    "      If they have not yet taken the poll, print a message inviting them to take\n",
    "      the poll.\n",
    "</pre>"
   ]
  },
  {
   "cell_type": "code",
   "execution_count": 7,
   "metadata": {},
   "outputs": [
    {
     "name": "stdout",
     "output_type": "stream",
     "text": [
      "Hi Ishan, thanks for polling.\n",
      "Hi Govind, thanks for polling.\n",
      "Hi Ayush Anand, please visit our survey section and take the 'Favorite Language' poll.\n",
      "Hi Sambudh Sonawat, please visit our survey section and take the 'Favorite Language' poll.\n",
      "Hi Amanullah Khan, please visit our survey section and take the 'Favorite Language' poll.\n",
      "Hi Jason, please visit our survey section and take the 'Favorite Language' poll.\n",
      "Hi Roman Reigns, please visit our survey section and take the 'Favorite Language' poll.\n",
      "Hi Tom Cruise, please visit our survey section and take the 'Favorite Language' poll.\n"
     ]
    }
   ],
   "source": [
    "# polling.py\n",
    "\n",
    "favorite_languages = {\n",
    "    'ishan': 'python',\n",
    "    'govind': 'java',\n",
    "    'ishan karn': 'javascript',\n",
    "    'ishu': 'c/c++'\n",
    "}\n",
    "\n",
    "requested_person = ['ishan', 'govind', 'ayush anand', 'sambudh sonawat', 'amanullah khan', 'jason', 'roman reigns', 'tom cruise']\n",
    "\n",
    "for name in requested_person:\n",
    "    if name in favorite_languages:\n",
    "        print(f'Hi {name.title()}, thanks for polling.')\n",
    "    else:\n",
    "        print(f\"Hi {name.title()}, please visit our survey section and take the 'Favorite Language' poll.\")\n",
    "        "
   ]
  },
  {
   "cell_type": "markdown",
   "metadata": {},
   "source": [
    "<hr>"
   ]
  }
 ],
 "metadata": {
  "kernelspec": {
   "display_name": "Python 3",
   "language": "python",
   "name": "python3"
  },
  "language_info": {
   "codemirror_mode": {
    "name": "ipython",
    "version": 3
   },
   "file_extension": ".py",
   "mimetype": "text/x-python",
   "name": "python",
   "nbconvert_exporter": "python",
   "pygments_lexer": "ipython3",
   "version": "3.8.3"
  }
 },
 "nbformat": 4,
 "nbformat_minor": 4
}
