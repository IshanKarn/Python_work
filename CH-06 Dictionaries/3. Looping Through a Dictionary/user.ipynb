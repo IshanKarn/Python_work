{
 "cells": [
  {
   "cell_type": "markdown",
   "metadata": {},
   "source": [
    "## Looping Through All Key-Value Pairs\n",
    "<pre>\n",
    "<span style='background-color: yellow'>SYNTAX:\n",
    "for key in dict.items():\n",
    "    #code block          \n",
    "</span>\n",
    "Before we explore the different approaches to looping, let’s consider a new\n",
    "dictionary designed to store information about a user on a website.\n",
    "</pre>"
   ]
  },
  {
   "cell_type": "code",
   "execution_count": 1,
   "metadata": {},
   "outputs": [],
   "source": [
    "user_0 = {\n",
    " 'username': 'efermi',\n",
    " 'first': 'enrico',\n",
    " 'last': 'fermi',\n",
    "}"
   ]
  },
  {
   "cell_type": "code",
   "execution_count": 4,
   "metadata": {},
   "outputs": [
    {
     "name": "stdout",
     "output_type": "stream",
     "text": [
      "dict_items([('username', 'efermi'), ('first', 'enrico'), ('last', 'fermi')])\n",
      "<class 'dict_items'>\n"
     ]
    }
   ],
   "source": [
    "#print(user_0.items()) # item() method returns list of tuples having key, value pair of dictionary as elements\n",
    "#print(type(user_0.items())) # see more: https://www.programiz.com/python-programming/methods/dictionary/items"
   ]
  },
  {
   "cell_type": "code",
   "execution_count": 6,
   "metadata": {},
   "outputs": [
    {
     "name": "stdout",
     "output_type": "stream",
     "text": [
      "\n",
      "Key: username\n",
      "Value: efermi\n",
      "\n",
      "Key: first\n",
      "Value: enrico\n",
      "\n",
      "Key: last\n",
      "Value: fermi\n"
     ]
    }
   ],
   "source": [
    "# To see everything stored in this user’s dictionary\n",
    "\n",
    "for key, value in user_0.items():\n",
    "    print(f\"\\nKey: {key}\")\n",
    "    print(f\"Value: {value}\")"
   ]
  },
  {
   "cell_type": "code",
   "execution_count": 7,
   "metadata": {},
   "outputs": [
    {
     "name": "stdout",
     "output_type": "stream",
     "text": [
      "Jen's favorite language is Python.\n",
      "Sarah's favorite language is C.\n",
      "Edward's favorite language is Ruby.\n",
      "Phil's favorite language is Python.\n"
     ]
    }
   ],
   "source": [
    "# Looping through all key-value pairs works particularly well for dictionaries like the favorite_languages.py, \n",
    "# which stores the same kind of information for many different keys.\n",
    "\n",
    "favorite_languages = {\n",
    " 'jen': 'python',\n",
    " 'sarah': 'c',\n",
    " 'edward': 'ruby',\n",
    " 'phil': 'python',\n",
    "}\n",
    "\n",
    "for name, language in favorite_languages.items():\n",
    "    print(f\"{name.title()}'s favorite language is {language.title()}.\")"
   ]
  },
  {
   "cell_type": "markdown",
   "metadata": {},
   "source": [
    "### Looping Through All the Keys in a Dictionary\n",
    "<pre>\n",
    "The keys() method is useful when you don’t need to work with all of the\n",
    "values in a <a href='https://realpython.com/python-dicts/'>dictionary</a>.\n",
    "<span style='background-color: yellow'>SYNTAX:\n",
    "for key in dict.keys():\n",
    "    #code block        \n",
    "</span>\n",
    "</pre>"
   ]
  },
  {
   "cell_type": "code",
   "execution_count": 9,
   "metadata": {},
   "outputs": [
    {
     "name": "stdout",
     "output_type": "stream",
     "text": [
      "Jen\n",
      "Sarah\n",
      "Edward\n",
      "Phil\n"
     ]
    }
   ],
   "source": [
    "# Loop through the favorite_languages dictionary and print the names of everyone who took the poll.\n",
    "\n",
    "favorite_languages = {\n",
    " 'jen': 'python',\n",
    " 'sarah': 'c',\n",
    " 'edward': 'ruby',\n",
    " 'phil': 'python',\n",
    "}\n",
    "\n",
    "for name in favorite_languages.keys():\n",
    "    print(name.title())"
   ]
  },
  {
   "cell_type": "markdown",
   "metadata": {},
   "source": [
    "<pre>\n",
    "<span style='background-color: yellow'>Looping through the keys is actually the default behavior when looping\n",
    "through a dictionary, so below code would have exactly the same output if we write.</span>\n",
    "</pre>"
   ]
  },
  {
   "cell_type": "code",
   "execution_count": 10,
   "metadata": {},
   "outputs": [
    {
     "name": "stdout",
     "output_type": "stream",
     "text": [
      "jen\n",
      "sarah\n",
      "edward\n",
      "phil\n"
     ]
    }
   ],
   "source": [
    "for name in favorite_languages:       # rather than for name in favorite_languages.items():\n",
    "    print(name)\n",
    "# We can choose to use the keys() method explicitly if it makes our code\n",
    "# easier to read, or we can omit it if we wish. "
   ]
  },
  {
   "cell_type": "code",
   "execution_count": 13,
   "metadata": {},
   "outputs": [
    {
     "name": "stdout",
     "output_type": "stream",
     "text": [
      "Jen\n",
      "\tHey Jen, I see you love Python.\n",
      "Sarah\n",
      "\tHey Sarah, I see you love C.\n",
      "Edward\n",
      "Phil\n"
     ]
    }
   ],
   "source": [
    "# print a message to a couple of friends about the languages they chose. We’ll loop through the names in \n",
    "# the dictionary as we did previously, but when the name matches one of our friends, we’ll display a \n",
    "# message about their favorite language.\n",
    "\n",
    "\n",
    "friends = ['jen', 'sarah']\n",
    "\n",
    "for name in favorite_languages:\n",
    "    print(name.title())\n",
    "    if name in friends:\n",
    "        lang = favorite_languages[name].title()\n",
    "        print(f'\\tHey {name.title()}, I see you love {lang}.')"
   ]
  },
  {
   "cell_type": "code",
   "execution_count": 15,
   "metadata": {},
   "outputs": [
    {
     "name": "stdout",
     "output_type": "stream",
     "text": [
      "Tom, please take our poll!\n"
     ]
    }
   ],
   "source": [
    "# You can also use the keys() method to find out if a particular person was polled.\n",
    "\n",
    "if 'tom' not in favorite_languages.keys():\n",
    "    print(\"Tom, please take our poll!\")"
   ]
  },
  {
   "cell_type": "markdown",
   "metadata": {},
   "source": [
    "### Looping Through a Dictionary’s Keys in a Particular Order\n"
   ]
  },
  {
   "cell_type": "code",
   "execution_count": 16,
   "metadata": {},
   "outputs": [
    {
     "name": "stdout",
     "output_type": "stream",
     "text": [
      "Edward, thank you for taking the poll.\n",
      "Jen, thank you for taking the poll.\n",
      "Phil, thank you for taking the poll.\n",
      "Sarah, thank you for taking the poll.\n"
     ]
    }
   ],
   "source": [
    "# print in sorted order\n",
    "\n",
    "favorite_languages = {\n",
    " 'jen': 'python',\n",
    " 'sarah': 'c',\n",
    " 'edward': 'ruby',\n",
    " 'phil': 'python',\n",
    "}\n",
    "for name in sorted(favorite_languages.keys()):\n",
    "    print(f\"{name.title()}, thank you for taking the poll.\")"
   ]
  },
  {
   "cell_type": "code",
   "execution_count": 17,
   "metadata": {},
   "outputs": [
    {
     "name": "stdout",
     "output_type": "stream",
     "text": [
      "Sarah, thank you for taking the poll.\n",
      "Phil, thank you for taking the poll.\n",
      "Jen, thank you for taking the poll.\n",
      "Edward, thank you for taking the poll.\n"
     ]
    }
   ],
   "source": [
    "# print in sorted order\n",
    "\n",
    "favorite_languages = {\n",
    " 'jen': 'python',\n",
    " 'sarah': 'c',\n",
    " 'edward': 'ruby',\n",
    " 'phil': 'python',\n",
    "}\n",
    "for name in sorted(favorite_languages.keys(), reverse = True):\n",
    "    print(f\"{name.title()}, thank you for taking the poll.\")"
   ]
  },
  {
   "cell_type": "markdown",
   "metadata": {},
   "source": [
    "### Looping Through All Values in a Dictionary\n",
    "<pre>\n",
    "We can use the values() method to return a list of values without any keys.\n",
    "<span style='background-color: yellow'>SYNTAX:\n",
    "for key in dict.values():\n",
    "    #code block          \n",
    "</span>\n",
    "</pre>"
   ]
  },
  {
   "cell_type": "code",
   "execution_count": null,
   "metadata": {},
   "outputs": [],
   "source": [
    "# We want a list of all languages chosen in our programming language poll without the name of the person who chose each language."
   ]
  },
  {
   "cell_type": "code",
   "execution_count": 18,
   "metadata": {},
   "outputs": [
    {
     "name": "stdout",
     "output_type": "stream",
     "text": [
      "The following languages have been mentioned:\n",
      "Python\n",
      "C\n",
      "Ruby\n",
      "Python\n"
     ]
    }
   ],
   "source": [
    "favorite_languages = {\n",
    " 'jen': 'python',\n",
    " 'sarah': 'c',\n",
    " 'edward': 'ruby',\n",
    " 'phil': 'python',\n",
    "}\n",
    "\n",
    "print(\"The following languages have been mentioned:\")\n",
    "for language in favorite_languages.values():\n",
    "    print(language.title())"
   ]
  },
  {
   "cell_type": "markdown",
   "metadata": {},
   "source": [
    "<pre>\n",
    "Above approach pulls all the values from the dictionary without checking\n",
    "for repeats. \n",
    "That might work fine with a small number of values, but in a poll with \n",
    "a large number of respondents, this would result in a very repetitive list. \n",
    "To see each language chosen without repetition, we can use a set.\n",
    "<span style = 'background-color: yellow'>A set is an unordered collection in which each item must be unique.</span>\n",
    "or <a href='https://www.datacamp.com/community/tutorials/sets-in-python'>Sets</a> are a mutable collection of distinct (unique) immutable values that are unordered.\n",
    "\n",
    "<span style='background-color: yellow'>SYNTAX [to convert list in set]:                    \n",
    "set(dict.values())   # NOTE: context specific       \n",
    "</span>\n",
    "</pre>"
   ]
  },
  {
   "cell_type": "code",
   "execution_count": 33,
   "metadata": {},
   "outputs": [],
   "source": [
    "# example 1 (to understand above concept)\n",
    "lst = [1,2,3,4,9,6,8,2,3,5,2,3]                            # list []\n",
    "alphabets = ('c', 'a', 'b', 'd', 'a', 'c')                 # tuple ()"
   ]
  },
  {
   "cell_type": "code",
   "execution_count": 34,
   "metadata": {},
   "outputs": [
    {
     "name": "stdout",
     "output_type": "stream",
     "text": [
      "[1, 2, 3, 4, 9, 6, 8, 2, 3, 5, 2, 3]\n",
      "('c', 'a', 'b', 'd', 'a', 'c')\n"
     ]
    }
   ],
   "source": [
    "print(lst)              # print list of numbers, contain duplicate values, also in preset order\n",
    "print(alphabets)        # print tuple of numbers, contain duplicate values, also in preset order"
   ]
  },
  {
   "cell_type": "code",
   "execution_count": 35,
   "metadata": {},
   "outputs": [
    {
     "name": "stdout",
     "output_type": "stream",
     "text": [
      "{1, 2, 3, 4, 5, 6, 8, 9}\n",
      "{'a', 'b', 'c', 'd'}\n"
     ]
    }
   ],
   "source": [
    "print(set(lst))         # print set of numbers, contain no duplicate (or repeated) values, also not in preset order.\n",
    "print(set(alphabets))   # print set of numbers, contain no duplicate (or repeated) values, also not in preset order."
   ]
  },
  {
   "cell_type": "code",
   "execution_count": 36,
   "metadata": {},
   "outputs": [
    {
     "name": "stdout",
     "output_type": "stream",
     "text": [
      "{'c', 'ruby', 'python'}\n"
     ]
    }
   ],
   "source": [
    "# example 2\n",
    "languages = {'python', 'ruby', 'python', 'c'}             # creating set, using {}\n",
    "print(languages)"
   ]
  },
  {
   "cell_type": "code",
   "execution_count": 28,
   "metadata": {},
   "outputs": [
    {
     "name": "stdout",
     "output_type": "stream",
     "text": [
      "dict_values(['python', 'c', 'ruby', 'python'])\n",
      "{'c', 'ruby', 'python'}\n"
     ]
    }
   ],
   "source": [
    "# example 3\n",
    "print(favorite_languages.values())                        # set {}\n",
    "print(set(favorite_languages.values()))                   # set {}\n",
    "# above code snippet is to understand result of below program's for loop"
   ]
  },
  {
   "cell_type": "code",
   "execution_count": 29,
   "metadata": {},
   "outputs": [
    {
     "name": "stdout",
     "output_type": "stream",
     "text": [
      "The following languages have been mentioned:\n",
      "C\n",
      "Ruby\n",
      "Python\n"
     ]
    }
   ],
   "source": [
    "favorite_languages = {\n",
    " 'jen': 'python',\n",
    " 'sarah': 'c',\n",
    " 'edward': 'ruby',\n",
    " 'phil': 'python',\n",
    "}\n",
    "\n",
    "print(\"The following languages have been mentioned:\")\n",
    "for language in set(favorite_languages.values()):\n",
    "    print(language.title())"
   ]
  },
  {
   "cell_type": "markdown",
   "metadata": {},
   "source": [
    "<pre style='color: yellow; background-color: black; margin: 0 15%'>\n",
    "<strong>NOTE:</strong> It’s easy to mistake sets for dictionaries because they’re both wrapped in braces.\n",
    "When you see braces but no key-value pairs, you’re probably looking at a set. Unlike\n",
    "lists and dictionaries, sets do not retain items in any specific order.\n",
    "</pre>"
   ]
  },
  {
   "cell_type": "markdown",
   "metadata": {},
   "source": [
    "<hr>"
   ]
  },
  {
   "cell_type": "markdown",
   "metadata": {},
   "source": [
    "## Mutability & Immutability (Extra)\n",
    "<pre>\n",
    "<span style = 'background-color: yellow'>An immutable object is an object whose value cannot change.\n",
    "A mutable object is an object whose value can change.\n",
    "\n",
    "Mutable objects are more flexible when programming because you can modify the object without losing \n",
    "the binding to it.</span>\n",
    "\n",
    "An object created and given a value is assigned some space in memory. The variable name bound to the \n",
    "object points to that place in memory.\n",
    "Once an immutable object loses its variable handle, the Python interpreter may delete the object to \n",
    "reclaim the computer memory it took up, and use it for something else. Unlike some other programming \n",
    "languages, we (as the programmer) don’t have to worry about deleting old objects – Python takes care \n",
    "of this for you through a process called <span style = 'background-color: yellow'>“garbage collection.”</span>\n",
    "\n",
    "</pre>"
   ]
  },
  {
   "cell_type": "code",
   "execution_count": 37,
   "metadata": {},
   "outputs": [],
   "source": [
    "# The id() function tells you the memory location of the object pointed to \n",
    "# by the variable name, not anything about the variable name itself."
   ]
  },
  {
   "cell_type": "code",
   "execution_count": 40,
   "metadata": {},
   "outputs": [
    {
     "data": {
      "text/plain": [
       "140711182874528"
      ]
     },
     "execution_count": 40,
     "metadata": {},
     "output_type": "execute_result"
    }
   ],
   "source": [
    "a = 5                                                              \n",
    "id(a)"
   ]
  },
  {
   "cell_type": "code",
   "execution_count": 41,
   "metadata": {},
   "outputs": [
    {
     "data": {
      "text/plain": [
       "140711182874560"
      ]
     },
     "execution_count": 41,
     "metadata": {},
     "output_type": "execute_result"
    }
   ],
   "source": [
    "a = 6                                                              # integer, immutable object\n",
    "id(a)      # different id"
   ]
  },
  {
   "cell_type": "code",
   "execution_count": 46,
   "metadata": {},
   "outputs": [
    {
     "data": {
      "text/plain": [
       "2442052692672"
      ]
     },
     "execution_count": 46,
     "metadata": {},
     "output_type": "execute_result"
    }
   ],
   "source": [
    "b = ['s','h','e','i','s','b','e','a','u','t','i','f','u','l']      \n",
    "id(b)"
   ]
  },
  {
   "cell_type": "code",
   "execution_count": 47,
   "metadata": {},
   "outputs": [],
   "source": [
    "b.append('!')"
   ]
  },
  {
   "cell_type": "code",
   "execution_count": 48,
   "metadata": {},
   "outputs": [
    {
     "data": {
      "text/plain": [
       "2442052692672"
      ]
     },
     "execution_count": 48,
     "metadata": {},
     "output_type": "execute_result"
    }
   ],
   "source": [
    "id(b)     # same id"
   ]
  },
  {
   "cell_type": "markdown",
   "metadata": {},
   "source": [
    "<hr>"
   ]
  }
 ],
 "metadata": {
  "kernelspec": {
   "display_name": "Python 3",
   "language": "python",
   "name": "python3"
  },
  "language_info": {
   "codemirror_mode": {
    "name": "ipython",
    "version": 3
   },
   "file_extension": ".py",
   "mimetype": "text/x-python",
   "name": "python",
   "nbconvert_exporter": "python",
   "pygments_lexer": "ipython3",
   "version": "3.8.3"
  }
 },
 "nbformat": 4,
 "nbformat_minor": 4
}
