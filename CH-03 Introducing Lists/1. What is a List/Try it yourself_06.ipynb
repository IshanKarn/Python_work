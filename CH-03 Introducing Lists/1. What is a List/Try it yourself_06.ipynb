{
 "cells": [
  {
   "cell_type": "markdown",
   "metadata": {},
   "source": [
    "## Try it yourself"
   ]
  },
  {
   "cell_type": "markdown",
   "metadata": {},
   "source": [
    "<pre>\n",
    "<strong>3-1. Names:</strong> Store the names of a few of your friends in a list called names. Print\n",
    "each person’s name by accessing each element in the list, one at a time.\n",
    "</pre>\n",
    "<pre>\n"
   ]
  },
  {
   "cell_type": "code",
   "execution_count": 10,
   "metadata": {},
   "outputs": [
    {
     "name": "stdout",
     "output_type": "stream",
     "text": [
      "risabh\n",
      "sambudh\n",
      "vikash\n",
      "amanullah\n",
      "nitesh\n",
      "saurabh\n",
      "pushkar\n",
      "pushkar\n",
      "rounak\n"
     ]
    }
   ],
   "source": [
    "names=['risabh', 'sambudh', 'vikash', 'amanullah','nitesh', 'saurabh', 'pushkar', 'pushkar','rounak']\n",
    "print(names[0])\n",
    "print(names[1])\n",
    "print(names[2])\n",
    "print(names[3])\n",
    "print(names[4])\n",
    "print(names[5])\n",
    "print(names[6])\n",
    "print(names[7])\n",
    "print(names[8])"
   ]
  },
  {
   "cell_type": "markdown",
   "metadata": {},
   "source": [
    "<pre>\n",
    "<strong>3-2. Greetings:</strong> Start with the list you used in Exercise 3-1, but instead of just\n",
    "printing each person’s name, print a message to them. The text of each message should be the same, \n",
    "but each message should be personalized with the person’s name.\n",
    "</pre>\n"
   ]
  },
  {
   "cell_type": "code",
   "execution_count": 12,
   "metadata": {},
   "outputs": [
    {
     "name": "stdout",
     "output_type": "stream",
     "text": [
      "Hello, Risabh\n"
     ]
    }
   ],
   "source": [
    "msg = f'Hello, {names[0].title()}'\n",
    "print(msg)\n",
    "# ..."
   ]
  },
  {
   "cell_type": "markdown",
   "metadata": {},
   "source": [
    "<pre>\n",
    "<strong>3-3. Your Own List:</strong> Think of your favorite mode of transportation, such as a\n",
    "motorcycle or a car, and make a list that stores several examples. Use your list\n",
    "to print a series of statements about these items, such as “I would like to own a\n",
    "Honda motorcycle.”\n",
    "</pre>"
   ]
  },
  {
   "cell_type": "code",
   "execution_count": 13,
   "metadata": {},
   "outputs": [
    {
     "name": "stdout",
     "output_type": "stream",
     "text": [
      "I would like to own a bike\n"
     ]
    }
   ],
   "source": [
    "t_modes = ['car', 'bike', 'bus', 'train', 'flight']\n",
    "print(f'I would like to own a {t_modes[1]}')\n",
    "# ..."
   ]
  },
  {
   "cell_type": "markdown",
   "metadata": {},
   "source": [
    "<hr>"
   ]
  }
 ],
 "metadata": {
  "kernelspec": {
   "display_name": "Python 3",
   "language": "python",
   "name": "python3"
  },
  "language_info": {
   "codemirror_mode": {
    "name": "ipython",
    "version": 3
   },
   "file_extension": ".py",
   "mimetype": "text/x-python",
   "name": "python",
   "nbconvert_exporter": "python",
   "pygments_lexer": "ipython3",
   "version": "3.8.3"
  }
 },
 "nbformat": 4,
 "nbformat_minor": 4
}
