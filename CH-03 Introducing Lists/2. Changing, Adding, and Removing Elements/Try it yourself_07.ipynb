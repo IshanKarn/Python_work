{
 "cells": [
  {
   "cell_type": "markdown",
   "metadata": {},
   "source": [
    "## Try it youyrself"
   ]
  },
  {
   "cell_type": "markdown",
   "metadata": {},
   "source": [
    "<pre>\n",
    "<strong>3-4. Guest List:</strong> If you could invite anyone, living or deceased, to dinner, who\n",
    "would you invite? Make a list that includes at least three people you’d like to\n",
    "invite to dinner. Then use your list to print a message to each person, inviting\n",
    "them to dinner.\n",
    "</pre>\n",
    "<pre>\n",
    "\n"
   ]
  },
  {
   "cell_type": "code",
   "execution_count": 1,
   "metadata": {},
   "outputs": [
    {
     "name": "stdout",
     "output_type": "stream",
     "text": [
      "Hello, alpha. Howdy?\n",
      "Hello, beta. Howdy?\n",
      "Hello, gamma. Howdy?\n",
      "Hello, lambda. Howdy?\n",
      "Hello, hanji omega. Kaise ho bhai?\n"
     ]
    }
   ],
   "source": [
    "guests = ['alpha', 'beta', 'gamma', 'lambda', 'omega']\n",
    "print(f\"Hello, {guests[0]}. Howdy?\")\n",
    "print(f\"Hello, {guests[1]}. Howdy?\")\n",
    "print(f\"Hello, {guests[2]}. Howdy?\")\n",
    "print(f\"Hello, {guests[3]}. Howdy?\")\n",
    "print(f\"Hello, hanji {guests[4]}. Kaise ho bhai?\")"
   ]
  },
  {
   "cell_type": "markdown",
   "metadata": {},
   "source": [
    "<pre>\n",
    "<strong>3-5. Changing Guest List:</strong> You just heard that one of your guests can’t make the\n",
    "dinner, so you need to send out a new set of invitations. You’ll have to think of\n",
    "someone else to invite.\n",
    "•\t Start with your program from Exercise 3-4. Add a print() call at the end\n",
    "of your program stating the name of the guest who can’t make it.\n",
    "•\t Modify your list, replacing the name of the guest who can’t make it with\n",
    "the name of the new person you are inviting.\n",
    "•\t Print a second set of invitation messages, one for each person who is still\n",
    "in your list.\n",
    "</pre>\n"
   ]
  },
  {
   "cell_type": "code",
   "execution_count": 2,
   "metadata": {},
   "outputs": [],
   "source": [
    "guests = ['alpha', 'beta', 'gamma', 'lambda', 'omega']"
   ]
  },
  {
   "cell_type": "code",
   "execution_count": 3,
   "metadata": {},
   "outputs": [
    {
     "name": "stdout",
     "output_type": "stream",
     "text": [
      "beta\n"
     ]
    }
   ],
   "source": [
    "print(guests[1])"
   ]
  },
  {
   "cell_type": "code",
   "execution_count": 4,
   "metadata": {},
   "outputs": [],
   "source": [
    "guests[1] = 'delta'"
   ]
  },
  {
   "cell_type": "code",
   "execution_count": 5,
   "metadata": {},
   "outputs": [
    {
     "name": "stdout",
     "output_type": "stream",
     "text": [
      "Hello, alpha. Welcome!\n",
      "Hello, delta. Welcome!\n",
      "Hello, gamma. Welcome!\n",
      "Hello, lambda. Welcome!\n",
      "Hello, hanji omega. Aaja bhai.\n"
     ]
    }
   ],
   "source": [
    "print(f\"Hello, {guests[0]}. Welcome!\")\n",
    "print(f\"Hello, {guests[1]}. Welcome!\")\n",
    "print(f\"Hello, {guests[2]}. Welcome!\")\n",
    "print(f\"Hello, {guests[3]}. Welcome!\")\n",
    "print(f\"Hello, hanji {guests[4]}. Aaja bhai.\")"
   ]
  },
  {
   "cell_type": "markdown",
   "metadata": {},
   "source": [
    "<pre>\n",
    "\n",
    "<strong>3-6. More Guests:</strong> You just found a bigger dinner table, so now more space is\n",
    "available. Think of three more guests to invite to dinner.\n",
    "•\t Start with your program from Exercise 3-4 or Exercise 3-5. Add a print()\n",
    "call to the end of your program informing people that you found a bigger\n",
    "dinner table.\n",
    "•\t Use insert() to add one new guest to the beginning of your list.\n",
    "•\t Use insert() to add one new guest to the middle of your list.\n",
    "•\t Use append() to add one new guest to the end of your list.\n",
    "•\t Print a new set of invitation messages, one for each person in your list.\n",
    "</pre>\n"
   ]
  },
  {
   "cell_type": "code",
   "execution_count": 6,
   "metadata": {},
   "outputs": [],
   "source": [
    "guests = ['alpha', 'beta', 'gamma', 'lambda', 'omega']"
   ]
  },
  {
   "cell_type": "code",
   "execution_count": 7,
   "metadata": {},
   "outputs": [
    {
     "name": "stdout",
     "output_type": "stream",
     "text": [
      "Hello friends, we found a bigger dinner table.\n"
     ]
    }
   ],
   "source": [
    "print(\"Hello friends, we found a bigger dinner table.\")"
   ]
  },
  {
   "cell_type": "code",
   "execution_count": 8,
   "metadata": {},
   "outputs": [],
   "source": [
    "guests.insert(0, 'god')"
   ]
  },
  {
   "cell_type": "code",
   "execution_count": 9,
   "metadata": {},
   "outputs": [],
   "source": [
    "guests.insert(3, 'lord')"
   ]
  },
  {
   "cell_type": "code",
   "execution_count": 10,
   "metadata": {},
   "outputs": [],
   "source": [
    "guests.append('land lord')"
   ]
  },
  {
   "cell_type": "code",
   "execution_count": 11,
   "metadata": {},
   "outputs": [],
   "source": [
    "#print(guests)"
   ]
  },
  {
   "cell_type": "code",
   "execution_count": 12,
   "metadata": {},
   "outputs": [
    {
     "name": "stdout",
     "output_type": "stream",
     "text": [
      "Glad to see you here God\n",
      "Glad to see you here Alpha\n",
      "Glad to see you here Beta\n",
      "Glad to see you here Lord\n",
      "Glad to see you here Gamma\n",
      "Glad to see you here Lambda\n",
      "Glad to see you here Omega\n",
      "Glad to see you here Land Lord\n"
     ]
    }
   ],
   "source": [
    "print(f'Glad to see you here {guests[0].title()}')\n",
    "print(f'Glad to see you here {guests[1].title()}')\n",
    "print(f'Glad to see you here {guests[2].title()}')\n",
    "print(f'Glad to see you here {guests[3].title()}')\n",
    "print(f'Glad to see you here {guests[4].title()}')\n",
    "print(f'Glad to see you here {guests[5].title()}')\n",
    "print(f'Glad to see you here {guests[6].title()}')\n",
    "print(f'Glad to see you here {guests[7].title()}')"
   ]
  },
  {
   "cell_type": "markdown",
   "metadata": {},
   "source": [
    "<pre>\n",
    "\n",
    "<strong>3-7. Shrinking Guest List:</strong> You just found out that your new dinner table won’t\n",
    "arrive in time for the dinner, and you have space for only two guests.\n",
    "•\t Start with your program from Exercise 3-6. Add a new line that prints a\n",
    "message saying that you can invite only two people for dinner.\n",
    "•\t Use pop() to remove guests from your list one at a time until only two\n",
    "names remain in your list. Each time you pop a name from your list, print\n",
    "a message to that person letting them know you’re sorry you can’t invite\n",
    "them to dinner.\n",
    "•\t Print a message to each of the two people still on your list, letting them\n",
    "know they’re still invited.\n",
    "•\t Use del to remove the last two names from your list, so you have an empty\n",
    "list. Print your list to make sure you actually have an empty list at the end\n",
    "of your program.\n",
    "</pre>"
   ]
  },
  {
   "cell_type": "code",
   "execution_count": 13,
   "metadata": {},
   "outputs": [
    {
     "name": "stdout",
     "output_type": "stream",
     "text": [
      "I can invite only two people for dinner.\n"
     ]
    }
   ],
   "source": [
    "#print(guests)\n",
    "print('I can invite only two people for dinner.')"
   ]
  },
  {
   "cell_type": "code",
   "execution_count": 15,
   "metadata": {},
   "outputs": [
    {
     "name": "stdout",
     "output_type": "stream",
     "text": [
      "sorry Land Lord I can’t invite you to dinner.\n",
      "sorry Omega I can’t invite you to dinner.\n",
      "sorry Lambda I can’t invite you to dinner.\n",
      "sorry Gamma I can’t invite you to dinner.\n",
      "sorry Lord I can’t invite you to dinner.\n",
      "sorry Beta I can’t invite you to dinner.\n"
     ]
    }
   ],
   "source": [
    "person_popped = guests.pop()\n",
    "print(f'sorry {person_popped.title()} I can’t invite you to dinner.')\n",
    "person_popped = guests.pop()\n",
    "print(f'sorry {person_popped.title()} I can’t invite you to dinner.')\n",
    "person_popped = guests.pop()\n",
    "print(f'sorry {person_popped.title()} I can’t invite you to dinner.')\n",
    "person_popped = guests.pop()\n",
    "print(f'sorry {person_popped.title()} I can’t invite you to dinner.')\n",
    "person_popped = guests.pop()\n",
    "print(f'sorry {person_popped.title()} I can’t invite you to dinner.')\n",
    "person_popped = guests.pop()\n",
    "print(f'sorry {person_popped.title()} I can’t invite you to dinner.')"
   ]
  },
  {
   "cell_type": "code",
   "execution_count": 16,
   "metadata": {},
   "outputs": [
    {
     "name": "stdout",
     "output_type": "stream",
     "text": [
      "Hello {guests[0].title()} you are still invited.\n",
      "Hello {guests[1].title()} you are still invited.\n"
     ]
    }
   ],
   "source": [
    "print(\"Hello {guests[0].title()} you are still invited.\")\n",
    "print(\"Hello {guests[1].title()} you are still invited.\")"
   ]
  },
  {
   "cell_type": "code",
   "execution_count": 17,
   "metadata": {},
   "outputs": [],
   "source": [
    "del guests[0]\n",
    "del guests[0]"
   ]
  },
  {
   "cell_type": "code",
   "execution_count": 18,
   "metadata": {},
   "outputs": [
    {
     "name": "stdout",
     "output_type": "stream",
     "text": [
      "[]\n"
     ]
    }
   ],
   "source": [
    "print(guests)"
   ]
  },
  {
   "cell_type": "markdown",
   "metadata": {},
   "source": [
    "<hr>"
   ]
  }
 ],
 "metadata": {
  "kernelspec": {
   "display_name": "Python 3",
   "language": "python",
   "name": "python3"
  },
  "language_info": {
   "codemirror_mode": {
    "name": "ipython",
    "version": 3
   },
   "file_extension": ".py",
   "mimetype": "text/x-python",
   "name": "python",
   "nbconvert_exporter": "python",
   "pygments_lexer": "ipython3",
   "version": "3.8.3"
  }
 },
 "nbformat": 4,
 "nbformat_minor": 4
}
