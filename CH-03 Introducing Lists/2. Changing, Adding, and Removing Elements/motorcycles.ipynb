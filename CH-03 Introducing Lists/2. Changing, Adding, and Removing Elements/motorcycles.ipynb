{
 "cells": [
  {
   "cell_type": "markdown",
   "metadata": {},
   "source": [
    "## Changing, Adding, and Removing Elements\n",
    "\n",
    "Most lists we create will be <span style='background-color: yellow'>dynamic, meaning we’ll build a list and\n",
    "then add and remove elements from it as your program runs its course</span>.<br> \n",
    "For example, you might create a game in which a player has to shoot aliens out\n",
    "of the sky. You could store the initial set of aliens in a list and then remove\n",
    "an alien from the list each time one is shot down. Each time a new alien\n",
    "appears on the screen, you add it to the list. Your list of aliens will increase\n",
    "and decrease in length throughout the course of the game. "
   ]
  },
  {
   "cell_type": "markdown",
   "metadata": {},
   "source": [
    "### Modifying Elements in a List\n",
    "<pre>\n",
    "The syntax for modifying an element is similar to the syntax for accessing\n",
    "an element in a list. To change an element, use the name of the list followed\n",
    "by the index of the element you want to change, and then provide the new\n",
    "value you want that item to have.<br>\n",
    "<span style='background-color: yellow'>SYNTAX: listname[index] = newvalue</span>\n"
   ]
  },
  {
   "cell_type": "code",
   "execution_count": 1,
   "metadata": {},
   "outputs": [],
   "source": [
    "motorcycles = ['honda', 'yamaha', 'suzuki', 'bmw', 'harley davidson', 'ducati']\n",
    "print(motorcycles)"
   ]
  },
  {
   "cell_type": "code",
   "execution_count": 2,
   "metadata": {},
   "outputs": [],
   "source": [
    "motorcycles[0] = 'hayabusa'\n",
    "print(motorcycles)"
   ]
  },
  {
   "cell_type": "markdown",
   "metadata": {},
   "source": [
    "### Adding Elements to a List\n"
   ]
  },
  {
   "cell_type": "markdown",
   "metadata": {},
   "source": [
    "<pre>\n",
    "Some use cases: you might want to make new aliens appear in a game, add new\n",
    "data to a visualization, or add new registered users to a website you’ve built.\n",
    "Python provides several ways to add new data to existing lists.\n",
    "</pre>"
   ]
  },
  {
   "cell_type": "markdown",
   "metadata": {},
   "source": [
    "#### Appending Elements to the End of a List\n",
    "<pre>\n",
    "<span style='background-color: yellow'>SYNTAX: listname.append(value)</span>\n",
    "</pre>"
   ]
  },
  {
   "cell_type": "code",
   "execution_count": 3,
   "metadata": {},
   "outputs": [],
   "source": [
    "motorcycles = ['honda', 'yamaha', 'suzuki', 'bmw', 'harley davidson', 'ducati']\n",
    "motorcycles.append('hayabusa') # at the end only\n",
    "\n",
    "print(motorcycles)"
   ]
  },
  {
   "cell_type": "markdown",
   "metadata": {},
   "source": [
    "<pre>The append() method makes it easy to build lists dynamically. For example, we can start\n",
    "with an empty list and then add items to the list using a series of append() calls.</pre>"
   ]
  },
  {
   "cell_type": "code",
   "execution_count": 4,
   "metadata": {},
   "outputs": [],
   "source": [
    "motorcycles = []   # creating an empty list\n",
    "motorcycles.append('hayabusa')\n",
    "motorcycles.append('ducati')\n",
    "motorcycles.append('bmw')\n",
    "motorcycles.append('kawasaki')\n",
    "\n",
    "print(motorcycles)"
   ]
  },
  {
   "cell_type": "markdown",
   "metadata": {},
   "source": [
    "#### Inserting Elements into a List\n",
    "<pre>\n",
    "<span style='background-color: yellow'>SYNTAX: listname.insert(index, value)</span>\n",
    "We can add a new element at any position in our list by using the insert() method. \n",
    "We do this by specifying the index of the new element and the value of the new item.\n",
    "<span style='background-color: yellow'>This operation shifts every other value\n",
    "in the list one position to the right.</span>\n",
    "</pre>"
   ]
  },
  {
   "cell_type": "code",
   "execution_count": 5,
   "metadata": {},
   "outputs": [],
   "source": [
    "motorcycles = ['honda', 'yamaha', 'suzuki', 'bmw']\n",
    "print(motorcycles)\n",
    "\n",
    "motorcycles.insert(1, 'kawasaki') # insert 'kawasaki' at index 1 in the list\n",
    "print(motorcycles) # output after insert operation"
   ]
  },
  {
   "cell_type": "markdown",
   "metadata": {},
   "source": [
    "### Removing Elements from a List\n"
   ]
  },
  {
   "cell_type": "markdown",
   "metadata": {},
   "source": [
    "<pre>\n",
    "Some use cases: When a player shoots down an alien from the sky, we’ll most likely want to \n",
    "remove it from the list of active aliens. Or when a user decides to cancel  their account \n",
    "on a web application you created, you’ll want to remove that user from the list of active users.\n",
    "<span style='background-color: yellow'>We can remove an item according to its position in the list or according to its value.</span>\n",
    "</pre>"
   ]
  },
  {
   "cell_type": "markdown",
   "metadata": {},
   "source": [
    "#### Removing an Item Using the del Statement\n",
    "<pre>\n",
    "<span style='background-color: yellow'>Using index (or position) of the item to be removed.</span>\n",
    "<span style='background-color: yellow'>SYNTAX: del listname [index]</span>\n",
    "<span style='background-color: yellow'>NOTE: We can <span style='background-color: red'>no longer access</span> the value that was removed from the list after the del statement is used.</span>\n",
    "\n",
    "</pre>"
   ]
  },
  {
   "cell_type": "code",
   "execution_count": 6,
   "metadata": {},
   "outputs": [],
   "source": [
    "motorcycles = ['honda', 'yamaha', 'suzuki', 'hayabusa']\n",
    "print(motorcycles)\n",
    "\n",
    "del motorcycles[0]    # element at index 0 (or 1st position: honda) gets removed from the list\n",
    "print(motorcycles)"
   ]
  },
  {
   "cell_type": "code",
   "execution_count": 7,
   "metadata": {},
   "outputs": [],
   "source": [
    "# any item from list can be removed using its index\n",
    "\n",
    "del motorcycles[2]    # element at index 2 (or 3rd position: hayabusa) gets removed from the list\n",
    "print(motorcycles)"
   ]
  },
  {
   "cell_type": "code",
   "execution_count": 8,
   "metadata": {},
   "outputs": [],
   "source": [
    "# (EXTRA)\n",
    "# How to get index of any element in long lists\n",
    "# By using: index() method of list\n",
    "# NOTE: it returns the index of first occurrence\n",
    "# SYNTAX: listname.index(element)\n",
    "# Example below\n",
    "\n",
    "numbers = [0, 1, 2, 3, 4, 5, 6, 7, 8, 9, 10, 11, 12, 13, 14, 15, 16, 17, 18, 19, 20, 21, 111]\n",
    "print(numbers)\n",
    "print(numbers.index(5))\n",
    "\n",
    "# removing after getting index\n",
    "index_of_111 = numbers.index(111)\n",
    "del numbers[index_of_111]\n",
    "print(numbers)"
   ]
  },
  {
   "cell_type": "markdown",
   "metadata": {},
   "source": [
    "#### Removing an Item Using the pop() Method\n",
    "<pre>\n",
    "<span style='background-color: yellow'>Using index (or position) of the item to be removed.</span>\n",
    "<span style='background-color: yellow'>SYNTAX:</span>\n",
    "<span style='background-color: yellow; border: 1px solid black;'>listname.pop()      </span><span style='background-color: powderblue; border: 1px solid black;'> Removes the last element.                          </span>\n",
    "<span style='background-color: yellow; border: 1px solid black;'>listname.pop(index) </span><span style='background-color: powderblue; border: 1px solid black;'> Removes the element from specified index position. </span>\n",
    "<span style='background-color: yellow'>NOTE: We can <span style='background-color: lightgreen'>access</span> the value that was removed from the list.</span>\n",
    "\n",
    "</pre>"
   ]
  },
  {
   "cell_type": "code",
   "execution_count": 9,
   "metadata": {},
   "outputs": [],
   "source": [
    "# Example (remove & return the last element)\n",
    "\n",
    "motorcycles = ['honda', 'yamaha', 'suzuki', 'bmw', 'harley davidson', 'ducati']\n",
    "print(motorcycles.pop())   # last element removed and returned to print() function [-ie. has access to removed value]\n",
    "print(motorcycles)  "
   ]
  },
  {
   "cell_type": "code",
   "execution_count": 10,
   "metadata": {},
   "outputs": [],
   "source": [
    "# Example (remove & return particular element)\n",
    "\n",
    "motorcycles = ['honda', 'yamaha', 'suzuki', 'bmw', 'harley davidson', 'ducati']\n",
    "\n",
    "bike2 = motorcycles.pop(1)   # element at index 1 is removed and assigned to bike2 variable [-ie. has access to removed value]\n",
    "print(f'Today, I retired my {bike2.title()} bike. That was my 2nd motorcycle.') # also show its use-case"
   ]
  },
  {
   "cell_type": "markdown",
   "metadata": {},
   "source": [
    "#### Popping Items from any Position in a List\n",
    "<pre>\n",
    "<span style='background-color: yellow'>SYNTAX: listname.pop(index) </span>\n",
    "<span style='background-color: yellow'>Removes the element from specified index position. </span>\n",
    "We can use pop() to remove an item from any position in a list by including\n",
    "the index of the item we want to remove in parentheses.\n",
    "<span style='background-color: yellow'>NOTE: We can <span style='background-color: lightgreen'>access</span> the value that was removed from the list.</span>\n",
    "</pre>"
   ]
  },
  {
   "cell_type": "code",
   "execution_count": 11,
   "metadata": {},
   "outputs": [],
   "source": [
    "motorcycles = ['honda', 'yamaha', 'suzuki']\n",
    "first_owned = motorcycles.pop(0)\n",
    "print(f\"The first motorcycle I owned was a {first_owned.title()}.\")"
   ]
  },
  {
   "cell_type": "markdown",
   "metadata": {},
   "source": [
    "<pre>\n",
    "<span style='background-color: yellow'>Remember that each time we use pop(), the item we work with is no longer stored in the list.</span></pre>"
   ]
  },
  {
   "cell_type": "code",
   "execution_count": 12,
   "metadata": {},
   "outputs": [],
   "source": [
    "print(motorcycles) # honda is no longer stored"
   ]
  },
  {
   "cell_type": "markdown",
   "metadata": {},
   "source": [
    "### Removing an Item by Value\n",
    "<pre>\n",
    "If we only know the value of the item we want to remove, we can use the remove() method.\n",
    "</pre>"
   ]
  },
  {
   "cell_type": "code",
   "execution_count": 13,
   "metadata": {},
   "outputs": [],
   "source": [
    "# Examples\n",
    "\n",
    "motorcycles = ['honda', 'yamaha', 'suzuki', 'ducati']\n",
    "print(motorcycles)\n",
    "\n",
    "motorcycles.remove('ducati')    # removal by value\n",
    "print(motorcycles)"
   ]
  },
  {
   "cell_type": "code",
   "execution_count": 14,
   "metadata": {},
   "outputs": [],
   "source": [
    "# we can store the value to be removed to use it later\n",
    "\n",
    "usernames = ['aanand01', 'ishan03', 'knight0001', 'bitshacker0101110']\n",
    "\n",
    "reported_id = 'bitshacker0101110'  # storing item for later use\n",
    "usernames.remove(reported_id)      # remove reported user \n",
    "\n",
    "print(f'Reported user {reported_id} removed successfully!\\n')  # stored item used\n",
    "print(f'Updated usernames: {usernames}')"
   ]
  },
  {
   "cell_type": "markdown",
   "metadata": {},
   "source": [
    "<pre>\n",
    "<span style='background-color: yellow'>NOTE: The remove() method deletes only the first occurrence of the value we specify.</span>\n",
    "</pre>"
   ]
  },
  {
   "cell_type": "code",
   "execution_count": 15,
   "metadata": {},
   "outputs": [],
   "source": [
    "# Example\n",
    "\n",
    "alphabets = ['a','b','c','z','b']\n",
    "print(alphabets)\n",
    "\n",
    "alphabets.remove('b') # only remove 'b' which occurs first in the list\n",
    "print(alphabets)"
   ]
  },
  {
   "cell_type": "markdown",
   "metadata": {},
   "source": [
    "<hr>"
   ]
  }
 ],
 "metadata": {
  "kernelspec": {
   "display_name": "Python 3",
   "language": "python",
   "name": "python3"
  },
  "language_info": {
   "codemirror_mode": {
    "name": "ipython",
    "version": 3
   },
   "file_extension": ".py",
   "mimetype": "text/x-python",
   "name": "python",
   "nbconvert_exporter": "python",
   "pygments_lexer": "ipython3",
   "version": "3.8.3"
  },
  "widgets": {
   "application/vnd.jupyter.widget-state+json": {
    "state": {},
    "version_major": 2,
    "version_minor": 0
   }
  }
 },
 "nbformat": 4,
 "nbformat_minor": 4
}
