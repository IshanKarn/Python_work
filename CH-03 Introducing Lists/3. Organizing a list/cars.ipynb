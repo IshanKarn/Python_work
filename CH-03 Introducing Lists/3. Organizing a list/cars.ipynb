{
 "cells": [
  {
   "cell_type": "markdown",
   "metadata": {},
   "source": [
    "## Organizing a list"
   ]
  },
  {
   "cell_type": "code",
   "execution_count": 22,
   "metadata": {},
   "outputs": [
    {
     "name": "stdout",
     "output_type": "stream",
     "text": [
      "['audi', 'toyota', 'lamborghini', 'porsche', 'mercedes', 'bmw', 'rolls royace', 'honda accent', 'bugati chiron', 'ford', 'land rover', 'ferrari', 'jeep', 'baleno', 'jaguar', 'tesla']\n"
     ]
    }
   ],
   "source": [
    "# creating a list having cars's name as elements\n",
    "\n",
    "cars = ['audi', 'toyota', 'lamborghini', 'porsche', 'mercedes', 'bmw', 'rolls royace', 'honda accent', \n",
    "        'bugati chiron', 'ford', 'land rover', 'ferrari', 'jeep', 'baleno', 'jaguar', 'tesla']\n",
    "print(cars)"
   ]
  },
  {
   "cell_type": "code",
   "execution_count": 23,
   "metadata": {},
   "outputs": [
    {
     "name": "stdout",
     "output_type": "stream",
     "text": [
      "['audi', 'baleno', 'bmw', 'bugati chiron', 'ferrari', 'ford', 'honda accent', 'jaguar', 'jeep', 'lamborghini', 'land rover', 'mercedes', 'porsche', 'rolls royace', 'tesla', 'toyota']\n"
     ]
    }
   ],
   "source": [
    "# sorting using sort() method of list\n",
    "\n",
    "cars = ['audi', 'toyota', 'lamborghini', 'porsche', 'mercedes', 'bmw', 'rolls royace', 'honda accent', \n",
    "        'bugati chiron', 'ford', 'land rover', 'ferrari', 'jeep', 'baleno', 'jaguar', 'tesla']\n",
    "cars.sort() # sort alphabetically (permanent sort)\n",
    "print(cars)"
   ]
  },
  {
   "cell_type": "code",
   "execution_count": 24,
   "metadata": {},
   "outputs": [
    {
     "name": "stdout",
     "output_type": "stream",
     "text": [
      "['toyota', 'tesla', 'rolls royace', 'porsche', 'mercedes', 'land rover', 'lamborghini', 'jeep', 'jaguar', 'honda accent', 'ford', 'ferrari', 'bugati chiron', 'bmw', 'baleno', 'audi']\n"
     ]
    }
   ],
   "source": [
    "cars = ['audi', 'toyota', 'lamborghini', 'porsche', 'mercedes', 'bmw', 'rolls royace', 'honda accent', \n",
    "        'bugati chiron', 'ford', 'land rover', 'ferrari', 'jeep', 'baleno', 'jaguar', 'tesla']\n",
    "cars.sort(reverse = True) # sorts alphabetically in reverse order\n",
    "print(cars)"
   ]
  },
  {
   "cell_type": "code",
   "execution_count": 25,
   "metadata": {},
   "outputs": [
    {
     "name": "stdout",
     "output_type": "stream",
     "text": [
      "['audi', 'baleno', 'bmw', 'bugati chiron', 'ferrari', 'ford', 'honda accent', 'jaguar', 'jeep', 'lamborghini', 'land rover', 'mercedes', 'porsche', 'rolls royace', 'tesla', 'toyota']\n",
      "['toyota', 'tesla', 'rolls royace', 'porsche', 'mercedes', 'land rover', 'lamborghini', 'jeep', 'jaguar', 'honda accent', 'ford', 'ferrari', 'bugati chiron', 'bmw', 'baleno', 'audi']\n",
      "['audi', 'toyota', 'lamborghini', 'porsche', 'mercedes', 'bmw', 'rolls royace', 'honda accent', 'bugati chiron', 'ford', 'land rover', 'ferrari', 'jeep', 'baleno', 'jaguar', 'tesla']\n"
     ]
    }
   ],
   "source": [
    "# sorting using sorted() function\n",
    "\n",
    "cars = ['audi', 'toyota', 'lamborghini', 'porsche', 'mercedes', 'bmw', 'rolls royace', 'honda accent', \n",
    "        'bugati chiron', 'ford', 'land rover', 'ferrari', 'jeep', 'baleno', 'jaguar', 'tesla']\n",
    "print(sorted(cars)) # alphabetically sorts (temporary <-> original list doesn't change)\n",
    "print(sorted(cars, reverse = True)) # alphabetically sorts in reverse order (temporary)\n",
    "print(cars) # original list remains unchanged after applying sorted() function"
   ]
  },
  {
   "cell_type": "code",
   "execution_count": 26,
   "metadata": {},
   "outputs": [
    {
     "name": "stdout",
     "output_type": "stream",
     "text": [
      "['tesla', 'jaguar', 'baleno', 'jeep', 'ferrari', 'land rover', 'ford', 'bugati chiron', 'honda accent', 'rolls royace', 'bmw', 'mercedes', 'porsche', 'lamborghini', 'toyota', 'audi']\n"
     ]
    }
   ],
   "source": [
    "# reversing the order of arrangement using reverse() method of list\n",
    "\n",
    "cars = ['audi', 'toyota', 'lamborghini', 'porsche', 'mercedes', 'bmw', 'rolls royace', 'honda accent', \n",
    "        'bugati chiron', 'ford', 'land rover', 'ferrari', 'jeep', 'baleno', 'jaguar', 'tesla']\n",
    "cars.reverse() # just reverse the order of list elements\n",
    "print(cars)"
   ]
  },
  {
   "cell_type": "code",
   "execution_count": 28,
   "metadata": {},
   "outputs": [
    {
     "name": "stdout",
     "output_type": "stream",
     "text": [
      "16\n"
     ]
    }
   ],
   "source": [
    "# get length of a list using len() function\n",
    "\n",
    "cars = ['audi', 'toyota', 'lamborghini', 'porsche', 'mercedes', 'bmw', 'rolls royace', 'honda accent', \n",
    "        'bugati chiron', 'ford', 'land rover', 'ferrari', 'jeep', 'baleno', 'jaguar', 'tesla']\n",
    "print(len(cars)) # gives the length of list or number of elements"
   ]
  },
  {
   "cell_type": "markdown",
   "metadata": {},
   "source": [
    "## More examples (below):"
   ]
  },
  {
   "cell_type": "code",
   "execution_count": 27,
   "metadata": {},
   "outputs": [
    {
     "name": "stdout",
     "output_type": "stream",
     "text": [
      "['h', 'x', 'd', 'a', 'c', 'b', 'm', 'p', 'l']\n",
      "['a', 'b', 'c', 'd', 'h', 'l', 'm', 'p', 'x']\n",
      "['x', 'p', 'm', 'l', 'h', 'd', 'c', 'b', 'a']\n",
      "['h', 'x', 'd', 'a', 'c', 'b', 'm', 'p', 'l']\n"
     ]
    }
   ],
   "source": [
    "# sorting using sorted() function [does temporary sorting]\n",
    "\n",
    "alphabets = ['h', 'x', 'd', 'a', 'c', 'b', 'm', 'p', 'l']\n",
    "print(alphabets)\n",
    "print(sorted(alphabets)) \n",
    "print(sorted(alphabets, reverse = True)) \n",
    "print(alphabets) "
   ]
  },
  {
   "cell_type": "code",
   "execution_count": 21,
   "metadata": {},
   "outputs": [
    {
     "name": "stdout",
     "output_type": "stream",
     "text": [
      "numbers: [4, 1, 8, 9, 2, 3, 7, 5, 0, 6]\n",
      "sorted numbers: [0, 1, 2, 3, 4, 5, 6, 7, 8, 9]\n",
      "reverse sorted numbers: [9, 8, 7, 6, 5, 4, 3, 2, 1, 0]\n",
      "original numbers: [4, 1, 8, 9, 2, 3, 7, 5, 0, 6]\n"
     ]
    }
   ],
   "source": [
    "numbers = [4, 1, 8, 9, 2, 3, 7, 5, 0, 6]\n",
    "print('numbers:', numbers)\n",
    "print('sorted numbers:', sorted(numbers)) \n",
    "print('reverse sorted numbers:', sorted(numbers, reverse = True)) \n",
    "print('original numbers:', numbers) "
   ]
  },
  {
   "cell_type": "code",
   "execution_count": 20,
   "metadata": {},
   "outputs": [
    {
     "name": "stdout",
     "output_type": "stream",
     "text": [
      "['knight', 'garima', 'nisha', 'vedprakash', 'ram']\n"
     ]
    }
   ],
   "source": [
    "# reversing the order of arrangement using reverse() method of list\n",
    "\n",
    "names = ['ram', 'vedprakash', 'nisha', 'garima', 'knight']\n",
    "names.reverse() # just reverse the order of list elements\n",
    "print(names)"
   ]
  },
  {
   "cell_type": "code",
   "execution_count": 21,
   "metadata": {},
   "outputs": [
    {
     "name": "stdout",
     "output_type": "stream",
     "text": [
      "5\n"
     ]
    }
   ],
   "source": [
    "# length of a list\n",
    "\n",
    "names = ['ram', 'vedprakash', 'nisha', 'garima', 'knight']\n",
    "print(len(names))"
   ]
  },
  {
   "cell_type": "markdown",
   "metadata": {},
   "source": [
    "## Try It Yourself_08\n"
   ]
  },
  {
   "cell_type": "markdown",
   "metadata": {},
   "source": [
    "<pre>\n",
    "<strong>3-8. Seeing the World: </strong>\n",
    "      Think of at least five places in the world you’d like to visit.\n",
    "•\t Store the locations in a list. Make sure the list is not in alphabetical order.\n",
    "•\t Print your list in its original order. Don’t worry about printing the list neatly,\n",
    "      just print it as a raw Python list.\n",
    "•\t Use sorted() to print your list in alphabetical order without modifying the\n",
    "      actual list.\n",
    "•\t Show that your list is still in its original order by printing it.\n",
    "•\t Use sorted() to print your list in reverse alphabetical order without changing the order of the original list.\n",
    "•\t Show that your list is still in its original order by printing it again.\n",
    "•\t Use reverse() to change the order of your list. Print the list to show that its\n",
    "      order has changed.\n",
    "•\t Use reverse() to change the order of your list again. Print the list to show\n",
    "      it’s back to its original order.\n",
    "•\t Use sort() to change your list so it’s stored in alphabetical order. Print the\n",
    "      list to show that its order has been changed.\n",
    "•\t Use sort() to change your list so it’s stored in reverse alphabetical order.\n",
    "      Print the list to show that its order has changed.\n",
    "</pre>\n"
   ]
  },
  {
   "cell_type": "code",
   "execution_count": 29,
   "metadata": {},
   "outputs": [
    {
     "name": "stdout",
     "output_type": "stream",
     "text": [
      "['switzerland', 'spain', 'usa', 'lithuania', 'china']\n"
     ]
    }
   ],
   "source": [
    "places = ['switzerland', 'spain', 'usa', 'lithuania', 'china']"
   ]
  },
  {
   "cell_type": "code",
   "execution_count": 32,
   "metadata": {},
   "outputs": [
    {
     "name": "stdout",
     "output_type": "stream",
     "text": [
      "['switzerland', 'spain', 'usa', 'lithuania', 'china']\n"
     ]
    }
   ],
   "source": [
    "print(places)"
   ]
  },
  {
   "cell_type": "code",
   "execution_count": 30,
   "metadata": {},
   "outputs": [
    {
     "name": "stdout",
     "output_type": "stream",
     "text": [
      "['china', 'lithuania', 'spain', 'switzerland', 'usa']\n"
     ]
    }
   ],
   "source": [
    "print(sorted(places))"
   ]
  },
  {
   "cell_type": "code",
   "execution_count": 31,
   "metadata": {},
   "outputs": [
    {
     "name": "stdout",
     "output_type": "stream",
     "text": [
      "['switzerland', 'spain', 'usa', 'lithuania', 'china']\n"
     ]
    }
   ],
   "source": [
    "print(places)"
   ]
  },
  {
   "cell_type": "code",
   "execution_count": 34,
   "metadata": {},
   "outputs": [
    {
     "name": "stdout",
     "output_type": "stream",
     "text": [
      "['usa', 'switzerland', 'spain', 'lithuania', 'china']\n"
     ]
    }
   ],
   "source": [
    "print(sorted(places, reverse = True))"
   ]
  },
  {
   "cell_type": "code",
   "execution_count": 36,
   "metadata": {},
   "outputs": [
    {
     "name": "stdout",
     "output_type": "stream",
     "text": [
      "['switzerland', 'spain', 'usa', 'lithuania', 'china']\n"
     ]
    }
   ],
   "source": [
    "print(places)"
   ]
  },
  {
   "cell_type": "code",
   "execution_count": 37,
   "metadata": {},
   "outputs": [
    {
     "name": "stdout",
     "output_type": "stream",
     "text": [
      "['china', 'lithuania', 'usa', 'spain', 'switzerland']\n"
     ]
    }
   ],
   "source": [
    "places.reverse()\n",
    "print(places)"
   ]
  },
  {
   "cell_type": "code",
   "execution_count": 38,
   "metadata": {},
   "outputs": [
    {
     "name": "stdout",
     "output_type": "stream",
     "text": [
      "['switzerland', 'spain', 'usa', 'lithuania', 'china']\n"
     ]
    }
   ],
   "source": [
    "places.reverse()\n",
    "print(places)"
   ]
  },
  {
   "cell_type": "code",
   "execution_count": 39,
   "metadata": {},
   "outputs": [
    {
     "name": "stdout",
     "output_type": "stream",
     "text": [
      "['china', 'lithuania', 'spain', 'switzerland', 'usa']\n"
     ]
    }
   ],
   "source": [
    "places.sort()\n",
    "print(places)"
   ]
  },
  {
   "cell_type": "code",
   "execution_count": 40,
   "metadata": {},
   "outputs": [
    {
     "name": "stdout",
     "output_type": "stream",
     "text": [
      "['usa', 'switzerland', 'spain', 'lithuania', 'china']\n"
     ]
    }
   ],
   "source": [
    "places.sort(reverse = True)\n",
    "print(places)"
   ]
  },
  {
   "cell_type": "markdown",
   "metadata": {},
   "source": [
    "<pre>\n",
    "<strong>3-9. Dinner Guests: </strong>\n",
    "      Working with one of the programs from Exercises 3-4\n",
    "      through 3-7 (page 42), use len() to print a message indicating the number\n",
    "      of people you are inviting to dinner.\n",
    "</pre>"
   ]
  },
  {
   "cell_type": "code",
   "execution_count": 43,
   "metadata": {},
   "outputs": [],
   "source": [
    "# Write program after updating (or writing) the lost files of previous topics\n",
    "\n",
    "# ..\n",
    "# ....\n",
    "# ...\n",
    "# ....\n",
    "# ........\n",
    "# ............\n",
    "# ..\n",
    "# ."
   ]
  },
  {
   "cell_type": "markdown",
   "metadata": {},
   "source": [
    "<pre>\n",
    "<strong>3-10. Every Function:</strong>\n",
    "      Think of something you could store in a list. For example,\n",
    "      you could make a list of mountains, rivers, countries, cities, languages, or anything else you’d like. \n",
    "      Write a program that creates a list containing these items and then use each function introduced in \n",
    "      this chapter at least once.\n",
    "</pre>"
   ]
  },
  {
   "cell_type": "code",
   "execution_count": 1,
   "metadata": {},
   "outputs": [],
   "source": [
    "cities = ['new york', 'washington', 'cambridge', 'delhi', 'pune', 'dubai', 'london']"
   ]
  },
  {
   "cell_type": "code",
   "execution_count": 2,
   "metadata": {},
   "outputs": [
    {
     "name": "stdout",
     "output_type": "stream",
     "text": [
      "pune\n"
     ]
    }
   ],
   "source": [
    "print(cities[4]) # accessing list's element using index (indexing starts with 0)"
   ]
  },
  {
   "cell_type": "code",
   "execution_count": 3,
   "metadata": {},
   "outputs": [
    {
     "name": "stdout",
     "output_type": "stream",
     "text": [
      "Pune\n"
     ]
    }
   ],
   "source": [
    "print(cities[4].title()) # titlecasing a particular element using title() method"
   ]
  },
  {
   "cell_type": "code",
   "execution_count": 4,
   "metadata": {},
   "outputs": [
    {
     "name": "stdout",
     "output_type": "stream",
     "text": [
      "london\n"
     ]
    }
   ],
   "source": [
    "print(cities[-1]) # indexing from end of list starts with -1 to traverse from last"
   ]
  },
  {
   "cell_type": "code",
   "execution_count": 5,
   "metadata": {},
   "outputs": [
    {
     "name": "stdout",
     "output_type": "stream",
     "text": [
      "['new york', 'washington', 'cambridge', 'delhi', 'pune', 'dubai', 'london']\n",
      "['new york', 'washington', 'cambridge', 'delhi', 'shimla', 'dubai', 'london']\n"
     ]
    }
   ],
   "source": [
    "print(cities)\n",
    "cities[4] = 'shimla' # changing element of a list at particular index\n",
    "print(cities)"
   ]
  },
  {
   "cell_type": "code",
   "execution_count": 6,
   "metadata": {},
   "outputs": [
    {
     "name": "stdout",
     "output_type": "stream",
     "text": [
      "['new york', 'washington', 'cambridge', 'delhi', 'shimla', 'dubai', 'london', 'bangalore']\n"
     ]
    }
   ],
   "source": [
    "cities.append('bangalore') # appending new element at the end of the list using append() method\n",
    "print(cities)"
   ]
  },
  {
   "cell_type": "code",
   "execution_count": 7,
   "metadata": {},
   "outputs": [
    {
     "name": "stdout",
     "output_type": "stream",
     "text": [
      "['new york', 'washington', 'rome', 'cambridge', 'delhi', 'shimla', 'dubai', 'london', 'bangalore']\n"
     ]
    }
   ],
   "source": [
    "cities.insert(2, 'rome') # inserting new element at any particular index position using insert() method\n",
    "print(cities)"
   ]
  },
  {
   "cell_type": "code",
   "execution_count": 8,
   "metadata": {},
   "outputs": [
    {
     "name": "stdout",
     "output_type": "stream",
     "text": [
      "['new york', 'washington', 'cambridge', 'delhi', 'shimla', 'dubai', 'london', 'bangalore']\n"
     ]
    }
   ],
   "source": [
    "del cities[2] # deleting element at a prticular index from list using del keyword\n",
    "print(cities)"
   ]
  },
  {
   "cell_type": "code",
   "execution_count": 9,
   "metadata": {},
   "outputs": [
    {
     "name": "stdout",
     "output_type": "stream",
     "text": [
      "bangalore\n",
      "['new york', 'washington', 'cambridge', 'delhi', 'shimla', 'dubai', 'london']\n"
     ]
    }
   ],
   "source": [
    "popped_city = cities.pop() # removing (and storing in a new variable) the last element of the list using pop() method\n",
    "print(popped_city)\n",
    "print(cities)"
   ]
  },
  {
   "cell_type": "code",
   "execution_count": 10,
   "metadata": {},
   "outputs": [
    {
     "name": "stdout",
     "output_type": "stream",
     "text": [
      "['washington', 'cambridge', 'delhi', 'shimla', 'dubai', 'london']\n"
     ]
    }
   ],
   "source": [
    "cities.pop(0) # removing an element of the list from particular index using pop() method with a correct index value as argument\n",
    "print(cities)"
   ]
  },
  {
   "cell_type": "code",
   "execution_count": 12,
   "metadata": {},
   "outputs": [
    {
     "name": "stdout",
     "output_type": "stream",
     "text": [
      "['washington', 'cambridge', 'shimla', 'dubai', 'london']\n"
     ]
    }
   ],
   "source": [
    "cities.remove('delhi') # removing paricular element from the list using remove() method with right value as argument\n",
    "print(cities)"
   ]
  },
  {
   "cell_type": "code",
   "execution_count": 13,
   "metadata": {},
   "outputs": [
    {
     "name": "stdout",
     "output_type": "stream",
     "text": [
      "['cambridge', 'dubai', 'london', 'shimla', 'washington']\n",
      "['washington', 'cambridge', 'shimla', 'dubai', 'london']\n"
     ]
    }
   ],
   "source": [
    "print(sorted(cities)) # temporary (original list: not change) sorting of the list in alphabetical order using sorted() function\n",
    "print(cities)"
   ]
  },
  {
   "cell_type": "code",
   "execution_count": 14,
   "metadata": {},
   "outputs": [
    {
     "name": "stdout",
     "output_type": "stream",
     "text": [
      "['washington', 'shimla', 'london', 'dubai', 'cambridge']\n",
      "['washington', 'cambridge', 'shimla', 'dubai', 'london']\n"
     ]
    }
   ],
   "source": [
    "print(sorted(cities, reverse = True)) # temporary sorting of the list (alphabetically) and reversing the order\n",
    "print(cities)"
   ]
  },
  {
   "cell_type": "code",
   "execution_count": 15,
   "metadata": {},
   "outputs": [
    {
     "name": "stdout",
     "output_type": "stream",
     "text": [
      "['cambridge', 'dubai', 'london', 'shimla', 'washington']\n"
     ]
    }
   ],
   "source": [
    "cities.sort() # permanent sorting [original list: change] of the list using sort() method\n",
    "print(cities)"
   ]
  },
  {
   "cell_type": "code",
   "execution_count": 16,
   "metadata": {},
   "outputs": [
    {
     "name": "stdout",
     "output_type": "stream",
     "text": [
      "['washington', 'shimla', 'london', 'dubai', 'cambridge']\n"
     ]
    }
   ],
   "source": [
    "cities.sort(reverse = True) # sorting and reversing list\n",
    "print(cities)"
   ]
  },
  {
   "cell_type": "code",
   "execution_count": 17,
   "metadata": {},
   "outputs": [
    {
     "name": "stdout",
     "output_type": "stream",
     "text": [
      "['cambridge', 'dubai', 'london', 'shimla', 'washington']\n"
     ]
    }
   ],
   "source": [
    "cities.reverse() # reversing the order of list using reverse() method\n",
    "print(cities)"
   ]
  },
  {
   "cell_type": "code",
   "execution_count": 18,
   "metadata": {},
   "outputs": [
    {
     "name": "stdout",
     "output_type": "stream",
     "text": [
      "5\n"
     ]
    }
   ],
   "source": [
    "print(len(cities)) # finding length (or number of elements) of the list using len() function"
   ]
  },
  {
   "cell_type": "code",
   "execution_count": null,
   "metadata": {},
   "outputs": [],
   "source": []
  }
 ],
 "metadata": {
  "kernelspec": {
   "display_name": "Python 3",
   "language": "python",
   "name": "python3"
  },
  "language_info": {
   "codemirror_mode": {
    "name": "ipython",
    "version": 3
   },
   "file_extension": ".py",
   "mimetype": "text/x-python",
   "name": "python",
   "nbconvert_exporter": "python",
   "pygments_lexer": "ipython3",
   "version": "3.8.3"
  }
 },
 "nbformat": 4,
 "nbformat_minor": 4
}
