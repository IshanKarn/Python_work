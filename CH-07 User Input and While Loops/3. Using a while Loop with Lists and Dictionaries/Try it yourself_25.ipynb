{
 "cells": [
  {
   "cell_type": "markdown",
   "metadata": {},
   "source": [
    "<pre>\n",
    "<strong>7-8. Deli:</strong> Make a list called sandwich_orders and fill it with the names \n",
    "of various sandwiches. Then make an empty list called finished_sandwiches. Loop through the \n",
    "list of sandwich orders and print a message for each order, such as I made your tuna \n",
    "sandwich. As each sandwich is made, move it to the list of finished sandwiches. \n",
    "After all the sandwiches have been made, print a message listing each sandwich that was made.\n",
    "</pre>\n"
   ]
  },
  {
   "cell_type": "code",
   "execution_count": 4,
   "metadata": {},
   "outputs": [
    {
     "name": "stdout",
     "output_type": "stream",
     "text": [
      "I made your submarine sandwich.\n",
      "I made your open-faced sandwich.\n",
      "I made your pocket sandwich.\n",
      "\n",
      "Following sandwiches are made:\n",
      "submarine\n",
      "open-faced\n",
      "pocket\n"
     ]
    }
   ],
   "source": [
    "# deli.py\n",
    "\n",
    "sandwich_orders = ['submarine', 'open-faced', 'pocket']\n",
    "finished_sandwiches = []\n",
    "\n",
    "for sandwich in sandwich_orders:\n",
    "    print(f\"I made your {sandwich} sandwich.\")\n",
    "    finished_sandwiches.append(sandwich)\n",
    "\n",
    "print(\"\\nFollowing sandwiches are made:\")\n",
    "for sandwich in finished_sandwiches:\n",
    "    print(sandwich)"
   ]
  },
  {
   "cell_type": "markdown",
   "metadata": {},
   "source": [
    "<pre>\n",
    "<strong>7-9. No Pastrami:</strong> Using the list sandwich_orders from Exercise 7-8, make sure the \n",
    "sandwich 'pastrami' appears in the list at least three times. Add code near the \n",
    "beginning of your program to print a message saying the deli has run out of pastrami, and \n",
    "then use a while loop to remove all occurrences of 'pastrami' from sandwich_orders. Make \n",
    "sure no pastrami sandwiches end up in finished_sandwiches.\n",
    "</pre>\n"
   ]
  },
  {
   "cell_type": "code",
   "execution_count": 5,
   "metadata": {},
   "outputs": [
    {
     "name": "stdout",
     "output_type": "stream",
     "text": [
      "The deli has run out of pastrami.\n",
      "['submarine', 'open-faced', 'pocket']\n"
     ]
    }
   ],
   "source": [
    "# no_pastrami.py\n",
    "\n",
    "sandwich_orders = ['submarine', 'pastrami', 'open-faced', 'pocket', 'pastrami', 'pastrami']\n",
    "\n",
    "print(\"The deli has run out of pastrami.\")\n",
    "\n",
    "while 'pastrami' in sandwich_orders:\n",
    "    sandwich_orders.remove('pastrami')\n",
    "    \n",
    "    \n",
    "print(sandwich_orders)"
   ]
  },
  {
   "cell_type": "markdown",
   "metadata": {},
   "source": [
    "<pre>\n",
    "<strong>7-10. Dream Vacation:</strong> Write a program that polls users about their dream vacation. \n",
    "Write a prompt similar to If you could visit one place in the world, where\n",
    "would you go? Include a block of code that prints the results of the poll.\n",
    "</pre> "
   ]
  },
  {
   "cell_type": "code",
   "execution_count": 10,
   "metadata": {},
   "outputs": [
    {
     "name": "stdout",
     "output_type": "stream",
     "text": [
      "\n",
      "Enter your name: Ishan\n",
      "If you could visit one place in the world, where would you go? Pune\n",
      "Do you want to share the poll? (yes/no) yes\n",
      "\n",
      "Enter your name: Aditya\n",
      "If you could visit one place in the world, where would you go? Texas\n",
      "Do you want to share the poll? (yes/no) yes\n",
      "\n",
      "Enter your name: Vikash\n",
      "If you could visit one place in the world, where would you go? Hawaii\n",
      "Do you want to share the poll? (yes/no) no\n",
      "\n",
      "-------------Poll Result-------------\n",
      "Dream vacation of Ishan is Pune.\n",
      "Dream vacation of Aditya is Texas.\n",
      "Dream vacation of Vikash is Hawaii.\n"
     ]
    }
   ],
   "source": [
    "# dream_vacation.py\n",
    "\n",
    "dream_vacation = {}\n",
    "\n",
    "prompt = \"If you could visit one place in the world, where would you go? \"\n",
    "\n",
    "active = True\n",
    "while active == True:\n",
    "    name = input(\"\\nEnter your name: \")\n",
    "    dream_vacation[name] = input(prompt)\n",
    "    \n",
    "    share = input(\"Do you want to share the poll? (yes/no) \")\n",
    "    if share == 'no':\n",
    "        active = False\n",
    "    \n",
    "print(\"\\n-------------Poll Result-------------\")\n",
    "for name, vacation in dream_vacation.items():\n",
    "    print(f'Dream vacation of {name} is {vacation}.')"
   ]
  },
  {
   "cell_type": "markdown",
   "metadata": {},
   "source": [
    "<hr>"
   ]
  }
 ],
 "metadata": {
  "kernelspec": {
   "display_name": "Python 3",
   "language": "python",
   "name": "python3"
  },
  "language_info": {
   "codemirror_mode": {
    "name": "ipython",
    "version": 3
   },
   "file_extension": ".py",
   "mimetype": "text/x-python",
   "name": "python",
   "nbconvert_exporter": "python",
   "pygments_lexer": "ipython3",
   "version": "3.8.3"
  }
 },
 "nbformat": 4,
 "nbformat_minor": 4
}
