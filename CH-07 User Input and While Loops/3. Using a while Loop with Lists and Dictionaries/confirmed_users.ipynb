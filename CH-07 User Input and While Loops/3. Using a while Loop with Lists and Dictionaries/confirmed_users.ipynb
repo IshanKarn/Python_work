{
 "cells": [
  {
   "cell_type": "markdown",
   "metadata": {},
   "source": [
    "###  Moving Items from One List to Another\n",
    "<pre>\n",
    "To keep track of many users and pieces of information, we’ll need to use lists \n",
    "and dictionaries with our while loops.\n",
    "A for loop is effective for looping through a list, but you shouldn’t modify\n",
    "a list inside a for loop because Python will have trouble keeping track of the\n",
    "items in the list.\n",
    "</pre>"
   ]
  },
  {
   "cell_type": "code",
   "execution_count": 1,
   "metadata": {},
   "outputs": [
    {
     "name": "stdout",
     "output_type": "stream",
     "text": [
      "Verifying user: Candace\n",
      "Verifying user: Brian\n",
      "Verifying user: Alice\n",
      "\n",
      "The following users have been confirmed:\n",
      "Candace\n",
      "Brian\n",
      "Alice\n"
     ]
    }
   ],
   "source": [
    "# confirmed_users.py\n",
    "# A use case:\n",
    "# Consider a list of newly registered but unverified users of a website. After\n",
    "# we verify these users, we have move them to a separate list of confirmed users.\n",
    "\n",
    "# Start with users that need to be verified,\n",
    "# and an empty list to hold confirmed users.\n",
    "unconfirmed_users = ['alice', 'brian', 'candace']\n",
    "confirmed_users = []\n",
    "\n",
    "# Verify each user until there are no more unconfirmed users.\n",
    "# Move each verified user into the list of confirmed users.\n",
    "# NOTE: The while loop at runs as long as the list unconfirmed_users is not empty.\n",
    "while unconfirmed_users:\n",
    "    current_user = unconfirmed_users.pop()\n",
    "    \n",
    "    print(f\"Verifying user: {current_user.title()}\")\n",
    "    confirmed_users.append(current_user)\n",
    "    \n",
    "# Display all confirmed users.\n",
    "print(\"\\nThe following users have been confirmed:\")\n",
    "for confirmed_user in confirmed_users:\n",
    "    print(confirmed_user.title())"
   ]
  },
  {
   "cell_type": "code",
   "execution_count": 4,
   "metadata": {},
   "outputs": [
    {
     "name": "stdout",
     "output_type": "stream",
     "text": [
      "['alice', 'brian', 'candace']\n"
     ]
    }
   ],
   "source": [
    "# alternate way to copy a list using copy() method of list\n",
    "\n",
    "unconfirmed_users = ['alice', 'brian', 'candace']\n",
    "users = unconfirmed_users.copy()\n",
    "print(users)"
   ]
  },
  {
   "cell_type": "markdown",
   "metadata": {},
   "source": [
    "### Removing All Instances of Specific Values from a List\n",
    "<pre>\n",
    "To remove all instances of a value, we can run a while loop until the value is no\n",
    "longer in the list.\n",
    "</pre."
   ]
  },
  {
   "cell_type": "code",
   "execution_count": 5,
   "metadata": {},
   "outputs": [
    {
     "name": "stdout",
     "output_type": "stream",
     "text": [
      "['dog', 'cat', 'dog', 'goldfish', 'cat', 'rabbit', 'cat']\n",
      "['dog', 'dog', 'goldfish', 'rabbit']\n"
     ]
    }
   ],
   "source": [
    "# example\n",
    "# pets.py\n",
    "\n",
    "pets = ['dog', 'cat', 'dog', 'goldfish', 'cat', 'rabbit', 'cat']\n",
    "print(pets)\n",
    "\n",
    "while 'cat' in pets:\n",
    "    pets.remove('cat')\n",
    "    \n",
    "print(pets)"
   ]
  },
  {
   "cell_type": "markdown",
   "metadata": {},
   "source": [
    "### Filling a Dictionary with User Input\n",
    "<pre>\n",
    "A use case:\n",
    "Make a polling program in which each pass through the loop prompts for the participant’s name and response. \n",
    "We’ll store the data we gather in a dictionary, because we want to connect each response with a particular user.\n",
    "</pre>"
   ]
  },
  {
   "cell_type": "code",
   "execution_count": 7,
   "metadata": {},
   "outputs": [
    {
     "name": "stdout",
     "output_type": "stream",
     "text": [
      "\n",
      "What is your name? Ishan\n",
      "Which mountain would you like to climb someday? Andes\n",
      "Would you like to let another person respond? (yes/ no) yes\n",
      "\n",
      "What is your name? Vikash\n",
      "Which mountain would you like to climb someday? Alps\n",
      "Would you like to let another person respond? (yes/ no) yes\n",
      "\n",
      "What is your name? Govind\n",
      "Which mountain would you like to climb someday? Mt. Everest\n",
      "Would you like to let another person respond? (yes/ no) no\n",
      "\n",
      "--- Poll Results ---\n",
      "Ishan would like to climb Andes.\n",
      "Vikash would like to climb Alps.\n",
      "Govind would like to climb Mt. Everest.\n"
     ]
    }
   ],
   "source": [
    "# mountain_poll.py\n",
    "\n",
    "responses = {}\n",
    "\n",
    "# Set a flag to indicate that polling is active.\n",
    "polling_active = True\n",
    "while polling_active:\n",
    "    # Prompt for the person's name and response.\n",
    "    name = input(\"\\nWhat is your name? \")\n",
    "    response = input(\"Which mountain would you like to climb someday? \")\n",
    "\n",
    "    # Store the response in the dictionary.\n",
    "    responses[name] = response\n",
    "\n",
    "    # Find out if anyone else is going to take the poll.\n",
    "    repeat = input(\"Would you like to let another person respond? (yes/ no) \")\n",
    "    if repeat == 'no':\n",
    "        polling_active = False\n",
    "\n",
    "# Polling is complete. Show the results.\n",
    "print(\"\\n--- Poll Results ---\")\n",
    "for name, response in responses.items():\n",
    "    print(f\"{name} would like to climb {response}.\")"
   ]
  },
  {
   "cell_type": "markdown",
   "metadata": {},
   "source": [
    "<hr>"
   ]
  }
 ],
 "metadata": {
  "kernelspec": {
   "display_name": "Python 3",
   "language": "python",
   "name": "python3"
  },
  "language_info": {
   "codemirror_mode": {
    "name": "ipython",
    "version": 3
   },
   "file_extension": ".py",
   "mimetype": "text/x-python",
   "name": "python",
   "nbconvert_exporter": "python",
   "pygments_lexer": "ipython3",
   "version": "3.8.3"
  }
 },
 "nbformat": 4,
 "nbformat_minor": 4
}
