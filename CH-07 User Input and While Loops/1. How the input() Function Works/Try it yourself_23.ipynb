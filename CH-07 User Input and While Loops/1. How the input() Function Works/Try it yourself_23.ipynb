{
 "cells": [
  {
   "cell_type": "markdown",
   "metadata": {},
   "source": [
    "## Try It Yourself\n",
    "<pre>\n",
    "<strong>7-1. Rental Car:</strong> Write a program that asks the user what kind of rental car they\n",
    "would like. Print a message about that car, such as “Let me see if I can find you\n",
    "a Subaru.”\n",
    "</pre>"
   ]
  },
  {
   "cell_type": "code",
   "execution_count": 5,
   "metadata": {},
   "outputs": [
    {
     "name": "stdout",
     "output_type": "stream",
     "text": [
      "What kind of rental car you would like? mercedes\n",
      "Let me see if I can find you a Mercedes.\n"
     ]
    }
   ],
   "source": [
    "car = input(\"What kind of rental car you would like? \")\n",
    "print(f\"Let me see if I can find you a {car.title()}.\")"
   ]
  },
  {
   "cell_type": "markdown",
   "metadata": {},
   "source": [
    "<pre>\n",
    "<strong>7-2. Restaurant Seating:</strong> Write a program that asks the user how many people\n",
    "are in their dinner group. If the answer is more than eight, print a message saying \n",
    "they’ll have to wait for a table. Otherwise, report that their table is ready.\n",
    "</pre>"
   ]
  },
  {
   "cell_type": "code",
   "execution_count": 6,
   "metadata": {},
   "outputs": [
    {
     "name": "stdout",
     "output_type": "stream",
     "text": [
      "How many people are in your dinner group? 4\n",
      "Your table is ready.\n"
     ]
    }
   ],
   "source": [
    "people_number = input(\"How many people are in your dinner group? \")\n",
    "people_number = int(people_number)\n",
    "\n",
    "if people_number > 8:\n",
    "    print(\"You will have to wait for a table.\")\n",
    "else:\n",
    "    print(\"Your table is ready.\")"
   ]
  },
  {
   "cell_type": "markdown",
   "metadata": {},
   "source": [
    "<pre>\n",
    "<strong>7-3. Multiples of Ten:</strong> Ask the user for a number, and then report whether the\n",
    "number is a multiple of 10 or not.\n",
    "</pre>"
   ]
  },
  {
   "cell_type": "code",
   "execution_count": 10,
   "metadata": {},
   "outputs": [
    {
     "name": "stdout",
     "output_type": "stream",
     "text": [
      "Enter a number: 15\n",
      "Entered number is not a multiple of 10.\n"
     ]
    }
   ],
   "source": [
    "number = int(input(\"Enter a number: \"))\n",
    "\n",
    "if number % 10 == 0:\n",
    "    print(\"Entered number is a multiple of 10.\")\n",
    "else:\n",
    "    print(\"Entered number is not a multiple of 10.\")"
   ]
  },
  {
   "cell_type": "markdown",
   "metadata": {},
   "source": [
    "<hr>"
   ]
  }
 ],
 "metadata": {
  "kernelspec": {
   "display_name": "Python 3",
   "language": "python",
   "name": "python3"
  },
  "language_info": {
   "codemirror_mode": {
    "name": "ipython",
    "version": 3
   },
   "file_extension": ".py",
   "mimetype": "text/x-python",
   "name": "python",
   "nbconvert_exporter": "python",
   "pygments_lexer": "ipython3",
   "version": "3.8.3"
  }
 },
 "nbformat": 4,
 "nbformat_minor": 4
}
