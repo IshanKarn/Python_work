{
 "cells": [
  {
   "cell_type": "markdown",
   "metadata": {},
   "source": [
    "### Passing an Arbitrary Number of Arguments\n",
    "\n",
    "<pre>\n",
    "Sometimes we won’t know ahead of time how many arguments a function needs to accept. Fortunately, \n",
    "Python allows a function to collect an arbitrary number of arguments from the calling statement. \n",
    "</pre>"
   ]
  },
  {
   "cell_type": "code",
   "execution_count": 1,
   "metadata": {},
   "outputs": [
    {
     "name": "stdout",
     "output_type": "stream",
     "text": [
      "('pepperoni',)\n",
      "('mushrooms', 'green peppers', 'extra cheese')\n"
     ]
    }
   ],
   "source": [
    "# pizza.py\n",
    "\n",
    "# A use case:\n",
    "# Consider a function that builds a pizza. It needs to accept a\n",
    "# number of toppings, but we can’t know ahead of time how many toppings\n",
    "# a person will want. The function in the following example has one parameter, \n",
    "# *toppings, but this parameter collects as many arguments as the calling\n",
    "# line provides.\n",
    "\n",
    "def make_pizza(*toppings):\n",
    "    \"\"\"Print the list of toppings that have been requested.\"\"\"\n",
    "    print(toppings)\n",
    "\n",
    "make_pizza('pepperoni')\n",
    "make_pizza('mushrooms', 'green peppers', 'extra cheese')\n",
    "\n",
    "# NOTE: The asterisk in the parameter name *toppings tells Python to make an \n",
    "# empty tuple called toppings and pack whatever values it receives into this tuple."
   ]
  },
  {
   "cell_type": "code",
   "execution_count": 2,
   "metadata": {},
   "outputs": [
    {
     "name": "stdout",
     "output_type": "stream",
     "text": [
      "\n",
      "Making a pizza with the following toppings:\n",
      "- pepperoni\n",
      "\n",
      "Making a pizza with the following toppings:\n",
      "- mushrooms\n",
      "- green peppers\n",
      "- extra cheese\n"
     ]
    }
   ],
   "source": [
    "def make_pizza(*toppings):\n",
    "    \"\"\"Summarize the pizza we are about to make.\"\"\"\n",
    "    print(\"\\nMaking a pizza with the following toppings:\")\n",
    "    for topping in toppings:\n",
    "        print(f\"- {topping}\")\n",
    "\n",
    "make_pizza('pepperoni')\n",
    "make_pizza('mushrooms', 'green peppers', 'extra cheese')"
   ]
  },
  {
   "cell_type": "markdown",
   "metadata": {},
   "source": [
    "### Mixing Positional and Arbitrary Arguments\n",
    "<pre>\n",
    "If you want a function to accept several different kinds of arguments, <span style='background-color:yellow'>the parameter that accepts \n",
    "an arbitrary number of arguments must be placed last in the function definition.</span> \n",
    "Python matches positional and keyword arguments first and then collects any remaining arguments \n",
    "in the final parameter.\n",
    "</pre>"
   ]
  },
  {
   "cell_type": "code",
   "execution_count": 3,
   "metadata": {},
   "outputs": [
    {
     "name": "stdout",
     "output_type": "stream",
     "text": [
      "\n",
      "Making a 16-inch pizza with the following toppings:\n",
      "- pepperoni\n",
      "\n",
      "Making a 12-inch pizza with the following toppings:\n",
      "- mushrooms\n",
      "- green peppers\n",
      "- extra cheese\n"
     ]
    }
   ],
   "source": [
    "# For example, if the function needs to take in a size for the pizza, that\n",
    "# parameter must come before the parameter *toppings\n",
    "\n",
    "def make_pizza(size, *toppings):\n",
    "    \"\"\"Summarize the pizza we are about to make.\"\"\"\n",
    "    print(f\"\\nMaking a {size}-inch pizza with the following toppings:\")\n",
    "    for topping in toppings:\n",
    "        print(f\"- {topping}\")\n",
    "\n",
    "make_pizza(16, 'pepperoni')\n",
    "make_pizza(12, 'mushrooms', 'green peppers', 'extra cheese')\n",
    "# The function calls include an argument for the size first, followed by as many toppings as needed."
   ]
  },
  {
   "cell_type": "markdown",
   "metadata": {},
   "source": [
    "<pre><span style='background-color:yellow'>NOTE: You’ll often see the generic parameter name *args, which collects arbitrary positional arguments like this.</span></pre>"
   ]
  },
  {
   "cell_type": "markdown",
   "metadata": {},
   "source": [
    "### Using Arbitrary Keyword Arguments\n",
    "<pre>\n",
    "Sometimes we’ll want to accept an arbitrary number of arguments, but we\n",
    "won’t know ahead of time what kind of information will be passed to the\n",
    "function. In this case, we can write functions that accept as many key-value\n",
    "pairs as the calling statement provides.\n",
    "</pre>"
   ]
  },
  {
   "cell_type": "code",
   "execution_count": 4,
   "metadata": {},
   "outputs": [
    {
     "name": "stdout",
     "output_type": "stream",
     "text": [
      "{'location': 'princeton', 'field': 'physics', 'first_name': 'albert', 'last_name': 'einstein'}\n"
     ]
    }
   ],
   "source": [
    "# Example # user_profile.py\n",
    "# Building user profiles: we know we'll get information about a user, but we’re not sure\n",
    "# what kind of information we’ll receive.\n",
    "\n",
    "def build_profile(first, last, **user_info):\n",
    "    \"\"\"Build a dictionary containing everything we know about a user.\"\"\"\n",
    "    user_info['first_name'] = first\n",
    "    user_info['last_name'] = last\n",
    "    return user_info\n",
    "\n",
    "user_profile = build_profile('albert', 'einstein',\n",
    " location='princeton',\n",
    " field='physics')\n",
    "\n",
    "print(user_profile)\n",
    "\n",
    "# The double asterisks before the parameter **user_info cause Python to create\n",
    "# an empty dictionary called user_info and pack whatever name-value pairs\n",
    "# it receives into this dictionary. Within the function, we can access the \n",
    "# keyvalue pairs in user_info just as we would for any dictionary."
   ]
  },
  {
   "cell_type": "code",
   "execution_count": 8,
   "metadata": {},
   "outputs": [
    {
     "name": "stdout",
     "output_type": "stream",
     "text": [
      "{'location': 'princeton', 'field': 'physics', 'first_name': 'albert', 'last_name': 'einstein'}\n"
     ]
    }
   ],
   "source": [
    "# same as above with a new argument\n",
    "\n",
    "def build_profile(first, last, **user_info):\n",
    "    \"\"\"Build a dictionary containing everything we know about a user.\"\"\"\n",
    "    user_info['first_name'] = first\n",
    "    user_info['last_name'] = last\n",
    "    return user_info\n",
    "\n",
    "user_profile = build_profile('albert', 'einstein',\n",
    " location='princeton',\n",
    " field='physics', first_name = 'ishan') # observe change in arguments and output \n",
    "\n",
    "print(user_profile) # same output as above"
   ]
  },
  {
   "cell_type": "markdown",
   "metadata": {},
   "source": [
    "<pre><span style='background-color:yellow'>NOTE: You’ll often see the parameter name **kwargs used to collect non-specific keyword arguments.</span></pre>"
   ]
  },
  {
   "cell_type": "markdown",
   "metadata": {},
   "source": [
    "<hr>"
   ]
  }
 ],
 "metadata": {
  "kernelspec": {
   "display_name": "Python 3",
   "language": "python",
   "name": "python3"
  },
  "language_info": {
   "codemirror_mode": {
    "name": "ipython",
    "version": 3
   },
   "file_extension": ".py",
   "mimetype": "text/x-python",
   "name": "python",
   "nbconvert_exporter": "python",
   "pygments_lexer": "ipython3",
   "version": "3.8.3"
  }
 },
 "nbformat": 4,
 "nbformat_minor": 4
}
