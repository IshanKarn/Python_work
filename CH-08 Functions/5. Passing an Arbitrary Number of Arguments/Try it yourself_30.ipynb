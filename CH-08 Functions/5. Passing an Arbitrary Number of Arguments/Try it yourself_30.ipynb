{
 "cells": [
  {
   "cell_type": "markdown",
   "metadata": {},
   "source": [
    "## Try It Yourself\n"
   ]
  },
  {
   "cell_type": "markdown",
   "metadata": {},
   "source": [
    "<pre>\n",
    "<strong>8-12. Sandwiches:</strong> Write a function that accepts a list of items a person wants\n",
    "on a sandwich. The function should have one parameter that collects as many\n",
    "items as the function call provides, and it should print a summary of the sandwich \n",
    "that’s being ordered. Call the function three times, using a different number of \n",
    "arguments each time.\n",
    "</pre>\n"
   ]
  },
  {
   "cell_type": "code",
   "execution_count": 2,
   "metadata": {},
   "outputs": [
    {
     "name": "stdout",
     "output_type": "stream",
     "text": [
      "\n",
      "Following items are used on sandwich:\n",
      "- cabbage\n",
      "- chicken\n",
      "- tomato sauce\n",
      "- mayonesse\n",
      "\n",
      "Following items are used on sandwich:\n",
      "- cabbage\n",
      "\n",
      "Following items are used on sandwich:\n",
      "- chicken\n",
      "- hot sauce\n"
     ]
    }
   ],
   "source": [
    "# sandwiches.py\n",
    "\n",
    "def show_sandwich_toppings(*items):\n",
    "    \"\"\"summary of sandwich being ordered\"\"\"\n",
    "    print(\"\\nFollowing items are used on sandwich:\")\n",
    "    for item in items:\n",
    "        print(f'- {item}')\n",
    "\n",
    "show_sandwich_toppings('cabbage', 'chicken', 'tomato sauce', 'mayonesse')\n",
    "show_sandwich_toppings('cabbage')\n",
    "show_sandwich_toppings('chicken', 'hot sauce')"
   ]
  },
  {
   "cell_type": "markdown",
   "metadata": {},
   "source": [
    "<pre>\n",
    "<strong>8-13. User Profile:</strong> Start with a copy of user_profile.py from page 149. Build a\n",
    "profile of yourself by calling build_profile(), using your first and last names\n",
    "and three other key-value pairs that describe you.\n",
    "</pre>\n"
   ]
  },
  {
   "cell_type": "code",
   "execution_count": 3,
   "metadata": {},
   "outputs": [
    {
     "name": "stdout",
     "output_type": "stream",
     "text": [
      "{'location': 'India', 'major': 'B.Tech AI', 'year': '2', 'first_name': 'Ishan', 'last_name': 'Karn'}\n"
     ]
    }
   ],
   "source": [
    "# user_profile.py\n",
    "\n",
    "def build_profile(first, last, **user_info):\n",
    "    \"\"\"Build a dictionary containing everything we know about a user.\"\"\"\n",
    "    user_info['first_name'] = first\n",
    "    user_info['last_name'] = last\n",
    "    return user_info\n",
    "\n",
    "user_profile = build_profile('Ishan', 'Karn', location = 'India', major = 'B.Tech AI', year = '2')\n",
    "\n",
    "print(user_profile)"
   ]
  },
  {
   "cell_type": "markdown",
   "metadata": {},
   "source": [
    "<pre>\n",
    "<strong>8-14. Cars:</strong> Write a function that stores information about a car in a dictionary. \n",
    "The function should always receive a manufacturer and a model name. It should then \n",
    "accept an arbitrary number of keyword arguments. Call the function with the required \n",
    "information and two other name-value pairs, such as a color or an optional feature. \n",
    "Our function should work for a call like this one:\n",
    "car = make_car('subaru', 'outback', color='blue', tow_package=True)\n",
    "Print the dictionary that’s returned to make sure all the information was\n",
    "stored correctly.\n",
    "</pre>"
   ]
  },
  {
   "cell_type": "code",
   "execution_count": 4,
   "metadata": {},
   "outputs": [
    {
     "name": "stdout",
     "output_type": "stream",
     "text": [
      "{'color': 'blue', 'tow_package': True, 'manufacturer': 'subaru', 'model_name': 'outback'}\n"
     ]
    }
   ],
   "source": [
    "def make_car(manufacturer, model_name, **informations):\n",
    "    \"\"\"get information about car\"\"\"\n",
    "    informations['manufacturer'] = manufacturer\n",
    "    informations['model_name'] = model_name\n",
    "    return informations\n",
    "\n",
    "car = make_car('subaru', 'outback', color = 'blue', tow_package = True)\n",
    "\n",
    "print(car)"
   ]
  },
  {
   "cell_type": "markdown",
   "metadata": {},
   "source": [
    "<hr>"
   ]
  }
 ],
 "metadata": {
  "kernelspec": {
   "display_name": "Python 3",
   "language": "python",
   "name": "python3"
  },
  "language_info": {
   "codemirror_mode": {
    "name": "ipython",
    "version": 3
   },
   "file_extension": ".py",
   "mimetype": "text/x-python",
   "name": "python",
   "nbconvert_exporter": "python",
   "pygments_lexer": "ipython3",
   "version": "3.8.3"
  }
 },
 "nbformat": 4,
 "nbformat_minor": 4
}
