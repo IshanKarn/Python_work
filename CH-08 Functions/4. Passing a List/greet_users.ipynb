{
 "cells": [
  {
   "cell_type": "markdown",
   "metadata": {},
   "source": [
    "<pre>\n",
    "We’ll often find it useful to pass a list to a function, whether it’s a list of\n",
    "names, numbers, or more complex objects, such as dictionaries. When we\n",
    "pass a list to a function, the function gets direct access to the contents of\n",
    "the list. \n",
    "</pre>"
   ]
  },
  {
   "cell_type": "code",
   "execution_count": 3,
   "metadata": {},
   "outputs": [
    {
     "name": "stdout",
     "output_type": "stream",
     "text": [
      "Hello, Hannah!\n",
      "Hello, Ty!\n",
      "Hello, Margot!\n",
      "Hello, Sam!\n"
     ]
    }
   ],
   "source": [
    "# greet_users.py\n",
    "\n",
    "# A use case\n",
    "# we have a list of users and want to print a greeting to each. The\n",
    "# following example sends a list of names to a function called greet_users(),\n",
    "# which greets each person in the list individually.\n",
    "\n",
    "def greet_users(names):\n",
    "    \"\"\"Print a simple greeting to each user in the list.\"\"\"\n",
    "    for name in names:\n",
    "        msg = f\"Hello, {name.title()}!\"\n",
    "        print(msg)\n",
    "\n",
    "usernames = ['hannah', 'ty', 'margot', 'sam']\n",
    "greet_users(usernames)"
   ]
  },
  {
   "cell_type": "markdown",
   "metadata": {},
   "source": [
    "### Modifying a List in a Function\n",
    "<pre>\n",
    "When we pass a list to a function, the function can modify the list. Any\n",
    "changes made to the list inside the function’s body are permanent, allowing\n",
    "us to work efficiently even when we’re dealing with large amounts of data.\n",
    "</pre>"
   ]
  },
  {
   "cell_type": "code",
   "execution_count": 4,
   "metadata": {},
   "outputs": [
    {
     "name": "stdout",
     "output_type": "stream",
     "text": [
      "Printing model: dodecahedron\n",
      "Printing model: robot pendant\n",
      "Printing model: phone case\n",
      "\n",
      "The following models have been printed:\n",
      "dodecahedron\n",
      "robot pendant\n",
      "phone case\n"
     ]
    }
   ],
   "source": [
    "# printing_models.py\n",
    "\n",
    "# A use case:\n",
    "# Consider a company that creates 3D printed models of designs that\n",
    "# users submit. Designs that need to be printed are stored in a list, and after\n",
    "# being printed they’re moved to a separate list.\n",
    "\n",
    "# Start with some designs that need to be printed.\n",
    "unprinted_designs = ['phone case', 'robot pendant', 'dodecahedron']\n",
    "completed_models = []\n",
    "\n",
    "# Simulate printing each design, until none are left.\n",
    "# Move each design to completed_models after printing.\n",
    "while unprinted_designs:\n",
    "    current_design = unprinted_designs.pop()\n",
    "    print(f\"Printing model: {current_design}\")\n",
    "    completed_models.append(current_design)\n",
    "\n",
    "# Display all completed models.\n",
    "print(\"\\nThe following models have been printed:\")\n",
    "for completed_model in completed_models:\n",
    "    print(completed_model)"
   ]
  },
  {
   "cell_type": "code",
   "execution_count": null,
   "metadata": {},
   "outputs": [],
   "source": [
    "# We can reorganize this code by writing two functions, each of which\n",
    "# does one specific job. Most of the code won’t change; we’re just making\n",
    "# it more carefully structured. The first function will handle printing the\n",
    "# designs, and the second will summarize the prints that have been made.\n",
    "# If we realize the printing code needs to be modified,\n",
    "# we can change the code once, and our changes will take place everywhere\n",
    "# the function is called. This technique is more efficient than having to update\n",
    "# code separately in several places in the program.\n",
    "# This example also demonstrates the idea that every function should\n",
    "# have one specific job.\n",
    "\n",
    "def print_models(unprinted_designs, completed_models):\n",
    "    \"\"\"\n",
    "    Simulate printing each design, until none are left.\n",
    "    Move each design to completed_models after printing.\n",
    "    \"\"\"\n",
    "    while unprinted_designs:\n",
    "        current_design = unprinted_designs.pop()\n",
    "        print(f\"Printing model: {current_design}\")\n",
    "        completed_models.append(current_design)\n",
    "\n",
    "def show_completed_models(completed_models):\n",
    "    \"\"\"Show all the models that were printed.\"\"\"\n",
    "    print(\"\\nThe following models have been printed:\")\n",
    "    for completed_model in completed_models:\n",
    "        print(completed_model)\n",
    "\n",
    "unprinted_designs = ['phone case', 'robot pendant', 'dodecahedron']\n",
    "completed_models = []\n",
    "print_models(unprinted_designs, completed_models)\n",
    "show_completed_models(completed_models)\n",
    "\n",
    "# Remember that we can always call a function from another function,\n",
    "# which can be helpful when splitting a complex task into a series of steps."
   ]
  },
  {
   "cell_type": "markdown",
   "metadata": {},
   "source": [
    "### Preventing a Function from Modifying a List\n"
   ]
  },
  {
   "cell_type": "code",
   "execution_count": null,
   "metadata": {},
   "outputs": [],
   "source": [
    "# Because we moved all the design names out of unprinted_designs, the\n",
    "# list is now empty, and the empty list is the only version we have; the original is gone. \n",
    "# In this case, we can address this issue by passing the function a\n",
    "# copy of the list, not the original. Any changes the function makes to the list\n",
    "# will affect only the copy, leaving the original list intact.\n",
    "\n",
    "# We can send a copy of a list to a function like this:\n",
    "# SYNTAX: function_name(list_nmae[:])   # The slice notation [:] makes a copy of the list to send to the function.\n",
    "\n",
    "# example (use-case)\n",
    "\n",
    "print_models(unprinted_designs[:], completed_models)"
   ]
  },
  {
   "cell_type": "markdown",
   "metadata": {},
   "source": [
    "<pre>\n",
    "<span style='background-color: yellow'>\n",
    "NOTE:</span> Even though you can preserve the contents of a list by passing a copy\n",
    "of it to your functions, you should pass the original list to functions unless\n",
    "you have a specific reason to pass a copy. <span style='background-color: yellow'>It’s more efficient for a function\n",
    "to work with an existing list to avoid using the time and memory needed to\n",
    "make a separate copy, especially when you’re working with large lists.\n",
    "</span>\n",
    "</pre>"
   ]
  },
  {
   "cell_type": "markdown",
   "metadata": {},
   "source": [
    "<hr>"
   ]
  }
 ],
 "metadata": {
  "kernelspec": {
   "display_name": "Python 3",
   "language": "python",
   "name": "python3"
  },
  "language_info": {
   "codemirror_mode": {
    "name": "ipython",
    "version": 3
   },
   "file_extension": ".py",
   "mimetype": "text/x-python",
   "name": "python",
   "nbconvert_exporter": "python",
   "pygments_lexer": "ipython3",
   "version": "3.8.3"
  }
 },
 "nbformat": 4,
 "nbformat_minor": 4
}
