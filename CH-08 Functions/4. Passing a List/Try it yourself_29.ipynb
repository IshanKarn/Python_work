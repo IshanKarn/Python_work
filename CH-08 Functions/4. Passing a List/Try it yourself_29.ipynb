{
 "cells": [
  {
   "cell_type": "markdown",
   "metadata": {},
   "source": [
    "## Try It Yourself"
   ]
  },
  {
   "cell_type": "markdown",
   "metadata": {},
   "source": [
    "<pre>\n",
    "<strong>8-9. Messages:</strong> Make a list containing a series of short text messages. Pass the\n",
    "list to a function called show_messages(), which prints each text message.\n",
    "</pre>"
   ]
  },
  {
   "cell_type": "code",
   "execution_count": 1,
   "metadata": {},
   "outputs": [
    {
     "name": "stdout",
     "output_type": "stream",
     "text": [
      "Hi\n",
      "Hello\n",
      "Howdy?\n",
      "Good morning\n",
      "Good night\n"
     ]
    }
   ],
   "source": [
    "# messages.py\n",
    "\n",
    "messages = ['Hi', 'Hello', 'Howdy?', 'Good morning', 'Good night']\n",
    "\n",
    "def show_messages(msges):\n",
    "    for msg in msges:\n",
    "        print(msg)\n",
    "    \n",
    "show_messages(messages)"
   ]
  },
  {
   "cell_type": "markdown",
   "metadata": {},
   "source": [
    "<pre>\n",
    "<strong>8-10. Sending Messages:</strong> Start with a copy of your program from Exercise 8-9.\n",
    "Write a function called send_messages() that prints each text message and\n",
    "moves each message to a new list called sent_messages as it’s printed. After\n",
    "calling the function, print both of your lists to make sure the messages were\n",
    "moved correctly.\n",
    "</pre>\n"
   ]
  },
  {
   "cell_type": "code",
   "execution_count": 9,
   "metadata": {},
   "outputs": [
    {
     "name": "stdout",
     "output_type": "stream",
     "text": [
      "Sending... Hi\n",
      "Sending... Hello\n",
      "Sending... Howdy?\n",
      "Sending... Good morning\n",
      "Sending... Good night\n",
      "[]\n",
      "['Hi', 'Hello', 'Howdy?', 'Good morning', 'Good night']\n"
     ]
    }
   ],
   "source": [
    "# sending_messages.py\n",
    "\n",
    "messages = ['Hi', 'Hello', 'Howdy?', 'Good morning', 'Good night']\n",
    "sent_messages = []\n",
    "        \n",
    "def send_messages(msges, sent_msges):\n",
    "    while msges:\n",
    "        msg = msges.pop(0)\n",
    "        print(f'Sending... {msg}')\n",
    "        sent_msges.append(msg)\n",
    "\n",
    "send_messages(messages, sent_messages)\n",
    "\n",
    "print(messages)\n",
    "print(sent_messages)"
   ]
  },
  {
   "cell_type": "markdown",
   "metadata": {},
   "source": [
    "<pre>\n",
    "<strong>8-11. Archived Messages:</strong> Start with your work from Exercise 8-10. Call the\n",
    "function send_messages() with a copy of the list of messages. After calling the\n",
    "function, print both of your lists to show that the original list has retained its\n",
    "messages.\n",
    "</pre>"
   ]
  },
  {
   "cell_type": "code",
   "execution_count": 11,
   "metadata": {},
   "outputs": [
    {
     "name": "stdout",
     "output_type": "stream",
     "text": [
      "Sending... Hi\n",
      "Sending... Hello\n",
      "Sending... Howdy?\n",
      "Sending... Good morning\n",
      "Sending... Good night\n",
      "['Hi', 'Hello', 'Howdy?', 'Good morning', 'Good night']\n",
      "['Hi', 'Hello', 'Howdy?', 'Good morning', 'Good night']\n"
     ]
    }
   ],
   "source": [
    "# archived_messages.py\n",
    "\n",
    "messages = ['Hi', 'Hello', 'Howdy?', 'Good morning', 'Good night']\n",
    "sent_messages = []\n",
    "        \n",
    "def send_messages(msges, sent_msges):\n",
    "    while msges:\n",
    "        msg = msges.pop(0)\n",
    "        print(f'Sending... {msg}')\n",
    "        sent_msges.append(msg)\n",
    "\n",
    "send_messages(messages[:], sent_messages)\n",
    "\n",
    "print(messages)\n",
    "print(sent_messages)"
   ]
  },
  {
   "cell_type": "markdown",
   "metadata": {},
   "source": [
    "<hr>"
   ]
  }
 ],
 "metadata": {
  "kernelspec": {
   "display_name": "Python 3",
   "language": "python",
   "name": "python3"
  },
  "language_info": {
   "codemirror_mode": {
    "name": "ipython",
    "version": 3
   },
   "file_extension": ".py",
   "mimetype": "text/x-python",
   "name": "python",
   "nbconvert_exporter": "python",
   "pygments_lexer": "ipython3",
   "version": "3.8.3"
  }
 },
 "nbformat": 4,
 "nbformat_minor": 4
}
