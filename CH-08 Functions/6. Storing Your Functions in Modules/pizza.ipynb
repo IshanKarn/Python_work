{
 "cells": [
  {
   "cell_type": "markdown",
   "metadata": {},
   "source": [
    "### Storing Your Functions in Modules\n"
   ]
  },
  {
   "cell_type": "markdown",
   "metadata": {},
   "source": [
    "<pre>\n",
    "One advantage of functions is the way they separate blocks of code from our main program.\n",
    "We can go a step further by storing our functions in a separate file called a module and \n",
    "then importing that module into our main program. An import statement tells Python to\n",
    "make the code in a module available in the currently running program file.\n",
    "</pre>\n",
    "<pre>\n",
    "Benefits:\n",
    "Storing our functions in a separate file allows us to hide the details of\n",
    "our program’s code and focus on its higher-level logic. It also allows us to\n",
    "reuse functions in many different programs. When we store our functions\n",
    "in separate files, we can share those files with other programmers without\n",
    "having to share your entire program. Knowing how to import functions\n",
    "also allows us to use libraries of functions that other programmers have\n",
    "written.\n",
    "\n",
    "Followings are several ways to import a module:\n",
    "</pre>"
   ]
  },
  {
   "cell_type": "markdown",
   "metadata": {},
   "source": [
    "### Importing an Entire Module\n",
    "<pre>\n",
    "To start importing functions, we first need to create a module. <span style= 'background-color:yellow'>A module is a file \n",
    "ending in .py that contains the code you want to import into your program.</span>\n",
    "</pre>"
   ]
  },
  {
   "cell_type": "code",
   "execution_count": 2,
   "metadata": {},
   "outputs": [],
   "source": [
    "# Example\n",
    "# Make a module that contains the function make_pizza(). To\n",
    "# make this module, we’ll remove everything from the file pizza.py \n",
    "# except the function make_pizza()\n",
    "\n",
    "def make_pizza(size, *toppings):\n",
    "    \"\"\"Summarize the pizza we are about to make.\"\"\"\n",
    "    print(f\"\\nMaking a {size}-inch pizza with the following toppings:\")\n",
    "    for topping in toppings:\n",
    "        print(f\"- {topping}\")"
   ]
  },
  {
   "cell_type": "code",
   "execution_count": 4,
   "metadata": {},
   "outputs": [
    {
     "data": {
      "text/plain": [
       "\"\\n# Make a separate file called making_pizzas.py in the same directory as pizza.py.\\n# making_pizzas.py              (new python file)\\nimport pizza\\npizza.make_pizza(16, 'pepperoni')\\npizza.make_pizza(12, 'mushrooms', 'green peppers', 'extra cheese')\\n# This file imports the module we just created and then makes two calls to make_pizza():\\n\""
      ]
     },
     "execution_count": 4,
     "metadata": {},
     "output_type": "execute_result"
    }
   ],
   "source": [
    "\"\"\"\n",
    "# Make a separate file called making_pizzas.py in the same directory as pizza.py.\n",
    "# making_pizzas.py              (new python file)\n",
    "import pizza\n",
    "pizza.make_pizza(16, 'pepperoni')\n",
    "pizza.make_pizza(12, 'mushrooms', 'green peppers', 'extra cheese')\n",
    "# This file imports the module we just created and then makes two calls to make_pizza():\n",
    "\"\"\""
   ]
  },
  {
   "cell_type": "markdown",
   "metadata": {},
   "source": [
    "<pre><span style = 'background-color: red; color:yellow;';>Continued in making_pizzas.py file...</span></pre>"
   ]
  },
  {
   "cell_type": "markdown",
   "metadata": {},
   "source": [
    "<hr>"
   ]
  }
 ],
 "metadata": {
  "kernelspec": {
   "display_name": "Python 3",
   "language": "python",
   "name": "python3"
  },
  "language_info": {
   "codemirror_mode": {
    "name": "ipython",
    "version": 3
   },
   "file_extension": ".py",
   "mimetype": "text/x-python",
   "name": "python",
   "nbconvert_exporter": "python",
   "pygments_lexer": "ipython3",
   "version": "3.8.3"
  }
 },
 "nbformat": 4,
 "nbformat_minor": 4
}
