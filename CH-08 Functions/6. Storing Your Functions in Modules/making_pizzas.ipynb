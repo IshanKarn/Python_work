{
 "cells": [
  {
   "cell_type": "markdown",
   "metadata": {},
   "source": [
    "### Importing an Entire Module (Contd.)\n",
    "<span style='background-color:yellow'>SYNTAX: import module_name</span>"
   ]
  },
  {
   "cell_type": "code",
   "execution_count": 5,
   "metadata": {},
   "outputs": [
    {
     "ename": "ModuleNotFoundError",
     "evalue": "No module named 'pizza'",
     "output_type": "error",
     "traceback": [
      "\u001b[1;31m---------------------------------------------------------------------------\u001b[0m",
      "\u001b[1;31mModuleNotFoundError\u001b[0m                       Traceback (most recent call last)",
      "\u001b[1;32m<ipython-input-5-db4c8d38fe36>\u001b[0m in \u001b[0;36m<module>\u001b[1;34m\u001b[0m\n\u001b[1;32m----> 1\u001b[1;33m \u001b[1;32mimport\u001b[0m \u001b[0mpizza\u001b[0m\u001b[1;33m.\u001b[0m\u001b[0mipynb\u001b[0m\u001b[1;33m\u001b[0m\u001b[1;33m\u001b[0m\u001b[0m\n\u001b[0m\u001b[0;32m      2\u001b[0m \u001b[0mpizza\u001b[0m\u001b[1;33m.\u001b[0m\u001b[0mmake_pizza\u001b[0m\u001b[1;33m(\u001b[0m\u001b[1;36m16\u001b[0m\u001b[1;33m,\u001b[0m \u001b[1;34m'pepperoni'\u001b[0m\u001b[1;33m)\u001b[0m\u001b[1;33m\u001b[0m\u001b[1;33m\u001b[0m\u001b[0m\n\u001b[0;32m      3\u001b[0m \u001b[0mpizza\u001b[0m\u001b[1;33m.\u001b[0m\u001b[0mmake_pizza\u001b[0m\u001b[1;33m(\u001b[0m\u001b[1;36m12\u001b[0m\u001b[1;33m,\u001b[0m \u001b[1;34m'mushrooms'\u001b[0m\u001b[1;33m,\u001b[0m \u001b[1;34m'green peppers'\u001b[0m\u001b[1;33m,\u001b[0m \u001b[1;34m'extra cheese'\u001b[0m\u001b[1;33m)\u001b[0m\u001b[1;33m\u001b[0m\u001b[1;33m\u001b[0m\u001b[0m\n",
      "\u001b[1;31mModuleNotFoundError\u001b[0m: No module named 'pizza'"
     ]
    }
   ],
   "source": [
    "import pizza\n",
    "pizza.make_pizza(16, 'pepperoni')\n",
    "pizza.make_pizza(12, 'mushrooms', 'green peppers', 'extra cheese')\n",
    "\n",
    "# Te line import pizza tells Python to open the file pizza.py and copy all \n",
    "# the functions from it into this program."
   ]
  },
  {
   "cell_type": "markdown",
   "metadata": {},
   "source": [
    "<pre>It seems jupyter doesn't support python file as module as in case of pure python.\n",
    "How to do this? \n",
    "<a href='https://jupyter-notebook.readthedocs.io/en/stable/examples/Notebook/Importing%20Notebooks.html'>Click to Read.</a>\n",
    "and \n",
    "<a href = 'https://www.google.com/search?q=import+jupyter+notebook+as+module&oq=import+jupyter+notebook+as+module&aqs=chrome..69i57j0i22i30j69i60.18011j1j7&sourceid=chrome&ie=UTF-8'>Click me!</a>\n",
    "\n",
    "For now we use vscode and create .py files if needed.\n",
    "\n",
    "\n",
    "\n",
    "</pre>"
   ]
  },
  {
   "cell_type": "code",
   "execution_count": 1,
   "metadata": {},
   "outputs": [
    {
     "name": "stdout",
     "output_type": "stream",
     "text": [
      "\n",
      "Making a 16-inch pizza with the following toppings:\n",
      "- pepperoni\n",
      "\n",
      "Making a 12-inch pizza with the following toppings:\n",
      "- mushrooms\n",
      "- green peppers\n",
      "- extra cheese\n"
     ]
    }
   ],
   "source": [
    "# alternative\n",
    "\n",
    "import module                           # module is a .py file containing same code as pizza (can be treated as module)\n",
    "module.make_pizza(16, 'pepperoni')\n",
    "module.make_pizza(12, 'mushrooms', 'green peppers', 'extra cheese')"
   ]
  },
  {
   "cell_type": "markdown",
   "metadata": {},
   "source": [
    "<pre>\n",
    "This first approach to importing, in which we simply write import followed by the \n",
    "name of the module, makes every function from the module available in our program. \n",
    "If we use this kind of import statement to import an entire module named module_name.py, \n",
    "each function in the module is available through the following SYNTAX:\n",
    "<span style='background-color:yellow'>module_name.function_name()</span>\n",
    "</pre>"
   ]
  },
  {
   "cell_type": "markdown",
   "metadata": {},
   "source": [
    "### Importing Specific Functions\n"
   ]
  },
  {
   "cell_type": "markdown",
   "metadata": {},
   "source": [
    "<pre>\n",
    "We can import a specific function from a module.The general SYNTAX for this approach:\n",
    "<span style='background-color:yellow'>from module_name import function_name</span>\n",
    "We can import as many functions as we want from a module by separating each function’s name with a comma.\n",
    "<span style='background-color:yellow'>SYNTAX: from module_name import function_01, function_02, function_03</span>\n",
    "NOTE: With this syntax, we don’t need to use the dot notation when we call a\n",
    "function. Because we’ve explicitly imported the function make_pizza() in the\n",
    "import statement, we can call it by name when we use the function.</pre>"
   ]
  },
  {
   "cell_type": "code",
   "execution_count": 3,
   "metadata": {},
   "outputs": [
    {
     "name": "stdout",
     "output_type": "stream",
     "text": [
      "\n",
      "Making a 16-inch pizza with the following toppings:\n",
      "- pepperoni\n",
      "\n",
      "Making a 12-inch pizza with the following toppings:\n",
      "- mushrooms\n",
      "- green peppers\n",
      "- extra cheese\n"
     ]
    }
   ],
   "source": [
    "# Example\n",
    "\n",
    "from module import make_pizza\n",
    "make_pizza(16, 'pepperoni')\n",
    "make_pizza(12, 'mushrooms', 'green peppers', 'extra cheese')"
   ]
  },
  {
   "cell_type": "markdown",
   "metadata": {},
   "source": [
    "### Using as to Give a Function an Alias\n",
    "<pre>\n",
    "If the name of a function we’re importing might conflict with an existing name in our \n",
    "program or if the function name is long, we can use a short, unique alias—an alternate \n",
    "name similar to a nickname for the function.\n",
    "<span style='background-color:yellow'>SYNTAX: from module_name import function_name as fn</span>\n",
    "</pre>"
   ]
  },
  {
   "cell_type": "code",
   "execution_count": 5,
   "metadata": {},
   "outputs": [
    {
     "name": "stdout",
     "output_type": "stream",
     "text": [
      "\n",
      "Making a 16-inch pizza with the following toppings:\n",
      "- pepperoni\n",
      "\n",
      "Making a 12-inch pizza with the following toppings:\n",
      "- mushrooms\n",
      "- green peppers\n",
      "- extra cheese\n"
     ]
    }
   ],
   "source": [
    "# Example\n",
    "\n",
    "from module import make_pizza as mp\n",
    "\n",
    "mp(16, 'pepperoni')\n",
    "mp(12, 'mushrooms', 'green peppers', 'extra cheese')\n",
    "\n",
    "# The import statement shown here renames the function make_pizza() to mp() in this program."
   ]
  },
  {
   "cell_type": "markdown",
   "metadata": {},
   "source": [
    "### Using as to Give a Module an Alias\n",
    "<pre>We can also provide an alias for a module name.\n",
    "<span style='background-color:yellow'>SYNTAX: import module_name as mn</pre>"
   ]
  },
  {
   "cell_type": "code",
   "execution_count": 7,
   "metadata": {},
   "outputs": [
    {
     "name": "stdout",
     "output_type": "stream",
     "text": [
      "\n",
      "Making a 16-inch pizza with the following toppings:\n",
      "- pepperoni\n",
      "\n",
      "Making a 12-inch pizza with the following toppings:\n",
      "- mushrooms\n",
      "- green peppers\n",
      "- extra cheese\n"
     ]
    }
   ],
   "source": [
    "# Example\n",
    "\n",
    "import module as p                 # module is a .py file containing same code as pizza (can be treated as module)\n",
    "p.make_pizza(16, 'pepperoni')\n",
    "p.make_pizza(12, 'mushrooms', 'green peppers', 'extra cheese')"
   ]
  },
  {
   "cell_type": "markdown",
   "metadata": {},
   "source": [
    "### Importing All Functions in a Module\n",
    "<pre>We can tell Python to import every function in a module by using the asterisk (*) operator.\n",
    "<span style='background-color:yellow'>SYNTAX: from module_name import *</span>\n",
    "The asterisk in the import statement tells Python to copy every function from the module \n",
    "into the program file. Because every function is imported, we can call each function by name \n",
    "without using the dot notation.\n",
    "</pre>"
   ]
  },
  {
   "cell_type": "code",
   "execution_count": 8,
   "metadata": {},
   "outputs": [
    {
     "name": "stdout",
     "output_type": "stream",
     "text": [
      "\n",
      "Making a 16-inch pizza with the following toppings:\n",
      "- pepperoni\n",
      "\n",
      "Making a 12-inch pizza with the following toppings:\n",
      "- mushrooms\n",
      "- green peppers\n",
      "- extra cheese\n"
     ]
    }
   ],
   "source": [
    "from module import *\n",
    "make_pizza(16, 'pepperoni')\n",
    "make_pizza(12, 'mushrooms', 'green peppers', 'extra cheese')"
   ]
  },
  {
   "cell_type": "markdown",
   "metadata": {},
   "source": [
    "<pre>\n",
    "However, it’s best not to use this approach when you’re working with larger modules, if the module has a \n",
    "function  name that matches an existing name in your project, you can get some unexpected results. Python \n",
    "may see several functions or variables with the same name, and instead of importing all the functions \n",
    "separately, it will overwrite the functions. \n",
    "The best approach is to import the function or functions you want, or import the entire module and use \n",
    "the dot notation.\n",
    "</pre>"
   ]
  },
  {
   "cell_type": "markdown",
   "metadata": {},
   "source": [
    "<hr>"
   ]
  }
 ],
 "metadata": {
  "kernelspec": {
   "display_name": "Python 3",
   "language": "python",
   "name": "python3"
  },
  "language_info": {
   "codemirror_mode": {
    "name": "ipython",
    "version": 3
   },
   "file_extension": ".py",
   "mimetype": "text/x-python",
   "name": "python",
   "nbconvert_exporter": "python",
   "pygments_lexer": "ipython3",
   "version": "3.8.3"
  }
 },
 "nbformat": 4,
 "nbformat_minor": 4
}
