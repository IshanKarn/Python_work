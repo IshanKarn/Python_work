{
 "cells": [
  {
   "cell_type": "markdown",
   "metadata": {},
   "source": [
    "### Styling Convention As per PEP8\n",
    "<pre>\n",
    "Functions should have descriptive names, and these names should use\n",
    "lowercase letters and underscores. \n",
    "Module names should use these conventions as well.\n",
    "Every function should have a comment that explains concisely what\n",
    "the function does. This comment should appear immediately after the\n",
    "function definition and use the docstring format.\n",
    "While specifying a default value for a parameter, no spaces should be \n",
    "used on either side of the equal sign\n",
    "The same convention should be used for keyword arguments in function calls.\n",
    "</pre>"
   ]
  },
  {
   "cell_type": "code",
   "execution_count": 4,
   "metadata": {},
   "outputs": [],
   "source": [
    "# Example\n",
    "\n",
    "# def function_name(parameter_0, parameter_1='default value'):\n",
    "# function_name(value_0, parameter_1='value')"
   ]
  },
  {
   "cell_type": "markdown",
   "metadata": {},
   "source": [
    "<pre>\n",
    "PEP 8 (https://www.python.org/dev/peps/pep-0008/) recommends that\n",
    "you limit lines of code to 79 characters so every line is visible in a reasonably\n",
    "sized editor window. If a set of parameters causes a function’s definition to\n",
    "be longer than 79 characters, press enter after the opening parenthesis on\n",
    "the definition line. On the next line, press tab twice to separate the list of\n",
    "arguments from the body of the function, which will only be indented one\n",
    "level.\n",
    "</pre>"
   ]
  },
  {
   "cell_type": "code",
   "execution_count": null,
   "metadata": {},
   "outputs": [],
   "source": [
    "# Example\n",
    "\n",
    "# def function_name(\n",
    "#     parameter_0, parameter_1, parameter_2,\n",
    "#     parameter_3, parameter_4, parameter_5):\n",
    "#     function body..."
   ]
  },
  {
   "cell_type": "markdown",
   "metadata": {},
   "source": [
    "<pre>If your program or module has more than one function, you can separate each \n",
    "by two blank lines to make it easier to see where one function ends and the \n",
    "next one begins.\n",
    "All import statements should be written at the beginning of a file.\n",
    "The only exception is if you use comments at the beginning of your file to\n",
    "describe the overall program.</pre>"
   ]
  },
  {
   "cell_type": "markdown",
   "metadata": {},
   "source": [
    "<hr>"
   ]
  }
 ],
 "metadata": {
  "kernelspec": {
   "display_name": "Python 3",
   "language": "python",
   "name": "python3"
  },
  "language_info": {
   "codemirror_mode": {
    "name": "ipython",
    "version": 3
   },
   "file_extension": ".py",
   "mimetype": "text/x-python",
   "name": "python",
   "nbconvert_exporter": "python",
   "pygments_lexer": "ipython3",
   "version": "3.8.3"
  }
 },
 "nbformat": 4,
 "nbformat_minor": 4
}
