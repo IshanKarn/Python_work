{
 "cells": [
  {
   "cell_type": "markdown",
   "metadata": {},
   "source": [
    "<pre>\n",
    "<span style='background-color:yellow'>Functions</span> allow us to <span style='background-color:yellow'>break our programs into small parts</span>, <span style='background-color:yellow'>each of which does one specific job</span>. \n",
    "We can call a function as many times as we want, and we can store our functions in separate files. \n",
    "By using functions, we’ll be able to <span style='background-color:yellow'>write more efficient code that’s easier to troubleshoot and \n",
    "maintain and that can be reused in many different programs</span>.\n",
    "Functions are named blocks of code that are designed to do one specific job.\n",
    "When we want to <span style='background-color:yellow'>perform a particular task</span> that we’ve defined in a function, we call the function\n",
    "responsible for it.\n",
    "Store <span style='background-color:yellow'>functions in separate files called modules</span> to help organize your main program files.\n",
    "</pre>"
   ]
  },
  {
   "cell_type": "code",
   "execution_count": 3,
   "metadata": {},
   "outputs": [
    {
     "name": "stdout",
     "output_type": "stream",
     "text": [
      "Hello!\n"
     ]
    }
   ],
   "source": [
    "def greet_user():\n",
    "    \"\"\"Display a simple greeting.\"\"\"\n",
    "    print(\"Hello!\")\n",
    "greet_user()\n",
    "\n",
    "# The first line uses the keyword def to inform Python that you’re defining a function. \n",
    "# This is the function definition, which tells Python the name of the function and, if\n",
    "# applicable, what kind of information the function needs to do its job. The\n",
    "# parentheses hold that information.\n",
    "# Finally, the definition ends in a colon.\n",
    "# Any indented lines that follow def greet_user(): make up the body of\n",
    "# the function. The text at line 2 is a comment called a docstring, which describes\n",
    "# what the function does. Docstrings are enclosed in triple quotes, which\n",
    "# Python looks for when it generates documentation for the functions in our\n",
    "# programs.\n",
    "# Only job the function does printing \"Hello!\", in line 3.\n",
    "# A function call tells Python to execute the code in the function. To call a function, we write\n",
    "# the name of the function, followed by any necessary information in parentheses, as shown at line 4."
   ]
  },
  {
   "cell_type": "markdown",
   "metadata": {},
   "source": [
    "### Passing Information to a Function\n"
   ]
  },
  {
   "cell_type": "code",
   "execution_count": 4,
   "metadata": {},
   "outputs": [
    {
     "name": "stdout",
     "output_type": "stream",
     "text": [
      "Hello, Jesse!\n"
     ]
    }
   ],
   "source": [
    "def greet_user(username):\n",
    "    \"\"\"Display a simple greeting.\"\"\"\n",
    "    print(f\"Hello, {username.title()}!\")\n",
    "\n",
    "greet_user('jesse')"
   ]
  },
  {
   "cell_type": "markdown",
   "metadata": {},
   "source": [
    "### Arguments and Parameters\n",
    "<pre>\n",
    "The variable username in the definition of greet_user() is an example of a\n",
    "<span style='background-color:yellow'>parameter, a piece of information the function needs to do its job.</span> The value\n",
    "'jesse' in greet_user('jesse') is an example of an argument. \n",
    "<span style='background-color:yellow'>An argument is a piece of information that’s passed from a function call to a function.</span>\n",
    "</pre>"
   ]
  },
  {
   "cell_type": "code",
   "execution_count": 5,
   "metadata": {},
   "outputs": [
    {
     "name": "stdout",
     "output_type": "stream",
     "text": [
      "Hello, Jesse!\n"
     ]
    }
   ],
   "source": [
    "def greet_user(username):                             # parameter: username\n",
    "    \"\"\"Display a simple greeting.\"\"\"\n",
    "    print(f\"Hello, {username.title()}!\")\n",
    "\n",
    "greet_user('jesse')                                   # argument: jesse"
   ]
  },
  {
   "cell_type": "markdown",
   "metadata": {},
   "source": [
    "<hr>"
   ]
  }
 ],
 "metadata": {
  "kernelspec": {
   "display_name": "Python 3",
   "language": "python",
   "name": "python3"
  },
  "language_info": {
   "codemirror_mode": {
    "name": "ipython",
    "version": 3
   },
   "file_extension": ".py",
   "mimetype": "text/x-python",
   "name": "python",
   "nbconvert_exporter": "python",
   "pygments_lexer": "ipython3",
   "version": "3.8.3"
  }
 },
 "nbformat": 4,
 "nbformat_minor": 4
}
