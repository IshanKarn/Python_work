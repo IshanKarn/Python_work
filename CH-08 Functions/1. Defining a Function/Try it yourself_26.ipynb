{
 "cells": [
  {
   "cell_type": "markdown",
   "metadata": {},
   "source": [
    "## Try It Yourself"
   ]
  },
  {
   "cell_type": "markdown",
   "metadata": {},
   "source": [
    "<pre>\n",
    "<strong>8-1. Message:</strong> Write a function called display_message() that prints one sentence \n",
    "telling everyone what you are learning about in this chapter. Call the function, and \n",
    "make sure the message displays correctly.\n",
    "</pre>\n"
   ]
  },
  {
   "cell_type": "code",
   "execution_count": 2,
   "metadata": {},
   "outputs": [
    {
     "name": "stdout",
     "output_type": "stream",
     "text": [
      "Learning about functions.\n"
     ]
    }
   ],
   "source": [
    "def display_message():\n",
    "    print(\"Learning about functions.\")\n",
    "    \n",
    "display_message()"
   ]
  },
  {
   "cell_type": "markdown",
   "metadata": {},
   "source": [
    "<pre>\n",
    "<strong>8-2. Favorite Book:</strong> Write a function called favorite_book() that accepts one\n",
    "parameter, title. The function should print a message, such as One of my\n",
    "favorite books is Alice in Wonderland. Call the function, making sure to\n",
    "include a book title as an argument in the function call.\n",
    "</pre>"
   ]
  },
  {
   "cell_type": "code",
   "execution_count": 3,
   "metadata": {},
   "outputs": [
    {
     "name": "stdout",
     "output_type": "stream",
     "text": [
      "One of my favorite book is Robinhood.\n"
     ]
    }
   ],
   "source": [
    "def favorite_book(title):\n",
    "    print(f\"One of my favorite book is {title.title()}.\")\n",
    "    \n",
    "favorite_book('robinhood')"
   ]
  },
  {
   "cell_type": "markdown",
   "metadata": {},
   "source": [
    "<hr>"
   ]
  }
 ],
 "metadata": {
  "kernelspec": {
   "display_name": "Python 3",
   "language": "python",
   "name": "python3"
  },
  "language_info": {
   "codemirror_mode": {
    "name": "ipython",
    "version": 3
   },
   "file_extension": ".py",
   "mimetype": "text/x-python",
   "name": "python",
   "nbconvert_exporter": "python",
   "pygments_lexer": "ipython3",
   "version": "3.8.3"
  }
 },
 "nbformat": 4,
 "nbformat_minor": 4
}
