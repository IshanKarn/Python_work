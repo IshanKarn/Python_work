{
 "cells": [
  {
   "cell_type": "markdown",
   "metadata": {},
   "source": [
    "## Try It Yourself"
   ]
  },
  {
   "cell_type": "markdown",
   "metadata": {},
   "source": [
    "<pre>\n",
    "<strong>8-6. City Names:</strong> Write a function called city_country() that takes in the name\n",
    "of a city and its country. The function should return a string formatted like this:\n",
    "\"Santiago, Chile\"\n",
    "Call your function with at least three city-country pairs, and print the\n",
    "values that are returned.\n",
    "</pre>\n"
   ]
  },
  {
   "cell_type": "code",
   "execution_count": 3,
   "metadata": {},
   "outputs": [],
   "source": [
    "# city_names.py\n",
    "\n",
    "def city_country(city, country):\n",
    "    return f\"{city.title()}, {country.title()}\""
   ]
  },
  {
   "cell_type": "code",
   "execution_count": 6,
   "metadata": {},
   "outputs": [
    {
     "data": {
      "text/plain": [
       "'Delhi, India'"
      ]
     },
     "execution_count": 6,
     "metadata": {},
     "output_type": "execute_result"
    }
   ],
   "source": [
    "city_country('delhi', 'india')"
   ]
  },
  {
   "cell_type": "code",
   "execution_count": 7,
   "metadata": {},
   "outputs": [
    {
     "data": {
      "text/plain": [
       "'Paris, France'"
      ]
     },
     "execution_count": 7,
     "metadata": {},
     "output_type": "execute_result"
    }
   ],
   "source": [
    "city_country('paris', country = 'france')"
   ]
  },
  {
   "cell_type": "code",
   "execution_count": 9,
   "metadata": {},
   "outputs": [
    {
     "data": {
      "text/plain": [
       "'Berlin, Germany'"
      ]
     },
     "execution_count": 9,
     "metadata": {},
     "output_type": "execute_result"
    }
   ],
   "source": [
    "city_country(city = 'berlin', country = 'germany')"
   ]
  },
  {
   "cell_type": "markdown",
   "metadata": {},
   "source": [
    "<pre>\n",
    "<strong>8-7. Album:</strong> Write a function called make_album() that builds a dictionary\n",
    "describing a music album. The function should take in an artist name and an\n",
    "album title, and it should return a dictionary containing these two pieces of\n",
    "information. Use the function to make three dictionaries representing different\n",
    "albums. Print each return value to show that the dictionaries are storing the\n",
    "album information correctly.\n",
    "Use None to add an optional parameter to make_album() that allows you to\n",
    "store the number of songs on an album. If the calling line includes a value for\n",
    "the number of songs, add that value to the album’s dictionary. Make at least\n",
    "one new function call that includes the number of songs on an album.\n",
    "</pre>\n"
   ]
  },
  {
   "cell_type": "code",
   "execution_count": 15,
   "metadata": {},
   "outputs": [],
   "source": [
    "# album.py\n",
    "\n",
    "def make_album(artist_name, album_title):\n",
    "    return dict(artist_name = artist_name.title(), album_title = album_title.title())"
   ]
  },
  {
   "cell_type": "code",
   "execution_count": 19,
   "metadata": {},
   "outputs": [
    {
     "name": "stdout",
     "output_type": "stream",
     "text": [
      "{'artist_name': 'Arijit Singh', 'album_title': 'Mumbai Magic'}\n"
     ]
    }
   ],
   "source": [
    "album1 = make_album('arijit singh', 'mumbai magic')\n",
    "print(album1)"
   ]
  },
  {
   "cell_type": "code",
   "execution_count": 20,
   "metadata": {},
   "outputs": [
    {
     "name": "stdout",
     "output_type": "stream",
     "text": [
      "{'artist_name': 'Arijit Singh', 'album_title': 'Delhi Dhun'}\n"
     ]
    }
   ],
   "source": [
    "album2 = make_album('arijit singh', 'delhi dhun')\n",
    "print(album2)"
   ]
  },
  {
   "cell_type": "code",
   "execution_count": 21,
   "metadata": {},
   "outputs": [
    {
     "name": "stdout",
     "output_type": "stream",
     "text": [
      "{'artist_name': 'Justin Bieber', 'album_title': 'Sorry'}\n"
     ]
    }
   ],
   "source": [
    "album3 = make_album('justin bieber', 'sorry')\n",
    "print(album3)"
   ]
  },
  {
   "cell_type": "code",
   "execution_count": 22,
   "metadata": {},
   "outputs": [],
   "source": [
    "def make_album(artist_name, album_title, number_of_songs = None):\n",
    "    if number_of_songs:\n",
    "        return dict(artist = artist_name.title(), album = album_title.title(), number_of_songs = number_of_songs)\n",
    "    else:\n",
    "        return dict(artist_name = artist_name.title(), album_title = album_title.title())"
   ]
  },
  {
   "cell_type": "code",
   "execution_count": 23,
   "metadata": {},
   "outputs": [
    {
     "name": "stdout",
     "output_type": "stream",
     "text": [
      "{'artist': 'Atif Aslam', 'album': 'Jal', 'number_of_songs': 14}\n"
     ]
    }
   ],
   "source": [
    "album4 = make_album('atif aslam', 'jal', 14)\n",
    "print(album4)"
   ]
  },
  {
   "cell_type": "code",
   "execution_count": 24,
   "metadata": {},
   "outputs": [
    {
     "name": "stdout",
     "output_type": "stream",
     "text": [
      "{'artist_name': 'Jubin Nautiyal', 'album_title': 'Romantic Hits'}\n"
     ]
    }
   ],
   "source": [
    "album4 = make_album('jubin nautiyal', 'romantic hits')   # number_of_songs = 20\n",
    "print(album4)"
   ]
  },
  {
   "cell_type": "markdown",
   "metadata": {},
   "source": [
    "<pre>\n",
    "<strong>8-8. User Albums:</strong> Start with your program from Exercise 8-7. Write a while\n",
    "loop that allows users to enter an album’s artist and title. Once you have that\n",
    "information, call make_album() with the user’s input and print the dictionary\n",
    "that’s created. Be sure to include a quit value in the while loop.\n",
    "</pre>"
   ]
  },
  {
   "cell_type": "code",
   "execution_count": null,
   "metadata": {},
   "outputs": [],
   "source": [
    "# user_album.py"
   ]
  },
  {
   "cell_type": "code",
   "execution_count": 31,
   "metadata": {},
   "outputs": [
    {
     "name": "stdout",
     "output_type": "stream",
     "text": [
      "Enter name of artist: \n",
      "(Enter 'q' to quit anytime.) arijit singh\n",
      "Enter name of album: kabir singh\n",
      "{'artist': 'Arijit Singh', 'album': 'Kabir Singh'}\n",
      "Enter name of artist: \n",
      "(Enter 'q' to quit anytime.) atif aslam\n",
      "Enter name of album: jal\n",
      "{'artist': 'Atif Aslam', 'album': 'Jal'}\n",
      "Enter name of artist: \n",
      "(Enter 'q' to quit anytime.) q\n"
     ]
    }
   ],
   "source": [
    "while True:\n",
    "    artist = input(\"Enter name of artist: \\n(Enter 'q' to quit anytime.) \")\n",
    "    if artist == 'q':\n",
    "        break\n",
    "    title = input(\"Enter name of album: \")\n",
    "        \n",
    "    def make_album(artist, album, number_of_songs = None):\n",
    "        if number_of_songs:\n",
    "            return dict(artist = artist.title(), album = title.title(), number_of_songs = number_of_songs)\n",
    "        else:\n",
    "            return dict(artist = artist.title(), album = title.title())\n",
    "    album = make_album(artist, title)\n",
    "    \n",
    "    print(album)"
   ]
  },
  {
   "cell_type": "code",
   "execution_count": 42,
   "metadata": {},
   "outputs": [
    {
     "name": "stdout",
     "output_type": "stream",
     "text": [
      "Enter name of artist: \n",
      "(Enter 'q' to quit anytime!) arijit singh\n",
      "Enter name of album: rabbta\n",
      "Enter number of songs: \n",
      "(Optional, press enter to skip!)12\n",
      "{'artist': 'Arijit Singh', 'album': 'Rabbta', 'number_of_songs': 12}\n",
      "Enter name of artist: \n",
      "(Enter 'q' to quit anytime!) justin bieber\n",
      "Enter name of album: sorry\n",
      "Enter number of songs: \n",
      "(Optional, press enter to skip!)\n",
      "{'artist': 'Justin Bieber', 'album': 'Sorry'}\n",
      "Enter name of artist: \n",
      "(Enter 'q' to quit anytime!) atif aslam\n",
      "Enter name of album: jal\n",
      "Enter number of songs: \n",
      "(Optional, press enter to skip!)14\n",
      "{'artist': 'Atif Aslam', 'album': 'Jal', 'number_of_songs': 14}\n",
      "Enter name of artist: \n",
      "(Enter 'q' to quit anytime!) q\n"
     ]
    }
   ],
   "source": [
    "# Alternate solution (updated)\n",
    "\n",
    "def make_album(artist, title, number = None):\n",
    "    if number:\n",
    "        return dict(artist = artist.title(), album = title.title(), number_of_songs = number)\n",
    "    else:\n",
    "        return dict(artist = artist.title(), album = title.title())\n",
    "\n",
    "while True:\n",
    "    artist = input(\"Enter name of artist: \\n(Enter 'q' to quit anytime!) \")\n",
    "    if artist == 'q':\n",
    "        break\n",
    "        \n",
    "    title = input(\"Enter name of album: \")\n",
    "    number = input(\"Enter number of songs: \\n(Optional, press enter to skip!) \")\n",
    "    \n",
    "    if len(number) == 0:\n",
    "        number = None\n",
    "        album = make_album(artist, title)\n",
    "    else:\n",
    "        number = int(number)\n",
    "        album = make_album(artist, title, number)\n",
    "    \n",
    "    print(album)"
   ]
  },
  {
   "cell_type": "markdown",
   "metadata": {},
   "source": [
    "<hr>"
   ]
  }
 ],
 "metadata": {
  "kernelspec": {
   "display_name": "Python 3",
   "language": "python",
   "name": "python3"
  },
  "language_info": {
   "codemirror_mode": {
    "name": "ipython",
    "version": 3
   },
   "file_extension": ".py",
   "mimetype": "text/x-python",
   "name": "python",
   "nbconvert_exporter": "python",
   "pygments_lexer": "ipython3",
   "version": "3.8.3"
  }
 },
 "nbformat": 4,
 "nbformat_minor": 4
}
