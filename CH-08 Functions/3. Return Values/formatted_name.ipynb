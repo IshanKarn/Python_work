{
 "cells": [
  {
   "cell_type": "markdown",
   "metadata": {},
   "source": [
    "<pre>\n",
    "A function doesn’t always have to display its output directly. Instead, it can\n",
    "process some data and then return a value or set of values. The value the\n",
    "function returns is called a return value. The return statement takes a value\n",
    "from inside a function and sends it back to the line that called the function.\n",
    "</pre>"
   ]
  },
  {
   "cell_type": "markdown",
   "metadata": {},
   "source": [
    "### Returning a Simple Value\n"
   ]
  },
  {
   "cell_type": "code",
   "execution_count": 1,
   "metadata": {},
   "outputs": [
    {
     "name": "stdout",
     "output_type": "stream",
     "text": [
      "Arijit Singh\n"
     ]
    }
   ],
   "source": [
    "#  Below given a function that takes a first and last name, and returns a neatly formatted full name.\n",
    "\n",
    "def get_formatted_name(first, last):\n",
    "    full_name = f'{first} {last}'\n",
    "    return full_name.title()\n",
    "\n",
    "musician = get_formatted_name('arijit', 'singh')\n",
    "\n",
    "print(musician)"
   ]
  },
  {
   "cell_type": "code",
   "execution_count": 2,
   "metadata": {},
   "outputs": [
    {
     "name": "stdout",
     "output_type": "stream",
     "text": [
      "Arijit Singh\n"
     ]
    }
   ],
   "source": [
    "# When we consider working with a large program that needs to\n",
    "# store many first and last names separately, functions like get_formatted_name()\n",
    "# become very useful. We store first and last names separately and then call\n",
    "# this function whenever we want to display a full name.\n",
    "\n",
    "\n",
    "print(get_formatted_name('arijit', 'singh'))"
   ]
  },
  {
   "cell_type": "markdown",
   "metadata": {},
   "source": [
    "### Making an Argument Optional\n",
    "<pre>\n",
    "Sometimes it makes sense to make an argument optional so that people\n",
    "using the function can choose to provide extra information only if they\n",
    "want to. <span style = 'background-color: yellow'>We can use default values to make an argument optional.</span>\n",
    "</pre>"
   ]
  },
  {
   "cell_type": "code",
   "execution_count": 5,
   "metadata": {},
   "outputs": [],
   "source": [
    "# Example (A use case)\n",
    "# we want to expand get_formatted_name() to handle middle names as well."
   ]
  },
  {
   "cell_type": "code",
   "execution_count": 6,
   "metadata": {},
   "outputs": [
    {
     "name": "stdout",
     "output_type": "stream",
     "text": [
      "John Lee Hooker\n"
     ]
    }
   ],
   "source": [
    "# First attempt\n",
    "\n",
    "def get_formatted_name(first_name, middle_name, last_name):\n",
    "    \"\"\"Return a full name, neatly formatted.\"\"\"\n",
    "    full_name = f\"{first_name} {middle_name} {last_name}\"\n",
    "    return full_name.title()\n",
    "\n",
    "musician = get_formatted_name('john', 'lee', 'hooker')\n",
    "print(musician)"
   ]
  },
  {
   "cell_type": "code",
   "execution_count": 7,
   "metadata": {},
   "outputs": [
    {
     "ename": "TypeError",
     "evalue": "get_formatted_name() missing 1 required positional argument: 'last_name'",
     "output_type": "error",
     "traceback": [
      "\u001b[1;31m---------------------------------------------------------------------------\u001b[0m",
      "\u001b[1;31mTypeError\u001b[0m                                 Traceback (most recent call last)",
      "\u001b[1;32m<ipython-input-7-a8e150c36c90>\u001b[0m in \u001b[0;36m<module>\u001b[1;34m\u001b[0m\n\u001b[0;32m      6\u001b[0m     \u001b[1;32mreturn\u001b[0m \u001b[0mfull_name\u001b[0m\u001b[1;33m.\u001b[0m\u001b[0mtitle\u001b[0m\u001b[1;33m(\u001b[0m\u001b[1;33m)\u001b[0m\u001b[1;33m\u001b[0m\u001b[1;33m\u001b[0m\u001b[0m\n\u001b[0;32m      7\u001b[0m \u001b[1;33m\u001b[0m\u001b[0m\n\u001b[1;32m----> 8\u001b[1;33m \u001b[0mmusician\u001b[0m \u001b[1;33m=\u001b[0m \u001b[0mget_formatted_name\u001b[0m\u001b[1;33m(\u001b[0m\u001b[1;34m'john'\u001b[0m\u001b[1;33m,\u001b[0m         \u001b[1;34m'hooker'\u001b[0m\u001b[1;33m)\u001b[0m  \u001b[1;31m# middle name not provided # doesn't work, raise error\u001b[0m\u001b[1;33m\u001b[0m\u001b[1;33m\u001b[0m\u001b[0m\n\u001b[0m\u001b[0;32m      9\u001b[0m \u001b[0mprint\u001b[0m\u001b[1;33m(\u001b[0m\u001b[0mmusician\u001b[0m\u001b[1;33m)\u001b[0m\u001b[1;33m\u001b[0m\u001b[1;33m\u001b[0m\u001b[0m\n",
      "\u001b[1;31mTypeError\u001b[0m: get_formatted_name() missing 1 required positional argument: 'last_name'"
     ]
    }
   ],
   "source": [
    "# In above function we have nothing like middle name as an optional feature\n",
    "\n",
    "def get_formatted_name(first_name, middle_name, last_name):\n",
    "    \"\"\"Return a full name, neatly formatted.\"\"\"\n",
    "    full_name = f\"{first_name} {middle_name} {last_name}\"\n",
    "    return full_name.title()\n",
    "\n",
    "musician = get_formatted_name('john',         'hooker')  # middle name not provided # doesn't work, raise error\n",
    "print(musician)"
   ]
  },
  {
   "cell_type": "code",
   "execution_count": 10,
   "metadata": {},
   "outputs": [
    {
     "name": "stdout",
     "output_type": "stream",
     "text": [
      "John Hooker Lee\n",
      "Arijit Singh\n"
     ]
    }
   ],
   "source": [
    "# Second attempt\n",
    "# Using default value (falsy in nature) to add optionality for middle name feature\n",
    "# To make the middle name optional, we can give the middle_name argument an empty \n",
    "# default value and ignore the argument unless the user provides a value.\n",
    "\n",
    "def get_formatted_name(first_name, last_name, middle_name = ''):  \n",
    "    \"\"\"Return a full name, neatly formatted.\"\"\"\n",
    "    if middle_name:                                                    # empty string is a falsy value in Python\n",
    "        full_name = f\"{first_name} {middle_name} {last_name}\"\n",
    "    else:\n",
    "        full_name = f\"{first_name} {last_name}\"\n",
    "    return full_name.title()\n",
    "\n",
    "musician1 = get_formatted_name('john', 'lee', 'hooker')\n",
    "print(musician1)\n",
    "\n",
    "musician2 = get_formatted_name('arijit', 'singh')   # no middle name provided (-i.e.- it is optional)\n",
    "print(musician2)\n",
    "\n",
    "# Calling this function with a first and last name is straightforward. If\n",
    "# we’re using a middle name, however, we have to make sure the middle\n",
    "# name is the last argument passed so Python will match up the positional\n",
    "# arguments correctly.\n",
    "# Optional values allow functions to handle a wide range of use cases\n",
    "# while letting function calls remain as simple as possible. "
   ]
  },
  {
   "cell_type": "markdown",
   "metadata": {},
   "source": [
    "### Returning a Dictionary\n",
    "<pre>\n",
    "A function can return any kind of value you need it to, including more complicated data \n",
    "structures like lists and dictionaries.\n",
    "</pre>"
   ]
  },
  {
   "cell_type": "code",
   "execution_count": 62,
   "metadata": {},
   "outputs": [
    {
     "name": "stdout",
     "output_type": "stream",
     "text": [
      "{'first': 'jimi', 'last': 'hendrix'}\n"
     ]
    }
   ],
   "source": [
    "def build_person(first_name, last_name):\n",
    "    \"\"\"Return a dictionary of information about a person.\"\"\"\n",
    "    person = {'first': first_name, 'last': last_name}\n",
    "    return person\n",
    "\n",
    "musician = build_person('jimi', 'hendrix')\n",
    "print(musician)"
   ]
  },
  {
   "cell_type": "code",
   "execution_count": 63,
   "metadata": {},
   "outputs": [
    {
     "name": "stdout",
     "output_type": "stream",
     "text": [
      "{'first': 'jimi', 'last': 'hendrix', 'age': 27}\n"
     ]
    }
   ],
   "source": [
    "def build_person(first_name, last_name, age=None):\n",
    "    \"\"\"Return a dictionary of information about a person.\"\"\"\n",
    "    person = {'first': first_name, 'last': last_name}\n",
    "    if age:\n",
    "        person['age'] = age\n",
    "u    return person\n",
    "\n",
    "musician = build_person('jimi', 'hendrix', age=27)\n",
    "print(musician)\n",
    "\n",
    "# We add a new optional parameter age to the function definition and\n",
    "# assign the parameter the special value None, which is used when a variable\n",
    "# has no specific value assigned to it. We can think of None as a placeholder\n",
    "# value."
   ]
  },
  {
   "cell_type": "markdown",
   "metadata": {},
   "source": [
    "### Using a Function with a while Loop\n"
   ]
  },
  {
   "cell_type": "code",
   "execution_count": 64,
   "metadata": {},
   "outputs": [
    {
     "name": "stdout",
     "output_type": "stream",
     "text": [
      "\n",
      "Please tell me your name:\n",
      "First name: Ishan\n",
      "Last name: Karn\n",
      "\n",
      "Hello, Ishan Karn!\n",
      "\n",
      "Please tell me your name:\n",
      "First name: Nisha\n",
      "Last name: Bharti\n",
      "\n",
      "Hello, Nisha Bharti!\n",
      "\n",
      "Please tell me your name:\n",
      "First name: Sambudh\n",
      "Last name: Sonawat\n",
      "\n",
      "Hello, Sambudh Sonawat!\n",
      "\n",
      "Please tell me your name:\n",
      "First name: Anuradha\n",
      "Last name: Karn\n",
      "\n",
      "Hello, Anuradha Karn!\n",
      "\n",
      "Please tell me your name:\n",
      "First name: Clement\n",
      "Last name: Michilescu\n",
      "\n",
      "Hello, Clement Michilescu!\n",
      "\n",
      "Please tell me your name:\n",
      "First name: kumud\n",
      "Last name: karn\n",
      "\n",
      "Hello, Kumud Karn!\n",
      "\n",
      "Please tell me your name:\n",
      "First name: achintya\n",
      "Last name: nidhi\n",
      "\n",
      "Hello, Achintya Nidhi!\n",
      "\n",
      "Please tell me your name:\n"
     ]
    },
    {
     "ename": "KeyboardInterrupt",
     "evalue": "Interrupted by user",
     "output_type": "error",
     "traceback": [
      "\u001b[1;31m---------------------------------------------------------------------------\u001b[0m",
      "\u001b[1;31mKeyboardInterrupt\u001b[0m                         Traceback (most recent call last)",
      "\u001b[1;32m<ipython-input-64-3b0013fcae87>\u001b[0m in \u001b[0;36m<module>\u001b[1;34m\u001b[0m\n\u001b[0;32m      9\u001b[0m \u001b[1;32mwhile\u001b[0m \u001b[1;32mTrue\u001b[0m\u001b[1;33m:\u001b[0m\u001b[1;33m\u001b[0m\u001b[1;33m\u001b[0m\u001b[0m\n\u001b[0;32m     10\u001b[0m     \u001b[0mprint\u001b[0m\u001b[1;33m(\u001b[0m\u001b[1;34m\"\\nPlease tell me your name:\"\u001b[0m\u001b[1;33m)\u001b[0m\u001b[1;33m\u001b[0m\u001b[1;33m\u001b[0m\u001b[0m\n\u001b[1;32m---> 11\u001b[1;33m     \u001b[0mf_name\u001b[0m \u001b[1;33m=\u001b[0m \u001b[0minput\u001b[0m\u001b[1;33m(\u001b[0m\u001b[1;34m\"First name: \"\u001b[0m\u001b[1;33m)\u001b[0m\u001b[1;33m\u001b[0m\u001b[1;33m\u001b[0m\u001b[0m\n\u001b[0m\u001b[0;32m     12\u001b[0m     \u001b[0ml_name\u001b[0m \u001b[1;33m=\u001b[0m \u001b[0minput\u001b[0m\u001b[1;33m(\u001b[0m\u001b[1;34m\"Last name: \"\u001b[0m\u001b[1;33m)\u001b[0m\u001b[1;33m\u001b[0m\u001b[1;33m\u001b[0m\u001b[0m\n\u001b[0;32m     13\u001b[0m \u001b[1;33m\u001b[0m\u001b[0m\n",
      "\u001b[1;32m~\\anaconda3\\lib\\site-packages\\ipykernel\\kernelbase.py\u001b[0m in \u001b[0;36mraw_input\u001b[1;34m(self, prompt)\u001b[0m\n\u001b[0;32m    858\u001b[0m                 \u001b[1;34m\"raw_input was called, but this frontend does not support input requests.\"\u001b[0m\u001b[1;33m\u001b[0m\u001b[1;33m\u001b[0m\u001b[0m\n\u001b[0;32m    859\u001b[0m             )\n\u001b[1;32m--> 860\u001b[1;33m         return self._input_request(str(prompt),\n\u001b[0m\u001b[0;32m    861\u001b[0m             \u001b[0mself\u001b[0m\u001b[1;33m.\u001b[0m\u001b[0m_parent_ident\u001b[0m\u001b[1;33m,\u001b[0m\u001b[1;33m\u001b[0m\u001b[1;33m\u001b[0m\u001b[0m\n\u001b[0;32m    862\u001b[0m             \u001b[0mself\u001b[0m\u001b[1;33m.\u001b[0m\u001b[0m_parent_header\u001b[0m\u001b[1;33m,\u001b[0m\u001b[1;33m\u001b[0m\u001b[1;33m\u001b[0m\u001b[0m\n",
      "\u001b[1;32m~\\anaconda3\\lib\\site-packages\\ipykernel\\kernelbase.py\u001b[0m in \u001b[0;36m_input_request\u001b[1;34m(self, prompt, ident, parent, password)\u001b[0m\n\u001b[0;32m    902\u001b[0m             \u001b[1;32mexcept\u001b[0m \u001b[0mKeyboardInterrupt\u001b[0m\u001b[1;33m:\u001b[0m\u001b[1;33m\u001b[0m\u001b[1;33m\u001b[0m\u001b[0m\n\u001b[0;32m    903\u001b[0m                 \u001b[1;31m# re-raise KeyboardInterrupt, to truncate traceback\u001b[0m\u001b[1;33m\u001b[0m\u001b[1;33m\u001b[0m\u001b[1;33m\u001b[0m\u001b[0m\n\u001b[1;32m--> 904\u001b[1;33m                 \u001b[1;32mraise\u001b[0m \u001b[0mKeyboardInterrupt\u001b[0m\u001b[1;33m(\u001b[0m\u001b[1;34m\"Interrupted by user\"\u001b[0m\u001b[1;33m)\u001b[0m \u001b[1;32mfrom\u001b[0m \u001b[1;32mNone\u001b[0m\u001b[1;33m\u001b[0m\u001b[1;33m\u001b[0m\u001b[0m\n\u001b[0m\u001b[0;32m    905\u001b[0m             \u001b[1;32mexcept\u001b[0m \u001b[0mException\u001b[0m \u001b[1;32mas\u001b[0m \u001b[0me\u001b[0m\u001b[1;33m:\u001b[0m\u001b[1;33m\u001b[0m\u001b[1;33m\u001b[0m\u001b[0m\n\u001b[0;32m    906\u001b[0m                 \u001b[0mself\u001b[0m\u001b[1;33m.\u001b[0m\u001b[0mlog\u001b[0m\u001b[1;33m.\u001b[0m\u001b[0mwarning\u001b[0m\u001b[1;33m(\u001b[0m\u001b[1;34m\"Invalid Message:\"\u001b[0m\u001b[1;33m,\u001b[0m \u001b[0mexc_info\u001b[0m\u001b[1;33m=\u001b[0m\u001b[1;32mTrue\u001b[0m\u001b[1;33m)\u001b[0m\u001b[1;33m\u001b[0m\u001b[1;33m\u001b[0m\u001b[0m\n",
      "\u001b[1;31mKeyboardInterrupt\u001b[0m: Interrupted by user"
     ]
    }
   ],
   "source": [
    "# Use the get_formatted_name() function with a while loop to greet users more formally. \n",
    "\n",
    "def get_formatted_name(first_name, last_name):\n",
    "    \"\"\"Return a full name, neatly formatted.\"\"\"\n",
    "    full_name = f\"{first_name} {last_name}\"\n",
    "    return full_name.title()\n",
    "\n",
    "# This is an infinite loop!\n",
    "while True:\n",
    "    print(\"\\nPlease tell me your name:\")\n",
    "    f_name = input(\"First name: \")\n",
    "    l_name = input(\"Last name: \")\n",
    "\n",
    "    formatted_name = get_formatted_name(f_name, l_name)\n",
    "    print(f\"\\nHello, {formatted_name}!\")"
   ]
  },
  {
   "cell_type": "markdown",
   "metadata": {},
   "source": [
    "<pre>\n",
    "There’s one problem with this while loop: We haven’t defined a quit\n",
    "condition. Where do we put a quit condition when you ask for a series of\n",
    "inputs? We want the user to be able to quit as easily as possible, so each\n",
    "prompt should offer a way to quit. The break statement offers a straight\n",
    "forward way to exit the loop at either prompt.\n",
    "</pre>"
   ]
  },
  {
   "cell_type": "code",
   "execution_count": 65,
   "metadata": {},
   "outputs": [
    {
     "name": "stdout",
     "output_type": "stream",
     "text": [
      "\n",
      "Please tell me your name:\n",
      "(enter 'q' at any time to quit)\n",
      "First name: Ishan\n",
      "Last name: karn\n",
      "\n",
      "Hello, Ishan Karn!\n",
      "\n",
      "Please tell me your name:\n",
      "(enter 'q' at any time to quit)\n",
      "First name: Ashutosh\n",
      "Last name: karn\n",
      "\n",
      "Hello, Ashutosh Karn!\n",
      "\n",
      "Please tell me your name:\n",
      "(enter 'q' at any time to quit)\n",
      "First name: tushar\n",
      "Last name: karn\n",
      "\n",
      "Hello, Tushar Karn!\n",
      "\n",
      "Please tell me your name:\n",
      "(enter 'q' at any time to quit)\n",
      "First name: ujjawal\n",
      "Last name: kirti\n",
      "\n",
      "Hello, Ujjawal Kirti!\n",
      "\n",
      "Please tell me your name:\n",
      "(enter 'q' at any time to quit)\n",
      "First name: arindam\n",
      "Last name: kanth\n",
      "\n",
      "Hello, Arindam Kanth!\n",
      "\n",
      "Please tell me your name:\n",
      "(enter 'q' at any time to quit)\n",
      "First name: q\n"
     ]
    }
   ],
   "source": [
    "def get_formatted_name(first_name, last_name):\n",
    "    \"\"\"Return a full name, neatly formatted.\"\"\"\n",
    "    full_name = f\"{first_name} {last_name}\"\n",
    "    return full_name.title()\n",
    "\n",
    "while True:\n",
    "    print(\"\\nPlease tell me your name:\")\n",
    "    print(\"(enter 'q' at any time to quit)\")\n",
    "\n",
    "    f_name = input(\"First name: \")\n",
    "    if f_name == 'q':\n",
    "        break\n",
    "    l_name = input(\"Last name: \")\n",
    "    if l_name == 'q':\n",
    "        break\n",
    "\n",
    "    formatted_name = get_formatted_name(f_name, l_name)\n",
    "    print(f\"\\nHello, {formatted_name}!\")\n",
    "    \n",
    "    \n",
    "# We add a message that informs the user how to quit, and then we\n",
    "# break out of the loop if the user enters the quit value at either prompt.\n",
    "# Now the program will continue greeting people until someone enters 'q'\n",
    "# for either name."
   ]
  },
  {
   "cell_type": "markdown",
   "metadata": {},
   "source": [
    "<hr>"
   ]
  }
 ],
 "metadata": {
  "kernelspec": {
   "display_name": "Python 3",
   "language": "python",
   "name": "python3"
  },
  "language_info": {
   "codemirror_mode": {
    "name": "ipython",
    "version": 3
   },
   "file_extension": ".py",
   "mimetype": "text/x-python",
   "name": "python",
   "nbconvert_exporter": "python",
   "pygments_lexer": "ipython3",
   "version": "3.8.3"
  }
 },
 "nbformat": 4,
 "nbformat_minor": 4
}
