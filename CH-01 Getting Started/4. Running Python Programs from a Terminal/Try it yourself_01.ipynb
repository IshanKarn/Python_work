{
 "cells": [
  {
   "cell_type": "markdown",
   "metadata": {},
   "source": [
    "### Try It Yourself\n"
   ]
  },
  {
   "cell_type": "markdown",
   "metadata": {},
   "source": [
    "<pre>\n",
    "<p style='background-color: yellow'>NOTE: The exercises given below are exploratory in nature.</p>\n",
    "\n",
    "<strong>1-1. python.org:</strong> Explore the Python home page (https://python.org/) to find\n",
    "    topics that interest you. As you become familiar with Python, different parts of\n",
    "    the site will be more useful to you.\n",
    "</pre>"
   ]
  },
  {
   "cell_type": "code",
   "execution_count": null,
   "metadata": {},
   "outputs": [],
   "source": []
  },
  {
   "cell_type": "markdown",
   "metadata": {},
   "source": [
    "<pre><strong>1-2. Hello World Typos:</strong> Open the hello_world.py file you just created. Make a\n",
    "    typo somewhere in the line and run the program again. Can you make a typo\n",
    "    that generates an error? Can you make sense of the error message? Can you\n",
    "    make a typo that doesn’t generate an error? Why do you think it didn’t make\n",
    "    an error?</pre>"
   ]
  },
  {
   "cell_type": "code",
   "execution_count": null,
   "metadata": {},
   "outputs": [],
   "source": []
  },
  {
   "cell_type": "markdown",
   "metadata": {},
   "source": [
    "<pre><strong>1-3. Infinite Skills:</strong> If you had infinite programming skills, what would you build?\n",
    "    You’re about to learn how to program. If you have an end goal in mind, you’ll\n",
    "    have an immediate use for your new skills; now is a great time to draft descriptions of\n",
    "    what you want to create. It’s a good habit to keep an “ideas” notebookthat you can refer to \n",
    "    whenever you want to start a new project. Take a few minutes now to describe three programs you want to create.</pre>"
   ]
  },
  {
   "cell_type": "code",
   "execution_count": null,
   "metadata": {},
   "outputs": [],
   "source": []
  }
 ],
 "metadata": {
  "kernelspec": {
   "display_name": "Python 3",
   "language": "python",
   "name": "python3"
  },
  "language_info": {
   "codemirror_mode": {
    "name": "ipython",
    "version": 3
   },
   "file_extension": ".py",
   "mimetype": "text/x-python",
   "name": "python",
   "nbconvert_exporter": "python",
   "pygments_lexer": "ipython3",
   "version": "3.8.3"
  }
 },
 "nbformat": 4,
 "nbformat_minor": 4
}
