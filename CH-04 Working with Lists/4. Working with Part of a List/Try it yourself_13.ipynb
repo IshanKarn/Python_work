{
 "cells": [
  {
   "cell_type": "markdown",
   "metadata": {},
   "source": [
    "## Try It Yourself\n"
   ]
  },
  {
   "cell_type": "markdown",
   "metadata": {},
   "source": [
    "<pre>\n",
    "<strong>4-10. Slices:</strong> Using one of the programs you wrote in this chapter, add several\n",
    "      lines to the end of the program that do the following:\n",
    "•\t Print the message The first three items in the list are:. Then use a slice to\n",
    "      print the first three items from that program’s list.\n",
    "•\t Print the message Three items from the middle of the list are:. Use a slice to\n",
    "      print three items from the middle of the list.\n",
    "•\t Print the message The last three items in the list are:. Use a slice to print the\n",
    "      last three items in the list.\n",
    "</pre>"
   ]
  },
  {
   "cell_type": "code",
   "execution_count": 2,
   "metadata": {},
   "outputs": [],
   "source": [
    "players = ['messi', 'ronaldo', 'dhoni', 'de villiers', 'federer', 'nadal', 'djokovic', 'sarapova']"
   ]
  },
  {
   "cell_type": "code",
   "execution_count": 3,
   "metadata": {},
   "outputs": [
    {
     "name": "stdout",
     "output_type": "stream",
     "text": [
      "The first three items in the list are: ['messi', 'ronaldo', 'dhoni']\n"
     ]
    }
   ],
   "source": [
    "print(\"The first three items in the list are:\", players[:3])"
   ]
  },
  {
   "cell_type": "code",
   "execution_count": 4,
   "metadata": {},
   "outputs": [
    {
     "name": "stdout",
     "output_type": "stream",
     "text": [
      "The middle three items in the list are: ['de villiers', 'federer', 'nadal']\n"
     ]
    }
   ],
   "source": [
    "print(\"The middle three items in the list are:\", players[3:6])"
   ]
  },
  {
   "cell_type": "code",
   "execution_count": 5,
   "metadata": {},
   "outputs": [
    {
     "name": "stdout",
     "output_type": "stream",
     "text": [
      "The last three items in the list are: ['nadal', 'djokovic', 'sarapova']\n"
     ]
    }
   ],
   "source": [
    "print(\"The last three items in the list are:\", players[-3:])"
   ]
  },
  {
   "cell_type": "markdown",
   "metadata": {},
   "source": [
    "<pre>\n",
    "<strong>4-11. My Pizzas, Your Pizzas:</strong> Start with your program from Exercise 4-1\n",
    "      (page 56). Make a copy of the list of pizzas, and call it friend_pizzas.\n",
    "      Then, do the following:\n",
    "•\t Add a new pizza to the original list.\n",
    "•\t Add a different pizza to the list friend_pizzas.\n",
    "•\t Prove that you have two separate lists. Print the message My favorite\n",
    "      pizzas are:, and then use a for loop to print the first list. Print the message\n",
    "      My friend’s favorite pizzas are:, and then use a for loop to print the second list. \n",
    "      Make sure each new pizza is stored in the appropriate list.\n",
    "</pre>"
   ]
  },
  {
   "cell_type": "code",
   "execution_count": 6,
   "metadata": {},
   "outputs": [],
   "source": [
    "pizzas = ['napoletana', 'margherita', 'marinara', 'hawaiian', 'caprese']\n",
    "friend_pizzas = pizzas[:]"
   ]
  },
  {
   "cell_type": "code",
   "execution_count": 7,
   "metadata": {},
   "outputs": [],
   "source": [
    "pizzas.append('bbq chicken')"
   ]
  },
  {
   "cell_type": "code",
   "execution_count": 9,
   "metadata": {},
   "outputs": [],
   "source": [
    "friend_pizzas.append('pepperoni')"
   ]
  },
  {
   "cell_type": "code",
   "execution_count": 10,
   "metadata": {},
   "outputs": [
    {
     "name": "stdout",
     "output_type": "stream",
     "text": [
      "My pizzas' list: \n",
      "napoletana\n",
      "margherita\n",
      "marinara\n",
      "hawaiian\n",
      "caprese\n",
      "bbq chicken\n"
     ]
    }
   ],
   "source": [
    "print(\"My pizzas' list: \")\n",
    "for pizza in pizzas:\n",
    "    print(pizza)"
   ]
  },
  {
   "cell_type": "code",
   "execution_count": 11,
   "metadata": {},
   "outputs": [
    {
     "name": "stdout",
     "output_type": "stream",
     "text": [
      "My friend's pizzas' list: \n",
      "napoletana\n",
      "margherita\n",
      "marinara\n",
      "hawaiian\n",
      "caprese\n",
      "pepperoni\n"
     ]
    }
   ],
   "source": [
    "print(\"My friend's pizzas' list: \")\n",
    "for pizza in friend_pizzas:\n",
    "    print(pizza)"
   ]
  },
  {
   "cell_type": "markdown",
   "metadata": {},
   "source": [
    "<pre>\n",
    "<strong>4-12. More Loops:</strong> All versions of foods.py in this section have avoided using\n",
    "      for loops when printing to save space. Choose a version of foods.py, and\n",
    "      write two for loops to print each list of foods.\n",
    "</pre>"
   ]
  },
  {
   "cell_type": "code",
   "execution_count": 12,
   "metadata": {},
   "outputs": [],
   "source": [
    "my_foods = ['chicken', 'paneer', 'pizza']\n",
    "friend_foods = my_foods[:]\n",
    "my_foods.append('salad')\n",
    "friend_foods.append('bacon')\n"
   ]
  },
  {
   "cell_type": "code",
   "execution_count": 13,
   "metadata": {},
   "outputs": [
    {
     "name": "stdout",
     "output_type": "stream",
     "text": [
      "chicken\n",
      "paneer\n",
      "pizza\n",
      "salad\n"
     ]
    }
   ],
   "source": [
    "for food in my_foods:print(food)"
   ]
  },
  {
   "cell_type": "code",
   "execution_count": 14,
   "metadata": {},
   "outputs": [
    {
     "name": "stdout",
     "output_type": "stream",
     "text": [
      "chicken\n",
      "paneer\n",
      "pizza\n",
      "bacon\n"
     ]
    }
   ],
   "source": [
    "for food in friend_foods:print(food)"
   ]
  },
  {
   "cell_type": "code",
   "execution_count": null,
   "metadata": {},
   "outputs": [],
   "source": []
  }
 ],
 "metadata": {
  "kernelspec": {
   "display_name": "Python 3",
   "language": "python",
   "name": "python3"
  },
  "language_info": {
   "codemirror_mode": {
    "name": "ipython",
    "version": 3
   },
   "file_extension": ".py",
   "mimetype": "text/x-python",
   "name": "python",
   "nbconvert_exporter": "python",
   "pygments_lexer": "ipython3",
   "version": "3.8.3"
  }
 },
 "nbformat": 4,
 "nbformat_minor": 4
}
