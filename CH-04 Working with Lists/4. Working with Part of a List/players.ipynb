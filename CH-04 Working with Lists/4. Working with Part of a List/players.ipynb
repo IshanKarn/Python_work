{
 "cells": [
  {
   "cell_type": "markdown",
   "metadata": {},
   "source": [
    "### Slicing a List\n",
    "Python calls a specific group of items in a list,\n",
    "a slice.<br>\n",
    "Any subset of a list can be generated using slicing."
   ]
  },
  {
   "cell_type": "code",
   "execution_count": 1,
   "metadata": {},
   "outputs": [],
   "source": [
    "players = ['messi', 'ronaldo', 'dhoni', 'de villiers', 'federer', 'nadal', 'djokovic', 'sarapova']"
   ]
  },
  {
   "cell_type": "code",
   "execution_count": 2,
   "metadata": {},
   "outputs": [
    {
     "name": "stdout",
     "output_type": "stream",
     "text": [
      "['messi', 'ronaldo', 'dhoni']\n"
     ]
    }
   ],
   "source": [
    "print(players[0:3])"
   ]
  },
  {
   "cell_type": "code",
   "execution_count": 3,
   "metadata": {},
   "outputs": [
    {
     "name": "stdout",
     "output_type": "stream",
     "text": [
      "['federer', 'nadal', 'djokovic']\n"
     ]
    }
   ],
   "source": [
    "print(players[4:7])"
   ]
  },
  {
   "cell_type": "markdown",
   "metadata": {},
   "source": [
    "<p style='background-color: yellow'>If you omit the first index in a slice, Python automatically starts your\n",
    "slice at the beginning of the list.</p>"
   ]
  },
  {
   "cell_type": "code",
   "execution_count": 4,
   "metadata": {},
   "outputs": [
    {
     "name": "stdout",
     "output_type": "stream",
     "text": [
      "['messi', 'ronaldo', 'dhoni']\n"
     ]
    }
   ],
   "source": [
    "print(players[:3])"
   ]
  },
  {
   "cell_type": "markdown",
   "metadata": {},
   "source": [
    "<p style='background-color: yellow'>A similar syntax works if you want a slice that includes the end of a list. </p>\n",
    "Allows you to output all of the elements from any point in\n",
    "your list to the end regardless of the length of the list."
   ]
  },
  {
   "cell_type": "code",
   "execution_count": 5,
   "metadata": {},
   "outputs": [
    {
     "name": "stdout",
     "output_type": "stream",
     "text": [
      "['dhoni', 'de villiers', 'federer', 'nadal', 'djokovic', 'sarapova']\n"
     ]
    }
   ],
   "source": [
    "print(players[2:])"
   ]
  },
  {
   "cell_type": "code",
   "execution_count": 7,
   "metadata": {},
   "outputs": [
    {
     "name": "stdout",
     "output_type": "stream",
     "text": [
      "['nadal', 'djokovic', 'sarapova']\n"
     ]
    }
   ],
   "source": [
    "#  last three players\n",
    "print(players[-3:])"
   ]
  },
  {
   "cell_type": "markdown",
   "metadata": {},
   "source": [
    "A third value can be included in the brackets indicating a slice. If a third value is included,<br>\n",
    "this tells Python how many items to skip between items in the specified range.<br>\n",
    "<p style='background-color: yellow'>Similar to step value as in range() function.</p>\n"
   ]
  },
  {
   "cell_type": "code",
   "execution_count": 10,
   "metadata": {},
   "outputs": [
    {
     "name": "stdout",
     "output_type": "stream",
     "text": [
      "['dhoni', 'de villiers', 'federer', 'nadal']\n"
     ]
    }
   ],
   "source": [
    "print(players[2:6:1]) # 0 item skipped (or print 1st item after start value, then 1st after that, so and so)"
   ]
  },
  {
   "cell_type": "code",
   "execution_count": 11,
   "metadata": {},
   "outputs": [
    {
     "name": "stdout",
     "output_type": "stream",
     "text": [
      "['messi', 'dhoni', 'federer', 'djokovic']\n"
     ]
    }
   ],
   "source": [
    "print(players[::2]) # 1 item skipped (or print 2nd item after start value, then 2nd after that, so and so)"
   ]
  },
  {
   "cell_type": "markdown",
   "metadata": {},
   "source": [
    "### Looping Through a Slice"
   ]
  },
  {
   "cell_type": "code",
   "execution_count": 12,
   "metadata": {},
   "outputs": [
    {
     "name": "stdout",
     "output_type": "stream",
     "text": [
      "Dhoni is a great cricketer.\n",
      "De Villiers is a great cricketer.\n"
     ]
    }
   ],
   "source": [
    "players = ['messi', 'ronaldo', 'dhoni', 'de villiers', 'federer', 'nadal', 'djokovic', 'sarapova']\n",
    "\n",
    "for player in players[2: 4]:\n",
    "    print(f'{player.title()} is a great cricketer.')"
   ]
  },
  {
   "cell_type": "code",
   "execution_count": 15,
   "metadata": {},
   "outputs": [
    {
     "name": "stdout",
     "output_type": "stream",
     "text": [
      "Federer is a champion .\n",
      "Nadal is a champion .\n",
      "Djokovic is a champion .\n",
      "Sarapova is a champion .\n",
      "Champion! Champion!😉\n"
     ]
    }
   ],
   "source": [
    "for player in players[4:]:\n",
    "    print(f'{player.title()} is a champion .')\n",
    "print(\"Champion! Champion!😉\") "
   ]
  },
  {
   "cell_type": "code",
   "execution_count": null,
   "metadata": {},
   "outputs": [],
   "source": [
    "# Have some music (NOTE: below codes are just for fun)"
   ]
  },
  {
   "cell_type": "code",
   "execution_count": 16,
   "metadata": {},
   "outputs": [
    {
     "ename": "ModuleNotFoundError",
     "evalue": "No module named 'playsound'",
     "output_type": "error",
     "traceback": [
      "\u001b[1;31m---------------------------------------------------------------------------\u001b[0m",
      "\u001b[1;31mModuleNotFoundError\u001b[0m                       Traceback (most recent call last)",
      "\u001b[1;32m<ipython-input-16-ff6434d987a9>\u001b[0m in \u001b[0;36m<module>\u001b[1;34m\u001b[0m\n\u001b[1;32m----> 1\u001b[1;33m \u001b[1;32mimport\u001b[0m \u001b[0mplaysound\u001b[0m \u001b[1;32mas\u001b[0m \u001b[0mplaysound\u001b[0m\u001b[1;33m\u001b[0m\u001b[1;33m\u001b[0m\u001b[0m\n\u001b[0m",
      "\u001b[1;31mModuleNotFoundError\u001b[0m: No module named 'playsound'"
     ]
    }
   ],
   "source": [
    "import playsound as playsound"
   ]
  },
  {
   "cell_type": "code",
   "execution_count": 17,
   "metadata": {},
   "outputs": [
    {
     "name": "stdout",
     "output_type": "stream",
     "text": [
      "Collecting playsound\n",
      "  Downloading playsound-1.2.2-py2.py3-none-any.whl (6.0 kB)\n",
      "Installing collected packages: playsound\n",
      "Successfully installed playsound-1.2.2\n",
      "Note: you may need to restart the kernel to use updated packages.\n"
     ]
    }
   ],
   "source": [
    "pip install playsound"
   ]
  },
  {
   "cell_type": "code",
   "execution_count": 1,
   "metadata": {},
   "outputs": [
    {
     "name": "stdout",
     "output_type": "stream",
     "text": [
      "Do you want to listen a song? (yes/no): yes\n",
      "Enjoy! \n",
      "Playing Song...\n",
      "Done! Now proceed...\n"
     ]
    }
   ],
   "source": [
    "from playsound import playsound\n",
    "\n",
    "answer = input('Do you want to listen a song? (yes/no): ')\n",
    "\n",
    "if answer == 'yes':\n",
    "    print(\"Enjoy! \\nPlaying Song...\")\n",
    "    playsound('Champion.mp3')\n",
    "    print(\"Done! Now proceed...\")\n",
    "else:\n",
    "    print(\"Okay! Then proceed...\")"
   ]
  },
  {
   "cell_type": "code",
   "execution_count": null,
   "metadata": {},
   "outputs": [],
   "source": []
  }
 ],
 "metadata": {
  "kernelspec": {
   "display_name": "Python 3",
   "language": "python",
   "name": "python3"
  },
  "language_info": {
   "codemirror_mode": {
    "name": "ipython",
    "version": 3
   },
   "file_extension": ".py",
   "mimetype": "text/x-python",
   "name": "python",
   "nbconvert_exporter": "python",
   "pygments_lexer": "ipython3",
   "version": "3.8.3"
  }
 },
 "nbformat": 4,
 "nbformat_minor": 4
}
