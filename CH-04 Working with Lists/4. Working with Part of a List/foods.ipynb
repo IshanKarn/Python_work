{
 "cells": [
  {
   "cell_type": "markdown",
   "metadata": {},
   "source": [
    "### Copying a List\n"
   ]
  },
  {
   "cell_type": "code",
   "execution_count": 1,
   "metadata": {},
   "outputs": [
    {
     "name": "stdout",
     "output_type": "stream",
     "text": [
      "['chicken', 'paneer', 'pizza']\n"
     ]
    }
   ],
   "source": [
    "my_foods = ['chicken', 'paneer', 'pizza']\n",
    "print(my_foods)"
   ]
  },
  {
   "cell_type": "code",
   "execution_count": 2,
   "metadata": {},
   "outputs": [
    {
     "name": "stdout",
     "output_type": "stream",
     "text": [
      "['chicken', 'paneer', 'pizza']\n"
     ]
    }
   ],
   "source": [
    "friend_foods = my_foods[:]    # my_foods list copied to friend_foods list\n",
    "print(friend_foods)   "
   ]
  },
  {
   "cell_type": "code",
   "execution_count": 3,
   "metadata": {},
   "outputs": [],
   "source": [
    "# check if both list are separate or not"
   ]
  },
  {
   "cell_type": "code",
   "execution_count": 4,
   "metadata": {},
   "outputs": [
    {
     "name": "stdout",
     "output_type": "stream",
     "text": [
      "['chicken', 'paneer', 'pizza', 'salad']\n"
     ]
    }
   ],
   "source": [
    "my_foods.append('salad')\n",
    "print(my_foods)"
   ]
  },
  {
   "cell_type": "code",
   "execution_count": 5,
   "metadata": {},
   "outputs": [
    {
     "name": "stdout",
     "output_type": "stream",
     "text": [
      "['chicken', 'paneer', 'pizza', 'burger']\n"
     ]
    }
   ],
   "source": [
    "friend_foods.append('burger')\n",
    "print(friend_foods)"
   ]
  },
  {
   "cell_type": "code",
   "execution_count": 6,
   "metadata": {},
   "outputs": [],
   "source": [
    "# NOTE:\n",
    "# if we do\n",
    "# friend_foods = my_foods\n",
    "# than instead of copying and storing my_foods to friend_foods\n",
    "# it just associates the list assigned to my_foods variable with a new variable friend_foods\n",
    "# so just using assignment operator ('=') between two list doesn't work for copying\n",
    "# e.g. below"
   ]
  },
  {
   "cell_type": "code",
   "execution_count": 7,
   "metadata": {},
   "outputs": [
    {
     "name": "stdout",
     "output_type": "stream",
     "text": [
      "[1, 2, 3]\n"
     ]
    }
   ],
   "source": [
    "lst1 = [1,2,3]\n",
    "lst2 = lst1[:] # copied (both lst1 and lst2 are two different list)\n",
    "print(lst2)"
   ]
  },
  {
   "cell_type": "code",
   "execution_count": 8,
   "metadata": {},
   "outputs": [
    {
     "name": "stdout",
     "output_type": "stream",
     "text": [
      "[1, 2, 3]\n",
      "[1, 2, 3]\n"
     ]
    }
   ],
   "source": [
    "lst3 = lst1 \n",
    "# lst1 assigned to a new variable but not copied \n",
    "print(lst1)\n",
    "print(lst3)"
   ]
  },
  {
   "cell_type": "code",
   "execution_count": 13,
   "metadata": {},
   "outputs": [
    {
     "name": "stdout",
     "output_type": "stream",
     "text": [
      "[1, 2, 3, 5]\n",
      "[1, 2, 3, 5]\n",
      "[1, 2, 3]\n"
     ]
    }
   ],
   "source": [
    "# in this case, both lst1 and lst3 are the same list having two references, any change to one will alter another too\n",
    "# which is logically incorrect for copying\n",
    "lst1.append(5)\n",
    "print(lst1)\n",
    "print(lst3) # changed as it reference the same list\n",
    "print(lst2) # no change in lst2 bcz it is copied from lst1, it is a different list"
   ]
  },
  {
   "cell_type": "code",
   "execution_count": null,
   "metadata": {},
   "outputs": [],
   "source": []
  }
 ],
 "metadata": {
  "kernelspec": {
   "display_name": "Python 3",
   "language": "python",
   "name": "python3"
  },
  "language_info": {
   "codemirror_mode": {
    "name": "ipython",
    "version": 3
   },
   "file_extension": ".py",
   "mimetype": "text/x-python",
   "name": "python",
   "nbconvert_exporter": "python",
   "pygments_lexer": "ipython3",
   "version": "3.8.3"
  }
 },
 "nbformat": 4,
 "nbformat_minor": 4
}
