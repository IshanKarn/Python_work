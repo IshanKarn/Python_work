{
 "cells": [
  {
   "cell_type": "code",
   "execution_count": 2,
   "metadata": {},
   "outputs": [
    {
     "name": "stdout",
     "output_type": "stream",
     "text": [
      "prahlad acharya\n",
      "gopinath muthukad\n",
      "david\n",
      "carolina\n"
     ]
    }
   ],
   "source": [
    "# using a for loop to print out each name in a list of magicians\n",
    "\n",
    "magicians = ['prahlad acharya', 'gopinath muthukad', 'david', 'carolina'] \n",
    "for magician in magicians:\n",
    "    print(magician)"
   ]
  },
  {
   "cell_type": "markdown",
   "metadata": {},
   "source": [
    "### A Closer Look at Looping"
   ]
  },
  {
   "cell_type": "code",
   "execution_count": 3,
   "metadata": {},
   "outputs": [],
   "source": [
    "# working mechanism of for loop\n",
    "    # syntax of for loop\n",
    "    # defining a for loop\n",
    "\n",
    "# ..\n",
    "# ......\n",
    "# ....\n",
    "# ....\n",
    "# ...........\n",
    "# ...........\n",
    "# ...\n",
    "# ."
   ]
  },
  {
   "cell_type": "markdown",
   "metadata": {},
   "source": [
    "### Doing More Work Within a for Loop"
   ]
  },
  {
   "cell_type": "code",
   "execution_count": 9,
   "metadata": {},
   "outputs": [
    {
     "name": "stdout",
     "output_type": "stream",
     "text": [
      "Benefits belongs to HR Services offering.\n",
      "\n",
      "Case Management belongs to HR Services offering.\n",
      "\n",
      "Compensation belongs to HR Services offering.\n",
      "\n",
      "Employee Support belongs to HR Services offering.\n",
      "\n",
      "Global Mobility belongs to HR Services offering.\n",
      "\n",
      "Payroll belongs to HR Services offering.\n",
      "\n",
      "Wfda belongs to HR Services offering.\n",
      "\n"
     ]
    }
   ],
   "source": [
    "# doing repetative task using a for loop\n",
    "# e.g. 1\n",
    "\n",
    "delivery_services = ['benefits', 'case management', 'compensation', 'employee support', 'global mobility', 'payroll', 'wfda']\n",
    "for dlvr_serv in delivery_services:\n",
    "    print(f'{dlvr_serv.title()} belongs to HR Services offering.\\n')"
   ]
  },
  {
   "cell_type": "code",
   "execution_count": 86,
   "metadata": {},
   "outputs": [
    {
     "name": "stdout",
     "output_type": "stream",
     "text": [
      "Contact Ayush: ayushanand01@gmail.com\n",
      "______________________________________\n",
      "Contact Ishan: ishankarn14@gmail.com\n",
      "______________________________________\n",
      "Contact Avinash: avinash.avi@gmail.com\n",
      "______________________________________\n",
      "Contact Anuradha: karnanuradha@gmail.com\n",
      "______________________________________\n",
      "Contact Support: support@gmail.com\n",
      "______________________________________\n",
      "Contact Knight: knighterrant@gmail.com\n",
      "______________________________________\n"
     ]
    }
   ],
   "source": [
    "# e.g. 2\n",
    "\n",
    "firstnames = ['ayush', 'ishan', 'avinash', 'anuradha', 'support', 'knight']\n",
    "usernames = ['ayushanand01', 'ishankarn14', 'avinash.avi', 'karnanuradha', 'support', 'knighterrant',3]\n",
    "design = '______________________________________'\n",
    "\n",
    "for username in usernames:\n",
    "    for firstname in firstnames:\n",
    "        if firstname == 'support team':\n",
    "            print(f'Contact {firstname.title()}: {username}@skillszone.com')\n",
    "            firstnames.pop(0)\n",
    "            print(design)\n",
    "        else:\n",
    "            print(f'Contact {firstname.title()}: {username}@gmail.com')\n",
    "            firstnames.pop(0)\n",
    "            print(design)\n",
    "        break\n"
   ]
  },
  {
   "cell_type": "code",
   "execution_count": 90,
   "metadata": {},
   "outputs": [
    {
     "name": "stdout",
     "output_type": "stream",
     "text": [
      "Sample space of duplets after throwing two dices:\n",
      "\n",
      "1 1\n",
      "1 2\n",
      "1 3\n",
      "1 4\n",
      "1 5\n",
      "1 6\n",
      "#####\n",
      "2 1\n",
      "2 2\n",
      "2 3\n",
      "2 4\n",
      "2 5\n",
      "2 6\n",
      "#####\n",
      "3 1\n",
      "3 2\n",
      "3 3\n",
      "3 4\n",
      "3 5\n",
      "3 6\n",
      "#####\n",
      "4 1\n",
      "4 2\n",
      "4 3\n",
      "4 4\n",
      "4 5\n",
      "4 6\n",
      "#####\n",
      "5 1\n",
      "5 2\n",
      "5 3\n",
      "5 4\n",
      "5 5\n",
      "5 6\n",
      "#####\n",
      "6 1\n",
      "6 2\n",
      "6 3\n",
      "6 4\n",
      "6 5\n",
      "6 6\n",
      "#####\n"
     ]
    }
   ],
   "source": [
    "# e.g. 3\n",
    "\n",
    "print('Sample space of duplets after throwing two dices:\\n')\n",
    "for i in range(1, 7):\n",
    "    for j in range(1, 7):\n",
    "        print(i,j)\n",
    "    print('#####')\n"
   ]
  },
  {
   "cell_type": "code",
   "execution_count": 65,
   "metadata": {},
   "outputs": [
    {
     "name": "stdout",
     "output_type": "stream",
     "text": [
      "#####\n",
      "1 6\n",
      "#####\n",
      "2 6\n",
      "#####\n",
      "3 6\n",
      "#####\n",
      "4 6\n",
      "#####\n",
      "5 6\n",
      "#####\n",
      "6 6\n"
     ]
    }
   ],
   "source": [
    "for i in range(1, 7):\n",
    "    print('#####')\n",
    "    for j in range(6, 13):\n",
    "        print(i,j)\n",
    "        break"
   ]
  },
  {
   "cell_type": "markdown",
   "metadata": {},
   "source": [
    "### Doing Something After a for Loop"
   ]
  },
  {
   "cell_type": "code",
   "execution_count": null,
   "metadata": {},
   "outputs": [],
   "source": [
    "pincodes = [848101, 847429, 620001, 526410, 894562]\n",
    "for i in pincodes:\n",
    "    print(i)\n",
    "#    print('Above we see some sample of pincodes!') # Wrong (Semantic/logical error)\n",
    "print('Above we see some sample of pincodes!') # Right"
   ]
  }
 ],
 "metadata": {
  "kernelspec": {
   "display_name": "Python 3",
   "language": "python",
   "name": "python3"
  },
  "language_info": {
   "codemirror_mode": {
    "name": "ipython",
    "version": 3
   },
   "file_extension": ".py",
   "mimetype": "text/x-python",
   "name": "python",
   "nbconvert_exporter": "python",
   "pygments_lexer": "ipython3",
   "version": "3.8.3"
  }
 },
 "nbformat": 4,
 "nbformat_minor": 4
}
