{
 "cells": [
  {
   "cell_type": "markdown",
   "metadata": {},
   "source": [
    "<pre>\n",
    "Take the time to make your code as easy as possible\n",
    "to read. Writing easy-to-read code helps you keep track of what your programs are doing and helps \n",
    "others understand your code as well. Python programmers have agreed on a number of styling\n",
    "conventions to ensure that everyone’s code is structured in roughly the same way.\n",
    "Once you’ve learned to write clean Python code, you should be able to\n",
    "understand the overall structure of anyone else’s Python code, as long as\n",
    "they follow the same guidelines.\n",
    "</pre>"
   ]
  },
  {
   "cell_type": "markdown",
   "metadata": {},
   "source": [
    "### The Style Guide\n"
   ]
  },
  {
   "cell_type": "markdown",
   "metadata": {},
   "source": [
    "<pre>\n",
    "When someone wants to make a change to the Python language, they write a Python Enhancement Proposal (PEP). \n",
    "One of the oldest PEPs is PEP 8, which instructs Python programmers on how to style their code.  The \n",
    "Python style guide was written with the understanding that code is read more often than it is written. You’ll \n",
    "write your code once and then start reading it as you begin debugging. When you add features to a program,  you’ll \n",
    "spend more time reading your code. When you share your code with other programmers, they’ll read your code as well. \n",
    "</pre>"
   ]
  },
  {
   "cell_type": "markdown",
   "metadata": {},
   "source": [
    "<pre>The following guidelines will help you write clear code from the start.</pre>"
   ]
  },
  {
   "cell_type": "markdown",
   "metadata": {},
   "source": [
    "### Indentation"
   ]
  },
  {
   "cell_type": "markdown",
   "metadata": {},
   "source": [
    "<pre>\n",
    "PEP 8 recommends that you use four spaces per indentation level. Using four spaces improves readability\n",
    "while leaving room for multiple levels of indentation on each line.\n",
    "Mixing tabs and spaces in your file can cause problems that are very difficult to diagnose. If you think \n",
    "you have a mix of tabs and spaces, you can convert all tabs in a file to spaces in most editors.\n",
    "</pre>"
   ]
  },
  {
   "cell_type": "markdown",
   "metadata": {},
   "source": [
    "### Line Length\n"
   ]
  },
  {
   "cell_type": "markdown",
   "metadata": {},
   "source": [
    "<pre>\n",
    "Many Python programmers recommend that each line should be less than 80 characters.\n",
    "PEP 8 also recommends that you limit all of your comments to 72 characters per line, \n",
    "because some of the tools that generate automatic documentation for larger projects \n",
    "add formatting characters at the beginning of each commented line.\n",
    "Most editors allow you to set up a visual cue, usually a vertical line on your screen, \n",
    "that shows you where these limits are. \n",
    "</pre>"
   ]
  },
  {
   "cell_type": "code",
   "execution_count": 2,
   "metadata": {},
   "outputs": [],
   "source": [
    "# show example (spyder)"
   ]
  },
  {
   "cell_type": "markdown",
   "metadata": {},
   "source": [
    "### Blank Lines\n"
   ]
  },
  {
   "cell_type": "markdown",
   "metadata": {},
   "source": [
    "<pre>\n",
    "To group parts of your program visually, use blank lines. You should use blank lines to organize\n",
    "your files, but don’t do so excessively. By following the examples provided in this book, you should\n",
    "strike the right balance. For example, if you have five lines of code that build a list, and then\n",
    "another three lines that do something with that list, it’s appropriate to place a blank\n",
    "line between the two sections. However, you should not place three or four blank lines between \n",
    "the two sections.\n",
    "Blank lines won’t affect how your code runs, but they will affect the readability of your code. \n",
    "The Python interpreter uses horizontal indentation to interpret the meaning of your code, but it \n",
    "disregards vertical spacing.\n",
    "\n",
    "\n",
    "</pre>"
   ]
  },
  {
   "cell_type": "code",
   "execution_count": null,
   "metadata": {},
   "outputs": [],
   "source": []
  }
 ],
 "metadata": {
  "kernelspec": {
   "display_name": "Python 3",
   "language": "python",
   "name": "python3"
  },
  "language_info": {
   "codemirror_mode": {
    "name": "ipython",
    "version": 3
   },
   "file_extension": ".py",
   "mimetype": "text/x-python",
   "name": "python",
   "nbconvert_exporter": "python",
   "pygments_lexer": "ipython3",
   "version": "3.8.3"
  }
 },
 "nbformat": 4,
 "nbformat_minor": 4
}
