{
 "cells": [
  {
   "cell_type": "markdown",
   "metadata": {},
   "source": [
    "<pre>\n",
    "<strong>4-1. Pizzas:</strong> Think of at least three kinds of your favorite pizza. Store these\n",
    "     pizza names in a list, and then use a for loop to print the name of each pizza.\n",
    "•\tModify your for loop to print a sentence using the name of the pizza\n",
    "     instead of printing just the name of the pizza. For each pizza you should\n",
    "     have one line of output containing a simple statement like I like pepperoni\n",
    "     pizza.\n",
    "•\tAdd a line at the end of your program, outside the for loop, that states\n",
    "     how much you like pizza. The output should consist of three or more lines\n",
    "     about the kinds of pizza you like and then an additional sentence, such as\n",
    "     I really love pizza!\n",
    "</pre>\n"
   ]
  },
  {
   "cell_type": "code",
   "execution_count": 8,
   "metadata": {},
   "outputs": [
    {
     "name": "stdout",
     "output_type": "stream",
     "text": [
      "I like napoletana pizza.\n",
      "I like margherita pizza.\n",
      "I like marinara pizza.\n",
      "I like hawaiian pizza.\n",
      "I like caprese pizza.\n",
      "\n",
      "Caprese is a variety of Italian pizza that is traditionally topped with cherry tomatoes,\n",
      "mozzarella di bufala, olive oil, and fresh basil leaves. It provides a great way to use up leftover tomatoes,\n",
      "and some cooks like to finish it off with a drizzle of balsamic reduction on top.\n",
      "\n",
      "I love pizza for its taste and texture!\n"
     ]
    }
   ],
   "source": [
    "pizzas = ['napoletana', 'margherita', 'marinara', 'hawaiian', 'caprese']\n",
    "for pizza in pizzas:\n",
    "    #print(pizza)\n",
    "    print(f'I like {pizza} pizza.')\n",
    "print(\"\\nCaprese is a variety of Italian pizza that is traditionally topped with cherry tomatoes,\\nmozzarella di bufala, olive oil, and fresh basil leaves. It provides a great way to use up leftover tomatoes,\\nand some cooks like to finish it off with a drizzle of balsamic reduction on top.\")\n",
    "print(\"\\nI love pizza for its taste and texture!\")"
   ]
  },
  {
   "cell_type": "markdown",
   "metadata": {},
   "source": [
    "<pre>\n",
    "<strong>4-2. Animals:</strong> Think of at least three different animals that have a common characteristic. \n",
    "     Store the names of these animals in a  list, and then use a for loop to\n",
    "     print out the name of each animal.\n",
    "•\tModify your program to print a statement about each animal, such as\n",
    "     A dog would make a great pet.\n",
    "•\tAdd a line at the end of your program stating what these animals have in\n",
    "     common. You could print a sentence such as Any of these animals would\n",
    "     make a great pet!\n",
    "</pre>"
   ]
  },
  {
   "cell_type": "code",
   "execution_count": 16,
   "metadata": {},
   "outputs": [
    {
     "name": "stdout",
     "output_type": "stream",
     "text": [
      "A puma is a wild animal.\n",
      "A lion is a wild animal.\n",
      "A tiger is a wild animal.\n",
      "\n",
      "They are wild carnivores. They live in forest.\n",
      "They are well known for their strength and agility.\n"
     ]
    }
   ],
   "source": [
    "animals = ['puma', 'lion', 'tiger']\n",
    "for animal in animals:\n",
    "    #print(animal)\n",
    "    print(f'A {animal} is a wild animal.')\n",
    "print(\"\\nThey are wild carnivores. They live in forest.\")\n",
    "print(\"They are well known for their strength and agility.\")"
   ]
  }
 ],
 "metadata": {
  "kernelspec": {
   "display_name": "Python 3",
   "language": "python",
   "name": "python3"
  },
  "language_info": {
   "codemirror_mode": {
    "name": "ipython",
    "version": 3
   },
   "file_extension": ".py",
   "mimetype": "text/x-python",
   "name": "python",
   "nbconvert_exporter": "python",
   "pygments_lexer": "ipython3",
   "version": "3.8.3"
  }
 },
 "nbformat": 4,
 "nbformat_minor": 4
}
