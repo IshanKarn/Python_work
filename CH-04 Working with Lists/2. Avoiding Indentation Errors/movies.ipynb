{
 "cells": [
  {
   "cell_type": "code",
   "execution_count": 1,
   "metadata": {},
   "outputs": [],
   "source": [
    "movies = ['silicon valley', 'mr. robot', 'pirates of silicon valley', 'the internship', 'snowden', 'indie game', \n",
    "          'the internets own boy', 'the founder', 'the imitation game', 'the pursuit of happiness', 'the social network'] "
   ]
  },
  {
   "cell_type": "markdown",
   "metadata": {},
   "source": [
    "### Forgetting to Indent\n"
   ]
  },
  {
   "cell_type": "code",
   "execution_count": 6,
   "metadata": {},
   "outputs": [
    {
     "ename": "IndentationError",
     "evalue": "expected an indented block (<ipython-input-6-4ea7d31a0790>, line 2)",
     "output_type": "error",
     "traceback": [
      "\u001b[1;36m  File \u001b[1;32m\"<ipython-input-6-4ea7d31a0790>\"\u001b[1;36m, line \u001b[1;32m2\u001b[0m\n\u001b[1;33m    print(movie.title() + ' is in watch later yet.\\n')\u001b[0m\n\u001b[1;37m    ^\u001b[0m\n\u001b[1;31mIndentationError\u001b[0m\u001b[1;31m:\u001b[0m expected an indented block\n"
     ]
    }
   ],
   "source": [
    "for movie in movies:\n",
    "print(movie.title() + ' is in watch later yet.\\n') # indent it"
   ]
  },
  {
   "cell_type": "markdown",
   "metadata": {},
   "source": [
    "### Forgetting to Indent Additional Lines\n"
   ]
  },
  {
   "cell_type": "code",
   "execution_count": 13,
   "metadata": {},
   "outputs": [
    {
     "name": "stdout",
     "output_type": "stream",
     "text": [
      "Silicon Valley is in watch later yet.\n",
      "\n",
      "Mr. Robot is in watch later yet.\n",
      "\n",
      "Pirates Of Silicon Valley is in watch later yet.\n",
      "\n",
      "The Internship is in watch later yet.\n",
      "\n",
      "Snowden is in watch later yet.\n",
      "\n",
      "Indie Game is in watch later yet.\n",
      "\n",
      "The Internets Own Boy is in watch later yet.\n",
      "\n",
      "The Founder is in watch later yet.\n",
      "\n",
      "The Imitation Game is in watch later yet.\n",
      "\n",
      "The Pursuit Of Happiness is in watch later yet.\n",
      "\n",
      "The Social Network is in watch later yet.\n",
      "\n",
      "Total unwatched movies: 1\n",
      "Total unwatched movies: 11\n"
     ]
    }
   ],
   "source": [
    "# debug the program\n",
    "\n",
    "counter = 0\n",
    "for movie in movies:\n",
    "    print(movie.title() + ' is in watch later yet.\\n')\n",
    "counter += 1  # indentation needed\n",
    "print('Total unwatched movies: ' + str(counter))\n",
    "print('Total unwatched movies: ' + str(len(movies))) # Req. output"
   ]
  },
  {
   "cell_type": "markdown",
   "metadata": {},
   "source": [
    "### Indenting Unnecessarily\n"
   ]
  },
  {
   "cell_type": "code",
   "execution_count": 16,
   "metadata": {},
   "outputs": [
    {
     "ename": "IndentationError",
     "evalue": "unexpected indent (<ipython-input-16-735c0aa03213>, line 4)",
     "output_type": "error",
     "traceback": [
      "\u001b[1;36m  File \u001b[1;32m\"<ipython-input-16-735c0aa03213>\"\u001b[1;36m, line \u001b[1;32m4\u001b[0m\n\u001b[1;33m    print(f'Hi {name} \\nNice to meet you!')\u001b[0m\n\u001b[1;37m    ^\u001b[0m\n\u001b[1;31mIndentationError\u001b[0m\u001b[1;31m:\u001b[0m unexpected indent\n"
     ]
    }
   ],
   "source": [
    "# debug the progarm\n",
    "\n",
    "name = input(\"Enter your name: \")\n",
    "    print(f'Hi {name} \\nNice to meet you!')"
   ]
  },
  {
   "cell_type": "markdown",
   "metadata": {},
   "source": [
    "### Indenting Unnecessarily After the Loop\n"
   ]
  },
  {
   "cell_type": "code",
   "execution_count": 20,
   "metadata": {},
   "outputs": [
    {
     "name": "stdout",
     "output_type": "stream",
     "text": [
      "Some famous movies:\n",
      "\n",
      "Silicon Valley\n",
      "\n",
      "Above mentioned movies are of hollywood.\n",
      "Mr. Robot\n",
      "\n",
      "Above mentioned movies are of hollywood.\n",
      "Pirates Of Silicon Valley\n",
      "\n",
      "Above mentioned movies are of hollywood.\n",
      "The Internship\n",
      "\n",
      "Above mentioned movies are of hollywood.\n",
      "Snowden\n",
      "\n",
      "Above mentioned movies are of hollywood.\n",
      "Indie Game\n",
      "\n",
      "Above mentioned movies are of hollywood.\n",
      "The Internets Own Boy\n",
      "\n",
      "Above mentioned movies are of hollywood.\n",
      "The Founder\n",
      "\n",
      "Above mentioned movies are of hollywood.\n",
      "The Imitation Game\n",
      "\n",
      "Above mentioned movies are of hollywood.\n",
      "The Pursuit Of Happiness\n",
      "\n",
      "Above mentioned movies are of hollywood.\n",
      "The Social Network\n",
      "\n",
      "Above mentioned movies are of hollywood.\n"
     ]
    }
   ],
   "source": [
    "print('Some famous movies:')\n",
    "print()\n",
    "for movie in movies:\n",
    "    print(movie.title())\n",
    "    print(\"\\nAbove mentioned movies are of hollywood.\") # unnecessary indent\n",
    "    \n",
    "#print(\"\\nAbove mentioned movies are of hollywood.\") "
   ]
  },
  {
   "cell_type": "markdown",
   "metadata": {},
   "source": [
    "### Forgetting the Colon\n"
   ]
  },
  {
   "cell_type": "code",
   "execution_count": 26,
   "metadata": {},
   "outputs": [
    {
     "ename": "SyntaxError",
     "evalue": "invalid syntax (<ipython-input-26-447c0840488f>, line 1)",
     "output_type": "error",
     "traceback": [
      "\u001b[1;36m  File \u001b[1;32m\"<ipython-input-26-447c0840488f>\"\u001b[1;36m, line \u001b[1;32m1\u001b[0m\n\u001b[1;33m    for movie in movies\u001b[0m\n\u001b[1;37m                       ^\u001b[0m\n\u001b[1;31mSyntaxError\u001b[0m\u001b[1;31m:\u001b[0m invalid syntax\n"
     ]
    }
   ],
   "source": [
    "for movie in movies\n",
    "    print(movie.title(), end=', ')"
   ]
  },
  {
   "cell_type": "code",
   "execution_count": null,
   "metadata": {},
   "outputs": [],
   "source": []
  }
 ],
 "metadata": {
  "kernelspec": {
   "display_name": "Python 3",
   "language": "python",
   "name": "python3"
  },
  "language_info": {
   "codemirror_mode": {
    "name": "ipython",
    "version": 3
   },
   "file_extension": ".py",
   "mimetype": "text/x-python",
   "name": "python",
   "nbconvert_exporter": "python",
   "pygments_lexer": "ipython3",
   "version": "3.8.3"
  }
 },
 "nbformat": 4,
 "nbformat_minor": 4
}
