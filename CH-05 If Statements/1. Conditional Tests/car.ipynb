{
 "cells": [
  {
   "cell_type": "markdown",
   "metadata": {},
   "source": [
    "<span style='background-color: yellow'>An expression that can be evaluated as True or False and is called a conditional test.</span><br>\n",
    "Python uses the values True and False to decide whether the code in an if statement should<br> \n",
    "be executed. If a conditional test evaluates to True, Python executes the code following the if<br>\n",
    "statement. If the test evaluates to False, Python ignores the code following the if statement.\n",
    "\n",
    "<span style='background-color: yellow'>Conditional tests compare the current value of a variable to a specific\n",
    "value of interest.</span>"
   ]
  },
  {
   "cell_type": "markdown",
   "metadata": {},
   "source": [
    "### Checking for Equality\n"
   ]
  },
  {
   "cell_type": "markdown",
   "metadata": {},
   "source": [
    "The simplest conditional test checks whether the value of a\n",
    "variable is equal to the value of interest."
   ]
  },
  {
   "cell_type": "code",
   "execution_count": 5,
   "metadata": {},
   "outputs": [
    {
     "data": {
      "text/plain": [
       "True"
      ]
     },
     "execution_count": 5,
     "metadata": {},
     "output_type": "execute_result"
    }
   ],
   "source": [
    "# Examples\n",
    "\n",
    "lastname = 'watson'\n",
    "lastname == 'watson'"
   ]
  },
  {
   "cell_type": "markdown",
   "metadata": {},
   "source": [
    "### Ignoring Case When Checking for Equality\n"
   ]
  },
  {
   "cell_type": "code",
   "execution_count": 6,
   "metadata": {},
   "outputs": [
    {
     "data": {
      "text/plain": [
       "False"
      ]
     },
     "execution_count": 6,
     "metadata": {},
     "output_type": "execute_result"
    }
   ],
   "source": [
    "lastname == 'Watson'  # python is case-sensitive (python's feature)"
   ]
  },
  {
   "cell_type": "markdown",
   "metadata": {},
   "source": [
    "If case doesn’t matter and instead we just want to test the value of a variable, we can convert the\n",
    "variable’s value to lowercase before doing the comparison."
   ]
  },
  {
   "cell_type": "code",
   "execution_count": 10,
   "metadata": {},
   "outputs": [
    {
     "name": "stdout",
     "output_type": "stream",
     "text": [
      "Incorrect\n"
     ]
    }
   ],
   "source": [
    "# example\n",
    "# answer a question in yes/no\n",
    "# correct answer: yes\n",
    "\n",
    "entered_answer = 'Yes'\n",
    "if entered_answer == 'yes': # test is now case sensitive\n",
    "    print('Correct')\n",
    "else:\n",
    "    print('Incorrect') # gets printed but it will result in incorrect judgement"
   ]
  },
  {
   "cell_type": "code",
   "execution_count": 12,
   "metadata": {},
   "outputs": [
    {
     "data": {
      "text/plain": [
       "False"
      ]
     },
     "execution_count": 12,
     "metadata": {},
     "output_type": "execute_result"
    }
   ],
   "source": [
    "# how does above happen?\n",
    "# just see the test case result (NOTE: Python is a casesensitive language)\n",
    "# TEST CASE: entered_answer == 'Yes' \n",
    "# i.e.\n",
    "'Yes' == 'yes' # False, so if block doesn't get executed"
   ]
  },
  {
   "cell_type": "code",
   "execution_count": 11,
   "metadata": {},
   "outputs": [
    {
     "name": "stdout",
     "output_type": "stream",
     "text": [
      "Correct\n"
     ]
    }
   ],
   "source": [
    "entered_answer = 'YES'\n",
    "if entered_answer.lower() == 'yes':   # test is now case insensitive\n",
    "    print('Correct')                  # gets printed\n",
    "else:\n",
    "    print('Incorrect')"
   ]
  },
  {
   "cell_type": "code",
   "execution_count": 13,
   "metadata": {},
   "outputs": [
    {
     "data": {
      "text/plain": [
       "True"
      ]
     },
     "execution_count": 13,
     "metadata": {},
     "output_type": "execute_result"
    }
   ],
   "source": [
    "# how does above happen?\n",
    "# just see the test case result (NOTE: Python is a casesensitive language)\n",
    "# TEST CASE: entered_answer == 'Yes' \n",
    "# i.e.\n",
    "'Yes'.lower() == 'yes' # True, so if block gets executed"
   ]
  },
  {
   "cell_type": "code",
   "execution_count": 19,
   "metadata": {},
   "outputs": [
    {
     "name": "stdout",
     "output_type": "stream",
     "text": [
      "a_anand13\n",
      "ishan_kr\n",
      "knight\n"
     ]
    }
   ],
   "source": [
    "# demo of lower() string method\n",
    "\n",
    "# for a particular website usernames can be in lowercase letters only\n",
    "# according to entered username show the most relevent username in recommended usernames' pop up\n",
    "# (if available --> which is not the part of below code at present)\n",
    "\n",
    "print(\"A_ANAND13\".lower())\n",
    "print(\"Ishan_Kr\".lower())\n",
    "print(\"KNIGHT\".lower())"
   ]
  }
 ],
 "metadata": {
  "kernelspec": {
   "display_name": "Python 3",
   "language": "python",
   "name": "python3"
  },
  "language_info": {
   "codemirror_mode": {
    "name": "ipython",
    "version": 3
   },
   "file_extension": ".py",
   "mimetype": "text/x-python",
   "name": "python",
   "nbconvert_exporter": "python",
   "pygments_lexer": "ipython3",
   "version": "3.8.3"
  }
 },
 "nbformat": 4,
 "nbformat_minor": 4
}
