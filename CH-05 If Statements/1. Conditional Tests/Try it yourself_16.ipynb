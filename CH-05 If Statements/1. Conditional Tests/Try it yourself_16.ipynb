{
 "cells": [
  {
   "cell_type": "markdown",
   "metadata": {},
   "source": [
    "## Try It Yourself\n"
   ]
  },
  {
   "cell_type": "markdown",
   "metadata": {},
   "source": [
    "<pre>\n",
    "<strong>5-1. Conditional Tests:</strong> Write a series of conditional tests. Print a statement\n",
    "describing each test and your prediction for the results of each test. Your code\n",
    "should look something like this:\n",
    "car = 'subaru'\n",
    "print(\"Is car == 'subaru'? I predict True.\")\n",
    "print(car == 'subaru')\n",
    "print(\"\\nIs car == 'audi'? I predict False.\")\n",
    "print(car == 'audi')\n",
    "•\t Look closely at your results, and make sure you understand why each line\n",
    "      evaluates to True or False.\n",
    "•\t Create at least ten tests. Have at least five tests evaluate to True and\n",
    "      another five tests evaluate to False.\n",
    "</pre>\n",
    "\n"
   ]
  },
  {
   "cell_type": "code",
   "execution_count": 1,
   "metadata": {},
   "outputs": [
    {
     "name": "stdout",
     "output_type": "stream",
     "text": [
      "Is name == 'john'? I predict True.\n"
     ]
    }
   ],
   "source": [
    "name = 'john'\n",
    "print(f\"Is name == 'john'? I predict {name=='john'}.\")"
   ]
  },
  {
   "cell_type": "code",
   "execution_count": 2,
   "metadata": {},
   "outputs": [
    {
     "name": "stdout",
     "output_type": "stream",
     "text": [
      "Is name == 'jason'? I predict False.\n"
     ]
    }
   ],
   "source": [
    "name = 'john'\n",
    "print(f\"Is name == 'jason'? I predict {name=='jason'}.\")"
   ]
  },
  {
   "cell_type": "code",
   "execution_count": 3,
   "metadata": {},
   "outputs": [
    {
     "name": "stdout",
     "output_type": "stream",
     "text": [
      "Is name != 'john'? I predict False.\n"
     ]
    }
   ],
   "source": [
    "name = 'john'\n",
    "print(f\"Is name != 'john'? I predict {name!='john'}.\")"
   ]
  },
  {
   "cell_type": "code",
   "execution_count": 4,
   "metadata": {},
   "outputs": [
    {
     "name": "stdout",
     "output_type": "stream",
     "text": [
      "Is number == 18? I predict True.\n"
     ]
    }
   ],
   "source": [
    "number = 18\n",
    "print(f\"Is number == 18? I predict {number == 18}.\")"
   ]
  },
  {
   "cell_type": "code",
   "execution_count": 5,
   "metadata": {},
   "outputs": [
    {
     "name": "stdout",
     "output_type": "stream",
     "text": [
      "Is number >= 18? I predict True.\n"
     ]
    }
   ],
   "source": [
    "number = 18\n",
    "print(f\"Is number >= 18? I predict {number >= 18}.\")"
   ]
  },
  {
   "cell_type": "code",
   "execution_count": 6,
   "metadata": {},
   "outputs": [
    {
     "name": "stdout",
     "output_type": "stream",
     "text": [
      "Is number > 18? I predict False.\n"
     ]
    }
   ],
   "source": [
    "number = 18\n",
    "print(f\"Is number > 18? I predict {number > 18}.\")"
   ]
  },
  {
   "cell_type": "code",
   "execution_count": 7,
   "metadata": {},
   "outputs": [
    {
     "name": "stdout",
     "output_type": "stream",
     "text": [
      "Is number <= 18? I predict True.\n"
     ]
    }
   ],
   "source": [
    "number = 18\n",
    "print(f\"Is number <= 18? I predict {number <= 18}.\")"
   ]
  },
  {
   "cell_type": "code",
   "execution_count": 8,
   "metadata": {},
   "outputs": [
    {
     "name": "stdout",
     "output_type": "stream",
     "text": [
      "Is number < 18? I predict False.\n"
     ]
    }
   ],
   "source": [
    "number = 18\n",
    "print(f\"Is number < 18? I predict {number < 18}.\")"
   ]
  },
  {
   "cell_type": "code",
   "execution_count": 9,
   "metadata": {},
   "outputs": [
    {
     "name": "stdout",
     "output_type": "stream",
     "text": [
      "Is number in numbers? I predict True.\n"
     ]
    }
   ],
   "source": [
    "number = 18\n",
    "numbers = [1, 89, 18, 20, 7]\n",
    "print(f\"Is number in numbers? I predict {number in numbers}.\")"
   ]
  },
  {
   "cell_type": "code",
   "execution_count": 10,
   "metadata": {},
   "outputs": [
    {
     "name": "stdout",
     "output_type": "stream",
     "text": [
      "Is number not in numbers? I predict False.\n"
     ]
    }
   ],
   "source": [
    "number = 18\n",
    "numbers = [1, 89, 18, 20, 7]\n",
    "print(f\"Is number not in numbers? I predict {number not in numbers}.\")"
   ]
  },
  {
   "cell_type": "code",
   "execution_count": 11,
   "metadata": {},
   "outputs": [
    {
     "name": "stdout",
     "output_type": "stream",
     "text": [
      "Is number in numbers and number == 18? I predict True.\n"
     ]
    }
   ],
   "source": [
    "number = 18\n",
    "numbers = [1, 89, 18, 20, 7]\n",
    "print(f\"Is number in numbers and number == 18? I predict {number in numbers and number == 18}.\")"
   ]
  },
  {
   "cell_type": "code",
   "execution_count": 12,
   "metadata": {},
   "outputs": [
    {
     "name": "stdout",
     "output_type": "stream",
     "text": [
      "Is number in numbers and number > 18? I predict False.\n"
     ]
    }
   ],
   "source": [
    "number = 18\n",
    "numbers = [1, 89, 18, 20, 7]\n",
    "print(f\"Is number in numbers and number > 18? I predict {number in numbers and number > 18}.\")"
   ]
  },
  {
   "cell_type": "code",
   "execution_count": 13,
   "metadata": {},
   "outputs": [
    {
     "name": "stdout",
     "output_type": "stream",
     "text": [
      "Is number in [1, 89, 18, 20, 7] or number == 18? I predict True.\n"
     ]
    }
   ],
   "source": [
    "number = 18\n",
    "numbers = [1, 89, 18, 20, 7]\n",
    "print(f\"Is number in {numbers} or number == 18? I predict {number in numbers or number == 18}.\")"
   ]
  },
  {
   "cell_type": "markdown",
   "metadata": {},
   "source": [
    "<pre>\n",
    "<strong>5-2. More Conditional Tests:</strong> You don’t have to limit the number of tests you\n",
    "create to ten. If you want to try more comparisons, write more tests and add\n",
    "them to conditional_tests.py. Have at least one True and one False result for\n",
    "each of the following:\n",
    "•\t Tests for equality and inequality with strings\n",
    "•\t Tests using the lower() method\n",
    "•\t Numerical tests involving equality and inequality, greater than and\n",
    "      less than, greater than or equal to, and less than or equal to\n",
    "•\t Tests using the and keyword and the or keyword\n",
    "•\t Test whether an item is in a list\n",
    "•\t Test whether an item is not in a list\n",
    "</pre>\n"
   ]
  },
  {
   "cell_type": "code",
   "execution_count": 14,
   "metadata": {},
   "outputs": [],
   "source": [
    "# conditional_tests.py"
   ]
  },
  {
   "cell_type": "code",
   "execution_count": 15,
   "metadata": {},
   "outputs": [
    {
     "name": "stdout",
     "output_type": "stream",
     "text": [
      "Does user with username == 'JOHN' exists?: True\n"
     ]
    }
   ],
   "source": [
    "entered_username = 'JOHN'\n",
    "usernames = ['john', 'ishan11', 'kraarav', 'jason', 'programmer']\n",
    "\n",
    "print(f\"Does user with username == 'JOHN' exists?: {entered_username.lower() in usernames}\")"
   ]
  },
  {
   "cell_type": "code",
   "execution_count": 16,
   "metadata": {},
   "outputs": [],
   "source": [
    "# Others are already answered in above problem's solution code"
   ]
  }
 ],
 "metadata": {
  "kernelspec": {
   "display_name": "Python 3",
   "language": "python",
   "name": "python3"
  },
  "language_info": {
   "codemirror_mode": {
    "name": "ipython",
    "version": 3
   },
   "file_extension": ".py",
   "mimetype": "text/x-python",
   "name": "python",
   "nbconvert_exporter": "python",
   "pygments_lexer": "ipython3",
   "version": "3.8.3"
  }
 },
 "nbformat": 4,
 "nbformat_minor": 4
}
