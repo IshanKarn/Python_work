{
 "cells": [
  {
   "cell_type": "markdown",
   "metadata": {},
   "source": [
    "## Try It Yourself\n"
   ]
  },
  {
   "cell_type": "markdown",
   "metadata": {},
   "source": [
    "<pre>\n",
    "<strong>5-3. Alien Colors #1:</strong> Imagine an alien was just shot down in a game. Create a\n",
    "variable called alien_color and assign it a value of 'green', 'yellow', or 'red'.\n",
    "•\t Write an if statement to test whether the alien’s color is green. If it is, print\n",
    "      a message that the player just earned 5 points.\n",
    "•\t Write one version of this program that passes the if test and another that\n",
    "      fails. (The version that fails will have no output.)\n",
    "</pre>\n"
   ]
  },
  {
   "cell_type": "code",
   "execution_count": 1,
   "metadata": {},
   "outputs": [
    {
     "name": "stdout",
     "output_type": "stream",
     "text": [
      "Earned 5 points\n"
     ]
    }
   ],
   "source": [
    "alien_color = 'green'\n",
    "\n",
    "if alien_color == 'green':\n",
    "    print(\"Earned 5 points\")"
   ]
  },
  {
   "cell_type": "code",
   "execution_count": 2,
   "metadata": {},
   "outputs": [],
   "source": [
    "alien_color = 'red'\n",
    "\n",
    "if alien_color == 'green':\n",
    "    print(\"Earned 5 points\")"
   ]
  },
  {
   "cell_type": "markdown",
   "metadata": {},
   "source": [
    "<pre>\n",
    "<strong>5-4. Alien Colors #2:</strong> Choose a color for an alien as you did in Exercise 5-3, and\n",
    "write an if-else chain.\n",
    "•\t If the alien’s color is green, print a statement that the player just earned\n",
    "      5 points for shooting the alien.\n",
    "•\t If the alien’s color isn’t green, print a statement that the player just earned\n",
    "      10 points.\n",
    "•\t Write one version of this program that runs the if block and another that\n",
    "      runs the else block.\n",
    "</pre>\n"
   ]
  },
  {
   "cell_type": "code",
   "execution_count": 3,
   "metadata": {},
   "outputs": [
    {
     "name": "stdout",
     "output_type": "stream",
     "text": [
      "The player earned 5 points for shooting the alien!\n"
     ]
    }
   ],
   "source": [
    "alien_color = 'green'\n",
    "\n",
    "if alien_color == 'green':\n",
    "    print('The player earned 5 points for shooting the alien!')\n",
    "else:\n",
    "    print(\"The player just earned 10 points\")"
   ]
  },
  {
   "cell_type": "code",
   "execution_count": 4,
   "metadata": {},
   "outputs": [
    {
     "name": "stdout",
     "output_type": "stream",
     "text": [
      "The player just earned 10 points\n"
     ]
    }
   ],
   "source": [
    "alien_color = 'red'\n",
    "\n",
    "if alien_color == 'green':\n",
    "    print('The player earned 5 points for shooting the alien!')\n",
    "else:\n",
    "    print(\"The player just earned 10 points\")"
   ]
  },
  {
   "cell_type": "markdown",
   "metadata": {},
   "source": [
    "<pre>\n",
    "<strong>5-5. Alien Colors #3:</strong> Turn your if-else chain from Exercise 5-4 into an if-elifelse chain.\n",
    "•\t If the alien is green, print a message that the player earned 5 points.\n",
    "•\t If the alien is yellow, print a message that the player earned 10 points.\n",
    "•\t If the alien is red, print a message that the player earned 15 points.\n",
    "•\t Write three versions of this program, making sure each message is printed\n",
    "      for the appropriate color alien.\n",
    "</pre>"
   ]
  },
  {
   "cell_type": "code",
   "execution_count": 12,
   "metadata": {},
   "outputs": [
    {
     "name": "stdout",
     "output_type": "stream",
     "text": [
      "The player earned 5 points!\n"
     ]
    }
   ],
   "source": [
    "alien_color = 'green'\n",
    "\n",
    "if alien_color == 'green':\n",
    "    print('The player earned 5 points!')\n",
    "elif alien_color == 'yellow':\n",
    "    print('The player earned 10 points!')\n",
    "else:\n",
    "    print(\"The player just earned 15 points!\")"
   ]
  },
  {
   "cell_type": "code",
   "execution_count": 8,
   "metadata": {},
   "outputs": [],
   "source": [
    "if z ==1:\n",
    "    print('a')"
   ]
  },
  {
   "cell_type": "code",
   "execution_count": 10,
   "metadata": {},
   "outputs": [
    {
     "name": "stdout",
     "output_type": "stream",
     "text": [
      "The player earned 10 points!\n"
     ]
    }
   ],
   "source": [
    "alien_color = 'yellow'\n",
    "\n",
    "if alien_color == 'green':\n",
    "    print('The player earned 5 points!')\n",
    "elif alien_color == 'yellow':\n",
    "    print('The player earned 10 points!')\n",
    "else:\n",
    "    print(\"The player just earned 15 points!\")"
   ]
  },
  {
   "cell_type": "code",
   "execution_count": 11,
   "metadata": {},
   "outputs": [
    {
     "name": "stdout",
     "output_type": "stream",
     "text": [
      "The player just earned 15 points!\n"
     ]
    }
   ],
   "source": [
    "alien_color = 'red'\n",
    "\n",
    "if alien_color == 'green':\n",
    "    print('The player earned 5 points!')\n",
    "elif alien_color == 'yellow':\n",
    "    print('The player earned 10 points!')\n",
    "else:\n",
    "    print(\"The player just earned 15 points!\")"
   ]
  },
  {
   "cell_type": "markdown",
   "metadata": {},
   "source": [
    "<pre>\n",
    "<strong>5-6. Stages of Life:</strong> Write an if-elif-else chain that determines a person’s\n",
    "stage of life. Set a value for the variable age, and then:\n",
    "•\t If the person is less than 2 years old, print a message that the person is\n",
    "      a baby.\n",
    "•\t If the person is at least 2 years old but less than 4, print a message that\n",
    "      the person is a toddler.\n",
    "•\t If the person is at least 4 years old but less than 13, print a message that\n",
    "      the person is a kid.\n",
    "•\t If the person is at least 13 years old but less than 20, print a message that\n",
    "      the person is a teenager.\n",
    "•\t If the person is at least 20 years old but less than 65, print a message that\n",
    "      the person is an adult.\n",
    "•\t If the person is age 65 or older, print a message that the person is an\n",
    "      elder.\n",
    "</pre>\n"
   ]
  },
  {
   "cell_type": "code",
   "execution_count": 13,
   "metadata": {},
   "outputs": [
    {
     "name": "stdout",
     "output_type": "stream",
     "text": [
      "the person is a kid.\n"
     ]
    }
   ],
   "source": [
    "age = 12\n",
    "\n",
    "if age < 2:\n",
    "    print(\"the person is a baby.\")\n",
    "elif age >= 2 and age < 4:\n",
    "    print(\"the person is a toddler.\")\n",
    "elif age >= 4 and age < 13:\n",
    "    print(\"the person is a kid.\")\n",
    "elif age >= 13 and age < 20:\n",
    "    print(\"the person is a teenager.\")\n",
    "elif age >= 20 and age < 65:\n",
    "    print(\"the person is an adult.\")\n",
    "elif age >= 65:\n",
    "    print(\"the person is an elder.\")"
   ]
  },
  {
   "cell_type": "markdown",
   "metadata": {},
   "source": [
    "<pre>\n",
    "<strong>5-7. Favorite Fruit:</strong> Make a list of your favorite fruits, and then write a series of\n",
    "independent if statements that check for certain fruits in your list.\n",
    "•\t Make a list of your three favorite fruits and call it favorite_fruits.\n",
    "•\t Write five if statements. Each should check whether a certain kind of fruit\n",
    "is in your list. If the fruit is in your list, the if block should print a statement,\n",
    "such as You really like bananas!\n",
    "</pre>"
   ]
  },
  {
   "cell_type": "code",
   "execution_count": 14,
   "metadata": {},
   "outputs": [
    {
     "name": "stdout",
     "output_type": "stream",
     "text": [
      "You really like apples!\n",
      "You really like pineapples!\n",
      "You really like custard apples!\n"
     ]
    }
   ],
   "source": [
    "fruits = ['pineapple', 'custard apple', 'apple', 'orange']\n",
    "\n",
    "if 'banana' in fruits:\n",
    "    print(\"You really like bananas!\")\n",
    "if 'apple' in fruits:\n",
    "    print(\"You really like apples!\")\n",
    "if 'pineapple' in fruits:\n",
    "    print(\"You really like pineapples!\")\n",
    "if 'mango' in fruits:\n",
    "    print(\"You really like bananas!\")\n",
    "if 'custard apple' in fruits:\n",
    "    print(\"You really like custard apples!\")"
   ]
  },
  {
   "cell_type": "markdown",
   "metadata": {},
   "source": [
    "<hr>"
   ]
  }
 ],
 "metadata": {
  "kernelspec": {
   "display_name": "Python 3",
   "language": "python",
   "name": "python3"
  },
  "language_info": {
   "codemirror_mode": {
    "name": "ipython",
    "version": 3
   },
   "file_extension": ".py",
   "mimetype": "text/x-python",
   "name": "python",
   "nbconvert_exporter": "python",
   "pygments_lexer": "ipython3",
   "version": "3.8.3"
  }
 },
 "nbformat": 4,
 "nbformat_minor": 4
}
