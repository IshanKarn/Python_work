{
 "cells": [
  {
   "cell_type": "markdown",
   "metadata": {},
   "source": [
    "### Simple if Statements"
   ]
  },
  {
   "cell_type": "markdown",
   "metadata": {},
   "source": [
    "<pre>\n",
    "<span style = 'background-color: yellow'>\n",
    "SYNTAX:</span>\n",
    "<span style = 'background-color: lightgreen'>\n",
    "if conditional_test:\n",
    "    do something    \n",
    "    code block      \n",
    "</span>\n",
    "We can put any conditional test in the first line and just about any\n",
    "action in the indented block following the test. If the conditional test\n",
    "evaluates to True, Python executes the code following the if statement.\n",
    "If the test evaluates to False, Python ignores the code following the if\n",
    "statement.     \n",
    "Indentation plays the same role in if statements as it did in for loops.\n",
    "All indented lines after an if statement will be executed if the test passes,\n",
    "and the entire block of indented lines will be ignored if the test does\n",
    "not pass.\n",
    "</pre>"
   ]
  },
  {
   "cell_type": "code",
   "execution_count": 1,
   "metadata": {},
   "outputs": [
    {
     "name": "stdout",
     "output_type": "stream",
     "text": [
      "You are old enough to vote!\n"
     ]
    }
   ],
   "source": [
    "age = 19\n",
    "if age >= 18:\n",
    "    print(\"You are old enough to vote!\")\n",
    "    print(\"Have you registered to vote yet?\")"
   ]
  },
  {
   "cell_type": "markdown",
   "metadata": {},
   "source": [
    "### if-else Statements\n"
   ]
  },
  {
   "cell_type": "markdown",
   "metadata": {},
   "source": [
    "<pre>\n",
    "Often, we'll want to take one action when a conditional test passes and a different \n",
    "action in all other cases. Python’s if-else syntax makes this possible.\n",
    "An if-else block is similar to a simple if statement, but the else statement\n",
    "allows us to define an action or set of actions that are executed when the\n",
    "conditional test fails.\n",
    "It has only two possible situations to evaluate\n",
    "</pre>"
   ]
  },
  {
   "cell_type": "code",
   "execution_count": 2,
   "metadata": {},
   "outputs": [
    {
     "name": "stdout",
     "output_type": "stream",
     "text": [
      "Sorry, you are too young to vote.\n",
      "Please register to vote as soon as you turn 18!\n"
     ]
    }
   ],
   "source": [
    "age = 17\n",
    "\n",
    "if age >= 18:\n",
    "    print(\"You are old enough to vote!\")\n",
    "    print(\"Have you registered to vote yet?\")\n",
    "else:\n",
    "    print(\"Sorry, you are too young to vote.\")\n",
    "    print(\"Please register to vote as soon as you turn 18!\")"
   ]
  },
  {
   "cell_type": "markdown",
   "metadata": {},
   "source": [
    "### The if-elif-else Chain\n"
   ]
  },
  {
   "cell_type": "markdown",
   "metadata": {},
   "source": [
    "<pre>\n",
    "Often, we’ll need to test more than two possible situations, and to evaluate\n",
    "these we can use Python’s if-elif-else syntax. Python executes only one\n",
    "block in an if-elif-else chain. It runs each conditional test in order until\n",
    "one passes. When a test passes, the code following that test is executed and\n",
    "Python skips the rest of the tests.\n",
    "</pre>"
   ]
  },
  {
   "cell_type": "code",
   "execution_count": 3,
   "metadata": {},
   "outputs": [
    {
     "name": "stdout",
     "output_type": "stream",
     "text": [
      "Your admission cost is Rs.100.\n"
     ]
    }
   ],
   "source": [
    "# Example (use-case)\n",
    "# In an amusement park\n",
    "# Admission for anyone under age 4 is free.\n",
    "# Admission for anyone between the ages of 4 and 18 is Rs.100.\n",
    "# Admission for anyone age 18 or older is Rs.300.\n",
    "\n",
    "age = 12\n",
    "\n",
    "if age < 4:\n",
    "    print(\"Your admission cost is Rs.0.\")\n",
    "elif age < 18:\n",
    "    print(\"Your admission cost is Rs.100.\")\n",
    "else:\n",
    "    print(\"Your admission cost is Rs.300.\")"
   ]
  },
  {
   "cell_type": "code",
   "execution_count": 8,
   "metadata": {},
   "outputs": [
    {
     "name": "stdout",
     "output_type": "stream",
     "text": [
      "Your admission cost is $25.\n"
     ]
    }
   ],
   "source": [
    "# An alternate way\n",
    "\n",
    "age = 12\n",
    "\n",
    "if age < 4:\n",
    "    price = 0\n",
    "elif age < 18:\n",
    "    price = 100\n",
    "else:\n",
    "    price = 300\n",
    "    \n",
    "print(f\"Your admission cost is Rs.{price}.\")\n",
    "\n",
    "# In addition to being more efficient, this revised code is easier to modify\n",
    "# than the original approach. "
   ]
  },
  {
   "cell_type": "markdown",
   "metadata": {},
   "source": [
    "### Using Multiple elif Blocks\n"
   ]
  },
  {
   "cell_type": "code",
   "execution_count": 11,
   "metadata": {},
   "outputs": [
    {
     "name": "stdout",
     "output_type": "stream",
     "text": [
      "Your admission cost is RS.100.\n"
     ]
    }
   ],
   "source": [
    "# Example (use case):\n",
    "# if the amusement park were to implement a discount for seniors, we could add one more conditional \n",
    "# test to the code to determine whether someone qualified for the senior discount.\n",
    "\n",
    "age = 12\n",
    "\n",
    "if age < 4:\n",
    "    price = 0\n",
    "elif age < 18:\n",
    "    price = 100\n",
    "elif age < 65:\n",
    "    price = 300\n",
    "else:\n",
    "    price = 150\n",
    "    \n",
    "print(f\"Your admission cost is RS.{price}.\")"
   ]
  },
  {
   "cell_type": "markdown",
   "metadata": {},
   "source": [
    "### Omitting the else Block"
   ]
  },
  {
   "cell_type": "markdown",
   "metadata": {},
   "source": [
    "<pre>\n",
    "Python does not require an else block at the end of an if-elif chain. Sometimes an else \n",
    "block is useful; sometimes it is clearer to use an additional elif statement that catches \n",
    "the specific condition of interest.\n",
    "</pre>"
   ]
  },
  {
   "cell_type": "code",
   "execution_count": 14,
   "metadata": {},
   "outputs": [
    {
     "name": "stdout",
     "output_type": "stream",
     "text": [
      "Your admission cost is Rs.100.\n"
     ]
    }
   ],
   "source": [
    "# Example\n",
    "\n",
    "age = 12\n",
    "\n",
    "if age < 4:\n",
    "    price = 0\n",
    "elif age < 18:\n",
    "    price = 100\n",
    "elif age < 65:\n",
    "    price = 300\n",
    "elif age >= 65:\n",
    "    price = 150\n",
    "    \n",
    "print(f\"Your admission cost is Rs.{price}.\")\n",
    "\n",
    "# The extra elif block at the end assigns a price of Rs.150 when the person is 65\n",
    "# or older, which is a bit clearer than the general else block. With this change,\n",
    "# every block of code must pass a specific test in order to be executed."
   ]
  },
  {
   "cell_type": "markdown",
   "metadata": {},
   "source": [
    "### Testing Multiple Conditions\n"
   ]
  },
  {
   "cell_type": "markdown",
   "metadata": {},
   "source": [
    "<pre>\n",
    "The if-elif-else chain is powerful, but it’s only appropriate to use when we just need \n",
    "one test to pass. As soon as Python finds one test that passes, it skips the rest of the \n",
    "tests. This behavior is beneficial, because it’s efficient and allows us to test for \n",
    "one specific condition. However, sometimes it’s important to check all of the conditions of\n",
    "interest. In this case, we should use a series of simple if statements with no elif or else \n",
    "blocks. This technique makes sense when more than one condition could be True, and we want \n",
    "to act on every condition that is True.\n",
    "Let’s reconsider the pizzeria example. If someone requests a two-topping\n",
    "pizza, we’ll need to be sure to include both toppings on their pizza.\n",
    "</pre>"
   ]
  },
  {
   "cell_type": "code",
   "execution_count": 15,
   "metadata": {},
   "outputs": [
    {
     "name": "stdout",
     "output_type": "stream",
     "text": [
      "Adding mushrooms.\n",
      "Adding extra cheese.\n",
      "\n",
      "Finished making your pizza!\n"
     ]
    }
   ],
   "source": [
    "requested_toppings = ['mushrooms', 'extra cheese']\n",
    "\n",
    "if 'mushrooms' in requested_toppings:\n",
    "    print(\"Adding mushrooms.\")\n",
    "if 'pepperoni' in requested_toppings:\n",
    "    print(\"Adding pepperoni.\")\n",
    "if 'extra cheese' in requested_toppings:\n",
    "    print(\"Adding extra cheese.\")\n",
    "\n",
    "print(\"\\nFinished making your pizza!\")"
   ]
  },
  {
   "cell_type": "markdown",
   "metadata": {},
   "source": [
    "<pre>\n",
    "This code would not work properly if we used an if-elif-else block,\n",
    "because the code would stop running after only one test passes.\n",
    "</pre>"
   ]
  },
  {
   "cell_type": "code",
   "execution_count": 16,
   "metadata": {},
   "outputs": [
    {
     "name": "stdout",
     "output_type": "stream",
     "text": [
      "Adding mushrooms.\n",
      "\n",
      "Finished making your pizza!\n"
     ]
    }
   ],
   "source": [
    "requested_toppings = ['mushrooms', 'extra cheese']\n",
    "\n",
    "if 'mushrooms' in requested_toppings:\n",
    "    print(\"Adding mushrooms.\")\n",
    "elif 'pepperoni' in requested_toppings:\n",
    "    print(\"Adding pepperoni.\")\n",
    "elif 'extra cheese' in requested_toppings:\n",
    "    print(\"Adding extra cheese.\")\n",
    "\n",
    "print(\"\\nFinished making your pizza!\")  # 'extra cheese doesn't get added'"
   ]
  },
  {
   "cell_type": "markdown",
   "metadata": {},
   "source": [
    "### Nested if\n",
    "<pre>\n",
    "<span style = 'background-color: yellow'>\n",
    "SYNTAX:</span>\n",
    "<span style = 'background-color: lightgreen'>\n",
    "if conditional_test:    \n",
    "    if condition_test:  \n",
    "        do something    \n",
    "        code block      \n",
    "</span>\n",
    "</pre>\n"
   ]
  },
  {
   "cell_type": "code",
   "execution_count": 17,
   "metadata": {},
   "outputs": [
    {
     "name": "stdout",
     "output_type": "stream",
     "text": [
      "Now a is of string type!\n"
     ]
    }
   ],
   "source": [
    "a = 122\n",
    "if a == 122:\n",
    "    a = str(a)\n",
    "    if a == '122':\n",
    "        print('Now a is of string type!')\n",
    "    else:\n",
    "        print('a is not string type!')"
   ]
  },
  {
   "cell_type": "markdown",
   "metadata": {},
   "source": [
    "<hr>"
   ]
  }
 ],
 "metadata": {
  "kernelspec": {
   "display_name": "Python 3",
   "language": "python",
   "name": "python3"
  },
  "language_info": {
   "codemirror_mode": {
    "name": "ipython",
    "version": 3
   },
   "file_extension": ".py",
   "mimetype": "text/x-python",
   "name": "python",
   "nbconvert_exporter": "python",
   "pygments_lexer": "ipython3",
   "version": "3.8.3"
  }
 },
 "nbformat": 4,
 "nbformat_minor": 4
}
