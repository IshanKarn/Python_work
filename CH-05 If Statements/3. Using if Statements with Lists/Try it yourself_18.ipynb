{
 "cells": [
  {
   "cell_type": "markdown",
   "metadata": {},
   "source": [
    "## Try It Yourself"
   ]
  },
  {
   "cell_type": "markdown",
   "metadata": {},
   "source": [
    "<pre>\n",
    "<strong>5-8. Hello Admin:</strong> Make a list of five or more usernames, including the name\n",
    "'admin'. Imagine you are writing code that will print a greeting to each user\n",
    "after they log in to a website. Loop through the list, and print a greeting to\n",
    "each user:\n",
    "•\t If the username is 'admin', print a special greeting, such as Hello admin,\n",
    "      would you like to see a status report?\n",
    "•\t Otherwise, print a generic greeting, such as Hello Jaden, thank you for\n",
    "      logging in again.\n",
    "</pre>\n"
   ]
  },
  {
   "cell_type": "code",
   "execution_count": 1,
   "metadata": {},
   "outputs": [
    {
     "name": "stdout",
     "output_type": "stream",
     "text": [
      "Hello Jaden, thank you for logging in again.\n",
      "Hello admin, would you like to see a status report?\n",
      "Hello Alfa, thank you for logging in again.\n",
      "Hello Pro_Programmer, thank you for logging in again.\n",
      "Hello Keshav, thank you for logging in again.\n"
     ]
    }
   ],
   "source": [
    "#hello_admin.py\n",
    "\n",
    "usernames = ['jaden', 'admin', 'alfa', 'pro_programmer', 'keshav']\n",
    "\n",
    "if usernames:\n",
    "    for username in usernames:\n",
    "        if username.lower() == 'admin':\n",
    "            print(\"Hello admin, would you like to see a status report?\")\n",
    "        else:\n",
    "            print(f\"Hello {username.title()}, thank you for logging in again.\")"
   ]
  },
  {
   "cell_type": "markdown",
   "metadata": {},
   "source": [
    "<pre>\n",
    "<strong>5-9. No Users:</strong> Add an if test to hello_admin.py to make sure the list of users is\n",
    "not empty.\n",
    "•\t If the list is empty, print the message We need to find some users!\n",
    "•\t Remove all of the usernames from your list, and make sure the correct\n",
    "      message is printed.\n",
    "</pre>"
   ]
  },
  {
   "cell_type": "code",
   "execution_count": 2,
   "metadata": {},
   "outputs": [
    {
     "name": "stdout",
     "output_type": "stream",
     "text": [
      "We need to find some users!\n",
      "[]\n"
     ]
    }
   ],
   "source": [
    "#no_users.py\n",
    "\n",
    "usernames = ['jaden', 'admin', 'alfa', 'pro_programmer', 'keshav']\n",
    "\n",
    "usernames.clear() # we can use clear() method to empty any list\n",
    "\n",
    "if usernames:\n",
    "    for username in usernames:\n",
    "        if username.lower() == 'admin':\n",
    "            print(\"Hello admin, would you like to see a status report?\")\n",
    "        else:\n",
    "            print(f\"Hello {username.title()}, thank you for logging in again.\")\n",
    "else:\n",
    "    print(\"We need to find some users!\")\n",
    "print(usernames)"
   ]
  },
  {
   "cell_type": "markdown",
   "metadata": {},
   "source": [
    "<pre>\n",
    "<strong>5-10. Checking Usernames:</strong> Do the following to create a program that simulates\n",
    "how websites ensure that everyone has a unique username.\n",
    "•\t Make a list of five or more usernames called current_users.\n",
    "•\t Make another list of five usernames called new_users. Make sure one or\n",
    "      two of the new usernames are also in the current_users list.\n",
    "•\t Loop through the new_users list to see if each new username has already\n",
    "      been used. If it has, print a message that the person will need to enter a\n",
    "      new username. If a username has not been used, print a message saying\n",
    "      that the username is available.\n",
    "•\t Make sure your comparison is case insensitive. If 'John' has been used,\n",
    "      'JOHN' should not be accepted. (To do this, you’ll need to make a copy of\n",
    "      current_users containing the lowercase versions of all existing users.)\n",
    "</pre>\n"
   ]
  },
  {
   "cell_type": "code",
   "execution_count": 5,
   "metadata": {},
   "outputs": [
    {
     "name": "stdout",
     "output_type": "stream",
     "text": [
      "You will need to enter a new username.\n",
      "The username is available.\n",
      "The username is available.\n",
      "You will need to enter a new username.\n",
      "The username is available.\n",
      "The username is available.\n"
     ]
    }
   ],
   "source": [
    "# checking_usernames.py\n",
    "current_users = ['Jaden', 'admin', 'alfa', 'Pro_Programmer', 'keshav']\n",
    "current_usernames = [value.lower() for value in current_users] # copy of current_users\n",
    "new_users = ['jaden', 'jason', 'ishika', 'alfa', 'ishan', 'ayush']\n",
    "\n",
    "for username in new_users:\n",
    "    if username.lower() in current_usernames:\n",
    "        print(\"You will need to enter a new username.\")\n",
    "    else:\n",
    "        print(\"The username is available.\")"
   ]
  },
  {
   "cell_type": "markdown",
   "metadata": {},
   "source": [
    "<pre>\n",
    "<strong>5-11. Ordinal Numbers:</strong> Ordinal numbers indicate their position in a list, such\n",
    "as 1st or 2nd. Most ordinal numbers end in th, except 1, 2, and 3.\n",
    "•\t Store the numbers 1 through 9 in a list.\n",
    "•\t Loop through the list.\n",
    "•\t Use an if-elif-else chain inside the loop to print the proper ordinal ending for each number. \n",
    "      Your output should read \"1st  2nd 3rd 4th 5th 6th 7th 8th 9th\", and each result should be \n",
    "      on a separate line.\n",
    "</pre>"
   ]
  },
  {
   "cell_type": "code",
   "execution_count": 10,
   "metadata": {},
   "outputs": [
    {
     "name": "stdout",
     "output_type": "stream",
     "text": [
      "1st\n",
      "2nd\n",
      "3rd\n",
      "4th\n",
      "5th\n",
      "6th\n",
      "7th\n",
      "8th\n",
      "9th\n"
     ]
    }
   ],
   "source": [
    "numbers = [ordinal for ordinal in range(1, 10)]\n",
    "\n",
    "for ordinal in numbers:\n",
    "    if ordinal == 1:\n",
    "        print(f'{ordinal}st')\n",
    "    elif ordinal == 2:\n",
    "        print(f'{ordinal}nd')\n",
    "    elif ordinal == 3:\n",
    "        print(f'{ordinal}rd')\n",
    "    else:\n",
    "        print(f'{ordinal}th')"
   ]
  },
  {
   "cell_type": "markdown",
   "metadata": {},
   "source": [
    "<hr>"
   ]
  }
 ],
 "metadata": {
  "kernelspec": {
   "display_name": "Python 3",
   "language": "python",
   "name": "python3"
  },
  "language_info": {
   "codemirror_mode": {
    "name": "ipython",
    "version": 3
   },
   "file_extension": ".py",
   "mimetype": "text/x-python",
   "name": "python",
   "nbconvert_exporter": "python",
   "pygments_lexer": "ipython3",
   "version": "3.8.3"
  }
 },
 "nbformat": 4,
 "nbformat_minor": 4
}
