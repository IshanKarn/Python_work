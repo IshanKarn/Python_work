{
 "cells": [
  {
   "cell_type": "markdown",
   "metadata": {},
   "source": [
    "## Try It Yourself"
   ]
  },
  {
   "cell_type": "markdown",
   "metadata": {},
   "source": [
    "<pre>\n",
    "<strong>5-12. Styling if statements:</strong> Review the programs you wrote in this chapter, and\n",
    "make sure you styled your conditional tests appropriately.\n",
    "</pre>\n"
   ]
  },
  {
   "cell_type": "code",
   "execution_count": null,
   "metadata": {},
   "outputs": [],
   "source": [
    "# done (already followed unknowingly)"
   ]
  },
  {
   "cell_type": "markdown",
   "metadata": {},
   "source": [
    "<pre>\n",
    "<strong>5-13. Your Ideas:</strong> At this point, you’re a more capable programmer than you\n",
    "were when you started this book. Now that you have a better sense of how\n",
    "real-world situations are modeled in programs, you might be thinking of some\n",
    "problems you could solve with your own programs. Record any new ideas you\n",
    "have about problems you might want to solve as your programming skills continue to improve. \n",
    "Consider games you might want to write, data sets you might\n",
    "want to explore, and web applications you’d like to create.\n",
    "</pre>"
   ]
  },
  {
   "cell_type": "code",
   "execution_count": null,
   "metadata": {},
   "outputs": [],
   "source": [
    "# It is MUST\n",
    "# MANDOTARY exercise, think and write\n",
    "# chess, mnist, online counselling system, eTest software"
   ]
  }
 ],
 "metadata": {
  "kernelspec": {
   "display_name": "Python 3",
   "language": "python",
   "name": "python3"
  },
  "language_info": {
   "codemirror_mode": {
    "name": "ipython",
    "version": 3
   },
   "file_extension": ".py",
   "mimetype": "text/x-python",
   "name": "python",
   "nbconvert_exporter": "python",
   "pygments_lexer": "ipython3",
   "version": "3.8.3"
  }
 },
 "nbformat": 4,
 "nbformat_minor": 4
}
