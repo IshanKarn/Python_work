{
 "cells": [
  {
   "cell_type": "markdown",
   "metadata": {},
   "source": [
    "## Writing to a File\n",
    "\n",
    "<pre>\n",
    "One of the simplest ways to save data is to write it to a file.\n",
    "</pre>"
   ]
  },
  {
   "cell_type": "markdown",
   "metadata": {},
   "source": [
    "### Writing to an Empty File\n",
    "<pre>\n",
    "To write text to a file, we need to call open() with a second argument telling\n",
    "Python that we want to write to the file.\n",
    "The first argument is still the name of the file we want to open. The second \n",
    "argument, 'w', tells Python that we want to open the file in write mode.\n",
    "\n",
    "<span style='background-color: rgb(220,240,250)'>NOTE: We can open a file in read mode ('r'), write mode ('w'), append mode ('a'),\n",
    "or a mode that allows we to read and write to the file ('r+'). If we omit the \n",
    "mode argument, Python opens the file, in read-only mode by default.</span>\n",
    "<span style='background-color: rgb(235,220,250)'>The open() function automatically creates the file we’re writing to if it doesn’t \n",
    "already exist.</span>\n",
    "\n",
    "<span style='background-color: yellow'>SYNTAX: file_object.write(variable/string)</span>\n",
    "</pre>"
   ]
  },
  {
   "cell_type": "code",
   "execution_count": 1,
   "metadata": {},
   "outputs": [],
   "source": [
    "# write_message.py\n",
    "\n",
    "filename = 'programming.txt'\n",
    "\n",
    "with open(filename, 'w') as file_object:\n",
    "    file_object.write(\"I love programming.\")"
   ]
  },
  {
   "cell_type": "code",
   "execution_count": 9,
   "metadata": {},
   "outputs": [
    {
     "name": "stdout",
     "output_type": "stream",
     "text": [
      "I love programming.\n"
     ]
    }
   ],
   "source": [
    "# check\n",
    "\n",
    "file = open('programming.txt', 'r')\n",
    "print(file.read())\n",
    "file.close()"
   ]
  },
  {
   "cell_type": "code",
   "execution_count": 11,
   "metadata": {},
   "outputs": [
    {
     "ename": "TypeError",
     "evalue": "write() argument must be str, not int",
     "output_type": "error",
     "traceback": [
      "\u001b[1;31m---------------------------------------------------------------------------\u001b[0m",
      "\u001b[1;31mTypeError\u001b[0m                                 Traceback (most recent call last)",
      "\u001b[1;32m<ipython-input-11-554668470cef>\u001b[0m in \u001b[0;36m<module>\u001b[1;34m\u001b[0m\n\u001b[0;32m      1\u001b[0m \u001b[1;32mwith\u001b[0m \u001b[0mopen\u001b[0m\u001b[1;33m(\u001b[0m\u001b[0mfilename\u001b[0m\u001b[1;33m,\u001b[0m \u001b[1;34m'w'\u001b[0m\u001b[1;33m)\u001b[0m \u001b[1;32mas\u001b[0m \u001b[0mfile_object\u001b[0m\u001b[1;33m:\u001b[0m\u001b[1;33m\u001b[0m\u001b[1;33m\u001b[0m\u001b[0m\n\u001b[1;32m----> 2\u001b[1;33m     \u001b[0mfile_object\u001b[0m\u001b[1;33m.\u001b[0m\u001b[0mwrite\u001b[0m\u001b[1;33m(\u001b[0m\u001b[1;36m16661\u001b[0m\u001b[1;33m)\u001b[0m\u001b[1;33m\u001b[0m\u001b[1;33m\u001b[0m\u001b[0m\n\u001b[0m",
      "\u001b[1;31mTypeError\u001b[0m: write() argument must be str, not int"
     ]
    }
   ],
   "source": [
    "# Observe error and see codes in below cell\n",
    "\n",
    "with open(filename, 'w') as file_object:\n",
    "    file_object.write(16661)"
   ]
  },
  {
   "cell_type": "code",
   "execution_count": 12,
   "metadata": {},
   "outputs": [],
   "source": [
    "# NOTE: Python can only write strings to a text file. If we want to store numerical data in a\n",
    "# text file, we’ll have to convert the data to string format first using the str() function.\n",
    "\n",
    "with open(filename, 'w') as file_object:\n",
    "    file_object.write(str(16661))"
   ]
  },
  {
   "cell_type": "code",
   "execution_count": 13,
   "metadata": {},
   "outputs": [
    {
     "name": "stdout",
     "output_type": "stream",
     "text": [
      "16661\n"
     ]
    }
   ],
   "source": [
    "# check\n",
    "\n",
    "file = open('programming.txt', 'r')\n",
    "print(file.read())\n",
    "file.close()"
   ]
  },
  {
   "cell_type": "markdown",
   "metadata": {},
   "source": [
    "<pre>\n",
    "<span style='background-color: rgb(225,220,250)'>Be careful opening a file in write mode ('w') because if the file does exist, Python\n",
    "will erase the contents of the file before returning the file object. Example above 👆!</span>\n",
    "</pre>"
   ]
  },
  {
   "cell_type": "markdown",
   "metadata": {},
   "source": [
    "### Writing Multiple Lines\n",
    "<pre>The write() function doesn’t add any newlines to the text you write.\n",
    "</pre>"
   ]
  },
  {
   "cell_type": "code",
   "execution_count": 14,
   "metadata": {},
   "outputs": [],
   "source": [
    "filename = 'programming.txt'\n",
    "with open(filename, 'w') as file_object:\n",
    "    file_object.write(\"I love programming.\")\n",
    "    file_object.write(\"I love creating new games.\")"
   ]
  },
  {
   "cell_type": "code",
   "execution_count": 15,
   "metadata": {},
   "outputs": [
    {
     "name": "stdout",
     "output_type": "stream",
     "text": [
      "I love programming.I love creating new games.\n"
     ]
    }
   ],
   "source": [
    "# check\n",
    "\n",
    "file = open('programming.txt', 'r')\n",
    "print(file.read())\n",
    "file.close()"
   ]
  },
  {
   "cell_type": "code",
   "execution_count": 16,
   "metadata": {},
   "outputs": [
    {
     "name": "stdout",
     "output_type": "stream",
     "text": [
      "I love programming.\n",
      "I love creating new games.\n",
      "\n"
     ]
    }
   ],
   "source": [
    "# Including newlines in your calls to write() makes each string appear on its own line\n",
    "\n",
    "filename = 'programming.txt'\n",
    "with open(filename, 'w') as file_object:\n",
    "    file_object.write(\"I love programming.\\n\")\n",
    "    file_object.write(\"I love creating new games.\\n\")\n",
    "    \n",
    "# check\n",
    "\n",
    "file = open('programming.txt', 'r')\n",
    "print(file.read())\n",
    "file.close()\n",
    "\n",
    "# NOTE: We can also use spaces, tab characters, and blank lines to format our\n",
    "# output, just as we’ve been doing with terminal-based output."
   ]
  },
  {
   "cell_type": "markdown",
   "metadata": {},
   "source": [
    "### Appending to a File\n"
   ]
  },
  {
   "cell_type": "markdown",
   "metadata": {},
   "source": [
    "<pre>\n",
    "If we want to add content to a file instead of writing over existing content,\n",
    "we can open the file in append mode.\n",
    "\n",
    "When you open a file in append mode, Python doesn’t erase the contents of the \n",
    "file before returning the file object. Any lines you write to the file will be \n",
    "added at the end of the file. \n",
    "If the file doesn’t exist yet, Python will create an empty file for you.\n",
    "\n",
    "<span style='background-color: yellow'>SYNTAX: file_object = open(filename, 'a')</span>\n",
    "</pre>"
   ]
  },
  {
   "cell_type": "code",
   "execution_count": 17,
   "metadata": {},
   "outputs": [],
   "source": [
    "filename = 'programming.txt'\n",
    "\n",
    "with open(filename, 'a') as file_object:\n",
    "    file_object.write(\"I also love finding meaning in large datasets.\\n\")\n",
    "    file_object.write(\"I love creating apps that can run in a browser.\\n\")"
   ]
  },
  {
   "cell_type": "code",
   "execution_count": 18,
   "metadata": {},
   "outputs": [
    {
     "name": "stdout",
     "output_type": "stream",
     "text": [
      "I love programming.\n",
      "I love creating new games.\n",
      "I also love finding meaning in large datasets.\n",
      "I love creating apps that can run in a browser.\n",
      "\n"
     ]
    }
   ],
   "source": [
    "# check output/Read file\n",
    "\n",
    "file = open('programming.txt', 'r')\n",
    "print(file.read())\n",
    "file.close()"
   ]
  },
  {
   "cell_type": "markdown",
   "metadata": {},
   "source": [
    "<hr>"
   ]
  }
 ],
 "metadata": {
  "kernelspec": {
   "display_name": "Python 3",
   "language": "python",
   "name": "python3"
  },
  "language_info": {
   "codemirror_mode": {
    "name": "ipython",
    "version": 3
   },
   "file_extension": ".py",
   "mimetype": "text/x-python",
   "name": "python",
   "nbconvert_exporter": "python",
   "pygments_lexer": "ipython3",
   "version": "3.8.3"
  }
 },
 "nbformat": 4,
 "nbformat_minor": 4
}
