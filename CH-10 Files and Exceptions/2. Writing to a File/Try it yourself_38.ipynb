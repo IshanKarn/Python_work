{
 "cells": [
  {
   "cell_type": "markdown",
   "metadata": {},
   "source": [
    "## Try It Yourself"
   ]
  },
  {
   "cell_type": "markdown",
   "metadata": {},
   "source": [
    "<pre>\n",
    "<strong>10-3. Guest:</strong> Write a program that prompts the user for their name. When they\n",
    "respond, write their name to a file called guest.txt.\n",
    "</pre>\n"
   ]
  },
  {
   "cell_type": "code",
   "execution_count": null,
   "metadata": {},
   "outputs": [],
   "source": [
    "# guest.py\n",
    "\n",
    "name = input(\"Enter your name: \")\n",
    "\n",
    "with open('guest.txt', 'w') as file_object:\n",
    "    file_object.write(name)"
   ]
  },
  {
   "cell_type": "markdown",
   "metadata": {},
   "source": [
    "<pre>\n",
    "<strong>10-4. Guest Book:</strong> Write a while loop that prompts users for their name. When\n",
    "they enter their name, print a greeting to the screen and add a line recording\n",
    "their visit in a file called guest_book.txt. Make sure each entry appears on a\n",
    "new line in the file.\n",
    "</pre>\n"
   ]
  },
  {
   "cell_type": "code",
   "execution_count": 1,
   "metadata": {},
   "outputs": [
    {
     "name": "stdout",
     "output_type": "stream",
     "text": [
      "Enter 0 to stop the process anytime!\n",
      "\n",
      "Enter your name: ishan karn\n",
      "Hello, Ishan Karn!\n",
      "\n",
      "Enter your name: Navneet karn\n",
      "Hello, Navneet Karn!\n",
      "\n",
      "Enter your name: saurabh kumar jha\n",
      "Hello, Saurabh Kumar Jha!\n",
      "\n",
      "Enter your name: nitin kamath\n",
      "Hello, Nitin Kamath!\n",
      "\n",
      "Enter your name: elon reeve musk\n",
      "Hello, Elon Reeve Musk!\n",
      "\n",
      "Enter your name: q\n",
      "Hello, Q!\n",
      "\n",
      "Enter your name: bruce lee\n",
      "Hello, Bruce Lee!\n",
      "\n",
      "Enter your name: 0\n"
     ]
    }
   ],
   "source": [
    "# guest_book.py\n",
    "\n",
    "print(\"Enter 0 to stop the process anytime!\\n\")\n",
    "\n",
    "asking = True\n",
    "while asking:\n",
    "    name = input(\"Enter your name: \")\n",
    "    if name == '0':\n",
    "        asking = False\n",
    "    else:\n",
    "        print(f\"Hello, {name.title()}!\\n\")\n",
    "\n",
    "        with open('guest_book.txt', 'a') as file_object:\n",
    "            file_object.write(f\"{name.title()}\\n\")"
   ]
  },
  {
   "cell_type": "markdown",
   "metadata": {},
   "source": [
    "<pre>\n",
    "<strong>10-5. Programming Poll:</strong> Write a while loop that asks people why they like\n",
    "programming. Each time someone enters a reason, add their reason to a file\n",
    "that stores all the responses.\n",
    "</pre>"
   ]
  },
  {
   "cell_type": "code",
   "execution_count": 3,
   "metadata": {},
   "outputs": [
    {
     "name": "stdout",
     "output_type": "stream",
     "text": [
      "Enter 0 to stop the process anytime!\n",
      "\n",
      "\n",
      "Why do you like programming?: i love developing games.\n",
      "\n",
      "Why do you like programming?: it empowers our mind.\n",
      "\n",
      "Why do you like programming?: it helps us to create a better world.\n",
      "\n",
      "Why do you like programming?: it makes our life easier.\n",
      "\n",
      "Why do you like programming?: writing codes helps me whenever I feel down.\n",
      "\n",
      "Why do you like programming?: it helps me in creating the world i want.\n",
      "\n",
      "Why do you like programming?: 0\n"
     ]
    }
   ],
   "source": [
    "# programming.py\n",
    "\n",
    "print(\"Enter 0 to stop the process anytime!\\n\")\n",
    "\n",
    "asking = True\n",
    "while asking:\n",
    "    reason = input(\"\\nWhy do you like programming?: \")\n",
    "    if reason == '0':\n",
    "        asking = False.\n",
    "    else:\n",
    "        with open('responses.txt', 'a') as file_object:\n",
    "            file_object.write(f\"{reason.capitalize()}\\n\")"
   ]
  },
  {
   "cell_type": "markdown",
   "metadata": {},
   "source": [
    "<hr>"
   ]
  }
 ],
 "metadata": {
  "kernelspec": {
   "display_name": "Python 3",
   "language": "python",
   "name": "python3"
  },
  "language_info": {
   "codemirror_mode": {
    "name": "ipython",
    "version": 3
   },
   "file_extension": ".py",
   "mimetype": "text/x-python",
   "name": "python",
   "nbconvert_exporter": "python",
   "pygments_lexer": "ipython3",
   "version": "3.8.3"
  }
 },
 "nbformat": 4,
 "nbformat_minor": 4
}
