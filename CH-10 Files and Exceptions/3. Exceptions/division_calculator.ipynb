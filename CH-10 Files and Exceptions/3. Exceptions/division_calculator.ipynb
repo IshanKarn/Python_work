{
 "cells": [
  {
   "cell_type": "markdown",
   "metadata": {},
   "source": [
    "## Exceptions"
   ]
  },
  {
   "cell_type": "markdown",
   "metadata": {},
   "source": [
    "<pre>\n",
    "Python uses special objects called exceptions to manage errors that arise during \n",
    "a program’s execution.\n",
    "If we write code that handles the exception, the program will continue running.\n",
    "Exceptions are handled with try-except blocks.\n",
    "</pre>"
   ]
  },
  {
   "cell_type": "code",
   "execution_count": null,
   "metadata": {},
   "outputs": [],
   "source": [
    "# Whenever an error occurs that makes Python unsure what to do next, it creates an exception object.\n",
    "\n",
    "# If you don’t handle the exception, the program will halt and show a traceback, which includes a  report of the \n",
    "# exception that was raised.\n",
    "\n",
    "# A try-except block asks Python to do something, but it also tells Python what to do if an exception is raised."
   ]
  },
  {
   "cell_type": "markdown",
   "metadata": {},
   "source": [
    "### Handling the ZeroDivisionError Exception"
   ]
  },
  {
   "cell_type": "code",
   "execution_count": 1,
   "metadata": {},
   "outputs": [
    {
     "ename": "ZeroDivisionError",
     "evalue": "division by zero",
     "output_type": "error",
     "traceback": [
      "\u001b[1;31m---------------------------------------------------------------------------\u001b[0m",
      "\u001b[1;31mZeroDivisionError\u001b[0m                         Traceback (most recent call last)",
      "\u001b[1;32m<ipython-input-1-fad870a50e27>\u001b[0m in \u001b[0;36m<module>\u001b[1;34m\u001b[0m\n\u001b[1;32m----> 1\u001b[1;33m \u001b[0mprint\u001b[0m\u001b[1;33m(\u001b[0m\u001b[1;36m5\u001b[0m\u001b[1;33m/\u001b[0m\u001b[1;36m0\u001b[0m\u001b[1;33m)\u001b[0m\u001b[1;33m\u001b[0m\u001b[1;33m\u001b[0m\u001b[0m\n\u001b[0m",
      "\u001b[1;31mZeroDivisionError\u001b[0m: division by zero"
     ]
    }
   ],
   "source": [
    "print(5/0)"
   ]
  },
  {
   "cell_type": "code",
   "execution_count": null,
   "metadata": {},
   "outputs": [],
   "source": [
    "# ZeroDivisionError: An Exception Oobject\n",
    "\n",
    "# Python creates this kind of object in response to a situation\n",
    "# where it can’t do what we ask it to. When this happens, Python stops \n",
    "# the program and tells us the kind of exception that was raised."
   ]
  },
  {
   "cell_type": "markdown",
   "metadata": {},
   "source": [
    "### Using try-except Blocks\n",
    "<pre>\n",
    "<span style=\"background-color:yellow\">SYNTAX:\n",
    "\n",
    "try:                 \n",
    "    ...code          \n",
    "except ExceptionName:\n",
    "    ...code          \n",
    "</span>\n",
    "If the code in a try block works, Python skips over the except block. If the code \n",
    "in the try block causes an error, Python looks for an except block whose error \n",
    "matches the one that was raised and runs the code in that block.\n",
    "</pre>"
   ]
  },
  {
   "cell_type": "code",
   "execution_count": 3,
   "metadata": {},
   "outputs": [
    {
     "name": "stdout",
     "output_type": "stream",
     "text": [
      "You cannot divide by zero!\n"
     ]
    }
   ],
   "source": [
    "#  try-except block for handling the ZeroDivisionError exception\n",
    "\n",
    "try:\n",
    "    print(5/0)\n",
    "except ZeroDivisionError:\n",
    "    print(\"You cannot divide by zero!\")"
   ]
  },
  {
   "cell_type": "markdown",
   "metadata": {},
   "source": [
    "### Using Exceptions to Prevent Crashes\n",
    "<pre>\n",
    "Handling errors correctly is especially important when the program has\n",
    "more work to do after the error occurs.\n",
    "</pre>"
   ]
  },
  {
   "cell_type": "code",
   "execution_count": 4,
   "metadata": {},
   "outputs": [
    {
     "name": "stdout",
     "output_type": "stream",
     "text": [
      "Give me two numbers, and I'll divide them.\n",
      "Enter 'q' to quit.\n",
      "\n",
      "First number: 10\n",
      "Second number: 5\n",
      "2.0\n",
      "\n",
      "First number: 10\n",
      "Second number: 3\n",
      "3.3333333333333335\n",
      "\n",
      "First number: 800\n",
      "Second number: 400\n",
      "2.0\n",
      "\n",
      "First number: 895412\n",
      "Second number: 256\n",
      "3497.703125\n",
      "\n",
      "First number: 51\n",
      "Second number: 0\n"
     ]
    },
    {
     "ename": "ZeroDivisionError",
     "evalue": "division by zero",
     "output_type": "error",
     "traceback": [
      "\u001b[1;31m---------------------------------------------------------------------------\u001b[0m",
      "\u001b[1;31mZeroDivisionError\u001b[0m                         Traceback (most recent call last)",
      "\u001b[1;32m<ipython-input-4-e95cb29ff366>\u001b[0m in \u001b[0;36m<module>\u001b[1;34m\u001b[0m\n\u001b[0;32m     10\u001b[0m     \u001b[1;32mif\u001b[0m \u001b[0msecond_number\u001b[0m \u001b[1;33m==\u001b[0m \u001b[1;34m'q'\u001b[0m\u001b[1;33m:\u001b[0m\u001b[1;33m\u001b[0m\u001b[1;33m\u001b[0m\u001b[0m\n\u001b[0;32m     11\u001b[0m         \u001b[1;32mbreak\u001b[0m\u001b[1;33m\u001b[0m\u001b[1;33m\u001b[0m\u001b[0m\n\u001b[1;32m---> 12\u001b[1;33m     \u001b[0manswer\u001b[0m \u001b[1;33m=\u001b[0m \u001b[0mint\u001b[0m\u001b[1;33m(\u001b[0m\u001b[0mfirst_number\u001b[0m\u001b[1;33m)\u001b[0m \u001b[1;33m/\u001b[0m \u001b[0mint\u001b[0m\u001b[1;33m(\u001b[0m\u001b[0msecond_number\u001b[0m\u001b[1;33m)\u001b[0m\u001b[1;33m\u001b[0m\u001b[1;33m\u001b[0m\u001b[0m\n\u001b[0m\u001b[0;32m     13\u001b[0m     \u001b[0mprint\u001b[0m\u001b[1;33m(\u001b[0m\u001b[0manswer\u001b[0m\u001b[1;33m)\u001b[0m\u001b[1;33m\u001b[0m\u001b[1;33m\u001b[0m\u001b[0m\n\u001b[0;32m     14\u001b[0m \u001b[1;33m\u001b[0m\u001b[0m\n",
      "\u001b[1;31mZeroDivisionError\u001b[0m: division by zero"
     ]
    }
   ],
   "source": [
    "# Create a simple calculator that does only division\n",
    "\n",
    "print(\"Give me two numbers, and I'll divide them.\")\n",
    "print(\"Enter 'q' to quit.\")\n",
    "while True:\n",
    "    first_number = input(\"\\nFirst number: \")\n",
    "    if first_number == 'q':\n",
    "        break\n",
    "    second_number = input(\"Second number: \")\n",
    "    if second_number == 'q':\n",
    "        break\n",
    "    answer = int(first_number) / int(second_number)\n",
    "    print(answer)\n",
    "    \n",
    "# This program does nothing to handle errors, so asking it to divide by zero causes it to crash."
   ]
  },
  {
   "cell_type": "markdown",
   "metadata": {},
   "source": [
    "<pre style='color: yellow'>\n",
    "NOTE: It’s bad that the program crashed, but it’s also not a good idea to let\n",
    "users see tracebacks.\n",
    "</pre>"
   ]
  },
  {
   "cell_type": "markdown",
   "metadata": {},
   "source": [
    "###  The else Block\n"
   ]
  },
  {
   "cell_type": "code",
   "execution_count": 6,
   "metadata": {},
   "outputs": [
    {
     "name": "stdout",
     "output_type": "stream",
     "text": [
      "Give me two numbers, and I'll divide them.\n",
      "Enter 'q' to quit.\n",
      "\n",
      "First number: 51\n",
      "Second number: 17\n",
      "3.0\n",
      "\n",
      "First number: 19\n",
      "Second number: 5\n",
      "3.8\n",
      "\n",
      "First number: 12\n",
      "Second number: 0\n",
      "You can't divide by 0!\n",
      "\n",
      "First number: 78\n",
      "Second number: 4\n",
      "19.5\n",
      "\n",
      "First number: 12\n",
      "Second number: 45\n",
      "0.26666666666666666\n",
      "\n",
      "First number: 1\n",
      "Second number: 0\n",
      "You can't divide by 0!\n",
      "\n",
      "First number: q\n"
     ]
    }
   ],
   "source": [
    "# We can make this program more error resistant by wrapping the line that\n",
    "# might produce errors in a try-except block.\n",
    "# This example also includes an else block. Any code that depends on the try\n",
    "# block executing successfully goes in the else block.\n",
    "\n",
    "print(\"Give me two numbers, and I'll divide them.\")\n",
    "print(\"Enter 'q' to quit.\")\n",
    "while True:\n",
    "    first_number = input(\"\\nFirst number: \")\n",
    "    if first_number == 'q':\n",
    "        break\n",
    "    second_number = input(\"Second number: \")\n",
    "    if second_number == 'q':\n",
    "        break\n",
    "    try:\n",
    "        answer = int(first_number) / int(second_number)\n",
    "    except ZeroDivisionError:\n",
    "        print(\"You can't divide by 0!\")\n",
    "    else:\n",
    "        print(answer)"
   ]
  },
  {
   "cell_type": "markdown",
   "metadata": {},
   "source": [
    "<pre>\n",
    "The <span style='color: yellow'>try-except-else block</span> works like this: \n",
    "Python attempts to run the code in the try block. The only code that should go \n",
    "in a try block is code that might cause an exception to be raised. \n",
    "Sometimes we’ll have additional code that should run only if the try block was \n",
    "successful; this code goes in the else block. \n",
    "The except block tells Python what to do in case a certain exception arises \n",
    "when it tries to run the code in the try block."
   ]
  },
  {
   "cell_type": "markdown",
   "metadata": {},
   "source": [
    "### Handling the FileNotFoundError Exception\n",
    "<pre>\n",
    "One common issue when working with files is handling missing files. The\n",
    "file we’re looking for might be in a different location, the filename may\n",
    "be misspelled, or the file may not exist at all. We can handle all of these\n",
    "situations in a straightforward way with a try-except block.\n",
    "</pre>"
   ]
  },
  {
   "cell_type": "code",
   "execution_count": 7,
   "metadata": {},
   "outputs": [
    {
     "ename": "FileNotFoundError",
     "evalue": "[Errno 2] No such file or directory: 'alice.txt'",
     "output_type": "error",
     "traceback": [
      "\u001b[1;31m---------------------------------------------------------------------------\u001b[0m",
      "\u001b[1;31mFileNotFoundError\u001b[0m                         Traceback (most recent call last)",
      "\u001b[1;32m<ipython-input-7-6c674df2b49b>\u001b[0m in \u001b[0;36m<module>\u001b[1;34m\u001b[0m\n\u001b[0;32m      5\u001b[0m \u001b[1;33m\u001b[0m\u001b[0m\n\u001b[0;32m      6\u001b[0m \u001b[0mfilename\u001b[0m \u001b[1;33m=\u001b[0m \u001b[1;34m'alice.txt'\u001b[0m\u001b[1;33m\u001b[0m\u001b[1;33m\u001b[0m\u001b[0m\n\u001b[1;32m----> 7\u001b[1;33m \u001b[1;32mwith\u001b[0m \u001b[0mopen\u001b[0m\u001b[1;33m(\u001b[0m\u001b[0mfilename\u001b[0m\u001b[1;33m,\u001b[0m \u001b[0mencoding\u001b[0m\u001b[1;33m=\u001b[0m\u001b[1;34m'utf-8'\u001b[0m\u001b[1;33m)\u001b[0m \u001b[1;32mas\u001b[0m \u001b[0mf\u001b[0m\u001b[1;33m:\u001b[0m\u001b[1;33m\u001b[0m\u001b[1;33m\u001b[0m\u001b[0m\n\u001b[0m\u001b[0;32m      8\u001b[0m     \u001b[0mcontents\u001b[0m \u001b[1;33m=\u001b[0m \u001b[0mf\u001b[0m\u001b[1;33m.\u001b[0m\u001b[0mread\u001b[0m\u001b[1;33m(\u001b[0m\u001b[1;33m)\u001b[0m\u001b[1;33m\u001b[0m\u001b[1;33m\u001b[0m\u001b[0m\n\u001b[0;32m      9\u001b[0m \u001b[1;33m\u001b[0m\u001b[0m\n",
      "\u001b[1;31mFileNotFoundError\u001b[0m: [Errno 2] No such file or directory: 'alice.txt'"
     ]
    }
   ],
   "source": [
    "# Read a file that doesn’t exist\n",
    "\n",
    "# NOTE:  Encoding argument is needed when your system’s default encoding doesn’t \n",
    "# match the encoding of the file that’s being read.\n",
    "\n",
    "filename = 'alice.txt'\n",
    "with open(filename, encoding='utf-8') as f:\n",
    "    contents = f.read()\n",
    "    \n",
    "# Python can’t read from a missing file, so it raises an exception."
   ]
  },
  {
   "cell_type": "markdown",
   "metadata": {},
   "source": [
    "<pre>\n",
    "<span style='color: yellow'>FileNotFoundError:</span> The exception Python creates when it can’t find \n",
    "the file it’s trying to open.\n",
    "</pre>"
   ]
  },
  {
   "cell_type": "code",
   "execution_count": 10,
   "metadata": {},
   "outputs": [
    {
     "name": "stdout",
     "output_type": "stream",
     "text": [
      "Sorry, file alicee.txt does not exist.\n"
     ]
    }
   ],
   "source": [
    "# In this example, the open() function produces the error, so to handle it, the\n",
    "# try block will begin with the line that contains open()\n",
    "\n",
    "filename = 'alicee.txt'\n",
    "try:\n",
    "    with open(filename, encoding='utf-8') as f:\n",
    "        contents = f.read()\n",
    "except FileNotFoundError:\n",
    "    print(f\"Sorry, file {filename} does not exist.\")"
   ]
  },
  {
   "cell_type": "markdown",
   "metadata": {},
   "source": [
    "### Analyzing Text\n",
    "<pre>\n",
    "We can analyze text files containing entire books. \n",
    "</pre>"
   ]
  },
  {
   "cell_type": "code",
   "execution_count": 13,
   "metadata": {},
   "outputs": [
    {
     "name": "stdout",
     "output_type": "stream",
     "text": [
      "The file how to make money.txt has about 17455 words.\n"
     ]
    }
   ],
   "source": [
    "# Pull in the text of Alice in Wonderland and try to count the number\n",
    "# of words in the text.\n",
    "\n",
    "filename = 'how to make money.txt'\n",
    "try:\n",
    "    with open(filename, encoding = 'utf-8') as f:\n",
    "        contents = f.read()\n",
    "except FileNotFoundError:\n",
    "    print(f\"Sorry, file {filename} does not exist.\")\n",
    "else:  \n",
    "    # Count the approximate number of words in the file.\n",
    "    words = contents.split() \n",
    "    num_words = len(words)\n",
    "\n",
    "    print(f\"The file {filename} has about {num_words} words.\")"
   ]
  },
  {
   "cell_type": "markdown",
   "metadata": {},
   "source": [
    "<pre>\n",
    "<strong>READ MORE:</strong>\n",
    "<a href = 'https://docs.python.org/3/tutorial/errors.html'>Types of Exceptions in Python.</a>\n",
    "<a href = 'https://www.programiz.com/python-programming/exception-handling'>try, except, finally block.</a>\n",
    "</pre>"
   ]
  },
  {
   "cell_type": "markdown",
   "metadata": {},
   "source": [
    "### Working with Multiple Files\n"
   ]
  },
  {
   "cell_type": "code",
   "execution_count": null,
   "metadata": {},
   "outputs": [],
   "source": [
    "# Add more books to analyze.\n",
    "# Move the bulk of this program to a function called count_words().\n",
    "# Run the analysis for multiple books."
   ]
  },
  {
   "cell_type": "code",
   "execution_count": 16,
   "metadata": {},
   "outputs": [],
   "source": [
    "def count_words(filename):\n",
    "    \"\"\"Count the approximate number of words in a file.\"\"\"\n",
    "    try:\n",
    "        with open(filename, encoding='utf-8') as f:\n",
    "            contents = f.read()\n",
    "    except FileNotFoundError:\n",
    "        print(f\"Sorry, the file {filename} does not exist.\")\n",
    "    else:\n",
    "        words = contents.split()\n",
    "        num_words = len(words)\n",
    "        print(f\"The file {filename} has about {num_words} words.\")"
   ]
  },
  {
   "cell_type": "code",
   "execution_count": 17,
   "metadata": {},
   "outputs": [
    {
     "name": "stdout",
     "output_type": "stream",
     "text": [
      "The file alice.txt has about 29647 words.\n"
     ]
    }
   ],
   "source": [
    "filename = 'alice.txt'\n",
    "count_words(filename)"
   ]
  },
  {
   "cell_type": "code",
   "execution_count": 18,
   "metadata": {},
   "outputs": [
    {
     "name": "stdout",
     "output_type": "stream",
     "text": [
      "The file how to make money.txt has about 17455 words.\n"
     ]
    }
   ],
   "source": [
    "filename1 = 'how to make money.txt'\n",
    "count_words(filename1)"
   ]
  },
  {
   "cell_type": "code",
   "execution_count": 19,
   "metadata": {},
   "outputs": [
    {
     "name": "stdout",
     "output_type": "stream",
     "text": [
      "Sorry, the file robinhood.txt does not exist.\n"
     ]
    }
   ],
   "source": [
    "filename2 = 'robinhood.txt'\n",
    "count_words(filename2)"
   ]
  },
  {
   "cell_type": "code",
   "execution_count": 20,
   "metadata": {},
   "outputs": [
    {
     "name": "stdout",
     "output_type": "stream",
     "text": [
      "The file alice.txt has about 29647 words.\n",
      "The file little women.txt has about 189092 words.\n",
      "Sorry, the file robinhood.txt does not exist.\n",
      "The file what i saw in america.txt has about 93919 words.\n",
      "The file siddhartha.txt has about 42166 words.\n"
     ]
    }
   ],
   "source": [
    "# Now we can write a simple loop to count the words in any text we want\n",
    "# to analyze. We do this by storing the names of the files we want to analyze\n",
    "# in a list, and then we call count_words() for each file in the list.\n",
    "\n",
    "filenames = ['alice.txt', 'little women.txt', 'robinhood.txt', 'what i saw in america.txt', 'siddhartha.txt']\n",
    "\n",
    "for file in filenames:\n",
    "    count_words(file)"
   ]
  },
  {
   "cell_type": "code",
   "execution_count": 21,
   "metadata": {},
   "outputs": [],
   "source": [
    "# Using the try-except block in above example provides two significant\n",
    "# advantages. We prevent our users from seeing a traceback, and we let the\n",
    "# program continue analyzing the texts it’s able to find."
   ]
  },
  {
   "cell_type": "markdown",
   "metadata": {},
   "source": [
    "### Failing Silently\n",
    "<pre>\n",
    "Sometimes we’ll want the program to fail silently when an exception occurs\n",
    "and continue on as if nothing happened. To make a program fail silently, we\n",
    "write a try block as usual, but we explicitly tell Python to do nothing in the\n",
    "except block. \n",
    "<span style='background-color: yellow'>Python has a pass statement that tells it to do nothing in a block.\n",
    "\n",
    "SYNTAX:\n",
    "try:                 \n",
    "    code             \n",
    "except ExceptionName:\n",
    "    pass             </span>\n",
    "    \n",
    "The <span style='color: yellow'>pass statement also acts as a placeholder</span>. It’s a reminder that we’re\n",
    "choosing to do nothing at a specific point in our program’s execution\n",
    "and that we might want to do something there later.\n",
    "</pre>"
   ]
  },
  {
   "cell_type": "code",
   "execution_count": 24,
   "metadata": {},
   "outputs": [
    {
     "name": "stdout",
     "output_type": "stream",
     "text": [
      "The file alice.txt has about 29647 words.\n",
      "The file little women.txt has about 189092 words.\n",
      "The file what i saw in america.txt has about 93919 words.\n",
      "The file siddhartha.txt has about 42166 words.\n"
     ]
    }
   ],
   "source": [
    "def count_words(filename):\n",
    "    \"\"\"Count the approximate number of words in a file.\"\"\"\n",
    "    try:\n",
    "        with open(filename, encoding='utf-8') as f:\n",
    "            contents = f.read()\n",
    "    except  FileNotFoundError:\n",
    "        pass\n",
    "    else:\n",
    "        words = contents.split()\n",
    "        num_words = len(words)\n",
    "        print(f\"The file {filename} has about {num_words} words.\")\n",
    "        \n",
    "filenames = ['alice.txt', 'little women.txt', 'robinhood.txt', 'what i saw in america.txt', 'siddhartha.txt']\n",
    "\n",
    "for file in filenames:\n",
    "    count_words(file)\n",
    "    \n",
    "# Now when a FileNotFoundError is raised, the code in the except block runs, but nothing happens. \n",
    "# No traceback is produced, and there’s no output in response to the error that was raised."
   ]
  },
  {
   "cell_type": "markdown",
   "metadata": {},
   "source": [
    "### Deciding Which Errors to Report\n"
   ]
  },
  {
   "cell_type": "markdown",
   "metadata": {},
   "source": [
    "<pre>\n",
    "Python’s error-handling structures give you finegrained control over how much \n",
    "to share with  users when things go wrong; it’s up to you to decide how much \n",
    "information to share.\n",
    "Well-written, properly tested code is not very prone to internal errors,\n",
    "such as syntax or logical errors. But every time your program depends on\n",
    "something external, such as user input, the existence of a file, or the \n",
    "availability of a network connection, there is a possibility of an exception \n",
    "being raised. A little experience will help you know where to include \n",
    "exception handling blocks in your program and how much to report to users about\n",
    "errors that arise.\n",
    "</pre>"
   ]
  },
  {
   "cell_type": "markdown",
   "metadata": {},
   "source": [
    "<hr>"
   ]
  }
 ],
 "metadata": {
  "kernelspec": {
   "display_name": "Python 3",
   "language": "python",
   "name": "python3"
  },
  "language_info": {
   "codemirror_mode": {
    "name": "ipython",
    "version": 3
   },
   "file_extension": ".py",
   "mimetype": "text/x-python",
   "name": "python",
   "nbconvert_exporter": "python",
   "pygments_lexer": "ipython3",
   "version": "3.8.3"
  }
 },
 "nbformat": 4,
 "nbformat_minor": 4
}
