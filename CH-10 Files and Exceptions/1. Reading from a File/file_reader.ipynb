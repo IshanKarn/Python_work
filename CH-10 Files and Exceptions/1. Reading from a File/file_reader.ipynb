{
 "cells": [
  {
   "cell_type": "markdown",
   "metadata": {},
   "source": [
    "<pre>\n",
    "Learning to work with files can save the work we’ve done in a program and the \n",
    "work we’ve allowed users to do.\n",
    "<span style = 'background-color: rgb(230, 250, 250)'>Working with files and saving data will make our programs easier for people to \n",
    "use. Users will be able to choose what data to enter and when to enter it. \n",
    "People can run our program, do some work, and then close the program and pick \n",
    "up where they left off later. Learning to handle exceptions will help us deal \n",
    "with situations in which files don’t exist and deal with other problems that can \n",
    "cause our programs to crash. This will make our programs more robust when they \n",
    "encounter bad data, whether it comes from innocent mistakes or from malicious \n",
    "attempts to break our programs.</span>\n",
    "<span style = 'background-color: rgb(255, 255, 180)'>Exceptions are special objects Python creates to manage errors that arise \n",
    "while a program is running.</span>\n",
    "<span style = 'background-color: rgb(255, 255, 180)'>The json module allows us to save user data so it isn’t lost when our program \n",
    "stops running.</span>\n",
    "</pre>"
   ]
  },
  {
   "cell_type": "markdown",
   "metadata": {},
   "source": [
    "## Reading from a File\n"
   ]
  },
  {
   "cell_type": "markdown",
   "metadata": {},
   "source": [
    "<pre>\n",
    "<span style = 'background-color: rgb(230, 250, 250)'>Some use case examples:</span>\n",
    "An incredible amount of data is available in text files. Text files can contain \n",
    "weather data, traffic data, socioeconomic data, literary works, and more. Reading \n",
    "from a file is particularly useful in data analysis applications, but it’s also \n",
    "applicable to any situation in which you want to analyze or modify information \n",
    "stored in a file.\n",
    "<span style = 'background-color: rgb(255, 255, 180)'>When we want to work with the information in a text file, the first step is to \n",
    "read the file into memory. We can read the entire contents of a file, or we can \n",
    "work through the file one line at a time.</span> \n",
    "</pre>"
   ]
  },
  {
   "cell_type": "markdown",
   "metadata": {},
   "source": [
    "### Reading an Entire File\n",
    "<pre>\n",
    "<span style = 'background-color: rgb(255, 255, 180)'>*Fundamental operations related to file handling are: create, read, update, delete.\n",
    "*To read a already created file we need to access it first.\n",
    "*Use open() function to access a file. <span style = 'background-color: yellow'>SYNTAX: open('filename.txt')</span>\n",
    "*The open() function needs one argument: the name of the file you want to open.\n",
    "*The open() function returns an object representing the file.\n",
    "*The keyword <em>with</em> closes the file once access to it is no longer needed.\n",
    "*Python will close it automatically when the with block finishes execution.\n",
    "*The read() method in the second line of our program to read the entire contents of\n",
    " the file and store it as one long string in contents.</span> <span style = 'background-color: yellow'>SYNTAX: file_object.read()</span>\n",
    " \n",
    "NOTE: \n",
    "Notice how we call open() in this program but not close(). You could open\n",
    "and close the file by calling open() and close(), but if a bug in your program\n",
    "prevents the close() method from being executed, the file may never\n",
    "close. This may seem trivial, but improperly closed files can cause data\n",
    "to be lost or corrupted. And if you call close() too early in your program,\n",
    "you’ll find yourself trying to work with a closed file (a file you can’t access),\n",
    "which leads to more errors.\n",
    "</pre>"
   ]
  },
  {
   "cell_type": "code",
   "execution_count": 4,
   "metadata": {},
   "outputs": [
    {
     "name": "stdout",
     "output_type": "stream",
     "text": [
      "# This file contains pi to 30 decimal places, with 10 decimal places per line:\n",
      "\n",
      "3.1415926535\n",
      " 8979323846\n",
      " 2643383279\n",
      " \n",
      "NOTE: The only difference between this output and the original file is the\n",
      "extra blank line at the end of the output. The blank line appears because\n",
      "read() returns an empty string when it reaches the end of the file; this empty\n",
      "string shows up as a blank line.\n"
     ]
    }
   ],
   "source": [
    "# Example\n",
    "# file_reader.py\n",
    "# A program that opens tpi_digits.txt file, reads it, and prints the contents of the file to the screen\n",
    "\n",
    "with open('pi_digits.txt') as file_object:\n",
    "    contents = file_object.read()\n",
    "print(contents)"
   ]
  },
  {
   "cell_type": "markdown",
   "metadata": {},
   "source": [
    "### File Paths\n",
    "<pre>\n",
    "<span style = 'background-color: rgb(230, 250, 250)'>Relative file path to open a file from text_files. A relative file path tells Python to look for \n",
    "a given location relative to the directory where the currently running program file is stored.\n",
    "Absolute path is path of file w.r.t. the root directory.</span>\n",
    "<span style = 'background-color: yellow'>SYNTAX: open('file_path')</span>\n",
    "</pre>"
   ]
  },
  {
   "cell_type": "code",
   "execution_count": 4,
   "metadata": {},
   "outputs": [
    {
     "name": "stdout",
     "output_type": "stream",
     "text": [
      "Hello,\n",
      "Good morning\n",
      "Welcome everyone! Apply these python knowledge to create something unique for\n",
      "welfare of society. Do good, be good!!!\n",
      "Everyone is in a queue to be opened or closed for a process -i.e.- either to born or to die.\n",
      "In between those who are acquiring very powerful new skills must do something bigger than\n",
      "yet thought.\n",
      "You have a lot of options.\n",
      "Create AI based power applications embedded with powerful deeplearning models designed using\n",
      "Python, create drones which can make humans work effortless saving time, energy and manpower,\n",
      "modernize drug discovery and production techniques, empower security and survillance, \n",
      "increase dairy products and crops production by better synchronized use of machine and intelligent\n",
      "systems assisting humans in all possible ways from A-z steps of different processes.\n",
      "Do whatever you want, it is good time to take actions.\n",
      "Keep learning!\n",
      "\n",
      "Over N Out\n",
      "The Annihilator\n",
      "\"Annihilate to balance creation.\"\n"
     ]
    }
   ],
   "source": [
    "# open file using relative/absolute file path\n",
    "\n",
    "with open('text_files/welcome_note.txt') as file_object:\n",
    "    content = file_object.read()\n",
    "print(content)"
   ]
  },
  {
   "cell_type": "code",
   "execution_count": 6,
   "metadata": {},
   "outputs": [
    {
     "name": "stdout",
     "output_type": "stream",
     "text": [
      "Hello,\n",
      "Good morning\n",
      "Welcome everyone! Apply these python knowledge to create something unique for\n",
      "welfare of society. Do good, be good!!!\n",
      "Everyone is in a queue to be opened or closed for a process -i.e.- either to born or to die.\n",
      "In between those who are acquiring very powerful new skills must do something bigger than\n",
      "yet thought.\n",
      "You have a lot of options.\n",
      "Create AI based power applications embedded with powerful deeplearning models designed using\n",
      "Python, create drones which can make humans work effortless saving time, energy and manpower,\n",
      "modernize drug discovery and production techniques, empower security and survillance, \n",
      "increase dairy products and crops production by better synchronized use of machine and intelligent\n",
      "systems assisting humans in all possible ways from A-z steps of different processes.\n",
      "Do whatever you want, it is good time to take actions.\n",
      "Keep learning!\n",
      "\n",
      "Over N Out\n",
      "The Annihilator\n",
      "\"Annihilate to balance creation.\"\n"
     ]
    }
   ],
   "source": [
    "# open file using absolute file path\n",
    "\n",
    "with open('C:/Users/ishan/Desktop/Python_work/PART-1-Basics/CH-10 Files and Exceptions/1. Reading from a File/text_files/welcome_note.txt') as file_object:\n",
    "    content_ = file_object.read()\n",
    "print(content_)"
   ]
  },
  {
   "cell_type": "markdown",
   "metadata": {},
   "source": [
    "### Reading Line by Line\n",
    "<pre>\n",
    "<span style = 'background-color: rgb(255, 255, 180)'>We can use a for loop on the file object to examine each line from a\n",
    "file one at a time.</span>\n",
    "\n",
    "<span style = 'background-color: yellow'>SYNTAX:                 \n",
    "for line in file_object:\n",
    "    print(line)         \n",
    "</span>\n",
    "\n",
    "<strong>Some use-case example:</strong>\n",
    "Read through a file of weather data and work with any line that includes the word\n",
    "sunny in the description of that day’s weather. \n",
    "In a news report, look for any line with the tag headline and rewrite that line with \n",
    "a specific kind of formatting.\n",
    "</pre>"
   ]
  },
  {
   "cell_type": "code",
   "execution_count": 7,
   "metadata": {},
   "outputs": [
    {
     "name": "stdout",
     "output_type": "stream",
     "text": [
      "# This file contains pi to 30 decimal places, with 10 decimal places per line:\n",
      "\n",
      "\n",
      "\n",
      "3.1415926535\n",
      "\n",
      " 8979323846\n",
      "\n",
      " 2643383279\n",
      "\n",
      " \n",
      "\n",
      "NOTE: The only difference between this output and the original file is the\n",
      "\n",
      "extra blank line at the end of the output. The blank line appears because\n",
      "\n",
      "read() returns an empty string when it reaches the end of the file; this empty\n",
      "\n",
      "string shows up as a blank line.\n"
     ]
    }
   ],
   "source": [
    "# Example\n",
    "\n",
    "filename = 'pi_digits.txt'\n",
    "\n",
    "with open(filename) as file_object:\n",
    "    for line in file_object:\n",
    "        print(line)"
   ]
  },
  {
   "cell_type": "code",
   "execution_count": 9,
   "metadata": {},
   "outputs": [
    {
     "name": "stdout",
     "output_type": "stream",
     "text": [
      "# This file contains pi to 30 decimal places, with 10 decimal places per line:\n",
      "\n",
      "3.1415926535\n",
      " 8979323846\n",
      " 2643383279\n",
      "\n",
      "NOTE: The only difference between this output and the original file is the\n",
      "extra blank line at the end of the output. The blank line appears because\n",
      "read() returns an empty string when it reaches the end of the file; this empty\n",
      "string shows up as a blank line.\n"
     ]
    }
   ],
   "source": [
    "# Remove extra lines after each line in output (EXTRA)\n",
    "\n",
    "with open(filename) as file_object:\n",
    "    for line in file_object:\n",
    "        print(line.rstrip())\n",
    "        \n",
    "# Observe the change and understand the working of printing file_object little bit more deeply :)"
   ]
  },
  {
   "cell_type": "markdown",
   "metadata": {},
   "source": [
    "### Making a List of Lines from a File\n",
    "<pre>\n",
    "<span style = 'background-color: rgb(255, 255, 180)'>\n",
    "NOTE:\n",
    "When you use with, the file object returned by open() is only available inside\n",
    "the with block that contains it. If you want to retain access to a file’s contents \n",
    "outside the with block, you can store the file’s lines in a list inside the block \n",
    "and then work with that list. You can process parts of the file immediately and \n",
    "postpone some processing for later in the program.\n",
    "</span>\n",
    "<span style = 'background-color: yellow'>The readlines() method takes each line from the file and stores it\n",
    "in a list.\n",
    "</span>\n",
    "\n",
    "<span style = 'background-color: yellow'>SYNTAX:\n",
    "file_object = readlines('file_name')\n",
    "</span>\n",
    "</pre>"
   ]
  },
  {
   "cell_type": "code",
   "execution_count": 12,
   "metadata": {},
   "outputs": [
    {
     "name": "stdout",
     "output_type": "stream",
     "text": [
      "# This file contains pi to 30 decimal places, with 10 decimal places per line:\n",
      "\n",
      "3.1415926535\n",
      " 8979323846\n",
      " 2643383279\n",
      "\n",
      "NOTE: The only difference between this output and the original file is the\n",
      "extra blank line at the end of the output. The blank line appears because\n",
      "read() returns an empty string when it reaches the end of the file; this empty\n",
      "string shows up as a blank line.\n"
     ]
    }
   ],
   "source": [
    "# Example\n",
    "\n",
    "file = 'pi_digits.txt'\n",
    "\n",
    "with open(file) as file_object:\n",
    "    lines = file_object.readlines()\n",
    "    \n",
    "for line in lines:\n",
    "    print(line.rstrip())"
   ]
  },
  {
   "cell_type": "markdown",
   "metadata": {},
   "source": [
    "#### readline() and readlines()\n",
    "<pre>\n",
    "The differences between readline() and readlines() methods are listed below.\n",
    "\n",
    "<strong>readlines()</strong>\n",
    "This method will read the entire content of the file at a time.\n",
    "This method reads all the file content and stores it in the list.\n",
    "This method reads up to the end of the line with readline () and returns a list.\n",
    "\n",
    "<strong>readline()</strong>\n",
    "This method will read one line in a file.\n",
    "A new line character is left at the string end and is ignored for the last line \n",
    "provided the file does not finish in a new line.\n",
    "This method reads up to the end of the line with readline() and returns a list.\n",
    "</pre>"
   ]
  },
  {
   "cell_type": "code",
   "execution_count": 15,
   "metadata": {},
   "outputs": [],
   "source": [
    "# Example to show difference between read (), readline() and readlines() methods\n",
    "\n",
    "file = 'sample.txt'"
   ]
  },
  {
   "cell_type": "code",
   "execution_count": 16,
   "metadata": {},
   "outputs": [
    {
     "name": "stdout",
     "output_type": "stream",
     "text": [
      "Hello\n",
      "Good morning\n",
      "Python\n",
      "Learners\n"
     ]
    }
   ],
   "source": [
    "# read()\n",
    "\n",
    "with open(file) as file_object:\n",
    "    lines = file_object.read()\n",
    "print(lines)"
   ]
  },
  {
   "cell_type": "code",
   "execution_count": 17,
   "metadata": {},
   "outputs": [
    {
     "name": "stdout",
     "output_type": "stream",
     "text": [
      "Hello\n",
      "\n"
     ]
    }
   ],
   "source": [
    "# readline()\n",
    "\n",
    "with open(file) as file_object:\n",
    "    lines_ = file_object.readline()\n",
    "print(lines_)"
   ]
  },
  {
   "cell_type": "code",
   "execution_count": 18,
   "metadata": {},
   "outputs": [
    {
     "name": "stdout",
     "output_type": "stream",
     "text": [
      "['Hello\\n', 'Good morning\\n', 'Python\\n', 'Learners']\n"
     ]
    }
   ],
   "source": [
    "# readlines()\n",
    "\n",
    "with open(file) as file_object:\n",
    "    lines__ = file_object.readlines()\n",
    "print(lines__)"
   ]
  },
  {
   "cell_type": "markdown",
   "metadata": {},
   "source": [
    "### Working with a File’s Contents\n"
   ]
  },
  {
   "cell_type": "code",
   "execution_count": 2,
   "metadata": {},
   "outputs": [
    {
     "name": "stdout",
     "output_type": "stream",
     "text": [
      "3.1415926535 8979323846 2643383279\n",
      "34\n"
     ]
    }
   ],
   "source": [
    "# After opening we can do many different works\n",
    "# Example\n",
    "\n",
    "# Attempt to build a single string containing all the digits in the file with no whitespace in it.\n",
    "\n",
    "filename = 'only_pi_digits.txt'\n",
    "with open(filename) as file_object:\n",
    "    lines = file_object.readlines()\n",
    "    pi_string = ''\n",
    "for line in lines:\n",
    "    pi_string += line.rstrip()\n",
    "\n",
    "print(pi_string)\n",
    "print(len(pi_string))"
   ]
  },
  {
   "cell_type": "code",
   "execution_count": 3,
   "metadata": {},
   "outputs": [
    {
     "name": "stdout",
     "output_type": "stream",
     "text": [
      "3.141592653589793238462643383279\n",
      "32\n"
     ]
    }
   ],
   "source": [
    "# Another way, required program\n",
    "\n",
    "filename = 'only_pi_digits.txt'\n",
    "with open(filename) as file_object:\n",
    "    lines = file_object.readlines()\n",
    "    pi_string = ''\n",
    "for line in lines:\n",
    "    pi_string += line.strip()\n",
    "\n",
    "print(pi_string)\n",
    "print(len(pi_string))"
   ]
  },
  {
   "cell_type": "markdown",
   "metadata": {},
   "source": [
    "<pre>\n",
    "<span style = 'background-color: rgb(255, 255, 180)'>NOTE:</span>\n",
    "When Python reads from a text file, it interprets all text in the file as a string. If you\n",
    "read in a number and want to work with that value in a numerical context, you’ll\n",
    "have to convert it to an integer using the int() function or convert it to a float using\n",
    "the float() function.\n",
    "<pre>"
   ]
  },
  {
   "cell_type": "markdown",
   "metadata": {},
   "source": [
    "### Large Files: One Million Digits\n"
   ]
  },
  {
   "cell_type": "markdown",
   "metadata": {},
   "source": [
    "<pre>\n",
    "If we start with a text file that contains pi to 1,000,000 decimal places\n",
    "instead of just 30, we can create a single string containing all these digits.\n",
    "We don’t need to change our program at all except to pass it a different file. \n",
    "</pre>"
   ]
  },
  {
   "cell_type": "code",
   "execution_count": 9,
   "metadata": {},
   "outputs": [
    {
     "name": "stdout",
     "output_type": "stream",
     "text": [
      "3.141592653589793238462643383279502884197169399375 ...\n",
      "1000002\n"
     ]
    }
   ],
   "source": [
    "file = 'pi_million_digits.txt'\n",
    "\n",
    "with open(file) as file_object:\n",
    "    lines = file_object.readlines()\n",
    "    \n",
    "pi_string = ''\n",
    "for line in lines:\n",
    "    pi_string += line.strip()\n",
    "  \n",
    "print(f'{pi_string[:50]} ...')\n",
    "print(len(pi_string))"
   ]
  },
  {
   "cell_type": "markdown",
   "metadata": {},
   "source": [
    "### Is Your Birthday Contained in Pi?\n"
   ]
  },
  {
   "cell_type": "code",
   "execution_count": 12,
   "metadata": {},
   "outputs": [
    {
     "name": "stdout",
     "output_type": "stream",
     "text": [
      "Enter your birthday in ddmmyy format: 091102\n",
      "Your birthday is found in first million digits of pi.\n"
     ]
    }
   ],
   "source": [
    "file = 'pi_million_digits.txt'\n",
    "\n",
    "with open(file) as file_object:\n",
    "    lines = file_object.readlines()\n",
    "    \n",
    "pi_string = ''\n",
    "for line in lines:\n",
    "    pi_string += line.strip()\n",
    "    \n",
    "birthday = input(\"Enter your birthday in ddmmyy format: \")\n",
    "\n",
    "if birthday in pi_string:\n",
    "    print(\"Your birthday is found in first million digits of pi.\")\n",
    "else:\n",
    "    print(\"Your birthday is not found in first million digits of pi.\")"
   ]
  },
  {
   "cell_type": "markdown",
   "metadata": {},
   "source": [
    "<hr>"
   ]
  }
 ],
 "metadata": {
  "kernelspec": {
   "display_name": "Python 3",
   "language": "python",
   "name": "python3"
  },
  "language_info": {
   "codemirror_mode": {
    "name": "ipython",
    "version": 3
   },
   "file_extension": ".py",
   "mimetype": "text/x-python",
   "name": "python",
   "nbconvert_exporter": "python",
   "pygments_lexer": "ipython3",
   "version": "3.8.3"
  }
 },
 "nbformat": 4,
 "nbformat_minor": 4
}
