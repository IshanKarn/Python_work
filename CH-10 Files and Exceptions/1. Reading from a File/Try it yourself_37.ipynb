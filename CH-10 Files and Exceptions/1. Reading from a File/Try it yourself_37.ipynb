{
 "cells": [
  {
   "cell_type": "markdown",
   "metadata": {},
   "source": [
    "## Try It Yourself"
   ]
  },
  {
   "cell_type": "markdown",
   "metadata": {},
   "source": [
    "<pre>\n",
    "<strong>10-1. Learning Python:</strong> Open a blank file in your text editor and write a few\n",
    "lines summarizing what you’ve learned about Python so far. Start each line\n",
    "with the phrase In Python you can. . . . Save the file as learning_python.txt in\n",
    "the same directory as your exercises from this chapter. Write a program that\n",
    "reads the file and prints what you wrote three times. Print the contents once by\n",
    "reading in the entire file, once by looping over the file object, and once by \n",
    "storing the lines in a list and then working with them outside the with block.\n",
    "</pre>\n"
   ]
  },
  {
   "cell_type": "code",
   "execution_count": 13,
   "metadata": {},
   "outputs": [],
   "source": [
    "# learning_python.py"
   ]
  },
  {
   "cell_type": "code",
   "execution_count": 8,
   "metadata": {},
   "outputs": [
    {
     "name": "stdout",
     "output_type": "stream",
     "text": [
      "In Python you can use for and while loop.\n",
      "In Python you can use file handling techniques.\n",
      "In Python you can use decision control to maintain control flow of your program.\n"
     ]
    }
   ],
   "source": [
    "# using read()\n",
    "\n",
    "filename = 'learning_python.txt'\n",
    "\n",
    "with open(filename) as file_object:\n",
    "    file = file_object.read()\n",
    "    print(file)"
   ]
  },
  {
   "cell_type": "code",
   "execution_count": 11,
   "metadata": {},
   "outputs": [
    {
     "name": "stdout",
     "output_type": "stream",
     "text": [
      "In Python you can use for and while loop.\n",
      "In Python you can use file handling techniques.\n",
      "In Python you can use decision control to maintain control flow of your program.\n"
     ]
    }
   ],
   "source": [
    "# iterating file_object\n",
    "\n",
    "filename = 'learning_python.txt'\n",
    "\n",
    "with open(filename) as file_object:\n",
    "    for line in file_object:\n",
    "        print(line.strip())"
   ]
  },
  {
   "cell_type": "code",
   "execution_count": 12,
   "metadata": {},
   "outputs": [
    {
     "name": "stdout",
     "output_type": "stream",
     "text": [
      "In Python you can use for and while loop.\n",
      "In Python you can use file handling techniques.\n",
      "In Python you can use decision control to maintain control flow of your program.\n"
     ]
    }
   ],
   "source": [
    "# using readlines()\n",
    "\n",
    "with open(filename) as file_object:\n",
    "    lines = file_object.readlines()\n",
    "    \n",
    "for line in lines:\n",
    "    print(line.strip())"
   ]
  },
  {
   "cell_type": "markdown",
   "metadata": {},
   "source": [
    "<pre>\n",
    "<strong>10-2. Learning C:</strong> You can use the replace() method to replace any word in a\n",
    "string with a different word. Here’s a quick example showing how to replace\n",
    "'dog' with 'cat' in a sentence:\n",
    ">>> message = \"I really like dogs.\"\n",
    ">>> message.replace('dog', 'cat')\n",
    "'I really like cats.'\n",
    "Read in each line from the file you just created, learning_python.txt, and\n",
    "replace the word Python with the name of another language, such as C. Print\n",
    "each modified line to the screen.\n",
    "</pre>"
   ]
  },
  {
   "cell_type": "code",
   "execution_count": 44,
   "metadata": {},
   "outputs": [
    {
     "name": "stdout",
     "output_type": "stream",
     "text": [
      "In C you can use for and while loop.\n",
      "In C you can use file handling techniques.\n",
      "In C you can use decision control to maintain control flow of your program.\n"
     ]
    }
   ],
   "source": [
    "# learning_C.py\n",
    "\n",
    "filename = 'learning_python.txt'\n",
    "\n",
    "with open(filename) as file_object:\n",
    "    for line in file_object:\n",
    "        line = line.replace(\"Python\", \"C\")\n",
    "        print(line.strip())"
   ]
  },
  {
   "cell_type": "markdown",
   "metadata": {},
   "source": [
    "<hr>"
   ]
  }
 ],
 "metadata": {
  "kernelspec": {
   "display_name": "Python 3",
   "language": "python",
   "name": "python3"
  },
  "language_info": {
   "codemirror_mode": {
    "name": "ipython",
    "version": 3
   },
   "file_extension": ".py",
   "mimetype": "text/x-python",
   "name": "python",
   "nbconvert_exporter": "python",
   "pygments_lexer": "ipython3",
   "version": "3.8.3"
  }
 },
 "nbformat": 4,
 "nbformat_minor": 4
}
